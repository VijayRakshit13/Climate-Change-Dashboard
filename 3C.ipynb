{
  "cells": [
    {
      "cell_type": "code",
      "execution_count": 1,
      "metadata": {
        "colab": {
          "base_uri": "https://localhost:8080/"
        },
        "id": "qHmIwkMmAjkI",
        "outputId": "29165264-a051-4148-898e-f7ece1c62240"
      },
      "outputs": [
        {
          "name": "stderr",
          "output_type": "stream",
          "text": [
            "WARNING: Ignoring invalid distribution -ip (c:\\python310\\lib\\site-packages)\n",
            "WARNING: Ignoring invalid distribution -ip (c:\\python310\\lib\\site-packages)\n",
            "WARNING: Ignoring invalid distribution -ip (c:\\python310\\lib\\site-packages)\n",
            "WARNING: Ignoring invalid distribution -ip (c:\\python310\\lib\\site-packages)\n",
            "WARNING: Ignoring invalid distribution -ip (c:\\python310\\lib\\site-packages)\n",
            "WARNING: Ignoring invalid distribution -ip (c:\\python310\\lib\\site-packages)\n",
            "WARNING: You are using pip version 21.2.4; however, version 22.0.4 is available.\n",
            "You should consider upgrading via the 'C:\\Python310\\python.exe -m pip install --upgrade pip' command.\n"
          ]
        },
        {
          "name": "stdout",
          "output_type": "stream",
          "text": [
            "Requirement already satisfied: dash in c:\\python310\\lib\\site-packages (2.3.1)\n",
            "Requirement already satisfied: dash-html-components==2.0.0 in c:\\python310\\lib\\site-packages (from dash) (2.0.0)\n",
            "Requirement already satisfied: flask-compress in c:\\python310\\lib\\site-packages (from dash) (1.11)\n",
            "Requirement already satisfied: Flask>=1.0.4 in c:\\python310\\lib\\site-packages (from dash) (2.0.3)\n",
            "Requirement already satisfied: dash-table==5.0.0 in c:\\python310\\lib\\site-packages (from dash) (5.0.0)\n",
            "Requirement already satisfied: dash-core-components==2.0.0 in c:\\python310\\lib\\site-packages (from dash) (2.0.0)\n",
            "Requirement already satisfied: plotly>=5.0.0 in c:\\python310\\lib\\site-packages (from dash) (5.7.0)\n",
            "Requirement already satisfied: Werkzeug>=2.0 in c:\\python310\\lib\\site-packages (from Flask>=1.0.4->dash) (2.0.3)\n",
            "Requirement already satisfied: Jinja2>=3.0 in c:\\python310\\lib\\site-packages (from Flask>=1.0.4->dash) (3.0.3)\n",
            "Requirement already satisfied: itsdangerous>=2.0 in c:\\python310\\lib\\site-packages (from Flask>=1.0.4->dash) (2.1.0)\n",
            "Requirement already satisfied: click>=7.1.2 in c:\\python310\\lib\\site-packages (from Flask>=1.0.4->dash) (8.0.4)\n",
            "Requirement already satisfied: colorama in c:\\python310\\lib\\site-packages (from click>=7.1.2->Flask>=1.0.4->dash) (0.4.4)\n",
            "Requirement already satisfied: MarkupSafe>=2.0 in c:\\python310\\lib\\site-packages (from Jinja2>=3.0->Flask>=1.0.4->dash) (2.1.0)\n",
            "Requirement already satisfied: six in c:\\python310\\lib\\site-packages (from plotly>=5.0.0->dash) (1.16.0)\n",
            "Requirement already satisfied: tenacity>=6.2.0 in c:\\python310\\lib\\site-packages (from plotly>=5.0.0->dash) (8.0.1)\n",
            "Requirement already satisfied: brotli in c:\\python310\\lib\\site-packages (from flask-compress->dash) (1.0.9)\n"
          ]
        }
      ],
      "source": [
        "import pandas as pd\n",
        "import numpy as np\n",
        "import statistics\n",
        "import pandas as pd\n",
        "import plotly.express as px\n",
        "!pip install dash\n",
        "from dash import Dash, dcc, html, Input, Output\n"
      ]
    },
    {
      "cell_type": "code",
      "execution_count": 2,
      "metadata": {
        "colab": {
          "base_uri": "https://localhost:8080/",
          "height": 423
        },
        "id": "4UOpNrqbAwv_",
        "outputId": "2e5878d8-9bbd-43b4-a686-25a2e46b7240"
      },
      "outputs": [
        {
          "data": {
            "text/html": [
              "<div>\n",
              "<style scoped>\n",
              "    .dataframe tbody tr th:only-of-type {\n",
              "        vertical-align: middle;\n",
              "    }\n",
              "\n",
              "    .dataframe tbody tr th {\n",
              "        vertical-align: top;\n",
              "    }\n",
              "\n",
              "    .dataframe thead th {\n",
              "        text-align: right;\n",
              "    }\n",
              "</style>\n",
              "<table border=\"1\" class=\"dataframe\">\n",
              "  <thead>\n",
              "    <tr style=\"text-align: right;\">\n",
              "      <th></th>\n",
              "      <th>dt</th>\n",
              "      <th>AverageTemperature</th>\n",
              "      <th>AverageTemperatureUncertainty</th>\n",
              "      <th>Country</th>\n",
              "    </tr>\n",
              "  </thead>\n",
              "  <tbody>\n",
              "    <tr>\n",
              "      <th>0</th>\n",
              "      <td>1743-11-01</td>\n",
              "      <td>4.384</td>\n",
              "      <td>2.294</td>\n",
              "      <td>Åland</td>\n",
              "    </tr>\n",
              "    <tr>\n",
              "      <th>1</th>\n",
              "      <td>1743-12-01</td>\n",
              "      <td>NaN</td>\n",
              "      <td>NaN</td>\n",
              "      <td>Åland</td>\n",
              "    </tr>\n",
              "    <tr>\n",
              "      <th>2</th>\n",
              "      <td>1744-01-01</td>\n",
              "      <td>NaN</td>\n",
              "      <td>NaN</td>\n",
              "      <td>Åland</td>\n",
              "    </tr>\n",
              "    <tr>\n",
              "      <th>3</th>\n",
              "      <td>1744-02-01</td>\n",
              "      <td>NaN</td>\n",
              "      <td>NaN</td>\n",
              "      <td>Åland</td>\n",
              "    </tr>\n",
              "    <tr>\n",
              "      <th>4</th>\n",
              "      <td>1744-03-01</td>\n",
              "      <td>NaN</td>\n",
              "      <td>NaN</td>\n",
              "      <td>Åland</td>\n",
              "    </tr>\n",
              "    <tr>\n",
              "      <th>...</th>\n",
              "      <td>...</td>\n",
              "      <td>...</td>\n",
              "      <td>...</td>\n",
              "      <td>...</td>\n",
              "    </tr>\n",
              "    <tr>\n",
              "      <th>577457</th>\n",
              "      <td>2013-05-01</td>\n",
              "      <td>19.059</td>\n",
              "      <td>1.022</td>\n",
              "      <td>Zimbabwe</td>\n",
              "    </tr>\n",
              "    <tr>\n",
              "      <th>577458</th>\n",
              "      <td>2013-06-01</td>\n",
              "      <td>17.613</td>\n",
              "      <td>0.473</td>\n",
              "      <td>Zimbabwe</td>\n",
              "    </tr>\n",
              "    <tr>\n",
              "      <th>577459</th>\n",
              "      <td>2013-07-01</td>\n",
              "      <td>17.000</td>\n",
              "      <td>0.453</td>\n",
              "      <td>Zimbabwe</td>\n",
              "    </tr>\n",
              "    <tr>\n",
              "      <th>577460</th>\n",
              "      <td>2013-08-01</td>\n",
              "      <td>19.759</td>\n",
              "      <td>0.717</td>\n",
              "      <td>Zimbabwe</td>\n",
              "    </tr>\n",
              "    <tr>\n",
              "      <th>577461</th>\n",
              "      <td>2013-09-01</td>\n",
              "      <td>NaN</td>\n",
              "      <td>NaN</td>\n",
              "      <td>Zimbabwe</td>\n",
              "    </tr>\n",
              "  </tbody>\n",
              "</table>\n",
              "<p>577462 rows × 4 columns</p>\n",
              "</div>"
            ],
            "text/plain": [
              "                dt  AverageTemperature  AverageTemperatureUncertainty  \\\n",
              "0       1743-11-01               4.384                          2.294   \n",
              "1       1743-12-01                 NaN                            NaN   \n",
              "2       1744-01-01                 NaN                            NaN   \n",
              "3       1744-02-01                 NaN                            NaN   \n",
              "4       1744-03-01                 NaN                            NaN   \n",
              "...            ...                 ...                            ...   \n",
              "577457  2013-05-01              19.059                          1.022   \n",
              "577458  2013-06-01              17.613                          0.473   \n",
              "577459  2013-07-01              17.000                          0.453   \n",
              "577460  2013-08-01              19.759                          0.717   \n",
              "577461  2013-09-01                 NaN                            NaN   \n",
              "\n",
              "         Country  \n",
              "0          Åland  \n",
              "1          Åland  \n",
              "2          Åland  \n",
              "3          Åland  \n",
              "4          Åland  \n",
              "...          ...  \n",
              "577457  Zimbabwe  \n",
              "577458  Zimbabwe  \n",
              "577459  Zimbabwe  \n",
              "577460  Zimbabwe  \n",
              "577461  Zimbabwe  \n",
              "\n",
              "[577462 rows x 4 columns]"
            ]
          },
          "execution_count": 2,
          "metadata": {},
          "output_type": "execute_result"
        }
      ],
      "source": [
        "df= pd.read_csv(\"C:\\\\Users\\\\vijay\\\\Downloads\\\\global.csv\")\n",
        "df"
      ]
    },
    {
      "cell_type": "code",
      "execution_count": 3,
      "metadata": {
        "colab": {
          "base_uri": "https://localhost:8080/",
          "height": 423
        },
        "id": "ueMb2aodDO1L",
        "outputId": "8ac9da4b-0f42-4a7a-8a5f-301ad706e1d8"
      },
      "outputs": [
        {
          "data": {
            "text/html": [
              "<div>\n",
              "<style scoped>\n",
              "    .dataframe tbody tr th:only-of-type {\n",
              "        vertical-align: middle;\n",
              "    }\n",
              "\n",
              "    .dataframe tbody tr th {\n",
              "        vertical-align: top;\n",
              "    }\n",
              "\n",
              "    .dataframe thead th {\n",
              "        text-align: right;\n",
              "    }\n",
              "</style>\n",
              "<table border=\"1\" class=\"dataframe\">\n",
              "  <thead>\n",
              "    <tr style=\"text-align: right;\">\n",
              "      <th></th>\n",
              "      <th>dt</th>\n",
              "      <th>AverageTemperature</th>\n",
              "      <th>AverageTemperatureUncertainty</th>\n",
              "      <th>Country</th>\n",
              "    </tr>\n",
              "  </thead>\n",
              "  <tbody>\n",
              "    <tr>\n",
              "      <th>0</th>\n",
              "      <td>1743-11-01</td>\n",
              "      <td>4.384</td>\n",
              "      <td>2.294</td>\n",
              "      <td>Åland</td>\n",
              "    </tr>\n",
              "    <tr>\n",
              "      <th>5</th>\n",
              "      <td>1744-04-01</td>\n",
              "      <td>1.530</td>\n",
              "      <td>4.680</td>\n",
              "      <td>Åland</td>\n",
              "    </tr>\n",
              "    <tr>\n",
              "      <th>6</th>\n",
              "      <td>1744-05-01</td>\n",
              "      <td>6.702</td>\n",
              "      <td>1.789</td>\n",
              "      <td>Åland</td>\n",
              "    </tr>\n",
              "    <tr>\n",
              "      <th>7</th>\n",
              "      <td>1744-06-01</td>\n",
              "      <td>11.609</td>\n",
              "      <td>1.577</td>\n",
              "      <td>Åland</td>\n",
              "    </tr>\n",
              "    <tr>\n",
              "      <th>8</th>\n",
              "      <td>1744-07-01</td>\n",
              "      <td>15.342</td>\n",
              "      <td>1.410</td>\n",
              "      <td>Åland</td>\n",
              "    </tr>\n",
              "    <tr>\n",
              "      <th>...</th>\n",
              "      <td>...</td>\n",
              "      <td>...</td>\n",
              "      <td>...</td>\n",
              "      <td>...</td>\n",
              "    </tr>\n",
              "    <tr>\n",
              "      <th>577456</th>\n",
              "      <td>2013-04-01</td>\n",
              "      <td>21.142</td>\n",
              "      <td>0.495</td>\n",
              "      <td>Zimbabwe</td>\n",
              "    </tr>\n",
              "    <tr>\n",
              "      <th>577457</th>\n",
              "      <td>2013-05-01</td>\n",
              "      <td>19.059</td>\n",
              "      <td>1.022</td>\n",
              "      <td>Zimbabwe</td>\n",
              "    </tr>\n",
              "    <tr>\n",
              "      <th>577458</th>\n",
              "      <td>2013-06-01</td>\n",
              "      <td>17.613</td>\n",
              "      <td>0.473</td>\n",
              "      <td>Zimbabwe</td>\n",
              "    </tr>\n",
              "    <tr>\n",
              "      <th>577459</th>\n",
              "      <td>2013-07-01</td>\n",
              "      <td>17.000</td>\n",
              "      <td>0.453</td>\n",
              "      <td>Zimbabwe</td>\n",
              "    </tr>\n",
              "    <tr>\n",
              "      <th>577460</th>\n",
              "      <td>2013-08-01</td>\n",
              "      <td>19.759</td>\n",
              "      <td>0.717</td>\n",
              "      <td>Zimbabwe</td>\n",
              "    </tr>\n",
              "  </tbody>\n",
              "</table>\n",
              "<p>544811 rows × 4 columns</p>\n",
              "</div>"
            ],
            "text/plain": [
              "                dt  AverageTemperature  AverageTemperatureUncertainty  \\\n",
              "0       1743-11-01               4.384                          2.294   \n",
              "5       1744-04-01               1.530                          4.680   \n",
              "6       1744-05-01               6.702                          1.789   \n",
              "7       1744-06-01              11.609                          1.577   \n",
              "8       1744-07-01              15.342                          1.410   \n",
              "...            ...                 ...                            ...   \n",
              "577456  2013-04-01              21.142                          0.495   \n",
              "577457  2013-05-01              19.059                          1.022   \n",
              "577458  2013-06-01              17.613                          0.473   \n",
              "577459  2013-07-01              17.000                          0.453   \n",
              "577460  2013-08-01              19.759                          0.717   \n",
              "\n",
              "         Country  \n",
              "0          Åland  \n",
              "5          Åland  \n",
              "6          Åland  \n",
              "7          Åland  \n",
              "8          Åland  \n",
              "...          ...  \n",
              "577456  Zimbabwe  \n",
              "577457  Zimbabwe  \n",
              "577458  Zimbabwe  \n",
              "577459  Zimbabwe  \n",
              "577460  Zimbabwe  \n",
              "\n",
              "[544811 rows x 4 columns]"
            ]
          },
          "execution_count": 3,
          "metadata": {},
          "output_type": "execute_result"
        }
      ],
      "source": [
        "df= df.dropna(axis=0)\n",
        "df"
      ]
    },
    {
      "cell_type": "code",
      "execution_count": 4,
      "metadata": {
        "colab": {
          "base_uri": "https://localhost:8080/"
        },
        "id": "_28scZyQxiBJ",
        "outputId": "e22f8fc2-e220-479c-fda8-0b2e899634ac"
      },
      "outputs": [
        {
          "data": {
            "text/plain": [
              "Counter({'Åland': 3166,\n",
              "         'Afghanistan': 2085,\n",
              "         'Africa': 1894,\n",
              "         'Albania': 3166,\n",
              "         'Algeria': 2702,\n",
              "         'American Samoa': 1629,\n",
              "         'Andorra': 3166,\n",
              "         'Angola': 1728,\n",
              "         'Anguilla': 2086,\n",
              "         'Antigua And Barbuda': 2086,\n",
              "         'Argentina': 1900,\n",
              "         'Armenia': 2508,\n",
              "         'Aruba': 2086,\n",
              "         'Asia': 2366,\n",
              "         'Australia': 1930,\n",
              "         'Austria': 3166,\n",
              "         'Azerbaijan': 2456,\n",
              "         'Bahamas': 2495,\n",
              "         'Bahrain': 2014,\n",
              "         'Baker Island': 1933,\n",
              "         'Bangladesh': 2529,\n",
              "         'Barbados': 2086,\n",
              "         'Belarus': 3166,\n",
              "         'Belgium': 3166,\n",
              "         'Belize': 2235,\n",
              "         'Benin': 1760,\n",
              "         'Bhutan': 2330,\n",
              "         'Bolivia': 1900,\n",
              "         'Bonaire, Saint Eustatius And Saba': 2086,\n",
              "         'Bosnia And Herzegovina': 3166,\n",
              "         'Botswana': 1874,\n",
              "         'Brazil': 2164,\n",
              "         'British Virgin Islands': 2087,\n",
              "         'Bulgaria': 3166,\n",
              "         'Burkina Faso': 1849,\n",
              "         'Burma': 2246,\n",
              "         'Burundi': 1722,\n",
              "         \"Côte D'Ivoire\": 1858,\n",
              "         'Cambodia': 2069,\n",
              "         'Cameroon': 1735,\n",
              "         'Canada': 2504,\n",
              "         'Cape Verde': 1872,\n",
              "         'Cayman Islands': 2289,\n",
              "         'Central African Republic': 1735,\n",
              "         'Chad': 1735,\n",
              "         'Chile': 1900,\n",
              "         'China': 2201,\n",
              "         'Christmas Island': 1879,\n",
              "         'Colombia': 2077,\n",
              "         'Comoros': 1763,\n",
              "         'Congo (Democratic Republic Of The)': 1737,\n",
              "         'Congo': 1735,\n",
              "         'Costa Rica': 1953,\n",
              "         'Croatia': 3166,\n",
              "         'Cuba': 2289,\n",
              "         'Curaçao': 2086,\n",
              "         'Cyprus': 2666,\n",
              "         'Czech Republic': 3166,\n",
              "         'Denmark (Europe)': 3166,\n",
              "         'Denmark': 2288,\n",
              "         'Djibouti': 1658,\n",
              "         'Dominica': 2086,\n",
              "         'Dominican Republic': 2230,\n",
              "         'Ecuador': 1585,\n",
              "         'Egypt': 2339,\n",
              "         'El Salvador': 2112,\n",
              "         'Equatorial Guinea': 1735,\n",
              "         'Eritrea': 1672,\n",
              "         'Estonia': 3166,\n",
              "         'Ethiopia': 1679,\n",
              "         'Europe': 3166,\n",
              "         'Falkland Islands (Islas Malvinas)': 1841,\n",
              "         'Faroe Islands': 3166,\n",
              "         'Federated States Of Micronesia': 1364,\n",
              "         'Fiji': 1630,\n",
              "         'Finland': 3166,\n",
              "         'France (Europe)': 3166,\n",
              "         'France': 3166,\n",
              "         'French Guiana': 2078,\n",
              "         'French Polynesia': 1623,\n",
              "         'French Southern And Antarctic Lands': 783,\n",
              "         'Gabon': 1735,\n",
              "         'Gambia': 1872,\n",
              "         'Gaza Strip': 2435,\n",
              "         'Georgia': 2574,\n",
              "         'Germany': 3166,\n",
              "         'Ghana': 1771,\n",
              "         'Greece': 3166,\n",
              "         'Greenland': 2288,\n",
              "         'Grenada': 2086,\n",
              "         'Guadeloupe': 2086,\n",
              "         'Guam': 1328,\n",
              "         'Guatemala': 2226,\n",
              "         'Guernsey': 3166,\n",
              "         'Guinea Bissau': 1871,\n",
              "         'Guinea': 1872,\n",
              "         'Guyana': 2078,\n",
              "         'Haiti': 2231,\n",
              "         'Heard Island And Mcdonald Islands': 783,\n",
              "         'Honduras': 2219,\n",
              "         'Hong Kong': 2084,\n",
              "         'Hungary': 3166,\n",
              "         'Iceland': 3166,\n",
              "         'India': 2508,\n",
              "         'Indonesia': 1879,\n",
              "         'Iran': 2119,\n",
              "         'Iraq': 2320,\n",
              "         'Ireland': 3166,\n",
              "         'Isle Of Man': 3166,\n",
              "         'Israel': 2432,\n",
              "         'Italy': 3166,\n",
              "         'Jamaica': 2247,\n",
              "         'Japan': 2072,\n",
              "         'Jersey': 3166,\n",
              "         'Jordan': 2423,\n",
              "         'Kazakhstan': 2404,\n",
              "         'Kenya': 1679,\n",
              "         'Kingman Reef': 1568,\n",
              "         'Kiribati': 1567,\n",
              "         'Kuwait': 2068,\n",
              "         'Kyrgyzstan': 2180,\n",
              "         'Laos': 2246,\n",
              "         'Latvia': 3166,\n",
              "         'Lebanon': 2459,\n",
              "         'Lesotho': 1873,\n",
              "         'Liberia': 1885,\n",
              "         'Libya': 2666,\n",
              "         'Liechtenstein': 3166,\n",
              "         'Lithuania': 3166,\n",
              "         'Luxembourg': 3166,\n",
              "         'Macau': 2084,\n",
              "         'Macedonia': 3166,\n",
              "         'Madagascar': 1763,\n",
              "         'Malawi': 1660,\n",
              "         'Malaysia': 2052,\n",
              "         'Mali': 1878,\n",
              "         'Malta': 3128,\n",
              "         'Martinique': 2086,\n",
              "         'Mauritania': 1953,\n",
              "         'Mauritius': 1682,\n",
              "         'Mayotte': 1763,\n",
              "         'Mexico': 2145,\n",
              "         'Moldova': 3166,\n",
              "         'Monaco': 3166,\n",
              "         'Mongolia': 2316,\n",
              "         'Montenegro': 3166,\n",
              "         'Montserrat': 2086,\n",
              "         'Morocco': 2702,\n",
              "         'Mozambique': 1679,\n",
              "         'Namibia': 1874,\n",
              "         'Nepal': 2450,\n",
              "         'Netherlands (Europe)': 3166,\n",
              "         'Netherlands': 3166,\n",
              "         'New Caledonia': 1867,\n",
              "         'New Zealand': 1928,\n",
              "         'Nicaragua': 2164,\n",
              "         'Niger': 1748,\n",
              "         'Nigeria': 1721,\n",
              "         'Niue': 1629,\n",
              "         'North America': 2482,\n",
              "         'North Korea': 2096,\n",
              "         'Northern Mariana Islands': 1328,\n",
              "         'Norway': 3166,\n",
              "         'Oceania': 1930,\n",
              "         'Oman': 1733,\n",
              "         'Pakistan': 2067,\n",
              "         'Palau': 1558,\n",
              "         'Palestina': 1936,\n",
              "         'Palmyra Atoll': 1568,\n",
              "         'Panama': 2006,\n",
              "         'Papua New Guinea': 1580,\n",
              "         'Paraguay': 2096,\n",
              "         'Peru': 1591,\n",
              "         'Philippines': 1890,\n",
              "         'Poland': 3166,\n",
              "         'Portugal': 3128,\n",
              "         'Puerto Rico': 2087,\n",
              "         'Qatar': 2008,\n",
              "         'Reunion': 1682,\n",
              "         'Romania': 3166,\n",
              "         'Russia': 2405,\n",
              "         'Rwanda': 1722,\n",
              "         'Saint Barthélemy': 2086,\n",
              "         'Saint Kitts And Nevis': 2086,\n",
              "         'Saint Lucia': 2086,\n",
              "         'Saint Martin': 2086,\n",
              "         'Saint Pierre And Miquelon': 3119,\n",
              "         'Saint Vincent And The Grenadines': 2086,\n",
              "         'Samoa': 1629,\n",
              "         'San Marino': 3166,\n",
              "         'Sao Tome And Principe': 1735,\n",
              "         'Saudi Arabia': 1991,\n",
              "         'Senegal': 1872,\n",
              "         'Serbia': 3166,\n",
              "         'Seychelles': 1763,\n",
              "         'Sierra Leone': 1887,\n",
              "         'Singapore': 2052,\n",
              "         'Sint Maarten': 2086,\n",
              "         'Slovakia': 3166,\n",
              "         'Slovenia': 3166,\n",
              "         'Solomon Islands': 1568,\n",
              "         'Somalia': 1679,\n",
              "         'South Africa': 1873,\n",
              "         'South America': 1952,\n",
              "         'South Georgia And The South Sandwich Isla': 1474,\n",
              "         'South Korea': 2072,\n",
              "         'Spain': 3166,\n",
              "         'Sri Lanka': 2508,\n",
              "         'Sudan': 1750,\n",
              "         'Suriname': 2078,\n",
              "         'Svalbard And Jan Mayen': 3008,\n",
              "         'Swaziland': 1873,\n",
              "         'Sweden': 3166,\n",
              "         'Switzerland': 3166,\n",
              "         'Syria': 2459,\n",
              "         'Taiwan': 2070,\n",
              "         'Tajikistan': 2158,\n",
              "         'Tanzania': 1595,\n",
              "         'Thailand': 2246,\n",
              "         'Timor Leste': 1626,\n",
              "         'Togo': 1763,\n",
              "         'Tonga': 1630,\n",
              "         'Trinidad And Tobago': 2086,\n",
              "         'Tunisia': 3128,\n",
              "         'Turkey': 2838,\n",
              "         'Turkmenistan': 2200,\n",
              "         'Turks And Caicas Islands': 2289,\n",
              "         'Uganda': 1726,\n",
              "         'Ukraine': 3166,\n",
              "         'United Arab Emirates': 1887,\n",
              "         'United Kingdom (Europe)': 3166,\n",
              "         'United Kingdom': 3166,\n",
              "         'United States': 2482,\n",
              "         'Uruguay': 2096,\n",
              "         'Uzbekistan': 2196,\n",
              "         'Venezuela': 2086,\n",
              "         'Vietnam': 2093,\n",
              "         'Virgin Islands': 2087,\n",
              "         'Western Sahara': 2536,\n",
              "         'Yemen': 1649,\n",
              "         'Zambia': 1690,\n",
              "         'Zimbabwe': 1725})"
            ]
          },
          "execution_count": 4,
          "metadata": {},
          "output_type": "execute_result"
        }
      ],
      "source": [
        "from collections import Counter\n",
        "c=list(df[\"Country\"])\n",
        "Counter(c)"
      ]
    },
    {
      "cell_type": "code",
      "execution_count": 5,
      "metadata": {
        "colab": {
          "base_uri": "https://localhost:8080/"
        },
        "id": "k8gZdyUTDLfi",
        "outputId": "03f9d500-9db6-4671-aa1a-68521a10077a"
      },
      "outputs": [
        {
          "name": "stdout",
          "output_type": "stream",
          "text": [
            "['Åland', 'Afghanistan', 'Africa', 'Albania', 'Algeria', 'American Samoa', 'Andorra', 'Angola', 'Anguilla', 'Antigua And Barbuda', 'Argentina', 'Armenia', 'Aruba', 'Asia', 'Australia', 'Austria', 'Azerbaijan', 'Bahamas', 'Bahrain', 'Baker Island', 'Bangladesh', 'Barbados', 'Belarus', 'Belgium', 'Belize', 'Benin', 'Bhutan', 'Bolivia', 'Bonaire, Saint Eustatius And Saba', 'Bosnia And Herzegovina', 'Botswana', 'Brazil', 'British Virgin Islands', 'Bulgaria', 'Burkina Faso', 'Burma', 'Burundi', \"Côte D'Ivoire\", 'Cambodia', 'Cameroon', 'Canada', 'Cape Verde', 'Cayman Islands', 'Central African Republic', 'Chad', 'Chile', 'China', 'Christmas Island', 'Colombia', 'Comoros', 'Congo (Democratic Republic Of The)', 'Congo', 'Costa Rica', 'Croatia', 'Cuba', 'Curaçao', 'Cyprus', 'Czech Republic', 'Denmark (Europe)', 'Denmark', 'Djibouti', 'Dominica', 'Dominican Republic', 'Ecuador', 'Egypt', 'El Salvador', 'Equatorial Guinea', 'Eritrea', 'Estonia', 'Ethiopia', 'Europe', 'Falkland Islands (Islas Malvinas)', 'Faroe Islands', 'Federated States Of Micronesia', 'Fiji', 'Finland', 'France (Europe)', 'France', 'French Guiana', 'French Polynesia', 'French Southern And Antarctic Lands', 'Gabon', 'Gambia', 'Gaza Strip', 'Georgia', 'Germany', 'Ghana', 'Greece', 'Greenland', 'Grenada', 'Guadeloupe', 'Guam', 'Guatemala', 'Guernsey', 'Guinea Bissau', 'Guinea', 'Guyana', 'Haiti', 'Heard Island And Mcdonald Islands', 'Honduras', 'Hong Kong', 'Hungary', 'Iceland', 'India', 'Indonesia', 'Iran', 'Iraq', 'Ireland', 'Isle Of Man', 'Israel', 'Italy', 'Jamaica', 'Japan', 'Jersey', 'Jordan', 'Kazakhstan', 'Kenya', 'Kingman Reef', 'Kiribati', 'Kuwait', 'Kyrgyzstan', 'Laos', 'Latvia', 'Lebanon', 'Lesotho', 'Liberia', 'Libya', 'Liechtenstein', 'Lithuania', 'Luxembourg', 'Macau', 'Macedonia', 'Madagascar', 'Malawi', 'Malaysia', 'Mali', 'Malta', 'Martinique', 'Mauritania', 'Mauritius', 'Mayotte', 'Mexico', 'Moldova', 'Monaco', 'Mongolia', 'Montenegro', 'Montserrat', 'Morocco', 'Mozambique', 'Namibia', 'Nepal', 'Netherlands (Europe)', 'Netherlands', 'New Caledonia', 'New Zealand', 'Nicaragua', 'Niger', 'Nigeria', 'Niue', 'North America', 'North Korea', 'Northern Mariana Islands', 'Norway', 'Oceania', 'Oman', 'Pakistan', 'Palau', 'Palestina', 'Palmyra Atoll', 'Panama', 'Papua New Guinea', 'Paraguay', 'Peru', 'Philippines', 'Poland', 'Portugal', 'Puerto Rico', 'Qatar', 'Reunion', 'Romania', 'Russia', 'Rwanda', 'Saint Barthélemy', 'Saint Kitts And Nevis', 'Saint Lucia', 'Saint Martin', 'Saint Pierre And Miquelon', 'Saint Vincent And The Grenadines', 'Samoa', 'San Marino', 'Sao Tome And Principe', 'Saudi Arabia', 'Senegal', 'Serbia', 'Seychelles', 'Sierra Leone', 'Singapore', 'Sint Maarten', 'Slovakia', 'Slovenia', 'Solomon Islands', 'Somalia', 'South Africa', 'South America', 'South Georgia And The South Sandwich Isla', 'South Korea', 'Spain', 'Sri Lanka', 'Sudan', 'Suriname', 'Svalbard And Jan Mayen', 'Swaziland', 'Sweden', 'Switzerland', 'Syria', 'Taiwan', 'Tajikistan', 'Tanzania', 'Thailand', 'Timor Leste', 'Togo', 'Tonga', 'Trinidad And Tobago', 'Tunisia', 'Turkey', 'Turkmenistan', 'Turks And Caicas Islands', 'Uganda', 'Ukraine', 'United Arab Emirates', 'United Kingdom (Europe)', 'United Kingdom', 'United States', 'Uruguay', 'Uzbekistan', 'Venezuela', 'Vietnam', 'Virgin Islands', 'Western Sahara', 'Yemen', 'Zambia', 'Zimbabwe']\n"
          ]
        }
      ],
      "source": [
        "countries=list(df[\"Country\"].unique())\n",
        "print(countries)"
      ]
    },
    {
      "cell_type": "code",
      "execution_count": 6,
      "metadata": {
        "id": "2Y6XkmrhI0MK"
      },
      "outputs": [],
      "source": [
        "country_dict={}\n",
        "for country in countries:\n",
        "  country_dict[country] = []\n",
        "country_dict1={}\n",
        "for country in countries:\n",
        "  country_dict1[country] = []"
      ]
    },
    {
      "cell_type": "code",
      "execution_count": 7,
      "metadata": {
        "colab": {
          "base_uri": "https://localhost:8080/"
        },
        "id": "1pRZVlP4EQPs",
        "outputId": "54db50c5-44e6-4147-bc8c-15affb5e5f99"
      },
      "outputs": [
        {
          "name": "stdout",
          "output_type": "stream",
          "text": [
            "<class 'str'>\n",
            "1914\n",
            "1915\n",
            "1916\n",
            "1917\n",
            "1918\n",
            "1919\n",
            "1920\n",
            "1921\n",
            "1922\n",
            "1923\n",
            "1924\n",
            "1925\n",
            "1926\n",
            "1927\n",
            "1928\n",
            "1929\n",
            "1930\n",
            "1931\n",
            "1932\n",
            "1933\n",
            "1934\n",
            "1935\n",
            "1936\n",
            "1937\n",
            "1938\n",
            "1939\n",
            "1940\n",
            "1941\n",
            "1942\n",
            "1943\n",
            "1944\n",
            "1945\n",
            "1946\n",
            "1947\n",
            "1948\n",
            "1949\n",
            "1950\n",
            "1951\n",
            "1952\n",
            "1953\n",
            "1954\n",
            "1955\n",
            "1956\n",
            "1957\n",
            "1958\n",
            "1959\n",
            "1960\n",
            "1961\n",
            "1962\n",
            "1963\n",
            "1964\n",
            "1965\n",
            "1966\n",
            "1967\n",
            "1968\n",
            "1969\n",
            "1970\n",
            "1971\n",
            "1972\n",
            "1973\n",
            "1974\n",
            "1975\n",
            "1976\n",
            "1977\n",
            "1978\n",
            "1979\n",
            "1980\n",
            "1981\n",
            "1982\n",
            "1983\n",
            "1984\n",
            "1985\n",
            "1986\n",
            "1987\n",
            "1988\n",
            "1989\n",
            "1990\n",
            "1991\n",
            "1992\n",
            "1993\n",
            "1994\n",
            "1995\n",
            "1996\n",
            "1997\n",
            "1998\n",
            "1999\n",
            "2000\n",
            "2001\n",
            "2002\n",
            "2003\n",
            "2004\n",
            "2005\n",
            "2006\n",
            "2007\n",
            "2008\n",
            "2009\n",
            "2010\n",
            "2011\n",
            "2012\n",
            "2013\n"
          ]
        }
      ],
      "source": [
        "print(type(df[\"dt\"][0]))\n",
        "for i in range(1914,2014):\n",
        "  print(i)\n",
        "  for idx, row in df.iterrows():\n",
        "      if row[\"dt\"][0:4] == str(i):\n",
        "        country_dict[row[\"Country\"]].append(row[\"AverageTemperature\"])\n",
        "  for key in country_dict.keys():\n",
        "    if len(country_dict[key]) ==0:\n",
        "      country_dict[key] =0\n",
        "    else:\n",
        "      country_dict[key] = sum(country_dict[key])/len(country_dict[key])\n",
        "  for key in country_dict.keys():\n",
        "    country_dict1[key].append(country_dict[key])\n",
        "    country_dict[key] = []\n",
        "\n",
        "    \n",
        "  \n",
        "\n",
        "\n",
        "  \n"
      ]
    },
    {
      "cell_type": "code",
      "execution_count": 8,
      "metadata": {
        "colab": {
          "base_uri": "https://localhost:8080/"
        },
        "id": "Qav2Mip8Jo6c",
        "outputId": "8d0f3039-25fc-489c-92e7-147ee5228fda"
      },
      "outputs": [
        {
          "name": "stdout",
          "output_type": "stream",
          "text": [
            "Åland\n",
            "[6.556166666666666, 3.5751666666666666, 5.013833333333333, 4.5880833333333335, 5.406916666666667, 4.7555, 6.3715, 5.936666666666667, 4.5275, 4.569416666666666, 5.412749999999999, 5.8066666666666675, 4.909916666666667, 5.18725, 4.870666666666667, 5.064749999999999, 7.0177499999999995, 4.601833333333334, 6.095833333333334, 5.686583333333334, 7.534333333333333, 6.134833333333334, 6.277333333333335, 6.479166666666668, 7.29375, 6.264333333333332, 3.8964166666666666, 3.5184166666666665, 3.353666666666667, 6.9125000000000005, 6.254083333333334, 5.819083333333334, 5.679083333333332, 4.972333333333333, 6.0455000000000005, 7.081083333333332, 5.957916666666666, 5.820583333333334, 4.795, 6.746916666666665, 5.551750000000001, 4.887416666666666, 4.045583333333333, 5.5945833333333335, 4.637583333333333, 6.630916666666667, 5.548750000000001, 6.833083333333332, 4.7905, 4.887750000000001, 5.586416666666666, 4.880249999999999, 4.298333333333333, 5.877999999999999, 5.172833333333333, 4.918416666666667, 4.442833333333334, 5.62375, 6.358333333333333, 6.198083333333334, 6.766916666666667, 7.237833333333334, 4.832916666666667, 5.159250000000001, 4.578666666666667, 4.805583333333334, 5.015666666666667, 5.0577499999999995, 5.7819166666666675, 6.134083333333334, 6.234749999999998, 3.467166666666667, 5.000083333333333, 3.71825, 6.0015833333333335, 7.249416666666668, 7.221416666666666, 6.433666666666667, 6.782333333333334, 5.9067500000000015, 5.8995, 6.200166666666667, 5.2363333333333335, 6.67425, 5.84125, 6.764, 7.283333333333332, 6.4014999999999995, 6.801083333333334, 6.323416666666668, 6.5186666666666655, 6.724083333333334, 7.100583333333334, 7.029, 7.492250000000001, 6.489083333333336, 4.861916666666667, 7.170750000000001, 6.063916666666667, 6.229749999999999]\n",
            "Afghanistan\n",
            "[14.296833333333334, 14.914583333333333, 13.342999999999996, 13.916500000000005, 13.483250000000004, 13.880916666666666, 13.036499999999998, 14.171583333333336, 14.255499999999998, 13.338916666666668, 13.629000000000003, 13.931750000000001, 13.745333333333333, 13.844583333333333, 13.633000000000003, 13.48175, 13.330583333333337, 13.447500000000003, 13.66466666666667, 13.882916666666668, 13.341416666666667, 13.29625, 14.007416666666666, 13.571583333333335, 14.211250000000001, 14.161916666666665, 14.734, 15.50275, 14.451166666666667, 13.707833333333332, 14.291750000000002, 13.86625, 14.594666666666667, 15.035083333333334, 14.335250000000002, 13.350083333333332, 13.0435, 13.96775, 14.175416666666669, 14.650750000000002, 13.691333333333333, 14.642583333333334, 14.191083333333333, 12.777166666666666, 14.716749999999998, 14.152583333333332, 13.985416666666667, 14.064916666666667, 13.768666666666666, 15.033416666666666, 13.084916666666667, 14.101833333333333, 14.342999999999998, 13.66325, 13.762333333333332, 13.805083333333336, 14.78308333333333, 14.823500000000001, 12.547166666666667, 14.235500000000004, 13.316749999999999, 13.548083333333333, 13.708583333333332, 14.805416666666668, 14.329666666666668, 14.262083333333335, 14.887333333333332, 14.860083333333334, 13.733083333333335, 14.614833333333335, 14.245833333333332, 14.888749999999996, 14.223166666666666, 14.983999999999996, 15.388999999999998, 14.125750000000002, 14.993333333333332, 14.370750000000001, 14.056083333333333, 14.439249999999996, 14.75475, 14.859166666666667, 14.426000000000002, 14.904000000000002, 15.1325, 15.38875, 15.497833333333334, 15.778083333333333, 15.537666666666668, 14.916000000000002, 15.77091666666667, 14.979999999999999, 15.595583333333332, 15.106166666666669, 15.216500000000002, 15.257749999999996, 15.828666666666669, 15.518, 14.481583333333333, 16.533625]\n",
            "Africa\n",
            "[24.25666666666667, 24.17425, 23.84958333333333, 23.6955, 23.66541666666667, 24.089, 23.802833333333336, 23.899833333333333, 23.96241666666667, 23.85291666666667, 24.181583333333332, 23.943916666666667, 24.253583333333335, 24.189833333333336, 24.216916666666673, 23.971833333333333, 24.099166666666665, 24.544750000000004, 24.16783333333333, 24.203416666666666, 24.042083333333338, 24.030166666666663, 24.06775, 24.249750000000002, 24.098916666666668, 24.04658333333333, 24.261750000000003, 24.63066666666667, 24.447166666666664, 24.009249999999998, 24.223750000000006, 24.16416666666667, 24.185000000000002, 24.39916666666667, 24.007833333333334, 24.179750000000002, 23.88083333333333, 24.128333333333334, 24.275916666666664, 24.09358333333333, 23.942333333333334, 24.15783333333334, 23.849666666666668, 24.08241666666667, 24.414833333333334, 24.167, 24.305083333333332, 24.028500000000005, 24.194500000000005, 24.266666666666666, 23.993750000000002, 23.967583333333337, 24.301833333333335, 23.931, 24.011749999999996, 24.554833333333335, 24.321583333333333, 23.933083333333332, 24.199083333333334, 24.40008333333334, 23.830416666666668, 23.919749999999997, 23.91191666666667, 24.27425, 24.222166666666666, 24.498416666666667, 24.44666666666667, 24.297416666666667, 24.211583333333333, 24.579416666666663, 24.38716666666667, 24.339833333333335, 24.309416666666667, 24.921999999999997, 24.56833333333333, 24.223833333333335, 24.70375, 24.422250000000002, 24.33541666666667, 24.538666666666668, 24.43875, 24.718416666666666, 24.634500000000003, 24.706833333333336, 25.0205, 24.743749999999995, 24.588083333333334, 24.841166666666666, 24.961333333333332, 25.02558333333333, 24.895916666666665, 25.156166666666664, 24.818916666666667, 24.851499999999998, 24.75466666666667, 25.0265, 25.4725, 24.7865, 24.725916666666667, 25.208750000000002]\n",
            "Albania\n",
            "[12.015833333333333, 12.690416666666664, 13.550166666666668, 12.684166666666668, 12.731249999999998, 12.320500000000001, 12.6975, 12.510999999999997, 12.670499999999999, 13.31333333333333, 12.551999999999998, 12.690666666666665, 13.252500000000003, 13.618416666666667, 12.89708333333333, 12.023000000000001, 13.206833333333336, 12.661499999999998, 12.583666666666666, 12.010583333333335, 13.524, 12.942749999999998, 13.118333333333334, 13.253749999999998, 12.614333333333333, 13.05775, 11.582500000000001, 12.055583333333331, 12.306, 13.197250000000002, 12.447416666666669, 12.944583333333336, 13.472500000000002, 13.395416666666668, 12.753916666666667, 12.51825, 13.812833333333336, 13.569833333333333, 13.573916666666667, 12.58633333333333, 12.450083333333334, 13.148083333333332, 12.172333333333334, 13.078416666666664, 13.1945, 12.405583333333333, 13.335083333333332, 13.316749999999999, 13.06875, 13.085833333333333, 12.515333333333333, 12.378416666666666, 13.204583333333337, 12.621749999999999, 12.869583333333333, 12.802916666666667, 12.839666666666666, 12.534416666666667, 12.60825, 12.48666666666667, 12.559833333333332, 12.568416666666666, 12.03625, 13.22325, 12.263583333333335, 12.989166666666668, 12.162083333333335, 12.578666666666669, 13.01525, 12.510916666666667, 12.640750000000002, 12.948166666666667, 13.056416666666665, 12.996583333333332, 13.044083333333335, 12.803833333333335, 13.46866666666667, 12.338833333333334, 13.084666666666665, 13.122583333333337, 14.09966666666667, 12.782083333333334, 12.7365, 12.900916666666667, 13.311250000000003, 13.65375, 13.746583333333335, 13.690416666666666, 13.559916666666668, 13.626583333333334, 13.258166666666666, 12.747083333333334, 12.976916666666668, 13.890500000000001, 13.955166666666665, 13.84425, 13.775416666666667, 13.443250000000004, 13.76825, 14.993875000000003]\n",
            "Algeria\n",
            "[23.043166666666668, 22.821166666666667, 22.642999999999997, 22.461166666666667, 22.41125, 22.773333333333337, 23.09433333333334, 22.723583333333337, 22.9345, 22.43575, 23.418083333333332, 22.726583333333334, 23.501666666666665, 23.335416666666664, 23.115416666666665, 22.672083333333333, 23.4545, 23.865833333333338, 23.616916666666672, 23.168500000000005, 22.74466666666667, 22.919750000000004, 22.940916666666666, 23.727499999999996, 22.727666666666664, 22.841416666666664, 23.005916666666668, 23.443416666666668, 23.610166666666668, 23.03333333333333, 22.93416666666667, 23.3655, 23.254250000000003, 23.69016666666667, 23.07133333333333, 23.188166666666664, 22.781833333333335, 23.32166666666667, 23.18541666666667, 22.869416666666666, 22.65241666666667, 24.004833333333337, 22.611333333333338, 22.62025, 23.54491666666667, 23.333666666666673, 23.50408333333333, 23.39033333333333, 23.182416666666665, 23.317833333333336, 23.147499999999997, 22.97375, 23.301333333333332, 22.861666666666675, 23.185916666666667, 23.458249999999996, 23.32283333333333, 22.672250000000002, 22.69816666666667, 22.886166666666668, 22.541, 22.716416666666664, 22.35675, 23.546083333333343, 23.161833333333337, 23.39683333333333, 23.16016666666667, 23.579250000000005, 23.094166666666663, 23.683000000000003, 23.063083333333335, 23.526250000000005, 23.256666666666675, 24.24775, 23.81566666666667, 23.724333333333334, 24.014416666666666, 23.011083333333335, 22.767, 23.450833333333335, 23.642083333333332, 23.7225, 23.73433333333333, 23.955166666666667, 23.92058333333333, 24.299416666666662, 24.032249999999994, 24.724416666666666, 24.263000000000005, 24.393666666666665, 23.916000000000007, 24.222583333333333, 24.200833333333335, 24.06533333333334, 23.95025, 24.154333333333337, 25.21566666666666, 24.144166666666667, 23.95483333333333, 25.1215]\n",
            "American Samoa\n",
            "[26.368166666666667, 26.041833333333333, 26.26416666666667, 25.853500000000007, 26.213333333333328, 26.453249999999997, 26.35033333333334, 26.241833333333336, 26.348083333333335, 25.958583333333333, 26.358999999999998, 26.1155, 26.49025, 26.878500000000003, 26.678416666666664, 26.577916666666667, 26.552000000000003, 26.421083333333332, 26.80016666666666, 26.70583333333333, 26.776416666666663, 26.970250000000004, 26.842583333333337, 26.885749999999998, 26.853916666666663, 26.539083333333334, 26.729249999999997, 26.99541666666666, 26.69225, 26.607583333333334, 26.589583333333334, 26.668166666666668, 26.839083333333335, 27.013666666666666, 26.68041666666667, 26.851, 26.520083333333332, 26.689666666666664, 27.063750000000002, 26.949250000000003, 26.866083333333336, 26.71075, 26.46683333333333, 26.76291666666667, 26.918083333333332, 26.791833333333333, 26.765500000000003, 26.617166666666666, 26.62766666666667, 26.857666666666663, 26.595666666666663, 26.381249999999998, 26.822166666666664, 26.420416666666668, 26.480833333333333, 26.936583333333335, 26.760666666666665, 26.40225, 26.81233333333334, 27.138249999999996, 26.59125, 26.773166666666665, 26.721083333333336, 26.786833333333337, 26.683999999999997, 26.891333333333336, 26.990750000000002, 26.745499999999996, 26.902750000000008, 26.92866666666666, 26.879500000000004, 26.949916666666667, 26.980333333333334, 26.898750000000003, 27.08941666666667, 26.75266666666667, 27.15625, 27.171166666666675, 27.072000000000003, 26.816416666666665, 26.98633333333333, 27.26866666666667, 27.11266666666667, 26.95575, 27.424833333333336, 27.067166666666665, 27.21983333333333, 27.22758333333334, 27.53791666666666, 27.264833333333332, 27.281166666666667, 27.373500000000003, 27.08125, 27.452416666666664, 26.995083333333337, 27.034249999999997, 27.453416666666666, 27.009500000000003, 27.201416666666663, 27.517250000000004]\n",
            "Andorra\n",
            "[10.826500000000001, 10.90275, 11.028583333333332, 10.297333333333333, 10.7295, 10.493666666666668, 11.419583333333334, 11.545583333333335, 10.931833333333335, 11.217583333333335, 11.17275, 10.586, 11.707416666666667, 11.49125, 11.849333333333334, 11.319249999999998, 11.626666666666667, 11.065249999999999, 10.899749999999997, 11.168999999999999, 11.432833333333335, 11.092999999999998, 11.166833333333335, 11.927166666666666, 11.239833333333332, 11.01175, 10.937500000000002, 10.624083333333335, 11.30375, 12.060833333333333, 11.082583333333334, 11.922166666666667, 11.175916666666668, 12.214583333333332, 11.935583333333334, 12.317916666666667, 11.812, 10.972916666666668, 11.660833333333334, 11.470999999999998, 10.902000000000001, 11.727500000000001, 10.363249999999999, 11.144083333333333, 11.501833333333336, 11.720416666666667, 11.214, 12.2615, 11.079333333333333, 10.636166666666666, 11.541083333333333, 11.025916666666665, 11.584750000000001, 11.606916666666665, 11.436500000000002, 10.884833333333333, 11.376583333333334, 11.192166666666667, 10.741000000000001, 11.176583333333333, 11.077333333333334, 11.247749999999998, 11.304499999999999, 11.134333333333332, 11.040749999999997, 11.30175, 10.7725, 11.546, 12.18516666666667, 11.991749999999998, 11.03275, 11.32541666666667, 11.623500000000002, 11.680250000000003, 11.973916666666668, 12.585083333333332, 12.455583333333335, 11.565416666666666, 11.498416666666664, 11.432166666666667, 12.632249999999999, 12.376416666666664, 11.741416666666666, 12.896166666666668, 12.118749999999999, 12.178666666666667, 12.311916666666667, 12.216083333333335, 12.319583333333334, 12.900666666666668, 12.043, 11.643416666666669, 12.834333333333333, 12.155250000000002, 11.978583333333333, 12.566666666666665, 11.480833333333335, 12.994416666666668, 12.339916666666667, 12.307875000000001]\n",
            "Angola\n",
            "[21.73241666666667, 21.744583333333335, 21.97875, 21.675416666666667, 20.94483333333333, 21.25966666666667, 21.783833333333334, 21.927083333333332, 21.910416666666663, 21.62183333333333, 22.01, 21.546333333333333, 21.922666666666668, 21.91625, 22.11158333333334, 21.864166666666666, 21.618833333333328, 22.054, 21.623166666666666, 21.83508333333333, 21.980249999999998, 21.741083333333332, 21.534333333333333, 21.73625, 21.733583333333332, 21.52616666666667, 21.750583333333335, 22.307916666666667, 21.892083333333332, 21.676833333333335, 22.164083333333334, 21.99591666666667, 22.16033333333333, 22.125999999999994, 21.89633333333333, 21.928250000000002, 21.571833333333334, 22.002166666666668, 22.18766666666667, 21.724833333333336, 21.567000000000004, 21.57825, 21.521916666666666, 21.991500000000002, 22.020249999999994, 22.081666666666667, 21.927083333333332, 21.938750000000002, 21.84866666666667, 21.837750000000003, 21.68641666666667, 21.81991666666667, 22.103250000000003, 21.776416666666663, 21.748166666666666, 22.1905, 22.149833333333333, 21.837, 22.011000000000006, 22.349666666666668, 21.623499999999996, 21.738916666666668, 21.44741666666667, 21.95075, 21.817000000000004, 22.144750000000002, 22.077583333333337, 22.027916666666666, 21.819999999999997, 22.367250000000002, 22.356166666666667, 22.021833333333337, 22.036249999999995, 22.749916666666664, 22.412333333333336, 22.12216666666667, 22.46641666666667, 22.095416666666665, 22.49858333333333, 22.291, 22.189416666666663, 22.936166666666665, 22.479249999999997, 22.317166666666665, 23.120166666666666, 22.382083333333338, 22.360666666666663, 22.502916666666668, 22.9255, 23.06658333333333, 22.572833333333335, 22.96608333333333, 21.947083333333335, 22.42708333333334, 22.287333333333333, 22.3165, 22.6815, 22.029666666666667, 22.123333333333335, 22.507875000000002]\n",
            "Anguilla\n",
            "[26.379666666666665, 26.62233333333333, 26.19458333333333, 26.04366666666667, 26.308166666666665, 26.570249999999998, 26.415000000000003, 26.432416666666672, 26.287916666666675, 26.345833333333335, 26.494, 26.318249999999995, 26.770583333333335, 26.53475, 26.697750000000003, 26.38658333333333, 26.738416666666666, 26.970833333333335, 26.738583333333334, 26.436166666666665, 26.394500000000004, 26.489083333333337, 26.59266666666667, 26.761083333333332, 26.36858333333333, 26.620666666666665, 26.828666666666663, 27.090000000000003, 26.99966666666667, 26.541833333333333, 26.58175, 26.40008333333334, 26.653166666666667, 26.911, 26.847333333333335, 26.413083333333333, 26.26641666666667, 26.695250000000005, 26.86691666666667, 27.03725, 26.66066666666667, 26.72500000000001, 26.626833333333337, 26.88716666666667, 27.254499999999997, 27.09025, 27.14016666666667, 26.935833333333335, 26.846916666666672, 27.049333333333333, 26.88241666666666, 26.557, 26.691666666666663, 26.483999999999998, 26.608583333333332, 27.049250000000004, 26.91616666666667, 26.553416666666664, 26.670749999999998, 27.01233333333333, 26.491833333333336, 26.48975, 26.4545, 27.048333333333332, 27.04058333333333, 26.80633333333334, 27.25208333333333, 27.18325, 26.831166666666665, 27.26366666666667, 26.85933333333334, 26.842000000000002, 26.884416666666667, 27.379583333333333, 27.13791666666667, 26.84658333333333, 27.09875, 27.097333333333335, 27.050333333333338, 27.163416666666667, 27.16925, 27.550333333333338, 27.056833333333334, 27.393583333333336, 27.740833333333338, 27.344583333333336, 27.05275, 27.4085, 27.53825, 27.67741666666667, 27.334000000000003, 27.732333333333333, 27.636250000000004, 27.68508333333334, 27.140416666666667, 27.46858333333333, 27.855999999999998, 27.528333333333332, 27.639250000000004, 27.363]\n",
            "Antigua And Barbuda\n",
            "[26.226583333333334, 26.478416666666675, 26.042999999999996, 25.842583333333337, 26.105666666666664, 26.39975, 26.139750000000003, 26.26908333333333, 26.17533333333333, 26.166666666666668, 26.342583333333327, 26.164249999999996, 26.59033333333333, 26.373250000000002, 26.50675, 26.162250000000004, 26.575916666666668, 26.842916666666667, 26.560333333333332, 26.217083333333335, 26.19275, 26.331333333333333, 26.3575, 26.597333333333328, 26.18258333333333, 26.446583333333336, 26.727750000000004, 26.918000000000003, 26.833083333333335, 26.352249999999998, 26.42175, 26.169416666666667, 26.43558333333333, 26.777916666666666, 26.607249999999997, 26.23183333333333, 26.052333333333333, 26.537750000000003, 26.714250000000003, 26.8635, 26.461583333333333, 26.600250000000003, 26.426833333333338, 26.677750000000003, 27.096416666666673, 26.90216666666667, 26.96258333333334, 26.730916666666662, 26.736750000000004, 26.891166666666667, 26.70908333333333, 26.421666666666663, 26.59166666666667, 26.342666666666663, 26.41691666666667, 26.881916666666665, 26.738583333333334, 26.39141666666667, 26.549999999999997, 26.87325, 26.340000000000003, 26.335416666666664, 26.26766666666666, 26.851916666666668, 26.861499999999996, 26.655666666666665, 27.118416666666672, 27.057666666666666, 26.681, 27.079250000000002, 26.618750000000002, 26.618166666666667, 26.70925, 27.220583333333334, 26.953000000000007, 26.6865, 26.93466666666667, 26.895666666666667, 26.894750000000002, 26.95616666666667, 26.94608333333333, 27.38033333333333, 26.942333333333334, 27.289333333333335, 27.60175, 27.13175, 26.892083333333336, 27.253833333333336, 27.361749999999997, 27.513833333333338, 27.151166666666672, 27.59816666666667, 27.46641666666667, 27.509083333333336, 26.96541666666667, 27.277333333333335, 27.73541666666667, 27.296166666666664, 27.433499999999995, 27.249625]\n",
            "Argentina\n",
            "[14.490499999999997, 14.585333333333333, 14.447000000000001, 14.660083333333333, 14.360833333333332, 14.739083333333333, 14.611333333333334, 14.177416666666668, 14.260583333333335, 14.068083333333336, 14.116916666666667, 14.592166666666666, 14.868166666666669, 14.714083333333333, 14.205916666666667, 14.767416666666668, 14.843416666666664, 14.115666666666664, 14.978916666666668, 14.582499999999998, 14.353916666666665, 14.815583333333334, 14.696083333333334, 14.750666666666666, 14.497666666666667, 14.633083333333332, 14.595416666666667, 14.452333333333334, 14.408333333333331, 14.9035, 15.364583333333336, 15.390500000000003, 14.617916666666666, 14.776583333333333, 14.778333333333334, 14.771333333333336, 14.795083333333332, 14.836916666666665, 14.916333333333332, 14.97475, 14.491416666666666, 14.191166666666668, 14.021416666666667, 14.656250000000002, 14.943416666666664, 14.35425, 14.99366666666667, 14.972916666666665, 14.852416666666668, 14.847166666666666, 14.431249999999999, 14.909583333333332, 14.677999999999999, 15.049749999999998, 15.196916666666667, 15.262833333333333, 15.195333333333336, 14.651166666666668, 14.81841666666667, 14.597916666666668, 14.637666666666666, 14.939666666666668, 14.440249999999999, 15.351249999999999, 15.186083333333334, 14.974666666666664, 15.226916666666666, 15.167416666666668, 15.256750000000002, 14.954333333333333, 14.400833333333333, 15.326250000000002, 15.33475, 15.1875, 14.836333333333334, 15.543, 15.155083333333332, 15.097583333333338, 14.739166666666668, 15.098666666666668, 15.578666666666669, 15.149833333333333, 15.211583333333332, 15.620666666666667, 15.261750000000001, 15.064916666666667, 14.7505, 15.370416666666666, 15.183750000000003, 15.518333333333336, 15.442166666666667, 15.112833333333334, 15.561083333333334, 14.628083333333336, 15.475999999999999, 15.534416666666667, 15.078833333333336, 15.339666666666668, 15.688999999999998, 14.457124999999998]\n",
            "Armenia\n",
            "[8.490166666666665, 8.907666666666666, 9.093750000000002, 9.396916666666668, 8.888499999999999, 8.879583333333334, 7.0205833333333345, 7.701583333333335, 9.157, 8.851833333333333, 8.98675, 8.919333333333332, 8.654083333333332, 8.609583333333335, 7.542166666666668, 7.8747500000000015, 9.031166666666667, 7.919666666666667, 8.128583333333333, 7.7689166666666685, 7.960333333333332, 8.967250000000002, 8.715333333333334, 9.255666666666668, 8.893583333333332, 8.938583333333334, 9.324583333333335, 9.007750000000001, 8.610166666666666, 8.580916666666667, 9.136916666666666, 7.912916666666667, 8.375083333333333, 9.457333333333333, 8.526166666666665, 8.022333333333332, 8.213000000000001, 8.741583333333333, 9.21, 8.36875, 8.936916666666667, 9.968166666666667, 7.765333333333334, 8.972333333333333, 8.97025, 7.9674999999999985, 9.273249999999999, 9.482, 9.982083333333334, 9.273000000000001, 8.057666666666668, 8.496083333333335, 10.841000000000001, 8.087083333333332, 8.906583333333334, 8.230833333333333, 9.846583333333333, 9.105416666666668, 7.789166666666667, 8.207166666666666, 8.314333333333334, 8.993, 8.345083333333333, 8.692083333333334, 9.047666666666666, 10.146416666666669, 9.358583333333334, 9.805416666666666, 8.274333333333335, 9.000583333333331, 9.067750000000002, 9.174750000000001, 9.306833333333334, 8.996666666666666, 8.626083333333334, 9.785833333333331, 9.258083333333333, 9.372583333333333, 7.614666666666667, 7.769666666666667, 9.02125, 9.892166666666668, 9.819166666666666, 9.246333333333334, 10.448416666666667, 10.331000000000001, 9.918166666666668, 10.443416666666668, 9.604999999999999, 9.423083333333333, 9.720166666666666, 9.735416666666667, 10.053500000000001, 9.53525, 9.706750000000001, 9.842083333333333, 11.509500000000003, 9.136000000000001, 10.35075, 11.34375]\n",
            "Aruba\n",
            "[27.821416666666668, 28.280333333333335, 27.571833333333334, 27.098, 27.29041666666667, 27.84933333333333, 27.625083333333336, 27.409500000000005, 27.587833333333332, 27.632500000000004, 27.893583333333336, 27.69083333333333, 28.315250000000002, 27.810750000000002, 27.96325, 27.798416666666668, 27.77275, 28.22091666666667, 28.059583333333332, 27.717916666666667, 27.968833333333333, 27.665916666666664, 27.865250000000003, 28.008666666666667, 27.52583333333334, 27.750916666666665, 28.530083333333334, 28.647250000000003, 28.573750000000004, 27.948916666666666, 28.034750000000003, 27.82625, 27.685916666666667, 28.266583333333333, 28.229083333333335, 27.815500000000004, 27.4885, 28.18166666666666, 28.50583333333334, 28.45141666666667, 28.057666666666666, 27.68975, 27.85525, 28.03825, 28.836916666666664, 28.187, 28.253583333333335, 28.072833333333335, 28.285999999999998, 28.317249999999998, 28.076416666666663, 28.046750000000003, 28.241166666666672, 27.95475, 28.114333333333335, 28.631, 28.369333333333334, 27.89, 28.352333333333334, 28.331833333333332, 27.70025, 27.943250000000003, 27.810083333333335, 28.45441666666667, 28.39158333333333, 28.432333333333336, 28.62691666666667, 28.44825, 28.246500000000008, 28.687, 28.198166666666665, 27.88566666666667, 27.98933333333333, 28.85941666666666, 28.34991666666667, 28.134583333333328, 28.243333333333325, 28.34308333333333, 28.498749999999998, 28.589166666666667, 28.482249999999997, 28.73641666666667, 28.479583333333338, 28.763333333333332, 28.982499999999998, 28.197916666666668, 28.128, 28.630916666666664, 28.849249999999998, 28.849666666666664, 28.506, 28.772249999999996, 28.804666666666666, 28.82283333333333, 28.45025, 28.832000000000004, 28.968333333333334, 28.513333333333332, 28.652333333333335, 28.541249999999998]\n",
            "Asia\n",
            "[7.481583333333333, 7.2157500000000026, 6.932166666666667, 7.159416666666668, 7.0023333333333335, 7.080666666666667, 7.2636666666666665, 7.489249999999999, 7.3785, 7.297999999999999, 7.476083333333335, 7.502083333333334, 7.454916666666667, 7.290500000000001, 7.210249999999999, 6.854333333333334, 7.261916666666668, 7.1593333333333335, 7.685666666666667, 6.950083333333332, 7.401583333333332, 7.446166666666666, 7.39125, 7.412499999999999, 7.773500000000001, 7.78775, 7.547749999999998, 7.429833333333334, 7.537000000000002, 7.866500000000001, 7.816749999999999, 7.332, 7.499083333333334, 7.616833333333332, 7.9686666666666675, 7.522666666666666, 7.169833333333333, 7.6673333333333344, 7.213083333333333, 7.838333333333335, 7.351499999999999, 7.502500000000002, 7.118666666666667, 7.326416666666667, 7.456166666666665, 7.664583333333333, 7.364333333333334, 7.787500000000001, 7.9585833333333325, 7.891833333333334, 7.229416666666668, 7.401, 7.418500000000002, 7.721666666666668, 7.384666666666668, 6.889500000000001, 7.525666666666666, 7.6859166666666665, 7.2437499999999995, 7.921499999999998, 7.291333333333334, 8.03975, 7.110916666666667, 7.6295, 7.7387500000000005, 7.643916666666666, 7.709166666666666, 8.1725, 7.711749999999999, 8.215166666666667, 7.399, 7.53625, 7.77625, 7.509416666666667, 8.234083333333333, 8.216333333333333, 8.428166666666666, 8.153249999999998, 7.671916666666665, 7.823166666666666, 8.04125, 8.705833333333333, 7.8879166666666665, 8.2815, 8.29425, 8.379500000000002, 8.252583333333332, 8.450916666666666, 8.645333333333333, 8.534, 8.488833333333334, 8.666666666666668, 8.406916666666667, 9.100666666666667, 8.764999999999999, 8.442333333333336, 8.575583333333334, 8.573999999999998, 8.429333333333334, 10.047374999999999]\n",
            "Australia\n",
            "[22.186333333333334, 22.144833333333334, 21.504416666666668, 20.771500000000003, 21.369333333333334, 21.82858333333333, 21.324416666666664, 21.680083333333332, 21.449749999999998, 21.536833333333334, 21.212583333333335, 21.09783333333333, 21.702583333333337, 21.397833333333335, 22.01908333333333, 21.101249999999997, 21.640833333333333, 21.239083333333333, 21.459666666666667, 21.386499999999998, 21.507083333333338, 21.39741666666666, 21.716333333333335, 21.52733333333333, 22.088749999999994, 21.34, 21.681583333333332, 21.36283333333333, 21.926416666666668, 21.31716666666667, 21.530166666666663, 21.60408333333333, 21.241249999999997, 21.59025, 21.459500000000002, 20.984916666666667, 21.322916666666668, 21.557000000000002, 21.487, 21.47458333333333, 21.558666666666664, 21.563083333333335, 21.005999999999997, 21.90266666666666, 21.997249999999998, 22.098166666666668, 21.210500000000003, 21.964249999999996, 21.802916666666665, 21.697833333333335, 21.650750000000002, 22.092083333333335, 21.361000000000004, 21.625416666666666, 21.462166666666672, 21.847583333333333, 21.775750000000002, 21.65433333333333, 22.012083333333333, 22.41275, 21.238083333333332, 21.692666666666668, 21.193416666666668, 21.892500000000002, 21.605166666666666, 22.252333333333336, 22.586166666666667, 22.164083333333334, 21.910500000000003, 22.261083333333332, 21.516916666666663, 22.043416666666662, 22.09325, 22.072416666666665, 22.63008333333333, 21.862833333333338, 22.35575, 22.48741666666667, 21.932583333333337, 22.160166666666665, 22.03025, 21.955166666666667, 22.325333333333333, 22.086000000000002, 22.664833333333334, 22.0645, 21.709666666666667, 21.79275, 22.46083333333333, 22.44033333333333, 22.286916666666666, 22.896833333333333, 22.264416666666666, 22.48675, 22.225916666666667, 22.690583333333333, 22.078166666666664, 21.767, 22.0245, 22.142874999999997]\n",
            "Austria\n",
            "[5.850999999999999, 5.96075, 6.750916666666668, 5.668333333333332, 6.424583333333332, 5.49875, 6.8308333333333335, 6.868916666666668, 5.520500000000001, 6.455583333333333, 5.586666666666667, 6.0735833333333344, 6.823249999999999, 6.50075, 6.663833333333334, 5.5776666666666666, 6.809333333333334, 5.628916666666665, 6.256083333333334, 5.328916666666665, 7.414583333333333, 6.155416666666667, 6.50125, 6.587833333333333, 6.394583333333334, 6.231833333333333, 4.7235000000000005, 5.272833333333334, 5.671250000000001, 6.9055, 5.965166666666668, 6.728000000000001, 6.827416666666668, 6.7701666666666656, 6.874833333333332, 6.962833333333333, 7.035749999999999, 7.079833333333333, 6.195333333333334, 6.788916666666668, 5.704500000000002, 5.8694999999999995, 5.195000000000001, 6.694999999999999, 6.568500000000001, 6.84875, 6.527083333333334, 7.1855833333333345, 5.440999999999999, 5.650916666666666, 6.203333333333333, 5.637083333333334, 6.873416666666667, 6.838166666666667, 6.37925, 6.000333333333334, 5.934833333333334, 6.449333333333333, 6.249833333333332, 6.2135, 6.891416666666665, 6.898000000000001, 6.416083333333333, 6.916, 5.786833333333333, 6.404, 5.633583333333334, 6.503583333333332, 6.918583333333333, 7.187083333333333, 6.061833333333333, 5.923000000000001, 6.316916666666667, 6.1695, 7.082166666666667, 7.372416666666666, 7.344, 6.357916666666667, 7.615583333333334, 6.858666666666665, 8.164916666666667, 6.846499999999999, 5.86325, 7.025083333333335, 7.222750000000001, 7.234249999999999, 8.084916666666668, 7.1889166666666675, 7.91525, 7.509333333333333, 6.906083333333332, 6.609500000000001, 7.277583333333335, 7.976500000000001, 7.801916666666668, 7.616, 6.6490833333333335, 7.855583333333332, 7.611333333333334, 8.055125]\n",
            "Azerbaijan\n",
            "[11.309416666666666, 11.6755, 11.403333333333334, 11.882166666666668, 11.221333333333334, 11.447166666666668, 9.594083333333332, 10.488416666666668, 11.736000000000002, 11.462333333333333, 11.331833333333334, 11.515, 11.122416666666666, 11.191833333333333, 10.109166666666667, 10.288833333333333, 11.189083333333334, 10.408833333333334, 10.734416666666666, 10.596166666666667, 10.580333333333334, 11.532083333333333, 11.427999999999999, 11.783499999999998, 11.734416666666666, 11.638416666666664, 11.904416666666668, 11.621416666666667, 11.138250000000001, 11.062583333333334, 11.853499999999999, 10.533333333333333, 11.102500000000001, 11.899666666666667, 11.280500000000002, 10.623333333333333, 10.89133333333333, 11.330833333333336, 11.675833333333332, 11.069833333333335, 11.477500000000001, 12.425333333333336, 10.529083333333334, 11.653833333333331, 11.646916666666664, 10.511333333333335, 11.738000000000001, 12.292, 12.499666666666664, 11.787666666666667, 10.8025, 11.203083333333332, 13.20283333333333, 11.009666666666666, 11.695916666666667, 10.4565, 12.26075, 11.988583333333333, 10.639083333333334, 11.07725, 11.080916666666667, 12.009833333333333, 10.942, 11.327750000000002, 11.5005, 12.488749999999998, 11.801, 12.390666666666668, 10.934833333333332, 11.855333333333334, 11.346083333333333, 11.611083333333331, 11.872250000000001, 11.51975, 11.59025, 12.445083333333335, 11.992000000000003, 11.956000000000001, 10.721333333333334, 10.526083333333334, 11.472916666666668, 12.731583333333333, 12.202250000000001, 11.894416666666666, 12.95875, 12.851750000000003, 12.632, 13.09725, 12.432250000000002, 11.984749999999998, 12.6195, 12.687249999999999, 12.71225, 12.51483333333333, 12.365499999999999, 12.611666666666665, 13.962666666666665, 11.808666666666666, 13.08675, 14.173875]\n",
            "Bahamas\n",
            "[24.865166666666667, 24.86491666666667, 24.631583333333335, 24.528166666666667, 24.791000000000007, 25.099999999999998, 24.880000000000006, 25.038750000000004, 24.709083333333336, 24.8385, 25.461416666666665, 25.437749999999998, 25.51966666666667, 25.187250000000002, 25.012833333333337, 25.42783333333333, 25.139166666666668, 25.014, 25.294083333333333, 25.353166666666667, 24.98041666666667, 24.926416666666668, 25.279083333333332, 25.42766666666667, 25.29858333333333, 25.386666666666667, 24.905083333333334, 25.32575, 25.345000000000002, 25.038166666666665, 25.14108333333333, 25.157333333333327, 25.67883333333333, 25.56958333333333, 26.047416666666663, 25.584666666666667, 25.00016666666667, 25.07516666666667, 25.252499999999998, 25.534666666666666, 25.135583333333333, 24.938166666666664, 24.945499999999996, 25.504166666666666, 25.073333333333338, 25.65025, 25.167250000000006, 25.383750000000003, 25.089583333333337, 25.151333333333337, 25.454166666666666, 25.1865, 24.950583333333338, 25.32041666666667, 24.885, 25.21258333333334, 25.03866666666667, 25.266333333333336, 25.597250000000003, 25.347916666666674, 25.37758333333333, 25.713250000000002, 25.159333333333336, 25.34, 25.4845, 25.48108333333333, 25.50825, 25.156499999999998, 25.870333333333335, 25.52758333333333, 25.31658333333333, 25.4735, 25.665333333333336, 25.600916666666667, 25.37183333333334, 25.651666666666667, 25.992333333333335, 25.92675, 25.465499999999995, 25.54983333333333, 26.0245, 25.76866666666667, 25.38541666666667, 26.190833333333334, 26.2295, 25.622666666666664, 25.449166666666674, 25.580666666666673, 26.116250000000004, 26.180333333333333, 25.84975, 25.801666666666673, 25.715750000000003, 26.034750000000003, 25.899749999999997, 25.769166666666667, 25.229166666666668, 26.003249999999994, 25.816416666666665, 26.011666666666667]\n",
            "Bahrain\n",
            "[25.785666666666668, 26.088333333333335, 25.366500000000002, 25.64766666666667, 25.306833333333334, 25.914083333333334, 25.63358333333333, 25.608583333333332, 26.039583333333336, 25.634416666666667, 26.316666666666663, 25.629333333333335, 25.834083333333336, 25.74875, 25.80175, 25.883499999999998, 25.851, 25.83333333333334, 25.44841666666667, 25.261583333333334, 25.486666666666668, 26.11233333333333, 25.57525, 25.634416666666663, 25.843249999999998, 25.705583333333333, 26.114083333333337, 26.06075, 26.269166666666663, 25.64691666666667, 26.096750000000004, 25.74491666666667, 26.56458333333333, 26.827916666666667, 25.521666666666665, 25.39675, 25.438, 26.26341666666666, 26.158916666666666, 26.068416666666664, 26.386333333333337, 26.06516666666667, 25.694999999999997, 25.707583333333336, 26.26358333333334, 25.3005, 26.266500000000004, 25.7175, 26.492166666666673, 26.231499999999997, 25.431083333333333, 26.29416666666667, 26.599499999999995, 25.477833333333336, 25.92191666666667, 26.585916666666673, 26.334583333333338, 25.79116666666667, 25.410583333333335, 26.001166666666666, 25.92175, 25.837833333333336, 25.71483333333333, 26.550666666666668, 26.26958333333334, 26.80808333333334, 26.557333333333332, 26.582333333333338, 25.516833333333334, 25.591166666666666, 25.96141666666667, 26.202166666666667, 26.325583333333338, 26.64175, 26.628000000000004, 26.022500000000004, 26.344583333333336, 25.811916666666672, 25.177666666666667, 26.165916666666664, 26.733750000000004, 26.257416666666668, 26.827499999999997, 26.190916666666666, 27.61241666666667, 27.74241666666667, 27.07075, 27.431, 27.266416666666668, 27.370666666666665, 27.15025, 26.983166666666666, 27.22125, 27.216083333333334, 27.033083333333334, 27.310333333333336, 28.069666666666667, 27.10383333333333, 27.52933333333333, 27.925375000000003]\n",
            "Baker Island\n",
            "[25.302666666666664, 25.276333333333337, 24.508916666666668, 24.75666666666667, 24.809500000000003, 25.306249999999995, 25.1855, 25.103333333333335, 25.11216666666667, 25.118916666666667, 25.160083333333333, 24.87816666666667, 25.42741666666667, 25.478083333333334, 25.27316666666667, 25.388333333333332, 25.486500000000003, 25.693666666666658, 25.293833333333335, 25.277083333333337, 25.068749999999998, 25.208833333333335, 25.28708333333334, 25.605333333333334, 25.402666666666665, 25.396083333333326, 25.538916666666665, 26.08091666666667, 25.72575, 25.175500000000003, 25.267333333333337, 25.361833333333337, 25.931583333333336, 25.8655, 25.563999999999997, 25.55791666666667, 25.540583333333334, 25.861666666666665, 25.77058333333333, 25.8165, 25.612083333333334, 25.37941666666666, 25.293833333333335, 25.731166666666667, 25.88358333333333, 25.62066666666667, 25.83791666666667, 25.6065, 25.469083333333334, 25.495833333333337, 25.575916666666668, 25.44525, 25.76566666666667, 25.484083333333334, 25.633916666666664, 25.861583333333332, 25.732833333333335, 25.404916666666665, 25.93525, 25.980500000000006, 25.52891666666667, 25.68166666666667, 25.379333333333335, 25.547750000000004, 25.70183333333333, 25.716833333333337, 25.770333333333337, 25.739833333333333, 25.785416666666666, 26.114166666666666, 25.472916666666674, 25.66158333333334, 25.69083333333333, 26.038250000000005, 25.903166666666664, 25.630333333333336, 25.913750000000004, 25.87566666666667, 25.810333333333336, 25.73566666666667, 25.876999999999995, 25.86225, 25.726583333333334, 26.120583333333332, 26.64566666666666, 25.871166666666667, 25.912166666666668, 26.037583333333334, 26.248083333333337, 26.125583333333335, 26.07625, 26.10941666666667, 26.16025, 26.077583333333337, 25.765499999999992, 26.21041666666667, 26.205249999999996, 25.926000000000002, 26.181416666666667, 26.431749999999997]\n",
            "Bangladesh\n",
            "[24.599666666666664, 25.14675, 24.903499999999998, 24.572750000000003, 24.48, 25.00016666666667, 24.890916666666666, 24.833166666666667, 25.14325, 24.91225, 25.224333333333334, 24.47066666666667, 24.820000000000004, 24.716166666666666, 25.024083333333333, 24.755916666666664, 24.6845, 25.13791666666666, 25.154083333333336, 24.772583333333333, 24.757583333333333, 24.988583333333334, 24.857416666666666, 24.74441666666667, 25.05383333333333, 25.264083333333332, 24.973583333333334, 25.239583333333332, 25.19758333333333, 24.970083333333335, 24.970083333333335, 24.81816666666667, 25.03791666666667, 25.226916666666664, 24.969499999999996, 24.66016666666667, 25.020333333333337, 25.282166666666665, 25.159166666666668, 25.369750000000007, 25.209416666666666, 25.100166666666663, 24.99525, 25.252, 25.8075, 24.988916666666668, 25.48425, 25.06975, 25.032916666666665, 25.105583333333332, 25.304583333333337, 25.0385, 25.484333333333336, 24.99241666666667, 24.9405, 25.254333333333335, 25.186583333333335, 24.635166666666667, 25.143833333333333, 25.265583333333336, 25.0395, 25.14391666666667, 25.20216666666667, 25.046583333333334, 25.038999999999998, 25.71108333333333, 25.340666666666667, 24.95183333333333, 25.144083333333327, 25.06983333333333, 25.065416666666664, 25.421416666666662, 25.294249999999995, 25.642416666666666, 25.709666666666664, 25.30475, 25.28175, 25.135166666666667, 25.122249999999998, 25.00316666666667, 25.26166666666666, 25.415833333333335, 25.440250000000002, 24.85925, 25.52416666666667, 25.71483333333333, 25.150166666666667, 25.337, 25.38033333333334, 25.280833333333334, 25.38633333333333, 25.532, 25.76566666666667, 25.34375, 25.3895, 25.904916666666665, 25.94033333333333, 25.205083333333334, 25.533583333333336, 25.9675]\n",
            "Barbados\n",
            "[26.308499999999995, 26.560583333333337, 26.123416666666667, 25.812166666666666, 25.99383333333333, 26.423666666666673, 26.040750000000003, 26.079916666666673, 26.041916666666665, 26.13008333333333, 26.51091666666667, 26.128749999999997, 26.635500000000004, 26.496749999999995, 26.502666666666666, 26.344750000000005, 26.480083333333337, 26.85366666666667, 26.66716666666667, 26.31741666666667, 26.303583333333332, 26.135999999999996, 26.304583333333337, 26.55, 26.27491666666667, 26.38858333333334, 26.902583333333336, 27.058333333333337, 26.883583333333334, 26.41125, 26.53991666666667, 26.334666666666664, 26.419583333333335, 26.629166666666663, 26.511083333333335, 26.325416666666666, 26.181250000000002, 26.589833333333342, 26.930750000000003, 26.8225, 26.51566666666667, 26.58108333333333, 26.477166666666673, 26.530083333333334, 27.07841666666667, 26.8295, 26.926416666666668, 26.809, 26.849, 26.96141666666667, 26.673333333333332, 26.636750000000003, 26.729, 26.481749999999995, 26.50191666666667, 27.10741666666667, 26.76991666666667, 26.44491666666667, 26.6925, 26.793250000000004, 26.465000000000003, 26.37325, 26.287333333333333, 26.757333333333335, 26.918833333333335, 26.84416666666667, 27.14725, 27.112250000000007, 26.8155, 26.983333333333334, 26.625416666666666, 26.552583333333335, 26.659583333333334, 27.33516666666667, 27.013916666666663, 26.752166666666668, 26.943166666666666, 26.893166666666662, 26.90466666666666, 27.056833333333334, 26.96008333333333, 27.326000000000004, 27.01825, 27.23933333333333, 27.625083333333336, 27.140833333333333, 26.902083333333337, 27.221833333333333, 27.26608333333333, 27.440083333333337, 27.22541666666667, 27.67716666666667, 27.50225, 27.36641666666667, 27.003833333333333, 27.320333333333334, 27.84466666666667, 27.39525, 27.346666666666668, 27.251125000000002]\n",
            "Belarus\n",
            "[6.432833333333334, 5.330083333333334, 6.118416666666666, 5.024583333333333, 6.188, 5.040416666666666, 6.400666666666667, 6.211416666666666, 5.013750000000001, 5.753499999999999, 5.233666666666667, 6.819333333333333, 5.9057499999999985, 5.494583333333334, 5.266916666666666, 4.637666666666667, 6.562999999999999, 5.0235, 6.530166666666669, 4.512833333333333, 7.469, 5.960916666666666, 7.033666666666666, 6.726833333333334, 7.197, 6.8548333333333344, 4.134999999999999, 3.789583333333333, 3.7781666666666673, 6.405999999999999, 6.478583333333332, 5.428583333333335, 6.084416666666665, 5.499416666666666, 6.665000000000002, 7.164583333333333, 6.231916666666667, 6.355999999999998, 5.658333333333332, 6.0594166666666665, 5.654083333333333, 5.8250833333333345, 4.4325833333333335, 6.868499999999998, 6.001333333333335, 6.546500000000001, 6.464583333333334, 7.032416666666666, 5.814833333333333, 5.172999999999999, 5.8035000000000005, 4.955500000000001, 6.612666666666665, 6.682166666666666, 5.678750000000002, 4.566916666666667, 5.764083333333333, 6.383749999999999, 6.758083333333334, 6.164416666666667, 6.793749999999999, 7.869, 4.846749999999999, 6.040416666666665, 5.150916666666666, 5.870250000000001, 4.997166666666667, 6.591999999999999, 6.62125, 7.448499999999999, 6.294249999999999, 4.705749999999999, 5.952750000000001, 4.341666666666667, 6.417416666666667, 8.116166666666667, 7.757416666666667, 6.895416666666666, 7.132000000000001, 6.013833333333333, 6.735916666666665, 7.021249999999999, 5.656583333333333, 6.34375, 6.528333333333333, 7.712750000000001, 7.909833333333334, 7.092250000000001, 7.7019166666666665, 6.724916666666665, 6.905833333333334, 6.968083333333333, 6.992083333333333, 7.928166666666667, 8.13075, 7.196416666666668, 7.037250000000001, 7.5885, 6.835166666666667, 8.2665]\n",
            "Belgium\n",
            "[9.716916666666666, 9.267333333333333, 9.598749999999999, 8.5255, 9.720666666666666, 8.617666666666667, 9.8345, 10.496166666666667, 8.704500000000001, 9.39275, 9.068166666666666, 9.37225, 9.945500000000001, 9.410333333333334, 9.881999999999998, 9.001750000000001, 10.0985, 9.041416666666667, 9.626999999999999, 9.311416666666668, 10.445833333333335, 9.847833333333332, 9.670000000000002, 9.965666666666667, 9.956416666666668, 9.810083333333333, 8.521166666666666, 8.975499999999998, 8.922083333333335, 10.228083333333332, 9.547999999999998, 10.365333333333334, 9.543166666666664, 10.122166666666667, 10.238666666666665, 10.454583333333334, 9.829166666666667, 9.915083333333333, 9.495083333333332, 10.102333333333334, 9.273583333333335, 9.211166666666665, 8.518416666666665, 10.114749999999999, 9.709333333333333, 10.694083333333333, 9.98875, 10.435833333333333, 8.541500000000001, 8.259666666666666, 9.594166666666668, 9.040416666666665, 9.901583333333335, 10.056583333333332, 9.412333333333333, 9.5505, 9.499, 9.831166666666666, 9.333333333333334, 9.758833333333332, 10.072916666666668, 10.071916666666668, 10.368, 9.961083333333333, 9.23225, 9.058583333333333, 9.297333333333334, 9.627083333333333, 10.33, 10.294500000000001, 9.6495, 8.795499999999999, 9.264000000000001, 9.0685, 10.457, 10.921166666666666, 10.935333333333334, 9.709166666666667, 10.48925, 9.925833333333333, 10.996749999999999, 10.696750000000002, 8.893166666666668, 10.472416666666666, 10.369166666666667, 10.93425, 11.03425, 10.543333333333335, 11.035750000000002, 10.87025, 10.452583333333331, 10.727833333333335, 11.09525, 11.1455, 10.504916666666666, 10.628499999999999, 9.361749999999999, 11.305333333333335, 10.351833333333333, 10.060125]\n",
            "Belize\n",
            "[24.814833333333336, 25.192499999999995, 24.722000000000005, 24.536416666666664, 25.079500000000007, 25.18225, 24.88483333333333, 25.08641666666667, 25.260749999999998, 25.172916666666666, 25.24441666666667, 25.12691666666667, 25.06641666666667, 25.032416666666663, 24.954499999999996, 25.040916666666664, 25.25158333333333, 25.041333333333338, 25.452166666666667, 25.52683333333333, 25.418333333333337, 25.212333333333333, 25.19741666666667, 25.19875, 24.864166666666666, 25.075916666666668, 24.920666666666666, 25.532750000000004, 25.131083333333336, 24.961249999999996, 25.175416666666667, 25.397583333333333, 25.737416666666665, 25.950333333333333, 25.593666666666667, 25.221, 24.782999999999998, 25.34358333333334, 25.433750000000003, 25.67141666666667, 24.928833333333333, 25.09341666666667, 24.858666666666668, 25.383416666666665, 25.486833333333333, 25.509416666666667, 25.351583333333338, 25.49175, 25.038749999999997, 25.101083333333325, 25.496, 25.3075, 25.013333333333332, 25.28141666666666, 25.0455, 25.617666666666665, 25.140833333333337, 25.25491666666667, 25.504166666666666, 25.545916666666667, 25.101666666666663, 25.494500000000002, 24.829416666666663, 25.207833333333337, 25.351166666666668, 25.493333333333336, 25.672916666666662, 25.26833333333333, 25.682500000000005, 25.871166666666667, 25.253083333333333, 25.333833333333335, 25.38233333333333, 25.461583333333337, 25.506249999999998, 25.314916666666665, 25.550333333333338, 25.86333333333333, 25.647916666666664, 25.603083333333334, 25.908916666666666, 26.00475, 25.4505, 26.08825, 26.22816666666667, 25.36666666666666, 25.284999999999997, 25.52391666666667, 25.787333333333336, 25.865333333333336, 25.744083333333332, 25.919, 25.7085, 25.85875, 25.524666666666672, 25.907749999999997, 25.50233333333333, 25.84275, 25.73441666666667, 26.21333333333333]\n",
            "Benin\n",
            "[27.524333333333335, 27.349666666666668, 26.98275, 27.58916666666667, 27.080416666666665, 27.367666666666675, 27.0745, 27.321666666666662, 27.328666666666674, 27.311000000000007, 27.453833333333336, 27.146916666666666, 27.68241666666667, 27.27725, 27.265666666666664, 26.988333333333333, 27.597333333333335, 27.705416666666668, 27.220083333333335, 27.51058333333334, 27.36108333333333, 27.412499999999998, 27.299750000000003, 27.645416666666666, 27.644416666666668, 27.02808333333334, 27.613, 28.034750000000003, 27.724666666666668, 27.21808333333333, 27.583499999999997, 27.496666666666666, 27.265000000000004, 27.6365, 27.098583333333334, 27.636166666666668, 27.16175, 27.41775, 27.271666666666665, 27.186166666666665, 26.949666666666673, 26.867083333333337, 26.95041666666667, 27.087833333333332, 27.350583333333336, 27.30716666666667, 27.203999999999997, 26.944083333333335, 27.028499999999998, 27.398750000000003, 27.046333333333337, 27.046666666666667, 27.243499999999997, 26.976083333333335, 27.175666666666668, 27.574083333333338, 27.524916666666666, 27.158833333333337, 27.361333333333338, 27.887250000000005, 27.099333333333334, 26.950750000000003, 26.961000000000002, 27.461750000000006, 27.24383333333333, 27.560666666666673, 27.564333333333327, 27.463333333333335, 27.295499999999993, 27.72975, 27.545500000000004, 27.504250000000003, 27.345916666666668, 28.207583333333332, 27.592333333333332, 27.160416666666666, 27.793833333333335, 27.380916666666664, 27.230583333333332, 27.597916666666663, 27.335583333333332, 27.616166666666672, 27.703916666666668, 27.542, 28.088583333333336, 27.680416666666662, 27.63766666666666, 27.67583333333333, 27.819500000000005, 27.964583333333334, 27.872, 28.153333333333332, 28.144333333333336, 28.0705, 27.690916666666666, 28.15608333333333, 28.325583333333338, 28.06116666666667, 27.751833333333337, 28.160624999999996]\n",
            "Bhutan\n",
            "[11.590583333333333, 12.203666666666665, 11.871000000000002, 11.56, 11.510833333333332, 11.9975, 11.806416666666665, 11.760250000000001, 12.136166666666666, 11.858666666666666, 12.08, 11.29875, 11.709250000000003, 11.543333333333335, 12.055916666666667, 11.64875, 11.652749999999997, 12.062333333333335, 11.975166666666667, 11.83191666666667, 11.683833333333332, 11.836500000000001, 11.787833333333332, 11.916083333333333, 12.019833333333331, 12.15675, 11.932750000000004, 12.196416666666666, 12.229666666666665, 11.926083333333331, 11.975583333333333, 11.90125, 12.276833333333329, 12.261166666666663, 11.822249999999997, 11.776166666666663, 11.96641666666667, 12.278666666666668, 12.196666666666665, 12.240166666666667, 12.28025, 12.015166666666664, 12.066583333333334, 12.026750000000002, 12.62, 12.108500000000001, 12.42525, 12.00925, 11.834000000000001, 11.748249999999999, 12.237416666666666, 11.61125, 12.250333333333332, 11.717916666666666, 11.634333333333332, 12.289916666666665, 12.107166666666666, 11.768416666666667, 12.121249999999998, 12.380333333333333, 12.194416666666664, 12.248249999999999, 12.259333333333332, 12.004750000000001, 11.875166666666667, 12.443416666666666, 12.231583333333335, 12.058750000000002, 12.045000000000002, 11.73975, 12.296333333333335, 12.404333333333334, 11.993666666666664, 12.320500000000001, 12.656166666666666, 12.250333333333336, 12.205583333333331, 11.994666666666667, 11.826833333333335, 12.08775, 12.299666666666665, 12.428416666666665, 12.374666666666668, 11.57883333333333, 12.589833333333331, 12.814916666666663, 11.998416666666666, 12.425749999999999, 12.180333333333335, 12.232583333333336, 12.208083333333335, 12.445916666666667, 12.854, 12.6995, 12.456333333333333, 13.114749999999999, 12.947250000000002, 12.400250000000002, 12.27975, 13.331374999999998]\n",
            "Bolivia\n",
            "[21.224833333333333, 21.62991666666667, 20.60266666666667, 19.86091666666667, 20.461166666666667, 21.035666666666668, 20.52416666666667, 20.48416666666667, 20.489583333333336, 20.459833333333336, 20.717583333333334, 20.91975, 21.384666666666664, 20.84175, 21.04866666666667, 20.82341666666667, 21.13025, 20.795666666666666, 20.82125, 20.804750000000002, 20.716416666666664, 20.995499999999996, 21.363500000000002, 21.328833333333332, 20.97158333333333, 21.009416666666663, 21.378749999999997, 21.35941666666667, 20.79366666666667, 20.677250000000004, 21.115083333333335, 21.144166666666667, 21.22225, 20.745083333333334, 20.994833333333336, 20.77791666666667, 20.845166666666668, 20.93133333333333, 20.8065, 21.2775, 20.912416666666665, 20.765416666666667, 20.275833333333335, 20.851333333333333, 21.033583333333336, 21.109083333333334, 20.594500000000004, 21.368000000000006, 20.797333333333334, 21.510916666666663, 20.837083333333336, 21.23275, 21.206333333333333, 21.45808333333333, 21.131583333333335, 21.754166666666666, 21.51625, 20.73966666666667, 21.3355, 21.314083333333333, 20.789416666666668, 21.04225, 20.828916666666668, 21.246666666666666, 21.284750000000003, 21.03916666666667, 21.034083333333335, 20.978, 21.300083333333333, 21.571666666666662, 21.291833333333333, 21.483166666666666, 21.482583333333334, 21.87291666666667, 21.46683333333333, 21.156916666666667, 21.326083333333333, 21.75408333333333, 21.205916666666667, 21.52491666666667, 21.984750000000002, 21.730583333333332, 21.05366666666667, 21.611333333333334, 21.467333333333332, 21.03175, 21.077166666666667, 21.234083333333334, 21.60575, 21.26275, 21.571, 21.371750000000002, 21.470000000000002, 21.12933333333333, 21.189000000000004, 21.37833333333333, 21.446416666666664, 21.55541666666667, 21.607166666666668, 20.640874999999998]\n",
            "Bonaire, Saint Eustatius And Saba\n",
            "[27.014916666666668, 27.445999999999998, 26.815249999999995, 26.38875, 26.618416666666672, 27.108083333333337, 26.868583333333337, 26.667083333333334, 26.81616666666667, 26.824999999999992, 27.13166666666667, 26.918250000000004, 27.515249999999998, 27.131, 27.248666666666665, 27.012249999999998, 26.990749999999995, 27.497916666666665, 27.338416666666664, 26.93575, 27.224249999999998, 26.912166666666668, 27.0795, 27.29041666666667, 26.78183333333334, 27.006333333333334, 27.72608333333333, 27.835333333333327, 27.82558333333333, 27.221083333333336, 27.351499999999998, 27.048833333333334, 26.876, 27.429583333333337, 27.378083333333333, 27.081916666666668, 26.759333333333334, 27.406666666666666, 27.71341666666667, 27.635833333333334, 27.254916666666663, 27.085916666666666, 27.129166666666666, 27.348333333333333, 28.035500000000003, 27.511, 27.659916666666664, 27.386666666666667, 27.465833333333336, 27.572333333333333, 27.416666666666668, 27.230416666666667, 27.514833333333332, 27.18575, 27.343416666666666, 27.865000000000006, 27.590083333333336, 27.08375, 27.510416666666668, 27.608833333333333, 27.018083333333333, 27.172916666666662, 27.030250000000006, 27.693750000000005, 27.645083333333336, 27.711499999999997, 27.84841666666667, 27.803833333333333, 27.460833333333337, 27.884916666666665, 27.402250000000006, 27.147833333333327, 27.362416666666665, 28.209500000000002, 27.58175, 27.38258333333334, 27.651750000000003, 27.524166666666673, 27.706, 27.762999999999995, 27.694499999999994, 27.9905, 27.737500000000008, 27.86966666666667, 28.281499999999998, 27.534916666666664, 27.412166666666668, 27.88116666666667, 28.074583333333337, 28.111666666666668, 27.69125, 28.085333333333335, 28.08016666666667, 28.13575, 27.78033333333333, 28.139166666666668, 28.370583333333332, 27.8515, 27.996416666666665, 27.919624999999996]\n",
            "Bosnia And Herzegovina\n",
            "[9.608666666666666, 10.300666666666666, 11.232333333333335, 10.155416666666666, 10.388916666666667, 9.911583333333335, 10.7665, 10.528166666666666, 9.971166666666667, 11.130250000000002, 9.960500000000001, 10.403333333333334, 11.103499999999999, 11.369666666666667, 10.907000000000002, 9.730916666666667, 11.26783333333333, 10.31475, 10.136333333333333, 9.616249999999999, 11.430583333333336, 10.496749999999999, 11.000583333333333, 11.022416666666667, 10.292666666666666, 10.828000000000001, 8.9325, 9.602666666666668, 9.961916666666669, 11.18875, 10.250583333333333, 10.879166666666668, 11.301166666666669, 11.10125, 10.801500000000003, 10.65075, 11.704000000000002, 11.706083333333334, 11.240666666666668, 10.666500000000001, 9.949250000000001, 10.585333333333333, 9.545916666666667, 10.811333333333332, 11.03, 10.53175, 11.061333333333332, 11.250333333333332, 10.135583333333335, 10.319083333333333, 10.151083333333334, 10.118083333333335, 11.017916666666666, 10.647166666666669, 10.66666666666667, 10.170083333333334, 10.405500000000002, 10.4445, 10.642833333333334, 10.280166666666668, 10.670833333333334, 10.86175, 9.900916666666667, 11.031750000000002, 9.909416666666667, 10.908916666666668, 9.789666666666667, 10.439833333333334, 11.009666666666668, 10.84375, 10.262833333333335, 10.336916666666665, 10.63775, 10.61575, 10.977083333333333, 11.03025, 11.564249999999996, 10.347249999999997, 11.444416666666667, 10.959666666666665, 12.079083333333335, 10.7585, 10.252, 10.7885, 11.104583333333332, 11.376416666666666, 12.148083333333334, 11.380666666666668, 11.858333333333334, 11.495166666666664, 10.998333333333333, 10.302083333333334, 11.07125, 12.001750000000001, 12.056666666666667, 11.860666666666667, 11.271416666666667, 11.73975, 12.028999999999998, 12.8795]\n",
            "Botswana\n",
            "[22.170833333333334, 21.740999999999996, 21.889749999999996, 21.538666666666668, 21.170749999999998, 21.718833333333336, 21.943916666666667, 21.580666666666662, 22.451249999999998, 22.032749999999997, 21.750583333333335, 21.41133333333333, 21.977333333333338, 21.898833333333332, 21.943583333333336, 22.284499999999998, 21.62816666666667, 22.028000000000002, 21.774083333333333, 22.036583333333336, 21.899083333333333, 21.470833333333335, 21.58341666666667, 21.513333333333335, 21.998833333333334, 21.28191666666667, 22.063000000000002, 22.511416666666666, 22.36733333333333, 21.858249999999998, 21.9385, 21.814166666666665, 22.118416666666665, 22.435333333333332, 21.757166666666667, 22.274, 22.124166666666667, 21.784583333333334, 22.471416666666666, 21.620333333333335, 21.814333333333334, 21.437583333333336, 21.848, 22.46333333333334, 22.119333333333334, 22.262416666666667, 22.15133333333333, 22.157250000000005, 22.222416666666664, 21.493250000000003, 22.027833333333334, 22.24208333333333, 22.409916666666664, 21.632500000000004, 21.930000000000003, 22.31208333333333, 22.855833333333333, 22.080916666666667, 22.05816666666667, 22.373, 21.223666666666663, 21.67025, 21.14425, 22.063916666666668, 21.693833333333334, 22.365750000000002, 21.845916666666668, 21.605666666666664, 22.48783333333333, 22.964416666666665, 22.52591666666667, 22.27266666666667, 22.308333333333334, 23.144333333333332, 22.25316666666667, 22.104166666666668, 22.944833333333335, 22.05966666666667, 23.290833333333335, 22.68075, 22.379166666666666, 23.213833333333337, 22.19966666666667, 22.33683333333333, 23.070583333333335, 22.977999999999998, 21.872333333333334, 22.3505, 22.98566666666667, 23.395166666666668, 22.346083333333336, 23.36883333333334, 21.804000000000002, 22.400499999999997, 22.311166666666665, 22.139750000000003, 22.730166666666662, 21.955083333333334, 22.40008333333333, 21.82575]\n",
            "Brazil\n",
            "[24.89925, 25.118583333333337, 24.442999999999998, 23.797500000000003, 24.309500000000003, 24.836750000000006, 24.40991666666667, 24.27625, 24.500333333333334, 24.357999999999993, 24.4315, 24.537666666666667, 25.008583333333334, 24.70183333333333, 24.938916666666668, 24.644333333333336, 24.843833333333336, 24.79625, 24.97266666666667, 24.6125, 24.648583333333338, 24.853083333333334, 25.061083333333332, 25.050250000000005, 24.874083333333342, 24.929916666666667, 25.114, 25.196250000000003, 24.879083333333337, 24.55841666666667, 24.904583333333335, 24.724416666666666, 24.97366666666667, 24.695750000000004, 24.853416666666664, 24.616833333333332, 24.639, 24.79733333333333, 24.851666666666663, 24.995583333333332, 24.967000000000002, 24.765500000000003, 24.47966666666667, 24.801916666666667, 25.268083333333337, 25.157250000000005, 24.752666666666666, 25.146416666666664, 24.84233333333333, 25.171583333333334, 24.734083333333334, 24.983833333333337, 25.086416666666665, 25.01366666666667, 24.631249999999998, 25.282750000000004, 25.191083333333335, 24.608500000000003, 25.097333333333335, 25.169583333333332, 24.581500000000002, 24.676750000000002, 24.719000000000005, 25.132333333333335, 24.9275, 24.944333333333333, 25.148, 24.983416666666667, 25.23033333333333, 25.350750000000005, 25.109916666666667, 24.965666666666667, 25.131, 25.563416666666665, 25.177333333333333, 24.871416666666665, 25.27491666666667, 25.29216666666667, 25.251333333333335, 25.354916666666668, 25.454666666666668, 25.55441666666667, 25.337833333333332, 25.559416666666667, 25.95875, 25.286583333333336, 25.1965, 25.50441666666667, 25.80033333333333, 25.621000000000006, 25.4965, 25.806, 25.516999999999996, 25.668000000000003, 25.41033333333333, 25.600583333333333, 25.812416666666667, 25.428916666666662, 25.717083333333335, 25.348125]\n",
            "British Virgin Islands\n",
            "[26.103749999999994, 26.392916666666668, 25.9275, 25.76858333333333, 26.04675, 26.304916666666667, 26.26233333333333, 26.093416666666666, 25.901083333333343, 26.043333333333337, 26.232, 26.071416666666668, 26.578083333333336, 26.27508333333334, 26.422833333333333, 26.14641666666667, 26.41475, 26.67375, 26.448833333333337, 26.131249999999998, 26.10675, 26.130750000000003, 26.313833333333335, 26.44416666666666, 26.006583333333335, 26.285500000000003, 26.557249999999993, 26.859166666666667, 26.76725, 26.24833333333333, 26.27825, 26.13291666666667, 26.32783333333333, 26.594000000000005, 26.615333333333336, 26.17016666666667, 25.99733333333333, 26.43258333333333, 26.60908333333333, 26.72491666666666, 26.316666666666666, 26.384, 26.28141666666667, 26.626583333333333, 26.96875, 26.8595, 26.917083333333334, 26.67483333333333, 26.583166666666667, 26.80241666666667, 26.679750000000002, 26.303333333333338, 26.439833333333336, 26.230000000000004, 26.323333333333334, 26.77525, 26.606583333333337, 26.292166666666663, 26.40125, 26.733583333333332, 26.171666666666663, 26.247500000000002, 26.15183333333333, 26.730833333333326, 26.717583333333327, 26.549333333333337, 26.990000000000006, 26.90325, 26.553833333333333, 26.958166666666667, 26.599333333333334, 26.593833333333333, 26.6095, 27.14358333333333, 26.828499999999995, 26.560416666666665, 26.821666666666662, 26.777583333333336, 26.776416666666666, 26.930499999999995, 27.040750000000003, 27.228916666666667, 26.743583333333337, 27.114666666666665, 27.45233333333334, 26.998250000000002, 26.73058333333334, 27.133166666666668, 27.297833333333333, 27.376583333333333, 27.029250000000005, 27.424666666666667, 27.37483333333334, 27.47, 26.924000000000003, 27.2385, 27.593666666666664, 27.159250000000004, 27.360166666666668, 27.31233333333333]\n",
            "Bulgaria\n",
            "[9.790333333333331, 10.812166666666664, 11.580083333333333, 10.688666666666668, 11.050166666666668, 10.471583333333335, 10.083083333333335, 10.34025, 10.478916666666667, 11.572499999999998, 10.243333333333334, 10.907749999999998, 11.098833333333333, 11.27425, 10.337416666666666, 9.753833333333334, 11.19225, 10.287916666666666, 10.430166666666667, 9.338, 11.374749999999999, 10.688666666666668, 11.285416666666668, 11.35575, 10.773333333333333, 11.071583333333331, 9.446000000000002, 9.913166666666667, 9.691, 10.482916666666668, 10.321833333333332, 10.519333333333334, 11.200833333333335, 10.97183333333333, 10.386249999999999, 10.300416666666667, 11.464750000000002, 11.485500000000002, 11.518500000000001, 10.334000000000001, 10.111916666666668, 10.878916666666667, 9.719583333333333, 10.924833333333334, 11.360749999999998, 10.149666666666668, 11.248083333333335, 11.140916666666667, 11.052166666666666, 10.57175, 10.332083333333335, 10.278916666666667, 11.668, 10.667833333333334, 11.008249999999999, 10.3645, 10.934583333333336, 10.562833333333336, 10.697250000000002, 10.263333333333334, 10.5875, 11.024833333333333, 9.8835, 11.049999999999999, 10.255833333333333, 11.011416666666667, 10.03725, 10.755083333333333, 10.613999999999999, 10.8185, 10.746333333333332, 10.270583333333333, 10.697833333333335, 10.421833333333334, 10.758583333333332, 11.101916666666666, 11.597666666666667, 10.180666666666665, 11.021749999999999, 10.713416666666667, 12.200416666666664, 10.809666666666667, 10.4285, 10.225333333333333, 11.098916666666666, 11.7885, 11.906833333333333, 11.623833333333332, 11.680333333333332, 10.953000000000001, 11.241666666666667, 10.781583333333336, 11.117583333333334, 12.314000000000002, 11.98775, 11.894, 11.766333333333334, 11.047833333333331, 12.027583333333332, 13.411874999999998]\n",
            "Burkina Faso\n",
            "[28.410750000000004, 28.248166666666673, 27.752583333333334, 28.045333333333335, 27.875000000000004, 28.30916666666667, 28.106666666666666, 28.120499999999996, 28.226749999999996, 28.113333333333333, 28.281750000000002, 28.29416666666667, 28.538999999999998, 27.84975, 28.016999999999996, 28.08916666666666, 28.378749999999997, 28.65716666666667, 28.37549999999999, 28.180749999999993, 28.00550000000001, 28.144000000000002, 27.983500000000003, 28.61233333333333, 28.53216666666667, 28.0975, 28.6155, 28.771916666666666, 28.467416666666665, 28.060249999999996, 28.551916666666667, 28.134916666666665, 28.084833333333336, 28.715249999999997, 28.110166666666668, 28.59675, 27.77175, 28.24716666666667, 27.98, 27.999916666666664, 27.908000000000005, 27.81941666666667, 27.97758333333334, 27.95008333333334, 28.49208333333333, 28.38058333333333, 28.132083333333338, 27.8175, 27.974750000000004, 28.361000000000004, 28.02383333333334, 27.891750000000002, 28.203000000000003, 27.91841666666667, 28.122916666666665, 28.732583333333334, 28.50091666666667, 28.228499999999997, 28.332583333333332, 28.820166666666676, 28.016166666666667, 27.903166666666667, 27.77083333333333, 28.34958333333333, 28.445666666666664, 28.48233333333334, 28.766833333333338, 28.4055, 28.09283333333333, 28.715083333333336, 28.62866666666667, 28.436833333333336, 28.29783333333334, 29.16383333333334, 28.43575, 28.19825, 28.80633333333333, 28.459416666666666, 28.132, 28.621083333333335, 28.039333333333342, 28.469583333333333, 28.73908333333333, 28.569166666666664, 28.99291666666667, 28.451166666666662, 28.591416666666664, 28.732166666666668, 28.978166666666667, 28.8835, 28.989166666666662, 29.238333333333326, 28.92025, 28.983249999999998, 28.48958333333334, 29.082999999999995, 29.288750000000007, 29.060666666666663, 28.63, 29.3855]\n",
            "Burma\n",
            "[23.453999999999997, 23.86566666666667, 23.595333333333333, 23.359416666666664, 23.28858333333334, 24.013833333333334, 23.8025, 23.682333333333336, 23.96483333333333, 23.81008333333334, 24.00375, 23.384083333333333, 23.880416666666665, 23.537333333333333, 23.84633333333333, 23.711250000000003, 23.655500000000004, 24.19183333333333, 23.871749999999995, 23.832000000000004, 23.612083333333334, 23.841833333333337, 23.631916666666672, 23.879499999999997, 23.844333333333335, 23.859750000000002, 23.686916666666665, 24.071, 24.181083333333337, 23.840333333333334, 24.01658333333334, 23.89016666666667, 24.18291666666667, 24.192416666666674, 23.674750000000003, 23.705500000000004, 23.812083333333334, 23.93116666666667, 24.096833333333333, 24.208750000000006, 24.092583333333337, 23.733500000000003, 23.764333333333337, 24.044833333333333, 24.223333333333333, 23.956500000000005, 24.383083333333335, 24.017916666666665, 23.953166666666664, 23.857833333333332, 24.054000000000002, 23.837000000000003, 24.395500000000002, 23.807166666666664, 23.860249999999997, 24.135499999999997, 23.986083333333337, 23.515083333333333, 24.124166666666667, 24.131583333333335, 23.854499999999998, 23.96808333333333, 23.767166666666668, 23.877166666666668, 24.03766666666667, 24.515666666666664, 24.319666666666663, 24.078000000000003, 23.93041666666667, 23.975583333333333, 24.051083333333327, 23.986500000000003, 24.01841666666667, 24.351249999999997, 24.373333333333335, 24.082916666666666, 24.062583333333336, 24.14375, 23.636999999999997, 23.856916666666667, 24.14333333333333, 24.255250000000004, 24.108333333333334, 23.870583333333332, 24.78125, 24.380166666666668, 23.93083333333334, 24.327250000000003, 24.29241666666667, 24.288083333333333, 24.108249999999998, 24.581083333333336, 24.432166666666664, 24.159666666666666, 24.175916666666666, 24.701333333333334, 24.858666666666668, 24.109333333333336, 24.73441666666667, 25.252875000000003]\n",
            "Burundi\n",
            "[19.962416666666666, 20.036833333333337, 19.693749999999998, 19.517333333333333, 19.68025, 19.88475, 19.795499999999997, 20.111916666666662, 19.620749999999997, 19.57166666666667, 20.122, 19.84325, 19.93841666666667, 20.19741666666667, 20.205166666666667, 19.972833333333337, 19.869416666666666, 20.35366666666667, 20.02191666666667, 19.961583333333333, 19.998500000000003, 20.167083333333334, 20.172416666666667, 19.864833333333337, 20.05633333333333, 20.012916666666666, 20.24191666666667, 20.645999999999997, 20.110333333333333, 20.103250000000003, 20.19666666666667, 20.038083333333333, 20.156499999999998, 19.990666666666666, 20.07391666666667, 20.453166666666664, 20.042999999999996, 19.903583333333334, 20.27916666666667, 20.188083333333335, 20.060499999999998, 19.961666666666666, 19.71775, 20.104333333333333, 20.384666666666664, 20.154, 20.02483333333333, 20.1335, 19.813166666666664, 19.778333333333332, 19.995833333333334, 20.07575, 20.117166666666666, 19.938416666666665, 19.925500000000003, 20.36341666666667, 20.054916666666667, 19.65908333333333, 20.260166666666667, 20.334416666666666, 19.939999999999998, 19.927999999999997, 20.092, 20.419416666666667, 20.314000000000004, 20.376250000000002, 20.577, 20.411250000000003, 20.370333333333335, 20.84575, 20.309416666666667, 20.27958333333334, 20.389583333333338, 20.96975, 20.638833333333334, 20.010916666666667, 20.409333333333336, 20.238333333333333, 20.568249999999995, 20.483333333333334, 20.538999999999998, 20.824333333333332, 20.395750000000003, 20.78425, 20.8135, 20.313999999999997, 20.595833333333335, 20.510333333333335, 20.74983333333333, 20.93133333333333, 20.960416666666667, 21.442166666666665, 21.066333333333333, 20.580916666666667, 20.567916666666665, 20.76425, 21.06875, 20.545916666666667, 20.75425, 20.86275]\n",
            "Côte D'Ivoire\n",
            "[26.115666666666666, 26.130333333333336, 25.852666666666664, 25.920583333333337, 25.754916666666663, 26.05416666666667, 26.112666666666666, 26.063833333333335, 25.960416666666664, 25.71841666666666, 25.964583333333334, 25.94241666666667, 26.368750000000002, 26.03225, 25.835333333333338, 26.074333333333332, 26.16291666666667, 26.128666666666664, 25.69183333333333, 26.119416666666666, 26.136416666666666, 25.919416666666667, 25.773833333333332, 26.28816666666667, 26.22825, 25.852833333333336, 26.46825, 26.535250000000005, 26.03591666666667, 25.892500000000002, 26.308999999999997, 26.1765, 26.0145, 26.338750000000005, 25.951666666666664, 26.175833333333333, 25.881249999999998, 26.057500000000005, 26.03341666666667, 26.08458333333333, 25.84075, 25.823333333333334, 25.76925, 26.032583333333335, 26.133416666666665, 26.191416666666665, 26.143, 26.067583333333335, 26.009416666666667, 26.29908333333334, 25.87075, 25.862583333333337, 26.187166666666666, 25.8055, 26.05891666666666, 26.420416666666668, 26.317916666666672, 25.867999999999995, 26.143083333333333, 26.578000000000003, 25.945416666666674, 25.846416666666666, 25.675750000000004, 26.284333333333333, 26.133749999999996, 26.414083333333334, 26.327749999999998, 26.34175, 26.02425, 26.601250000000004, 26.360166666666668, 26.141000000000005, 26.12183333333333, 27.002416666666672, 26.494333333333334, 26.39333333333333, 26.498499999999996, 26.334666666666667, 26.177250000000004, 26.32283333333333, 26.24825, 26.4645, 26.423333333333336, 26.46083333333333, 27.04066666666667, 26.414583333333336, 26.40233333333333, 26.673333333333336, 26.769666666666666, 26.939333333333334, 26.828583333333338, 26.91491666666667, 26.791500000000003, 26.944583333333338, 26.758250000000004, 26.93433333333333, 27.14658333333333, 26.837249999999997, 26.55241666666667, 27.061124999999997]\n",
            "Cambodia\n",
            "[26.806083333333333, 26.814416666666663, 26.07708333333333, 26.048750000000002, 26.21258333333333, 26.86816666666667, 26.586416666666665, 26.316666666666666, 26.575, 26.453749999999996, 26.563166666666664, 26.343666666666667, 26.844583333333333, 26.52241666666666, 26.425250000000002, 26.337083333333336, 26.51875, 26.98133333333334, 26.54525, 26.668333333333333, 26.396333333333335, 27.097250000000003, 26.838749999999994, 27.083166666666667, 26.685916666666667, 26.58775, 26.97216666666667, 27.594499999999996, 26.872583333333328, 26.361499999999996, 26.87766666666667, 26.66725, 27.202083333333334, 27.07641666666667, 26.769666666666666, 26.98391666666667, 26.789249999999996, 26.83566666666667, 26.915333333333336, 27.100583333333336, 26.943749999999994, 26.67166666666667, 26.524166666666662, 26.970583333333334, 27.206416666666666, 27.304333333333336, 27.172416666666667, 26.9765, 26.69933333333333, 26.6825, 27.01416666666667, 26.92125, 27.38008333333333, 26.654750000000003, 27.008916666666668, 27.265416666666667, 27.008583333333334, 26.363916666666665, 26.99291666666667, 27.228916666666667, 26.732416666666666, 26.8015, 26.647666666666666, 26.919583333333332, 27.027, 27.247583333333335, 27.207083333333333, 27.065249999999995, 26.947833333333335, 27.19458333333333, 26.80175, 26.968666666666667, 26.806833333333334, 27.36666666666667, 27.116749999999996, 26.962666666666664, 27.25933333333333, 27.20141666666667, 27.070499999999996, 26.90825, 27.123083333333337, 27.080416666666668, 26.83883333333334, 27.219333333333335, 27.956833333333336, 26.834749999999996, 27.05716666666667, 27.245833333333334, 27.55541666666667, 27.29941666666667, 27.17941666666667, 27.39, 27.413916666666665, 27.241833333333336, 26.897083333333338, 27.252750000000002, 27.875249999999998, 27.003500000000003, 27.806249999999995, 28.259624999999996]\n",
            "Cameroon\n",
            "[24.727083333333336, 24.543583333333334, 24.122333333333334, 24.447333333333333, 24.054833333333335, 24.620416666666667, 23.903000000000002, 24.381249999999998, 24.236583333333332, 24.175083333333333, 24.66125, 24.12325, 24.5865, 24.59583333333333, 24.400583333333334, 24.20766666666667, 24.430916666666665, 24.948083333333333, 24.48158333333333, 24.803083333333333, 24.394250000000003, 24.65041666666667, 24.70775, 24.747500000000002, 24.899833333333337, 24.367166666666666, 24.5065, 25.105500000000003, 24.958833333333335, 24.3875, 24.691416666666665, 24.768000000000004, 24.58516666666667, 24.782, 24.440416666666664, 24.67708333333334, 24.432750000000002, 24.407416666666666, 24.45566666666667, 24.41433333333333, 24.20125, 24.11666666666667, 24.13325, 24.4585, 24.592666666666663, 24.51266666666667, 24.507749999999998, 24.25391666666667, 24.363166666666668, 24.553833333333333, 24.292083333333338, 24.334916666666672, 24.499166666666667, 24.3655, 24.355833333333337, 24.654999999999998, 24.61041666666667, 24.252166666666664, 24.53258333333333, 24.907583333333335, 24.231833333333338, 24.230249999999998, 24.294083333333333, 24.681166666666666, 24.50725, 24.78691666666667, 24.76875, 24.300416666666663, 24.296083333333332, 24.676333333333332, 24.483333333333334, 24.375083333333336, 24.50691666666667, 25.019333333333332, 24.677000000000003, 24.218750000000004, 24.889666666666667, 24.733833333333333, 24.297333333333338, 24.66225, 24.631666666666664, 24.817999999999998, 24.70075, 24.817333333333334, 25.32308333333333, 24.656166666666667, 24.613, 24.65191666666667, 24.95025, 25.01233333333333, 25.17083333333333, 25.267833333333332, 25.293416666666662, 25.209833333333336, 25.121083333333335, 25.40733333333333, 25.46475, 24.87658333333333, 24.877, 25.307624999999994]\n",
            "Canada\n",
            "[-5.778166666666668, -4.173166666666667, -5.470166666666667, -6.369583333333335, -5.95075, -5.369583333333334, -4.910583333333334, -4.750416666666666, -5.726, -5.2769166666666685, -4.860166666666668, -5.264166666666665, -4.975083333333333, -5.359583333333334, -4.286416666666668, -5.461583333333333, -4.3615, -3.648916666666666, -5.172499999999999, -6.116166666666665, -5.207166666666666, -5.557250000000001, -5.971916666666668, -4.545833333333333, -4.025333333333332, -4.918166666666667, -3.97875, -4.4173333333333344, -4.302833333333333, -4.576083333333332, -3.850333333333332, -5.003666666666667, -5.049333333333332, -4.402916666666666, -4.888, -4.9485833333333344, -5.952916666666668, -5.393166666666667, -3.984666666666666, -3.9576666666666678, -4.726166666666667, -4.944999999999999, -5.61775, -5.007916666666667, -4.262250000000001, -5.228000000000001, -4.406833333333334, -5.068166666666667, -4.873833333333334, -4.6120833333333335, -5.456999999999998, -5.516666666666668, -5.141333333333333, -5.282083333333335, -4.6457500000000005, -4.5023333333333335, -5.1031666666666675, -4.869583333333335, -6.802916666666667, -4.1795, -5.6410833333333334, -4.945666666666667, -4.790416666666666, -3.84075, -5.300499999999999, -5.00575, -4.416916666666666, -2.86725, -5.875166666666666, -4.75175, -4.634249999999999, -4.901166666666666, -4.843916666666668, -3.3433333333333337, -4.125166666666666, -5.073333333333334, -5.021916666666667, -4.426666666666667, -4.928916666666666, -4.4014999999999995, -4.433666666666667, -4.314333333333334, -4.941166666666667, -4.2315000000000005, -2.553916666666666, -3.1863333333333337, -4.025916666666666, -3.1000833333333326, -4.362833333333334, -3.8595000000000006, -4.9230833333333335, -3.30875, -2.4601666666666664, -4.060916666666667, -4.29525, -4.135083333333335, -1.8879166666666662, -3.557083333333333, -3.176833333333334, -1.6406666666666676]\n",
            "Cape Verde\n",
            "[23.79583333333333, 24.512833333333333, 23.89725, 23.890250000000005, 23.793333333333333, 24.369, 23.500500000000002, 23.90575, 23.9425, 23.991583333333335, 24.044083333333333, 24.067916666666665, 24.90041666666667, 24.486500000000003, 24.128500000000003, 24.347333333333335, 24.012249999999998, 24.11641666666667, 24.30825, 23.684916666666666, 23.493666666666666, 23.781500000000005, 24.939333333333337, 24.926166666666663, 24.208916666666664, 24.093333333333337, 24.65491666666667, 24.13575, 23.99891666666667, 23.962499999999995, 24.220166666666668, 24.551833333333335, 24.193916666666667, 24.03766666666667, 24.142083333333332, 24.129166666666666, 24.341333333333335, 24.065916666666666, 24.044999999999998, 24.326666666666668, 23.856166666666667, 24.500333333333334, 23.955416666666668, 23.934833333333334, 24.527333333333335, 23.761916666666675, 23.973166666666668, 24.29283333333333, 24.473833333333335, 24.46841666666667, 24.22516666666667, 23.938166666666664, 24.476416666666665, 24.03466666666667, 23.884416666666663, 24.966250000000002, 24.738416666666666, 24.013833333333334, 24.034166666666668, 24.451583333333332, 23.690583333333333, 24.033416666666664, 24.04383333333333, 24.485249999999997, 24.586833333333335, 24.93183333333334, 24.733249999999998, 24.634083333333333, 24.19033333333334, 24.748, 24.37516666666667, 24.343666666666667, 24.190749999999998, 24.926, 24.618333333333336, 24.56758333333333, 24.745333333333335, 24.63141666666667, 24.682249999999996, 24.449666666666662, 24.458833333333335, 25.167333333333332, 25.230666666666668, 25.306166666666666, 25.373666666666665, 24.627, 24.71591666666667, 25.285583333333335, 25.104666666666663, 24.825666666666667, 24.892916666666665, 25.133, 25.068416666666668, 24.79366666666667, 24.96975, 24.599083333333336, 25.83241666666667, 25.308833333333336, 25.1035, 24.5305]\n",
            "Cayman Islands\n",
            "[26.56108333333334, 26.752166666666668, 26.43383333333333, 26.081500000000002, 26.53883333333333, 26.768, 26.669583333333332, 26.82733333333334, 26.852500000000003, 26.739499999999996, 26.916166666666665, 26.902416666666667, 26.738, 26.902333333333335, 26.705000000000002, 26.849166666666665, 26.850916666666667, 26.702749999999998, 26.93783333333334, 26.894833333333334, 26.65908333333333, 26.621166666666664, 26.721500000000002, 26.931833333333334, 26.672583333333336, 26.76291666666667, 26.527333333333335, 27.13925, 26.99225, 26.731083333333334, 26.872333333333334, 26.892333333333337, 27.26341666666667, 27.257499999999997, 27.351250000000004, 27.031083333333328, 26.473250000000004, 26.775416666666672, 26.78408333333333, 27.22841666666667, 26.777833333333337, 26.686500000000006, 26.64366666666667, 26.889833333333332, 27.07016666666667, 27.207000000000004, 27.03891666666667, 27.104583333333334, 26.814666666666668, 26.822833333333335, 27.12366666666667, 26.888749999999998, 26.60891666666667, 26.78033333333333, 26.47975, 26.96258333333333, 26.736499999999996, 26.786, 27.061999999999998, 27.044666666666668, 26.81983333333333, 27.035083333333333, 26.802916666666672, 27.081166666666665, 26.995666666666676, 27.002166666666664, 27.145250000000004, 26.774083333333333, 27.35258333333333, 27.258166666666668, 27.017749999999996, 27.042916666666667, 27.128416666666666, 27.219583333333336, 27.26183333333334, 27.105666666666668, 27.361416666666667, 27.368916666666664, 27.13208333333333, 27.26166666666667, 27.636916666666668, 27.584, 27.129166666666666, 27.75166666666667, 27.701000000000004, 27.16866666666667, 27.101833333333335, 27.30916666666667, 27.722750000000005, 27.651083333333336, 27.585916666666662, 27.551083333333338, 27.49475, 27.62391666666667, 27.377166666666668, 27.49275, 27.03441666666666, 27.44216666666667, 27.12125, 27.558222222222224]\n",
            "Central African Republic\n",
            "[25.884, 25.479, 24.84875, 24.845916666666668, 24.891833333333334, 25.55116666666667, 24.526749999999993, 25.19608333333333, 24.744583333333328, 25.004416666666668, 25.482166666666668, 25.1495, 25.42483333333334, 25.566666666666666, 25.54375, 25.00883333333334, 25.220583333333337, 25.894666666666666, 25.36508333333333, 25.731000000000005, 25.278000000000002, 25.564249999999998, 25.586166666666667, 25.523416666666666, 25.679833333333335, 25.326666666666668, 25.435666666666666, 26.019500000000004, 25.94108333333334, 25.33366666666667, 25.415583333333334, 25.50166666666667, 25.346500000000002, 25.621916666666667, 25.34358333333333, 25.48433333333333, 25.25191666666667, 25.34233333333334, 25.617416666666667, 25.49683333333334, 25.295083333333334, 24.885500000000004, 25.050833333333333, 25.254499999999997, 25.668999999999997, 25.40191666666667, 25.402500000000003, 25.11175, 25.129166666666666, 25.34675, 25.152749999999997, 25.27208333333333, 25.361083333333337, 25.11441666666666, 25.14383333333333, 25.484666666666666, 25.429749999999995, 25.100666666666665, 25.451416666666663, 25.804666666666666, 25.142083333333336, 25.263250000000003, 25.286166666666674, 25.477, 25.399, 25.67658333333333, 25.786499999999993, 25.275999999999996, 25.257166666666667, 25.590166666666665, 25.295416666666668, 25.30883333333333, 25.50566666666667, 25.867500000000003, 25.534000000000002, 25.318333333333328, 25.715916666666672, 25.699833333333334, 25.092083333333335, 25.74875, 25.682750000000002, 25.631833333333333, 25.717250000000007, 26.042666666666666, 26.204333333333338, 25.46941666666667, 25.613333333333333, 25.710166666666666, 25.819416666666672, 26.01483333333334, 26.14, 26.332166666666666, 26.205083333333334, 26.06783333333333, 25.968666666666667, 26.51091666666667, 26.329833333333337, 25.63875, 25.639499999999998, 26.210875]\n",
            "Chad\n",
            "[27.869083333333336, 27.4935, 26.736416666666667, 26.778750000000002, 27.085083333333333, 27.570750000000004, 26.177249999999997, 26.92091666666666, 26.691750000000003, 26.783916666666666, 27.32316666666667, 27.2205, 27.43958333333333, 27.14883333333334, 27.595750000000006, 26.872750000000007, 27.118750000000002, 27.968249999999998, 27.508583333333338, 27.815666666666658, 27.106999999999996, 27.172916666666666, 27.26991666666666, 27.209999999999997, 27.38308333333333, 27.412916666666664, 27.46483333333333, 28.066333333333336, 27.88650000000001, 27.14925, 27.11475, 26.939750000000004, 27.079416666666663, 27.447083333333335, 26.89525, 26.930000000000003, 26.593083333333336, 27.03033333333333, 27.556, 27.227583333333328, 27.167749999999998, 26.994083333333332, 27.05116666666667, 27.174333333333333, 27.504500000000004, 26.968333333333334, 27.5235, 26.23658333333334, 27.104, 27.54791666666667, 26.979833333333332, 26.885500000000004, 27.00766666666667, 26.953333333333333, 27.059250000000002, 27.898, 27.020749999999996, 26.913083333333333, 27.451999999999995, 27.70958333333333, 26.89, 26.98783333333333, 27.487750000000002, 26.827333333333332, 27.110083333333332, 27.551333333333332, 27.480500000000003, 27.19483333333333, 27.259833333333333, 27.139499999999998, 27.56308333333334, 27.412000000000003, 27.55616666666667, 27.659666666666666, 27.320249999999998, 26.839999999999993, 27.619250000000005, 27.5535, 26.919666666666668, 27.612416666666665, 27.261083333333335, 27.461833333333328, 27.7835, 27.797416666666667, 27.89583333333334, 27.779833333333332, 27.447833333333335, 27.635250000000003, 27.772833333333335, 27.878083333333336, 28.017416666666673, 28.211249999999996, 28.048, 27.860166666666668, 27.702499999999997, 28.324250000000003, 28.6965, 27.78483333333334, 27.701166666666666, 28.356000000000005]\n",
            "Chile\n",
            "[9.272833333333335, 9.363916666666666, 8.971416666666665, 9.32775, 9.067583333333333, 9.634583333333333, 9.3195, 9.048833333333334, 9.115666666666668, 8.884166666666667, 9.132249999999999, 9.293999999999999, 9.498666666666667, 9.34075, 9.095749999999997, 9.230666666666666, 9.646333333333333, 9.364083333333333, 9.525666666666668, 9.263499999999999, 9.292416666666668, 9.495916666666668, 9.53525, 9.376583333333334, 9.134, 9.524499999999998, 9.626333333333335, 9.572833333333334, 9.350416666666666, 9.7385, 9.905833333333332, 10.0265, 9.490666666666668, 9.563666666666666, 9.388583333333331, 9.369166666666667, 9.292, 9.574833333333332, 9.83, 9.711666666666668, 9.25025, 9.028, 9.174000000000001, 9.636083333333334, 9.660666666666664, 9.356583333333333, 9.754166666666668, 9.495333333333333, 9.834083333333334, 9.629, 9.435833333333333, 9.706583333333333, 9.497916666666667, 9.568583333333335, 9.876916666666666, 9.863333333333332, 9.65375, 9.160166666666667, 9.586083333333333, 9.413333333333332, 9.2915, 9.418333333333333, 9.345250000000002, 10.014666666666667, 9.958083333333335, 9.79725, 9.90375, 9.955083333333333, 10.050333333333333, 10.310166666666666, 9.4425, 10.039916666666668, 9.837499999999999, 10.271583333333334, 9.72525, 10.024500000000002, 9.83125, 9.725416666666666, 9.73775, 9.944583333333332, 10.054333333333334, 9.784916666666668, 9.758000000000001, 10.336999999999998, 10.292416666666668, 9.829583333333334, 9.564083333333333, 9.819666666666667, 9.742416666666665, 10.078416666666667, 10.205833333333333, 9.891833333333333, 10.174000000000001, 9.489916666666668, 10.1625, 9.994416666666666, 9.71283333333333, 10.032250000000001, 10.272583333333335, 9.877374999999997]\n",
            "China\n",
            "[6.818749999999999, 6.49275, 6.349833333333333, 6.161416666666668, 6.196833333333334, 6.607000000000002, 6.590333333333333, 6.500750000000001, 6.6773333333333325, 6.563666666666666, 6.704250000000001, 6.5556666666666645, 6.754083333333334, 6.667749999999999, 6.7746666666666675, 6.424083333333333, 6.468666666666667, 6.3775, 6.905583333333333, 6.6299166666666665, 6.362833333333332, 6.636166666666668, 6.111583333333335, 6.511083333333332, 6.87175, 7.026500000000001, 6.961666666666665, 7.345499999999999, 7.096, 7.050916666666666, 6.530500000000001, 6.838833333333334, 7.354083333333333, 6.773833333333333, 7.100333333333334, 6.9755, 6.641166666666666, 6.869500000000002, 6.640916666666667, 7.022333333333336, 6.370999999999999, 6.701666666666665, 6.299333333333334, 6.387999999999999, 7.033583333333333, 7.039666666666668, 6.890916666666666, 7.050583333333333, 6.703666666666666, 7.052499999999999, 6.746083333333334, 6.799916666666668, 6.962000000000001, 6.402583333333333, 6.727000000000001, 6.455999999999999, 6.5681666666666665, 6.846249999999999, 6.814416666666667, 7.209583333333334, 6.659416666666668, 7.1009166666666665, 6.471166666666668, 6.851333333333333, 7.048166666666667, 7.074083333333334, 6.9500833333333345, 6.926416666666667, 7.149749999999998, 6.925083333333334, 6.517916666666665, 6.7402500000000005, 6.870166666666666, 7.249, 7.220833333333334, 7.23975, 7.635999999999998, 7.097166666666667, 6.858416666666667, 6.919416666666668, 7.495999999999999, 7.2115833333333335, 6.962666666666667, 7.367333333333332, 8.051833333333333, 7.84025, 7.238083333333333, 7.596416666666666, 7.7956666666666665, 7.522000000000001, 7.71275, 7.4135, 7.948, 8.12675, 7.566083333333335, 7.8095, 7.548416666666665, 7.357083333333333, 7.077083333333332, 9.295]\n",
            "Christmas Island\n",
            "[25.798999999999996, 25.90383333333334, 25.668666666666667, 25.25991666666667, 25.42025, 25.65491666666667, 25.446, 25.687083333333334, 25.44558333333333, 25.404750000000003, 25.526749999999996, 25.448999999999998, 25.919749999999997, 25.599666666666664, 25.872166666666672, 25.347083333333334, 25.594000000000005, 26.100416666666675, 25.8165, 25.713416666666674, 25.47741666666667, 25.525333333333336, 25.962166666666672, 25.871333333333336, 25.9345, 25.595, 25.906500000000005, 26.23966666666667, 26.014166666666664, 25.743416666666665, 26.00225, 25.92883333333334, 26.050749999999997, 25.963916666666663, 26.08566666666667, 25.79691666666667, 25.82483333333333, 25.777583333333336, 25.98216666666667, 26.07383333333333, 26.025750000000002, 25.730249999999998, 25.872916666666665, 26.145999999999997, 26.190499999999997, 26.298249999999996, 25.985916666666668, 25.874416666666665, 25.873749999999998, 25.875750000000007, 25.957666666666665, 25.80516666666667, 26.00441666666667, 25.948583333333332, 25.81158333333333, 26.206916666666668, 26.001416666666668, 25.761999999999997, 26.1495, 26.37241666666667, 25.944833333333335, 25.913, 25.87658333333334, 26.12275, 25.976583333333327, 26.182833333333335, 26.131833333333336, 26.14091666666667, 26.09541666666667, 26.423083333333327, 25.975083333333327, 26.10608333333333, 25.77508333333333, 26.41541666666667, 26.416500000000003, 26.289083333333334, 26.44933333333334, 26.271999999999995, 26.301750000000002, 26.369249999999997, 26.23658333333333, 26.471000000000004, 26.599, 26.303250000000002, 26.897000000000002, 26.338333333333328, 26.375250000000005, 26.348583333333334, 26.733749999999997, 26.693250000000003, 26.58941666666667, 26.67958333333333, 26.52691666666667, 26.555333333333333, 26.280083333333334, 26.544833333333333, 26.839750000000006, 26.364999999999995, 26.670166666666663, 27.01075]\n",
            "Colombia\n",
            "[24.754333333333335, 25.018583333333336, 24.363333333333333, 23.895666666666667, 24.134, 24.673249999999996, 24.52466666666666, 24.349833333333333, 24.521000000000004, 24.422916666666666, 24.55516666666667, 24.43825, 25.078000000000003, 24.544583333333335, 24.67466666666667, 24.611833333333333, 24.69783333333333, 25.012416666666667, 24.647833333333335, 24.46233333333333, 24.444166666666675, 24.54375, 24.823999999999998, 24.879000000000005, 24.523833333333332, 24.821416666666668, 25.335250000000002, 25.545250000000006, 25.158250000000006, 24.61441666666667, 24.788749999999997, 24.891000000000002, 24.878249999999994, 24.987666666666666, 25.0735, 24.753583333333328, 24.425833333333333, 24.811000000000003, 25.066166666666664, 25.113249999999997, 24.740833333333338, 24.544750000000004, 24.452416666666664, 25.07041666666667, 25.533833333333337, 25.01816666666667, 24.946833333333334, 25.05, 25.000833333333333, 25.050250000000002, 24.97916666666667, 25.05316666666667, 25.206083333333336, 24.84425, 24.81483333333333, 25.181083333333337, 24.931250000000006, 24.55741666666667, 25.039583333333336, 25.178750000000004, 24.656833333333335, 24.605583333333332, 24.773666666666667, 25.294833333333333, 25.122250000000005, 25.20533333333334, 25.432750000000002, 25.144500000000004, 25.191083333333335, 25.63475, 24.88366666666667, 25.01266666666667, 25.013083333333338, 25.632500000000004, 25.21341666666667, 24.863583333333338, 25.219166666666666, 25.34183333333333, 25.533583333333336, 25.206416666666666, 25.16241666666667, 25.492833333333333, 25.14991666666667, 25.580000000000002, 25.879166666666663, 24.87066666666667, 25.03016666666667, 25.411916666666666, 25.57075, 25.65533333333333, 25.55391666666667, 25.670833333333334, 25.476583333333338, 25.494000000000003, 25.153916666666664, 25.618333333333336, 25.68766666666667, 25.246916666666667, 25.381333333333334, 25.579500000000003]\n",
            "Comoros\n",
            "[25.701583333333335, 25.68308333333334, 25.45991666666667, 25.36066666666667, 25.311166666666665, 25.730166666666666, 25.301416666666665, 25.333666666666662, 25.423416666666665, 25.589750000000006, 25.467916666666667, 25.54008333333333, 25.8255, 25.282333333333337, 25.604249999999997, 25.62691666666667, 25.323833333333337, 25.82258333333333, 25.629833333333334, 25.46241666666666, 25.511166666666668, 25.52175, 25.728166666666667, 25.489416666666667, 25.692999999999998, 25.61491666666667, 25.955249999999996, 26.048333333333336, 25.743833333333328, 25.23133333333333, 25.596083333333336, 25.545416666666664, 25.718999999999998, 25.649500000000003, 25.858666666666664, 25.79625, 25.625666666666675, 25.70058333333333, 25.966749999999994, 25.956999999999997, 25.953333333333333, 25.651750000000003, 25.460916666666666, 25.801000000000002, 26.113916666666658, 25.734250000000003, 25.66775, 26.212, 25.8355, 25.466083333333334, 25.469083333333334, 25.39066666666667, 25.905916666666666, 25.892749999999996, 25.4145, 26.1335, 25.91, 25.379166666666666, 25.80683333333333, 25.868083333333335, 25.459499999999995, 25.66066666666667, 25.69475, 26.207166666666666, 25.885666666666665, 25.921999999999997, 25.927916666666665, 25.94416666666666, 26.251500000000007, 26.17441666666667, 25.57641666666667, 25.75675000000001, 26.0115, 26.36425, 26.329083333333333, 25.77775, 26.15325, 26.19683333333333, 26.21783333333333, 26.17816666666667, 26.4525, 26.385083333333338, 25.953333333333333, 26.30516666666667, 26.64725, 26.288083333333333, 25.995499999999996, 26.41425, 26.657750000000004, 26.6005, 26.39191666666667, 26.68216666666667, 26.465833333333332, 26.604583333333334, 26.188250000000007, 26.59325, 26.78683333333333, 26.454000000000004, 26.383249999999993, 26.542875]\n",
            "Congo (Democratic Republic Of The)\n",
            "[23.902666666666672, 23.8125, 23.542083333333338, 23.358166666666666, 23.196083333333334, 23.588083333333334, 23.50775, 23.804916666666667, 23.4325, 23.41208333333333, 23.96383333333333, 23.558833333333336, 23.67441666666667, 23.915166666666664, 23.984749999999995, 23.619083333333336, 23.635, 24.139916666666664, 23.715416666666666, 23.749750000000002, 23.865000000000006, 23.967333333333332, 23.841000000000005, 23.76991666666667, 23.864166666666673, 23.63491666666667, 23.807999999999996, 24.26725, 24.077083333333334, 23.805999999999997, 24.041666666666668, 23.993166666666667, 23.916083333333333, 23.94033333333333, 23.853916666666663, 24.077583333333337, 23.75758333333334, 23.882583333333333, 23.995916666666663, 23.915499999999998, 23.63758333333333, 23.56375, 23.455583333333333, 23.786333333333335, 24.071, 23.9505, 23.767333333333337, 23.791500000000003, 23.730166666666666, 23.75583333333334, 23.671916666666664, 23.691, 23.876, 23.64075, 23.62483333333333, 24.004916666666663, 23.964583333333337, 23.569583333333338, 23.951583333333335, 24.168916666666664, 23.659583333333334, 23.681, 23.67616666666667, 24.085166666666666, 24.006583333333335, 24.170083333333334, 24.20408333333334, 24.067833333333336, 23.93116666666666, 24.370166666666666, 23.996583333333334, 23.857833333333335, 23.981333333333335, 24.583250000000003, 24.32241666666667, 23.915166666666668, 24.206999999999997, 24.06325, 24.132583333333333, 24.08616666666667, 24.22525, 24.469916666666666, 24.19775, 24.535666666666668, 24.73733333333333, 24.01275, 24.206166666666665, 24.256249999999998, 24.562749999999998, 24.567333333333334, 24.547749999999997, 24.982083333333335, 24.526916666666665, 24.38508333333333, 24.341333333333335, 24.541666666666668, 24.758916666666664, 24.16316666666667, 24.206333333333333, 24.560375000000004]\n",
            "Congo\n",
            "[24.504166666666674, 24.45883333333333, 24.4175, 24.307333333333332, 23.94783333333333, 24.229083333333335, 24.187083333333334, 24.528499999999998, 24.080916666666656, 24.170583333333337, 24.848916666666668, 24.23966666666667, 24.621750000000002, 24.699583333333337, 24.615250000000003, 24.22775, 24.3325, 24.809083333333337, 24.363833333333336, 24.61175, 24.754916666666663, 24.76666666666667, 24.66025, 24.860249999999997, 24.78516666666667, 24.396416666666667, 24.458583333333337, 25.02575, 24.95808333333333, 24.435999999999996, 25.066166666666664, 25.067000000000004, 24.65258333333333, 24.88875, 24.581833333333332, 24.979666666666663, 24.697416666666665, 24.675583333333336, 24.677999999999997, 24.573083333333333, 24.258499999999998, 24.274083333333333, 24.32708333333333, 24.58175, 24.656666666666666, 24.64333333333333, 24.59025, 24.36533333333333, 24.56925, 24.691500000000005, 24.45141666666667, 24.452166666666667, 24.698249999999998, 24.437749999999998, 24.426166666666663, 24.6965, 24.741083333333332, 24.326333333333334, 24.55933333333334, 24.91325, 24.36733333333333, 24.393249999999995, 24.259666666666664, 24.76125, 24.608999999999998, 24.891083333333338, 24.756500000000003, 24.60025, 24.433333333333334, 24.88191666666667, 24.71375, 24.513999999999996, 24.5805, 25.13025, 24.917666666666673, 24.605500000000003, 24.766499999999997, 24.8215, 24.549833333333336, 24.679833333333335, 24.842916666666664, 25.09691666666667, 24.668000000000003, 25.0605, 25.540499999999998, 24.8125, 24.786, 24.732916666666664, 25.04766666666667, 25.056749999999997, 25.12816666666667, 25.26891666666667, 25.282666666666668, 25.22975, 25.29241666666667, 25.34925, 25.559416666666674, 24.77508333333334, 24.873500000000003, 25.139375]\n",
            "Costa Rica\n",
            "[25.557166666666664, 25.861833333333333, 25.278916666666664, 24.783166666666673, 25.20775, 25.64033333333333, 25.585166666666666, 25.614, 25.657583333333335, 25.542083333333334, 25.545583333333337, 25.461166666666667, 25.889083333333335, 25.556416666666667, 25.60875, 25.612083333333334, 25.950833333333332, 25.900750000000002, 25.67925, 25.51866666666667, 25.7045, 25.399749999999997, 25.698333333333334, 25.557750000000002, 25.22733333333333, 25.605999999999998, 25.984750000000005, 26.3395, 25.816666666666663, 25.539583333333336, 25.455249999999996, 25.64591666666667, 25.954916666666666, 26.002333333333336, 25.963583333333336, 25.237750000000005, 25.368583333333333, 25.949750000000005, 25.802583333333335, 25.920583333333337, 25.649916666666666, 25.525583333333334, 25.511166666666664, 26.24258333333334, 26.31616666666667, 25.99433333333334, 25.896416666666667, 25.80933333333334, 25.637333333333334, 25.7835, 25.67708333333333, 25.869583333333335, 25.931250000000002, 25.441000000000003, 25.472083333333334, 25.951000000000004, 25.554000000000002, 25.43133333333333, 26.051583333333337, 25.951333333333334, 25.493666666666666, 25.48058333333333, 25.77925, 26.115, 25.89925, 25.873500000000003, 25.8895, 25.777499999999993, 26.107916666666664, 26.509333333333334, 25.611833333333333, 25.748499999999996, 26.025666666666663, 26.754666666666665, 25.952583333333337, 25.777749999999997, 26.29025, 26.28991666666667, 26.361750000000004, 26.319333333333333, 26.425833333333333, 26.292833333333334, 25.962499999999995, 26.806250000000002, 26.974083333333336, 25.864416666666667, 26.072166666666664, 26.114333333333335, 26.306749999999997, 26.577500000000004, 26.528499999999998, 26.404250000000005, 26.514916666666664, 26.38291666666667, 26.056083333333337, 26.522916666666664, 26.22675, 26.11341666666667, 26.282, 26.457555555555555]\n",
            "Croatia\n",
            "[10.554333333333334, 11.120833333333332, 12.062666666666667, 10.943083333333334, 11.281666666666666, 10.780000000000001, 11.81575, 11.634583333333333, 10.847166666666666, 11.899166666666666, 10.892000000000001, 11.332499999999998, 12.005166666666668, 12.078833333333334, 11.771666666666667, 10.652666666666667, 12.142999999999999, 11.135916666666667, 11.081916666666666, 10.521583333333336, 12.354583333333332, 11.3815, 11.903749999999997, 11.848916666666668, 11.321166666666665, 11.648166666666667, 9.799666666666667, 10.449666666666666, 10.870416666666666, 12.066916666666666, 11.169916666666666, 11.883249999999999, 12.124083333333331, 11.941333333333334, 11.776416666666664, 11.808583333333331, 12.430083333333334, 12.481000000000002, 11.887583333333332, 11.615166666666667, 10.823333333333332, 11.307833333333333, 10.419333333333334, 11.697583333333332, 11.916749999999999, 11.656999999999998, 11.842999999999998, 12.191666666666665, 10.838083333333332, 11.05025, 11.072416666666667, 10.923083333333333, 11.952166666666665, 11.737916666666669, 11.577333333333334, 11.095083333333333, 11.310666666666668, 11.393333333333333, 11.494166666666667, 11.248333333333335, 11.745166666666668, 11.948583333333332, 11.041583333333335, 11.926416666666666, 10.766666666666667, 11.777666666666667, 10.685250000000002, 11.5085, 11.921916666666668, 11.934833333333335, 11.194000000000003, 11.151833333333334, 11.404000000000002, 11.398666666666665, 11.989916666666666, 12.096083333333333, 12.434416666666666, 11.333249999999998, 12.54908333333333, 11.93158333333333, 13.110000000000001, 11.881749999999998, 11.125750000000002, 11.827416666666666, 12.100916666666668, 12.316500000000003, 13.226416666666665, 12.411, 12.898916666666665, 12.567, 11.919416666666665, 11.376249999999999, 12.241666666666669, 13.0665, 12.977083333333333, 12.875083333333334, 11.960833333333333, 12.755166666666668, 12.973500000000001, 13.589]\n",
            "Cuba\n",
            "[25.22066666666667, 25.333416666666665, 25.033999999999995, 24.775500000000005, 25.155083333333337, 25.41008333333333, 25.268416666666667, 25.43275, 25.351, 25.359749999999995, 25.657666666666668, 25.598250000000007, 25.52958333333333, 25.558000000000003, 25.363583333333334, 25.574083333333334, 25.4785, 25.37291666666667, 25.597166666666666, 25.512916666666666, 25.256083333333336, 25.230666666666664, 25.472583333333333, 25.64725, 25.450999999999997, 25.49466666666667, 25.286166666666663, 25.7555, 25.734166666666667, 25.36808333333333, 25.48675, 25.48216666666667, 25.85666666666667, 25.851000000000003, 26.1875, 25.68183333333333, 25.144000000000005, 25.390416666666667, 25.472000000000005, 25.835333333333335, 25.424416666666662, 25.33858333333333, 25.324416666666668, 25.707000000000004, 25.579999999999995, 25.925916666666662, 25.53383333333333, 25.70783333333333, 25.43466666666667, 25.494583333333328, 25.80316666666667, 25.562499999999996, 25.265083333333333, 25.578583333333338, 25.237583333333337, 25.657833333333333, 25.412166666666664, 25.479666666666663, 25.771333333333335, 25.684250000000002, 25.54975, 25.89075, 25.502583333333334, 25.656916666666664, 25.626833333333337, 25.678250000000002, 25.848166666666668, 25.486500000000003, 26.08175, 25.86633333333333, 25.63258333333334, 25.671833333333336, 25.872583333333335, 25.924750000000003, 25.824749999999998, 25.90341666666667, 26.133416666666665, 26.165833333333335, 25.859583333333333, 25.874416666666665, 26.26466666666666, 26.127499999999998, 25.801333333333332, 26.63825, 26.407083333333333, 25.7975, 25.784999999999997, 25.85641666666667, 26.313000000000002, 26.36158333333333, 26.26891666666667, 26.14408333333333, 26.154500000000002, 26.279750000000003, 26.054750000000002, 26.022333333333325, 25.62733333333334, 26.153000000000002, 26.059, 26.250444444444447]\n",
            "Curaçao\n",
            "[27.23275, 27.6995, 27.004166666666674, 26.540499999999998, 26.742, 27.281166666666664, 27.043333333333337, 26.80633333333334, 27.00341666666667, 27.026416666666663, 27.325, 27.11041666666667, 27.739750000000004, 27.27666666666667, 27.413333333333338, 27.210416666666664, 27.161083333333334, 27.662833333333328, 27.50666666666667, 27.127750000000002, 27.4325, 27.09308333333334, 27.274999999999995, 27.447916666666668, 26.933916666666665, 27.15858333333333, 27.97133333333333, 28.05066666666667, 28.046250000000004, 27.398833333333332, 27.508416666666673, 27.29166666666667, 27.04308333333334, 27.653583333333334, 27.61, 27.258083333333335, 26.920333333333332, 27.613250000000004, 27.946500000000004, 27.857083333333332, 27.48583333333333, 27.21341666666667, 27.288916666666665, 27.454833333333337, 28.259583333333328, 27.637083333333337, 27.773750000000007, 27.516500000000004, 27.707916666666666, 27.758499999999998, 27.551083333333338, 27.457750000000004, 27.690416666666675, 27.358166666666666, 27.56291666666667, 28.087500000000002, 27.80391666666667, 27.28291666666667, 27.72791666666667, 27.745333333333335, 27.142666666666667, 27.37308333333333, 27.211916666666667, 27.89108333333333, 27.851416666666665, 27.916500000000003, 28.031833333333335, 27.972083333333334, 27.683750000000003, 28.08366666666667, 27.63508333333334, 27.33175, 27.48408333333333, 28.374750000000006, 27.78358333333333, 27.555666666666667, 27.69191666666666, 27.70175, 27.908333333333335, 27.999583333333334, 27.920333333333335, 28.221833333333336, 27.953666666666663, 28.078166666666664, 28.402666666666665, 27.683166666666665, 27.564083333333333, 28.010416666666668, 28.24291666666667, 28.26608333333333, 27.890666666666664, 28.209583333333338, 28.26533333333333, 28.284666666666666, 27.918499999999998, 28.2525, 28.4735, 27.97975, 28.052999999999994, 28.1205]\n",
            "Cyprus\n",
            "[18.449083333333334, 19.140249999999998, 19.244500000000002, 18.990166666666667, 18.724583333333335, 18.87816666666667, 18.030916666666666, 18.150833333333335, 19.148916666666665, 19.174583333333334, 19.04225, 18.86625, 19.108416666666667, 19.47375, 19.2775, 18.624916666666667, 19.249666666666666, 19.03025, 18.933583333333335, 18.219166666666666, 19.139, 19.426749999999995, 19.296166666666668, 19.459583333333335, 18.751416666666668, 19.329083333333333, 19.06491666666667, 19.317583333333335, 18.947333333333333, 18.832916666666666, 18.94966666666667, 18.714250000000003, 19.304666666666666, 19.873166666666666, 18.478666666666665, 18.232583333333334, 18.796333333333333, 19.301, 19.290583333333334, 18.243583333333337, 19.151333333333334, 19.733083333333333, 18.8565, 19.10575, 19.402666666666665, 18.437083333333334, 19.93583333333333, 19.09475, 19.892666666666667, 19.5685, 18.613083333333332, 18.923, 19.653166666666667, 18.3745, 19.193083333333334, 19.213166666666666, 19.29791666666667, 18.90666666666667, 18.594333333333328, 18.989916666666666, 18.840333333333334, 18.83583333333333, 18.576083333333333, 19.0565, 19.237750000000002, 19.555750000000003, 18.850083333333334, 19.231916666666667, 18.56641666666667, 18.424333333333333, 18.94333333333333, 19.19775, 19.28441666666667, 18.882916666666663, 19.0795, 19.08, 19.19441666666667, 19.08275, 18.04925, 18.948999999999995, 19.802000000000003, 19.078999999999997, 19.475583333333333, 18.87625, 19.96408333333333, 20.07375, 19.441999999999997, 20.011750000000003, 19.729166666666668, 19.735083333333336, 19.59575, 19.587083333333336, 19.540166666666668, 19.945333333333334, 20.144749999999995, 20.15733333333333, 20.952, 19.681916666666666, 20.012, 20.349875]\n",
            "Czech Republic\n",
            "[7.628583333333334, 7.3965, 8.25375, 7.118499999999998, 8.147499999999999, 6.894416666666668, 8.12875, 8.356583333333333, 6.657333333333333, 7.653416666666668, 6.855583333333333, 7.776333333333333, 8.279666666666666, 7.6877499999999985, 7.907833333333333, 6.690166666666666, 8.259416666666665, 7.0705, 7.768499999999999, 6.743500000000001, 9.191250000000002, 7.791833333333334, 7.9721666666666655, 8.1805, 8.152666666666669, 7.956583333333334, 5.8269166666666665, 6.500749999999999, 6.734999999999999, 8.2905, 7.63975, 8.238083333333334, 8.003416666666668, 7.822916666666668, 8.386083333333334, 8.497749999999998, 8.297666666666666, 8.566833333333333, 7.4965, 8.40825, 7.104749999999999, 7.185749999999999, 6.427416666666667, 8.151749999999998, 7.847333333333334, 8.307083333333333, 7.952916666666667, 8.537749999999999, 6.963999999999998, 6.946000000000001, 7.514583333333332, 6.9870833333333335, 8.392083333333332, 8.548833333333333, 7.903666666666669, 7.366416666666666, 7.318416666666668, 7.9268333333333345, 7.709916666666667, 7.82725, 8.544416666666667, 8.591666666666667, 7.912416666666666, 8.280666666666667, 7.347916666666666, 7.750666666666667, 6.906166666666667, 7.978666666666668, 8.433583333333333, 8.76375, 7.6184166666666675, 7.048666666666667, 7.682583333333333, 7.157916666666666, 8.523250000000003, 8.984, 8.962666666666665, 7.771999999999999, 9.103833333333332, 8.142000000000001, 9.452416666666666, 8.411750000000001, 6.850083333333334, 8.139333333333333, 8.696, 8.897250000000001, 9.659, 8.378833333333333, 9.203666666666667, 8.871333333333334, 8.445916666666665, 8.327916666666665, 8.865333333333334, 9.601333333333335, 9.41475, 8.965666666666667, 7.75225, 9.172166666666664, 8.927583333333333, 9.281]\n",
            "Denmark (Europe)\n",
            "[8.889666666666665, 7.016333333333333, 7.854916666666667, 7.408500000000001, 7.99125, 6.936416666666666, 8.29175, 8.637166666666666, 6.8518333333333326, 7.1520833333333345, 7.308083333333333, 8.2165, 8.172333333333334, 7.561416666666667, 7.620666666666668, 6.952583333333334, 8.60825, 7.3059166666666675, 8.46125, 8.225583333333333, 9.439166666666667, 8.37925, 8.30075, 8.27825, 9.072666666666667, 8.477749999999999, 6.49125, 6.627750000000002, 6.3705, 8.755833333333333, 8.369833333333334, 8.806416666666665, 7.978166666666667, 7.5874999999999995, 8.695083333333335, 9.236916666666668, 8.335166666666668, 8.296166666666666, 7.382500000000001, 8.936, 7.585, 7.5605, 6.953166666666667, 8.299333333333335, 7.5995, 8.947249999999999, 7.989583333333333, 8.7565, 7.296000000000002, 6.931750000000001, 7.815166666666666, 7.313916666666667, 7.463500000000001, 8.712333333333332, 8.118000000000002, 7.631999999999999, 7.243333333333333, 8.471416666666666, 8.11125, 8.477666666666666, 8.795416666666666, 9.199333333333334, 8.04175, 8.195666666666666, 7.831166666666667, 6.884083333333334, 7.585583333333333, 7.635999999999999, 8.426333333333334, 8.762333333333332, 8.300416666666669, 6.897583333333334, 7.420250000000002, 6.954333333333334, 8.849583333333333, 9.568166666666666, 9.708833333333333, 8.57775, 9.38425, 8.059083333333334, 8.967250000000002, 8.623666666666667, 7.234083333333333, 8.894916666666665, 8.563083333333335, 9.283083333333332, 9.582916666666668, 8.62375, 9.443249999999999, 8.998666666666667, 9.02175, 9.054416666666667, 9.683833333333334, 9.7635, 9.730083333333333, 9.130416666666667, 7.295333333333333, 9.252833333333333, 8.588249999999999, 8.516375]\n",
            "Denmark\n",
            "[-19.737666666666666, -18.42625, -17.749416666666665, -18.545833333333334, -19.5315, -18.512333333333334, -19.119666666666664, -19.093666666666667, -18.57841666666667, -17.471916666666665, -17.919, -17.763916666666663, -17.328083333333336, -17.379416666666668, -16.358, -16.222083333333334, -16.497583333333335, -17.243, -16.363666666666667, -16.182166666666664, -17.03783333333333, -16.94458333333333, -16.692666666666668, -16.9455, -17.2775, -16.226583333333334, -16.517500000000002, -16.62908333333333, -17.117333333333338, -18.28975, -18.075083333333335, -17.051, -16.79925, -15.863416666666666, -18.360833333333336, -18.587416666666666, -17.593166666666665, -18.414083333333334, -17.365666666666666, -17.83375, -17.401833333333332, -17.818416666666668, -17.950750000000003, -17.240833333333338, -17.440333333333335, -17.864, -16.951083333333333, -18.430666666666664, -16.929416666666665, -17.228666666666665, -18.04225, -17.029416666666666, -18.311833333333333, -18.03291666666667, -18.275833333333335, -17.867416666666667, -18.2145, -19.14225, -18.274916666666666, -18.714, -17.661166666666663, -18.945750000000004, -17.49975, -17.61916666666667, -17.918166666666668, -18.07166666666667, -17.009249999999998, -17.817583333333328, -18.438083333333335, -19.857750000000003, -18.769166666666667, -17.07641666666667, -17.616583333333335, -18.201666666666664, -17.324999999999996, -18.784583333333334, -17.87033333333333, -17.827916666666663, -19.00041666666667, -18.716166666666666, -18.085416666666667, -17.69783333333333, -16.80566666666667, -17.455333333333336, -16.620916666666663, -17.699083333333334, -16.8245, -17.06775, -16.291083333333336, -15.747083333333336, -16.770583333333335, -15.643, -16.574333333333332, -16.533083333333334, -16.843333333333334, -16.78316666666667, -15.085749999999999, -16.641416666666668, -16.260916666666667, -14.927249999999999]\n",
            "Djibouti\n",
            "[28.872916666666672, 29.25466666666666, 28.092166666666675, 28.04875, 27.978250000000003, 28.993166666666667, 28.809749999999998, 28.394083333333338, 28.070749999999993, 28.300083333333337, 28.679750000000002, 28.503083333333336, 28.858000000000008, 28.559083333333334, 28.612416666666665, 28.632416666666668, 28.602750000000004, 28.770166666666668, 28.270833333333332, 28.648833333333332, 28.421499999999998, 28.72091666666667, 28.497249999999998, 28.516416666666668, 28.65183333333334, 28.817000000000004, 28.991416666666662, 29.428833333333333, 29.222583333333333, 28.834166666666665, 29.088666666666665, 29.12058333333333, 28.84466666666667, 29.017083333333336, 28.87966666666667, 28.698833333333337, 28.35591666666667, 28.706666666666663, 28.56625, 28.773499999999995, 28.72366666666667, 28.613, 28.343166666666672, 28.310916666666667, 29.011166666666668, 28.67025, 28.701166666666666, 28.869500000000002, 28.718333333333334, 29.097583333333333, 28.643833333333337, 28.42233333333333, 28.8195, 28.55541666666667, 28.543583333333334, 29.148333333333337, 28.98925, 28.609333333333336, 29.089083333333335, 29.114583333333332, 28.467333333333332, 28.69783333333333, 28.716000000000008, 29.019416666666668, 29.06325, 29.035833333333333, 29.509416666666663, 28.879166666666666, 29.047083333333333, 29.17658333333334, 28.69066666666666, 28.689666666666664, 28.79791666666667, 29.11366666666667, 29.531833333333335, 28.796999999999997, 29.302999999999997, 29.28941666666667, 28.999, 28.74083333333333, 29.06233333333333, 29.25975, 29.165250000000004, 29.269333333333336, 29.780500000000004, 29.371500000000008, 29.86, 29.47691666666667, 29.531583333333334, 29.757833333333334, 29.540916666666664, 29.808583333333335, 29.777416666666667, 29.78633333333333, 29.339250000000003, 29.896750000000008, 29.837, 29.844333333333342, 29.92358333333333, 30.744749999999996]\n",
            "Dominica\n",
            "[25.948083333333333, 26.177833333333336, 25.757000000000005, 25.499333333333336, 25.699250000000003, 26.070999999999998, 25.68433333333333, 25.804583333333337, 25.78916666666667, 25.796333333333337, 26.12033333333333, 25.818749999999994, 26.314166666666665, 26.13416666666667, 26.161583333333336, 25.903583333333334, 26.18133333333334, 26.622083333333332, 26.399500000000003, 26.02775, 25.915000000000006, 25.79516666666666, 25.83241666666666, 26.1905, 25.849999999999998, 26.04975, 26.515999999999995, 26.646916666666666, 26.521333333333335, 26.036583333333336, 26.13766666666667, 25.785833333333333, 26.04466666666667, 26.409666666666666, 26.2195, 25.973666666666663, 25.798000000000002, 26.20233333333333, 26.543333333333333, 26.508916666666664, 26.077250000000003, 26.33866666666667, 26.10075, 26.17975, 26.758166666666664, 26.49058333333333, 26.603083333333334, 26.349916666666672, 26.473416666666665, 26.603916666666667, 26.394166666666667, 26.21525, 26.35858333333334, 26.095000000000002, 26.133499999999998, 26.655166666666663, 26.423083333333338, 26.08933333333333, 26.326999999999998, 26.490166666666667, 26.087499999999995, 26.03708333333333, 25.951249999999998, 26.426083333333338, 26.515749999999997, 26.442666666666668, 26.75333333333333, 26.686333333333334, 26.436000000000003, 26.696749999999998, 26.250833333333333, 26.274749999999997, 26.358083333333337, 26.947750000000003, 26.6615, 26.378666666666664, 26.629833333333334, 26.544583333333335, 26.619, 26.647916666666664, 26.624499999999998, 26.974333333333334, 26.632500000000004, 26.957166666666662, 27.268, 26.81325, 26.5715, 26.90216666666667, 26.935666666666663, 27.08, 26.829666666666668, 27.31925, 27.148583333333335, 27.09441666666667, 26.664666666666665, 26.9505, 27.486833333333337, 26.98783333333333, 27.112333333333336, 26.922125]\n",
            "Dominican Republic\n",
            "[25.483583333333332, 25.7595, 25.112333333333336, 24.83391666666667, 25.063083333333328, 25.58475, 25.50233333333333, 25.201916666666666, 25.08616666666667, 25.30875, 25.64816666666667, 25.36675, 25.86366666666666, 25.644583333333333, 25.654833333333332, 25.46175, 25.592666666666663, 25.78725, 25.66508333333334, 25.505, 25.378583333333335, 25.298083333333334, 25.676416666666668, 25.712499999999995, 25.454583333333332, 25.492166666666666, 25.94333333333334, 26.09183333333333, 26.017833333333332, 25.600083333333334, 25.542333333333332, 25.366083333333336, 25.541833333333333, 25.955749999999995, 26.031000000000002, 25.58508333333333, 25.238333333333333, 25.500083333333336, 25.920749999999998, 25.965333333333334, 25.57316666666667, 25.305833333333336, 25.45425, 25.861416666666667, 26.01341666666667, 26.0675, 26.08375, 25.749416666666665, 25.740333333333336, 25.82816666666667, 25.808333333333337, 25.573583333333335, 25.797250000000002, 25.773, 25.769333333333332, 26.094916666666666, 25.67833333333333, 25.423999999999996, 25.648083333333332, 25.905, 25.424999999999997, 25.603499999999997, 25.490499999999997, 26.029083333333332, 25.958, 25.767750000000007, 26.36616666666666, 26.102249999999998, 25.96375, 26.25616666666667, 25.758166666666668, 25.764999999999997, 25.932083333333335, 26.294916666666662, 26.11525, 25.900583333333334, 26.171166666666664, 26.053416666666664, 25.941333333333333, 25.916500000000003, 26.28058333333334, 26.35775, 25.87075, 26.697249999999997, 26.676333333333332, 26.17283333333333, 25.880416666666665, 26.340666666666667, 26.581249999999997, 26.626333333333335, 26.358750000000004, 26.52116666666667, 26.58566666666667, 26.626, 26.199249999999996, 26.423083333333327, 26.455583333333333, 26.250749999999996, 26.340083333333336, 26.290333333333333]\n",
            "Ecuador\n",
            "[21.855249999999998, 21.888083333333338, 21.268916666666666, 21.012333333333334, 21.349833333333336, 21.816499999999994, 21.7055, 21.532750000000004, 21.709333333333337, 21.705000000000002, 21.537750000000003, 21.48691666666667, 22.051750000000002, 21.69033333333333, 21.82075, 21.56675, 21.837833333333336, 21.92925, 21.73375, 21.31233333333334, 21.570666666666668, 21.45941666666667, 21.773416666666673, 21.82041666666667, 21.54591666666667, 22.105999999999998, 22.2595, 22.536416666666664, 21.985500000000002, 21.881833333333333, 21.94383333333334, 22.155083333333334, 21.971333333333334, 21.913, 21.996166666666667, 21.730333333333338, 21.334416666666666, 22.012833333333333, 21.89475, 22.168999999999997, 21.52, 21.4165, 21.44208333333334, 22.4205, 22.294083333333333, 21.996333333333336, 21.8235, 21.864416666666667, 21.88858333333333, 22.01691666666667, 21.886166666666668, 22.207666666666668, 22.166416666666667, 21.80666666666666, 21.894166666666663, 22.422083333333333, 21.961250000000003, 21.573416666666663, 22.485666666666663, 22.08216666666667, 21.695916666666665, 21.571833333333334, 21.98025, 22.192999999999998, 22.086750000000006, 22.291416666666667, 22.336000000000002, 22.167666666666673, 22.47725, 22.94666666666667, 21.886083333333332, 21.838250000000002, 22.0715, 22.847083333333334, 22.130916666666668, 21.87641666666667, 22.434749999999998, 22.5295, 22.611500000000003, 22.421583333333334, 22.217083333333335, 22.574166666666667, 22.0325, 23.082916666666666, 23.121, 21.90216666666667, 22.026, 22.236083333333337, 22.76366666666667, 22.668333333333337, 22.64791666666667, 22.5295, 22.603166666666667, 22.359750000000002, 22.224249999999998, 22.67716666666667, 22.639916666666668, 22.33666666666667, 22.445916666666665, 22.264125]\n",
            "Egypt\n",
            "[22.509416666666667, 23.144583333333333, 23.095166666666668, 22.391416666666668, 22.72283333333333, 22.830583333333333, 22.08941666666667, 22.351083333333335, 22.700999999999997, 22.67, 22.94516666666667, 22.809583333333332, 22.517083333333336, 22.97275, 23.192916666666665, 22.55266666666667, 22.995166666666673, 23.03583333333334, 22.675, 22.704916666666666, 22.85983333333333, 22.827250000000003, 23.34691666666667, 23.139166666666668, 22.525000000000002, 23.253916666666672, 22.995749999999997, 23.22841666666666, 23.021250000000006, 22.612499999999997, 22.785, 22.262999999999995, 23.053749999999997, 23.3185, 22.143833333333333, 21.8925, 22.681083333333333, 23.071166666666667, 23.263, 22.673500000000004, 22.664249999999996, 23.402, 22.979750000000006, 23.038083333333333, 23.304750000000002, 22.28458333333334, 23.621166666666667, 22.23375, 23.49683333333333, 23.652, 22.473083333333335, 22.76325, 23.369833333333336, 22.280916666666666, 22.738833333333336, 23.404416666666666, 22.708416666666665, 22.679999999999996, 22.85475, 22.740583333333337, 22.690250000000002, 22.578083333333336, 22.860916666666668, 22.667749999999998, 22.953666666666667, 23.560166666666664, 23.065416666666664, 22.85175, 22.45375, 22.09358333333333, 22.881249999999998, 23.209666666666667, 22.901833333333332, 22.848916666666668, 23.236500000000003, 22.790000000000003, 23.091416666666664, 23.088499999999996, 22.554916666666667, 23.39225, 23.235, 23.16916666666667, 23.426333333333332, 22.939666666666668, 23.682416666666665, 23.779333333333337, 22.881416666666667, 23.616333333333333, 23.716250000000002, 23.496416666666665, 23.511083333333335, 23.52025, 23.505666666666666, 23.584333333333333, 23.907916666666665, 23.735000000000003, 25.151916666666665, 23.331416666666666, 23.770916666666665, 24.50525]\n",
            "El Salvador\n",
            "[24.72908333333334, 25.177083333333332, 24.525000000000002, 24.284333333333336, 24.77475, 25.044083333333333, 24.77175, 25.015083333333337, 24.992500000000003, 24.925250000000005, 25.009, 24.79716666666667, 25.219583333333333, 24.94633333333334, 24.949916666666667, 24.968249999999998, 25.376916666666663, 25.238500000000002, 24.993166666666667, 25.050583333333336, 25.218166666666665, 24.837333333333333, 25.05933333333333, 24.903833333333328, 24.574333333333332, 24.820166666666665, 24.90491666666667, 25.3225, 25.162666666666667, 24.959999999999997, 24.916666666666668, 24.99291666666667, 25.505666666666666, 25.649916666666666, 25.326750000000004, 24.961583333333333, 24.643, 25.193750000000005, 25.25633333333333, 25.54608333333334, 24.95908333333333, 24.9165, 24.878833333333336, 25.278833333333335, 25.578000000000003, 25.319916666666668, 25.036166666666663, 25.12608333333333, 24.799583333333334, 25.065749999999998, 25.143833333333337, 25.32675, 25.058916666666665, 24.90791666666667, 24.76816666666667, 25.36108333333333, 25.056, 24.874166666666667, 25.566833333333335, 25.323000000000004, 24.886250000000004, 24.992250000000002, 24.911249999999995, 25.400166666666667, 25.325083333333335, 25.341333333333328, 25.42766666666667, 25.063166666666664, 25.41925, 25.797083333333333, 24.943083333333334, 25.137249999999998, 25.15325, 25.736833333333333, 25.47375, 25.204333333333338, 25.566499999999994, 25.64075, 25.78191666666667, 25.663083333333333, 25.913166666666665, 25.734083333333334, 25.35441666666667, 26.035750000000004, 26.131083333333333, 25.27958333333333, 25.40716666666667, 25.49291666666667, 25.71041666666667, 25.72408333333333, 25.742583333333332, 25.622833333333336, 25.758499999999998, 25.475166666666663, 25.248250000000002, 25.787583333333334, 25.45866666666667, 25.549666666666667, 25.560333333333332, 25.91077777777778]\n",
            "Equatorial Guinea\n",
            "[25.034249999999997, 24.999916666666664, 24.930083333333332, 24.956333333333333, 24.52291666666666, 25.053583333333336, 24.832333333333334, 25.0095, 24.753249999999998, 24.699583333333337, 25.24683333333333, 24.605166666666666, 25.10408333333333, 25.271833333333337, 24.832250000000002, 24.83641666666667, 24.955166666666667, 25.136916666666664, 24.843666666666667, 25.19741666666667, 25.232, 25.219916666666666, 25.21183333333333, 25.48658333333334, 25.40425, 24.883333333333336, 25.008583333333334, 25.582583333333336, 25.357833333333343, 24.90575, 25.419500000000003, 25.523916666666665, 25.10616666666667, 25.37816666666666, 25.093000000000004, 25.486500000000003, 25.075750000000003, 25.15891666666667, 25.08725, 25.05741666666667, 24.64108333333333, 24.87483333333333, 24.688583333333337, 25.08475, 24.99716666666667, 25.100083333333334, 25.14491666666667, 24.891000000000002, 25.015916666666666, 25.273833333333332, 24.885666666666665, 24.93958333333333, 25.270500000000002, 25.03141666666666, 24.997416666666666, 25.191249999999997, 25.19633333333333, 24.871499999999997, 25.00266666666667, 25.384, 24.843166666666665, 24.826833333333337, 24.650750000000006, 25.22683333333333, 25.021666666666665, 25.378249999999998, 25.3665, 24.927000000000003, 24.85541666666667, 25.19333333333333, 25.204416666666663, 24.95775, 24.90241666666667, 25.49091666666666, 25.409499999999998, 25.13, 25.285000000000007, 25.235083333333336, 24.889166666666668, 25.189333333333337, 25.2865, 25.614583333333332, 25.238416666666666, 25.32525, 26.003500000000003, 25.322999999999997, 25.220583333333337, 25.207250000000002, 25.526500000000002, 25.627416666666665, 25.59416666666667, 25.62391666666667, 25.785416666666666, 25.773666666666667, 25.768749999999997, 25.832833333333337, 25.9025, 25.545666666666662, 25.536833333333334, 25.5905]\n",
            "Eritrea\n",
            "[26.82858333333333, 27.130916666666664, 25.919833333333333, 26.025333333333336, 26.27116666666667, 27.2405, 26.50108333333333, 26.39391666666667, 26.404916666666665, 26.37108333333333, 26.776749999999996, 26.646, 26.852666666666668, 26.883583333333334, 27.197000000000003, 26.867083333333337, 26.62308333333333, 26.998416666666667, 26.636, 26.44975000000001, 26.656000000000002, 26.830916666666667, 26.740416666666665, 26.573750000000004, 26.580166666666667, 26.896333333333335, 26.984166666666667, 27.313000000000002, 27.20200000000001, 26.424916666666665, 27.018166666666662, 26.862833333333338, 26.76283333333333, 27.088750000000005, 26.722666666666665, 26.69141666666667, 26.665833333333328, 26.76466666666667, 27.101166666666668, 26.936916666666676, 26.892166666666668, 26.81441666666667, 26.49558333333333, 26.667, 27.297250000000002, 26.637083333333337, 27.01058333333333, 26.544166666666666, 26.8385, 27.10741666666667, 26.312833333333334, 26.664583333333336, 27.047416666666667, 26.37108333333333, 26.460250000000002, 27.02183333333333, 26.864500000000003, 26.37633333333333, 26.97408333333333, 27.162583333333334, 26.670583333333337, 26.576666666666668, 26.800666666666668, 26.82383333333333, 26.881833333333333, 27.169833333333333, 27.33983333333333, 26.965416666666666, 26.63525, 26.776249999999994, 27.090833333333336, 26.693916666666667, 26.702083333333334, 27.132166666666674, 27.237583333333333, 26.6545, 27.448083333333333, 27.256833333333333, 26.428916666666662, 26.930249999999997, 26.890583333333336, 27.13666666666667, 27.183916666666672, 27.145999999999997, 27.577833333333334, 27.514083333333332, 27.51725, 27.41058333333334, 27.639416666666666, 27.729750000000006, 27.5775, 27.689999999999998, 27.492, 27.485416666666666, 27.59433333333334, 28.092583333333337, 28.05416666666667, 27.58575, 27.880083333333335, 28.503500000000003]\n",
            "Estonia\n",
            "[5.79375, 3.2174166666666664, 4.806333333333332, 3.9477500000000005, 4.941833333333333, 4.182666666666666, 6.065833333333333, 5.187333333333332, 4.151083333333332, 4.2465, 4.9955, 5.687416666666667, 4.342250000000001, 4.644666666666667, 4.6922500000000005, 4.258916666666667, 6.18925, 4.110916666666666, 5.738666666666667, 4.431666666666666, 6.967916666666667, 5.460500000000001, 6.223583333333333, 6.053666666666668, 6.8084999999999996, 5.690083333333334, 3.4342500000000005, 2.549583333333333, 2.7725833333333334, 6.327666666666666, 5.801583333333333, 4.856916666666668, 5.002083333333334, 4.33, 5.771583333333333, 6.746416666666668, 5.236, 5.086833333333334, 4.454833333333333, 5.656749999999999, 5.02775, 4.273416666666667, 3.5045, 5.664333333333334, 4.3229999999999995, 5.9117500000000005, 4.910833333333333, 6.580916666666664, 4.694583333333333, 4.219250000000001, 5.1775, 4.445083333333334, 4.064416666666667, 5.433916666666668, 4.616916666666667, 3.8089999999999997, 4.349749999999999, 5.395166666666668, 5.9665833333333325, 5.5025, 6.30725, 6.911416666666667, 3.8107500000000005, 4.78075, 3.9135833333333334, 4.8045, 4.502583333333335, 5.183083333333333, 5.444666666666667, 6.143833333333333, 5.7465, 3.569249999999999, 4.887083333333332, 3.284083333333333, 5.743583333333333, 7.180583333333334, 6.698583333333332, 6.2580833333333326, 6.401833333333333, 5.146250000000001, 5.252250000000002, 6.165833333333333, 4.5785, 5.778333333333333, 5.361416666666666, 6.456833333333332, 7.008750000000002, 5.973, 6.211583333333333, 5.662166666666665, 5.940833333333334, 6.0014166666666675, 6.531833333333332, 6.830833333333332, 7.267833333333333, 6.061833333333333, 5.042999999999999, 6.865333333333333, 5.486, 6.961749999999999]\n",
            "Ethiopia\n",
            "[23.202, 23.33941666666667, 22.475416666666664, 22.277833333333334, 22.4605, 23.26941666666667, 22.809833333333334, 22.698333333333334, 22.484333333333336, 22.445333333333334, 22.83825, 22.71666666666667, 22.919583333333335, 22.77658333333333, 22.801333333333336, 22.958333333333332, 22.988416666666666, 23.312249999999995, 22.717166666666667, 23.092833333333328, 22.83758333333333, 23.03625, 22.84341666666667, 22.85683333333333, 22.876, 23.06025, 23.303416666666667, 23.489833333333337, 23.2865, 22.9855, 23.169416666666667, 23.2055, 23.05333333333333, 23.148583333333335, 22.90941666666667, 22.936750000000004, 22.658, 22.899833333333333, 23.174666666666667, 23.20075, 23.00508333333333, 23.029333333333337, 22.661, 22.85058333333333, 23.362916666666667, 23.148833333333332, 22.94241666666667, 22.89566666666667, 22.859583333333333, 23.07433333333334, 22.847583333333333, 22.850750000000005, 22.956333333333333, 22.717583333333334, 22.635166666666667, 23.187416666666664, 23.135583333333333, 22.752083333333335, 23.251, 23.446250000000003, 22.792250000000006, 22.847666666666665, 22.999916666666664, 23.137249999999995, 23.117250000000002, 23.329416666666663, 23.642, 23.15458333333333, 23.25550000000001, 23.493333333333336, 23.192000000000004, 22.916583333333335, 23.193249999999995, 23.626583333333333, 23.51908333333333, 22.856000000000005, 23.37958333333334, 23.41241666666667, 23.239500000000003, 22.98875, 23.20866666666667, 23.396500000000003, 23.358583333333332, 23.423833333333334, 23.689416666666663, 23.446833333333334, 23.762583333333335, 23.6615, 23.82325, 23.85716666666666, 23.778666666666666, 23.896916666666666, 23.77808333333333, 23.724, 23.60258333333333, 24.273583333333335, 23.9275, 24.074166666666667, 23.976166666666668, 24.6315]\n",
            "Europe\n",
            "[7.944583333333333, 7.328833333333333, 8.017833333333334, 7.18875, 8.000833333333334, 7.244833333333333, 8.285333333333332, 8.227083333333333, 7.368500000000001, 7.895083333333333, 7.640083333333333, 8.027416666666666, 8.138250000000001, 7.90275, 7.843250000000001, 7.386916666666668, 8.586, 7.517083333333333, 8.058916666666667, 7.471, 8.963083333333334, 8.062999999999999, 8.396083333333333, 8.615166666666667, 8.7255, 8.326666666666668, 6.864333333333334, 6.867916666666667, 7.0064166666666665, 8.571583333333333, 8.148166666666667, 8.223666666666666, 8.246916666666667, 8.111333333333333, 8.477583333333333, 8.769166666666665, 8.4875, 8.2865, 7.926416666666667, 8.418166666666666, 7.7309166666666655, 7.81625, 6.902249999999999, 8.383750000000001, 8.013666666666667, 8.5325, 8.300583333333334, 8.853, 7.6546666666666665, 7.460000000000001, 7.999166666666667, 7.4028333333333345, 8.111083333333333, 8.333250000000001, 7.886499999999999, 7.419666666666665, 7.7893333333333326, 8.011416666666666, 8.188333333333334, 7.998166666666666, 8.510833333333332, 8.72525, 7.636333333333333, 8.095833333333333, 7.469499999999999, 7.841166666666666, 7.402083333333334, 8.023, 8.443, 8.64575, 8.160833333333334, 7.262416666666668, 7.889333333333333, 7.414666666666668, 8.406749999999999, 9.27225, 9.320416666666667, 8.337166666666667, 8.787500000000001, 8.109916666666667, 8.987416666666666, 8.686416666666668, 7.802083333333335, 8.630583333333332, 8.546166666666666, 9.087833333333334, 9.440083333333334, 8.787083333333332, 9.22, 8.982333333333333, 8.83075, 8.801333333333334, 9.157416666666668, 9.470666666666668, 9.304666666666666, 9.150333333333334, 8.279833333333332, 9.384416666666667, 8.912916666666666, 9.67025]\n",
            "Falkland Islands (Islas Malvinas)\n",
            "[5.9022499999999996, 5.775333333333335, 5.970416666666668, 6.792583333333333, 5.984500000000001, 5.977166666666666, 6.026916666666665, 5.725750000000001, 6.1025, 5.3821666666666665, 5.889916666666667, 5.708333333333333, 5.699750000000001, 5.827916666666667, 5.735083333333333, 5.888166666666668, 5.45475, 5.8765, 6.033, 6.134499999999999, 6.102833333333334, 5.501000000000001, 6.124916666666665, 5.846666666666667, 5.807416666666666, 5.464583333333334, 6.609333333333333, 6.4784999999999995, 6.185500000000001, 6.948666666666667, 6.4135, 6.460583333333335, 6.219916666666667, 6.174333333333334, 5.71875, 5.973583333333334, 5.699750000000001, 6.100666666666666, 6.403666666666666, 6.410583333333332, 5.982833333333335, 6.257416666666668, 6.6925, 6.348833333333334, 6.041583333333334, 5.504916666666667, 6.59875, 5.925833333333333, 6.740166666666666, 6.011916666666668, 5.980166666666666, 6.3868333333333345, 5.865666666666666, 6.387666666666667, 6.687916666666666, 6.134666666666667, 6.4435, 6.001083333333333, 5.952583333333334, 6.263749999999999, 6.360916666666665, 6.26875, 5.92175, 6.442833333333334, 6.593833333333333, 6.8534999999999995, 6.260416666666667, 6.4703333333333335, 6.773416666666666, 6.921083333333332, 6.042083333333333, 6.954583333333333, 6.24625, 6.632916666666667, 6.429666666666666, 7.331416666666667, 6.801666666666667, 6.1025, 6.3595, 7.103750000000001, 6.3855, 6.0985000000000005, 6.8451666666666675, 6.3045833333333325, 7.651666666666666, 6.989666666666667, 6.401166666666668, 6.6475, 6.044250000000001, 6.533666666666666, 7.391416666666665, 6.601916666666667, 7.062083333333334, 6.337916666666666, 6.9190000000000005, 6.559916666666666, 6.868083333333335, 7.131166666666666, 6.706916666666667, 7.345999999999999]\n",
            "Faroe Islands\n",
            "[6.787, 6.0015, 6.444333333333333, 5.852083333333333, 6.369000000000001, 5.716166666666666, 6.869916666666666, 6.569666666666666, 6.257083333333334, 6.1385, 6.654499999999999, 6.444666666666667, 7.066166666666667, 6.429000000000001, 6.749083333333334, 6.875333333333335, 7.084416666666667, 6.640833333333333, 7.07875, 7.851750000000002, 7.535833333333333, 7.080333333333333, 7.04225, 7.145666666666666, 7.499250000000001, 7.463, 6.887333333333333, 7.084499999999999, 6.80575, 7.1825, 6.768583333333335, 7.667666666666666, 7.630583333333333, 6.871333333333333, 7.274583333333335, 7.138916666666667, 7.0065, 6.5305, 6.319083333333334, 7.709833333333333, 6.759916666666666, 6.587000000000001, 6.81425, 7.0118333333333345, 6.765666666666667, 7.693250000000002, 7.498500000000001, 7.298749999999999, 6.461166666666666, 6.699666666666666, 7.203916666666667, 6.415333333333333, 6.433916666666668, 6.739083333333334, 6.476333333333333, 6.336333333333333, 6.4105, 7.116583333333334, 7.533916666666666, 6.609083333333333, 7.468250000000001, 6.900666666666666, 7.202916666666666, 6.729, 6.610833333333332, 5.846166666666666, 6.842416666666666, 6.145666666666666, 7.062916666666669, 6.571999999999999, 7.342583333333335, 6.412166666666667, 6.628416666666666, 7.0977500000000004, 6.888999999999999, 7.125750000000001, 7.401833333333333, 7.56575, 7.304333333333333, 6.709833333333333, 6.8505, 6.52525, 6.989666666666666, 7.591416666666667, 7.047416666666667, 7.102333333333334, 7.19175, 7.1250833333333325, 7.88975, 8.218749999999998, 7.850333333333334, 7.319166666666668, 7.8785, 7.550750000000001, 7.507166666666667, 7.995916666666666, 6.826750000000001, 7.668583333333334, 6.981416666666667, 7.076625000000002]\n",
            "Federated States Of Micronesia\n",
            "[26.6605, 26.76875, 26.560666666666666, 26.354333333333333, 26.27716666666667, 26.52508333333333, 26.533083333333334, 26.6135, 26.578500000000005, 26.499333333333336, 26.655583333333336, 26.683583333333335, 26.60383333333333, 27.16858333333333, 26.819916666666668, 26.666833333333333, 26.589916666666667, 26.867916666666662, 26.697999999999997, 26.552750000000003, 26.794833333333333, 26.727833333333333, 26.81891666666667, 27.0115, 27.026333333333337, 26.99983333333334, 26.80033333333333, 27.076666666666664, 26.95566666666667, 26.74083333333333, 27.007500000000004, 26.894333333333336, 26.76183333333334, 27.224833333333336, 26.982083333333332, 26.764166666666664, 27.02891666666666, 26.919500000000003, 27.116500000000002, 27.281500000000005, 26.842583333333334, 26.65358333333333, 26.696416666666664, 27.160833333333333, 26.967416666666665, 26.847083333333334, 26.95016666666667, 26.810833333333335, 26.837833333333332, 26.77983333333333, 26.614333333333335, 26.5775, 26.849416666666666, 26.694666666666663, 26.7055, 26.856833333333338, 26.937583333333333, 26.549750000000007, 26.658416666666668, 27.100833333333338, 26.83966666666667, 27.012333333333334, 26.95075, 27.301583333333337, 27.238833333333336, 27.18083333333333, 27.31683333333333, 27.404749999999996, 27.166083333333333, 27.514083333333343, 27.5055, 27.234333333333336, 27.340333333333334, 27.393166666666662, 27.521666666666672, 27.109416666666664, 27.26825, 27.101333333333333, 27.216333333333335, 26.998166666666666, 27.298416666666668, 27.436416666666663, 27.28108333333333, 27.14075, 27.475583333333333, 27.068250000000003, 27.442833333333336, 27.508750000000003, 27.59266666666667, 27.63983333333333, 27.723666666666663, 27.59875, 27.389083333333335, 27.46291666666667, 27.32133333333333, 27.589000000000002, 27.732166666666668, 27.515000000000004, 27.685666666666666, 27.99725]\n",
            "Fiji\n",
            "[24.540916666666664, 24.971249999999998, 24.98541666666667, 24.726333333333333, 24.73875, 24.60291666666667, 24.504833333333334, 24.87816666666666, 24.60175, 24.329583333333332, 24.875666666666664, 24.602, 24.6155, 25.516083333333338, 25.054333333333336, 25.117333333333338, 24.514, 24.96608333333333, 25.2775, 25.14708333333333, 25.026, 25.228000000000005, 25.251083333333337, 25.35341666666667, 25.373833333333334, 24.663749999999997, 24.824666666666662, 25.241, 24.977833333333333, 25.132250000000003, 24.917583333333337, 24.91391666666667, 25.1495, 25.411166666666663, 25.15941666666667, 25.214166666666667, 25.29408333333333, 24.944916666666668, 25.415000000000003, 25.246, 25.350166666666667, 25.27, 25.152333333333335, 25.01666666666667, 25.072666666666667, 25.3545, 25.16991666666667, 25.355166666666666, 25.05875, 25.087166666666665, 25.31016666666667, 24.558499999999995, 24.740499999999997, 24.949916666666667, 25.07225, 25.028499999999998, 25.276416666666666, 25.425250000000002, 25.152916666666673, 25.679666666666666, 25.550833333333333, 25.667, 25.423083333333338, 25.113833333333336, 25.000249999999998, 25.25108333333333, 25.281583333333334, 25.4285, 25.259416666666667, 25.270416666666666, 25.54783333333334, 25.472833333333337, 25.014750000000003, 25.162666666666667, 25.919916666666666, 25.445333333333334, 25.400500000000005, 25.348, 25.296333333333333, 25.007166666666667, 25.148749999999996, 25.715999999999998, 25.86108333333333, 25.32341666666667, 25.865333333333336, 25.686666666666667, 25.837166666666672, 25.751416666666668, 25.713333333333335, 25.44666666666667, 25.50775, 25.643416666666667, 25.6315, 26.055333333333333, 25.730166666666673, 25.22741666666667, 25.918499999999998, 25.722833333333337, 25.478250000000003, 25.941374999999997]\n",
            "Finland\n",
            "[1.9040000000000001, -0.8558333333333329, 1.0888333333333338, 0.29191666666666655, 1.3973333333333338, 0.6834166666666665, 3.0175, 1.6407499999999997, 1.0588333333333335, 0.8670000000000003, 1.8637500000000002, 1.8581666666666665, 0.5474166666666663, 0.8750833333333335, 1.1727500000000004, 1.3025000000000002, 2.7194166666666657, 1.1904166666666667, 2.455833333333333, 1.356, 3.4747500000000002, 2.0907500000000003, 2.298166666666667, 2.971, 3.83475, 1.9896666666666665, 0.3835833333333339, -0.6980833333333335, -0.09308333333333363, 3.0898333333333334, 2.501416666666667, 1.2601666666666669, 1.8857500000000007, 1.0714999999999995, 2.359833333333334, 3.0459166666666664, 2.2062500000000007, 1.5998333333333334, 1.1404166666666669, 2.7343333333333333, 2.2839999999999994, -0.16433333333333433, -0.01591666666666643, 2.058166666666667, 0.5739166666666667, 2.5869166666666668, 1.7759166666666666, 3.0284166666666668, 1.0014999999999998, 1.28875, 1.9111666666666665, 0.8898333333333336, -0.256083333333333, 2.012666666666667, 0.4874166666666666, 0.5302500000000004, 1.173333333333334, 0.8563333333333336, 2.8245833333333334, 1.7123333333333335, 3.362666666666666, 2.9960833333333334, 0.41300000000000053, 1.1675833333333334, 0.11508333333333305, 1.4055833333333332, 0.8816666666666664, 0.8399999999999997, 1.8109166666666667, 2.001416666666666, 2.425833333333333, -0.48750000000000004, 1.1774166666666663, -0.15625000000000044, 1.8564999999999998, 3.6703333333333337, 2.943250000000001, 2.3282499999999997, 2.6495833333333336, 1.7829166666666667, 1.7739166666666673, 2.3540833333333335, 1.6930833333333337, 2.2275833333333335, 1.2267500000000002, 2.3225000000000007, 3.590666666666668, 2.09525, 2.230166666666667, 2.499833333333333, 2.6147499999999995, 3.23025, 2.8921666666666668, 3.092333333333334, 3.200916666666666, 2.43925, 1.1437499999999998, 3.541166666666667, 1.9072500000000001, 4.064125]\n",
            "France (Europe)\n",
            "[10.289250000000001, 10.139666666666667, 10.3095, 9.467666666666666, 10.346749999999998, 9.768916666666668, 10.747750000000002, 11.209583333333335, 9.96925, 10.516166666666667, 10.23066666666667, 10.051916666666667, 10.860916666666666, 10.463333333333333, 11.004333333333335, 10.29675, 10.875666666666667, 10.020083333333334, 10.24, 10.305583333333335, 10.887, 10.418916666666666, 10.521749999999999, 10.977916666666667, 10.575833333333334, 10.3515, 9.852083333333335, 9.75775, 10.205583333333331, 11.313916666666666, 10.412583333333332, 11.150666666666666, 10.432083333333333, 11.389583333333334, 11.05808333333333, 11.525916666666665, 10.921833333333332, 10.534333333333333, 10.686666666666667, 10.767916666666666, 10.176083333333333, 10.673250000000001, 9.515749999999999, 10.733833333333331, 10.627583333333334, 11.436, 10.657583333333333, 11.469416666666666, 9.887333333333332, 9.48975, 10.604916666666668, 10.043666666666667, 10.8675, 10.755916666666666, 10.409333333333334, 10.34, 10.465416666666666, 10.516083333333336, 10.147083333333335, 10.439416666666668, 10.720333333333334, 10.607166666666666, 10.97625, 10.630583333333334, 10.174666666666667, 10.360750000000001, 10.010833333333334, 10.669416666666669, 11.421416666666667, 11.130833333333335, 10.486416666666667, 10.181083333333333, 10.441583333333334, 10.4345, 11.244000000000002, 11.731499999999999, 11.806083333333333, 10.729750000000001, 11.111916666666666, 10.752666666666665, 11.98975, 11.578333333333333, 10.526166666666667, 11.816500000000003, 11.261750000000001, 11.619166666666667, 11.738083333333334, 11.361583333333334, 11.767499999999998, 12.07691666666667, 11.266333333333336, 11.229083333333334, 11.871250000000002, 11.571833333333332, 11.20075, 11.6075, 10.531583333333334, 12.27275, 11.33175, 11.19575]\n",
            "France\n",
            "[12.689750000000002, 12.618166666666667, 12.679, 11.916833333333335, 12.641416666666666, 12.254666666666667, 13.018333333333333, 13.387166666666667, 12.370833333333332, 12.830666666666666, 12.597666666666669, 12.460333333333333, 13.182833333333335, 12.819749999999999, 13.2965, 12.657916666666667, 13.168750000000001, 12.531583333333336, 12.698749999999999, 12.687, 13.13275, 12.797249999999998, 12.892666666666669, 13.295166666666667, 12.948666666666668, 12.737666666666668, 12.390833333333333, 12.326250000000002, 12.685166666666667, 13.522916666666667, 12.800666666666666, 13.397916666666667, 12.8345, 13.631666666666666, 13.331583333333333, 13.696, 13.23325, 12.947083333333332, 13.088916666666664, 13.143666666666666, 12.618416666666668, 13.038333333333334, 12.063749999999999, 13.101999999999999, 13.083166666666665, 13.675249999999998, 13.027666666666667, 13.701833333333333, 12.414333333333333, 12.072833333333334, 12.990416666666668, 12.501833333333332, 13.215166666666669, 13.0875, 12.79775, 12.8335, 12.899250000000002, 12.869166666666665, 12.594416666666667, 12.887166666666664, 13.040416666666667, 12.962499999999999, 13.278333333333334, 13.016583333333331, 12.657000000000002, 12.836416666666667, 12.555833333333334, 13.080666666666668, 13.679416666666667, 13.487833333333334, 12.868250000000002, 12.628, 12.871666666666668, 12.955166666666669, 13.580916666666667, 13.930083333333334, 14.038833333333335, 13.139499999999998, 13.462916666666667, 13.150166666666669, 14.15616666666667, 13.899749999999997, 13.013916666666667, 14.095999999999998, 13.720666666666666, 13.904916666666667, 13.967333333333334, 13.6965, 14.048166666666667, 14.337916666666667, 13.66408333333333, 13.694250000000002, 14.143833333333333, 13.896583333333332, 13.581499999999998, 13.941666666666665, 13.115416666666667, 14.479583333333336, 13.707166666666666, 13.584625]\n",
            "French Guiana\n",
            "[25.720833333333335, 25.984666666666666, 25.49141666666667, 25.08216666666667, 25.063916666666668, 25.705750000000005, 25.37216666666667, 25.22158333333333, 25.328166666666664, 25.427666666666667, 25.340833333333336, 25.525000000000002, 25.889000000000006, 25.623583333333332, 25.82783333333333, 25.442333333333337, 25.706249999999997, 26.10475, 26.06158333333333, 25.596166666666665, 25.37566666666667, 25.729083333333335, 25.77383333333333, 25.95108333333334, 25.77508333333333, 25.655666666666665, 26.14533333333333, 26.2135, 26.045666666666666, 25.571250000000003, 25.806250000000006, 25.678250000000002, 25.83425, 25.85408333333333, 25.702416666666664, 25.542666666666666, 25.780749999999998, 26.062250000000006, 26.091333333333335, 26.07291666666666, 25.785583333333335, 25.825083333333335, 25.718833333333333, 26.066083333333335, 26.457666666666665, 25.98675, 25.907166666666665, 25.93466666666667, 26.068250000000003, 26.03191666666667, 25.96108333333333, 25.921333333333333, 26.155416666666667, 25.74766666666667, 25.77425, 26.41508333333334, 26.03666666666666, 25.557666666666673, 25.845666666666663, 25.972583333333333, 25.577749999999998, 25.626583333333333, 25.775333333333332, 25.980416666666667, 26.04008333333334, 26.284999999999997, 26.294083333333333, 26.13525000000001, 26.048416666666665, 26.326916666666666, 25.675750000000004, 25.762500000000003, 26.019833333333334, 26.669999999999998, 26.21916666666667, 25.894000000000002, 26.22966666666667, 26.212416666666666, 26.28766666666667, 26.173250000000007, 26.110083333333332, 26.506583333333335, 26.416083333333333, 26.60983333333333, 26.980500000000006, 26.32975, 26.112666666666666, 26.358749999999997, 26.491749999999996, 26.779333333333337, 26.734750000000002, 27.198916666666673, 26.617833333333333, 26.519500000000004, 26.462333333333333, 26.731250000000003, 27.01866666666667, 26.591333333333335, 26.656333333333333, 26.528875000000003]\n",
            "French Polynesia\n",
            "[25.91275, 25.974000000000004, 25.637166666666662, 25.39958333333334, 25.50791666666667, 25.827, 25.259, 26.027363636363635, 25.85891666666667, 25.767750000000003, 26.0535, 25.870833333333337, 26.031500000000005, 26.118, 26.135833333333327, 25.813833333333335, 26.219636363636365, 26.08566666666667, 26.13008333333333, 25.887249999999998, 26.099833333333336, 25.94016666666667, 25.820666666666664, 26.20291666666667, 26.158583333333336, 26.04591666666667, 26.535083333333336, 26.42475, 26.231000000000005, 26.178166666666666, 26.00016666666666, 26.367333333333335, 26.231583333333337, 26.419333333333338, 26.345916666666668, 26.262416666666667, 25.910333333333337, 26.389, 26.47375, 26.362333333333336, 26.245583333333332, 25.977416666666667, 25.791833333333333, 26.257500000000007, 26.175250000000005, 26.413500000000003, 26.151416666666673, 26.04991666666667, 26.044583333333335, 26.166916666666665, 25.96483333333333, 26.212416666666666, 26.414000000000005, 25.990083333333335, 25.920333333333335, 26.717333333333332, 26.48733333333333, 25.805249999999997, 26.47633333333333, 26.668166666666664, 25.90225, 26.052583333333335, 26.070333333333334, 26.39125, 26.162333333333336, 26.23408333333333, 26.407, 26.291916666666665, 26.408083333333334, 26.434083333333337, 26.393916666666666, 26.290000000000003, 26.472583333333333, 26.804083333333327, 26.681416666666664, 26.43025, 26.849166666666665, 26.680333333333337, 26.566750000000003, 26.566416666666672, 26.65716666666667, 26.72191666666666, 26.47458333333334, 26.54308333333334, 26.918166666666664, 26.704333333333334, 26.635833333333334, 26.619333333333334, 26.981916666666667, 26.916416666666674, 26.728916666666663, 26.85291666666667, 26.83475, 26.81258333333334, 26.48408333333333, 27.032083333333336, 26.94141666666667, 26.39683333333333, 26.919833333333333, 26.907875]\n",
            "French Southern And Antarctic Lands\n",
            "[0, 0, 0, 0, 0, 0, 0, 0, 0, 0, 0, 0, 0, 0, 0, 0, 0, 0, 0, 0, 0, 0, 0, 0, 0, 0, 0, 0, 0, 0, 0, 0, 0, 0, 3.4372, 3.6531, 3.963636363636364, 5.426083333333332, 4.846416666666666, 4.623833333333333, 4.837833333333332, 5.053083333333334, 4.898083333333333, 4.579583333333333, 4.825666666666667, 4.580916666666666, 5.114083333333333, 4.718000000000001, 4.657833333333333, 4.396833333333333, 4.229666666666668, 4.666, 4.575333333333333, 4.323000000000001, 5.274416666666667, 4.708333333333335, 4.7709166666666665, 4.942333333333333, 4.619833333333333, 4.972666666666668, 4.828583333333333, 5.063666666666667, 4.829250000000001, 4.928916666666667, 5.204166666666667, 4.950333333333334, 5.179666666666666, 5.0903333333333345, 5.297916666666667, 4.813083333333332, 4.865333333333333, 4.874666666666667, 4.974416666666667, 5.294249999999999, 4.572833333333333, 5.42425, 5.008416666666667, 5.477916666666666, 5.181333333333334, 5.379833333333333, 5.048666666666667, 5.2555000000000005, 5.091583333333333, 5.470833333333332, 5.4550833333333335, 5.120749999999999, 5.223999999999999, 5.164833333333333, 5.1985, 5.515416666666667, 5.442583333333334, 5.456083333333333, 5.318499999999999, 5.0512500000000005, 5.447166666666667, 5.174916666666667, 5.638249999999999, 5.330333333333334, 5.531583333333334, 5.685499999999999]\n",
            "Gabon\n",
            "[24.246416666666672, 24.266416666666668, 24.300083333333333, 24.1895, 23.779249999999994, 24.13316666666667, 24.136166666666664, 24.353833333333338, 23.9735, 23.973916666666664, 24.61566666666667, 23.99791666666667, 24.448416666666663, 24.550416666666667, 24.293416666666662, 24.099333333333334, 24.173500000000004, 24.495250000000002, 24.11266666666667, 24.430583333333335, 24.593166666666665, 24.535333333333337, 24.475916666666674, 24.771833333333333, 24.631250000000005, 24.200333333333333, 24.28708333333334, 24.828833333333336, 24.68841666666667, 24.201166666666662, 24.876583333333333, 24.9335, 24.402, 24.72816666666667, 24.3995, 24.83858333333333, 24.434250000000002, 24.494416666666666, 24.43825, 24.374166666666664, 24.019833333333334, 24.188833333333335, 24.157333333333337, 24.44016666666667, 24.342166666666667, 24.44441666666667, 24.530833333333334, 24.196416666666664, 24.357833333333332, 24.596249999999998, 24.26375, 24.28291666666667, 24.59566666666667, 24.289499999999993, 24.256916666666665, 24.503583333333335, 24.49875, 24.167333333333332, 24.265, 24.69583333333333, 24.149666666666665, 24.17325, 23.909333333333333, 24.5535, 24.347333333333335, 24.693750000000005, 24.623749999999998, 24.295416666666668, 24.127750000000002, 24.613083333333336, 24.62366666666667, 24.303416666666667, 24.296499999999998, 24.847083333333334, 24.77366666666667, 24.508083333333335, 24.570833333333336, 24.566833333333335, 24.24025, 24.544500000000003, 24.64708333333333, 24.936916666666665, 24.464750000000006, 24.730416666666667, 25.394833333333334, 24.736833333333333, 24.57241666666667, 24.513583333333333, 24.83391666666667, 24.911999999999995, 24.853250000000003, 24.96541666666667, 25.157750000000004, 25.06358333333333, 25.127916666666668, 25.134666666666664, 25.221, 24.730916666666662, 24.831666666666667, 24.838500000000003]\n",
            "Gambia\n",
            "[27.41458333333333, 27.68766666666667, 27.276999999999997, 26.926750000000002, 27.158749999999994, 27.512083333333333, 27.337166666666665, 27.49308333333333, 27.346333333333337, 27.621000000000006, 27.453999999999994, 27.561249999999998, 28.088750000000005, 27.58808333333334, 27.254416666666668, 27.328083333333336, 27.173500000000004, 27.814916666666665, 27.465833333333336, 27.50016666666667, 27.152250000000006, 27.32841666666667, 27.674083333333332, 27.796583333333334, 27.674166666666668, 27.479333333333333, 27.66933333333333, 27.880166666666668, 27.55966666666667, 27.322, 27.83566666666667, 28.058999999999997, 27.50208333333333, 27.632666666666665, 27.36866666666667, 27.61466666666667, 27.41825, 27.35108333333333, 27.263499999999997, 27.438249999999996, 27.33983333333333, 27.575583333333338, 27.252083333333335, 27.329333333333334, 27.8195, 27.472333333333335, 27.57316666666667, 27.585333333333335, 27.757000000000005, 27.855166666666666, 27.607, 27.1735, 27.71641666666667, 27.16783333333333, 27.32216666666667, 28.339666666666663, 28.138749999999998, 27.35808333333334, 27.70141666666667, 28.00125, 27.170666666666666, 27.28566666666667, 27.259249999999998, 28.070083333333333, 27.658166666666663, 28.09925, 28.093499999999995, 28.0795, 27.586833333333335, 28.639333333333337, 27.89816666666667, 27.812750000000005, 27.744833333333332, 28.39125, 28.055583333333335, 27.827416666666668, 28.13566666666667, 28.04525, 28.034333333333333, 28.24066666666667, 27.904083333333332, 28.19008333333333, 28.298750000000002, 28.35016666666667, 28.82608333333334, 27.757499999999997, 28.063750000000002, 28.48975, 28.547916666666666, 28.228583333333336, 28.3725, 28.605, 28.177333333333333, 28.36491666666667, 28.346083333333336, 27.959, 28.802916666666672, 28.282499999999995, 28.301666666666666, 28.724375000000006]\n",
            "Gaza Strip\n",
            "[18.666249999999998, 19.29966666666667, 19.479916666666664, 19.265250000000005, 18.953083333333336, 19.267583333333334, 18.55158333333333, 18.556250000000002, 19.487083333333334, 19.56233333333334, 19.412, 19.34166666666667, 19.291333333333338, 19.550583333333332, 19.76825, 19.276333333333334, 19.799666666666667, 19.500583333333335, 19.382250000000003, 18.92541666666667, 19.49141666666667, 19.955583333333333, 19.825999999999997, 19.971, 19.07816666666667, 19.757166666666667, 19.61225, 19.824166666666667, 19.462833333333332, 19.040916666666664, 19.304750000000002, 18.865, 19.55025, 20.248, 18.793000000000003, 18.467, 19.29658333333333, 19.831416666666666, 19.94375, 18.908749999999998, 19.6705, 20.18616666666667, 19.35475, 19.389166666666664, 19.826583333333335, 18.778750000000002, 20.365, 19.190166666666666, 20.389916666666668, 20.177666666666667, 18.866666666666664, 19.52316666666667, 20.101666666666663, 18.62216666666667, 19.6005, 19.883583333333334, 19.672500000000003, 19.192166666666665, 19.04108333333333, 19.34941666666667, 19.262166666666666, 19.224916666666665, 19.128333333333334, 19.490333333333336, 19.770249999999997, 20.213, 19.5705, 19.621333333333336, 18.890833333333333, 18.796250000000004, 19.304000000000002, 19.800583333333336, 19.566749999999995, 19.52575, 19.629583333333333, 19.538166666666665, 19.71441666666667, 19.630333333333333, 18.551916666666667, 19.544083333333333, 20.145249999999997, 19.622666666666667, 20.106749999999998, 19.381333333333334, 20.566916666666668, 20.516416666666665, 19.880916666666668, 20.560083333333335, 20.284166666666664, 20.148833333333332, 20.077250000000003, 19.98025, 19.938666666666666, 20.284583333333334, 20.525833333333335, 20.418083333333332, 21.90425, 19.84841666666666, 20.580083333333334, 20.78225]\n",
            "Georgia\n",
            "[8.07275, 8.489833333333332, 8.63316666666667, 8.809333333333333, 8.534833333333333, 8.480833333333335, 6.639583333333333, 7.28075, 8.609166666666665, 8.634583333333332, 8.377916666666668, 8.492083333333332, 8.178416666666665, 8.09925, 7.10625, 7.320250000000001, 8.623833333333335, 7.510166666666667, 7.5835, 7.163916666666666, 7.784083333333332, 8.566583333333332, 8.400916666666667, 8.962166666666667, 8.68975, 8.562916666666668, 8.688916666666668, 8.226250000000002, 7.836250000000001, 8.056583333333334, 8.690083333333334, 7.2746666666666675, 8.104083333333334, 8.94225, 8.142583333333334, 7.64725, 7.9575000000000005, 8.437666666666667, 8.908999999999999, 7.822916666666667, 8.470666666666666, 9.511000000000001, 7.083583333333334, 9.015833333333333, 8.528666666666666, 7.4778333333333356, 8.761250000000002, 8.890166666666667, 9.664166666666668, 8.641416666666666, 7.681333333333335, 8.177166666666666, 10.488083333333334, 7.829, 8.682916666666667, 7.924916666666667, 9.183583333333333, 8.830916666666667, 7.990416666666667, 7.851833333333334, 8.251, 8.736916666666666, 7.719499999999999, 8.305416666666666, 8.409916666666666, 9.565083333333334, 8.783083333333336, 9.44175, 7.979666666666666, 8.613083333333334, 8.51825, 8.372166666666667, 8.797166666666667, 8.169916666666667, 8.206333333333331, 8.936583333333333, 8.84425, 8.857083333333334, 7.390916666666667, 7.397833333333332, 8.718333333333332, 9.427583333333335, 9.117916666666668, 8.550666666666666, 9.85875, 9.769166666666669, 9.311166666666667, 9.861749999999999, 9.206, 8.804583333333335, 9.218583333333333, 9.4135, 9.403749999999999, 9.525916666666667, 9.308583333333333, 9.552083333333334, 11.102416666666668, 8.523749999999998, 9.787333333333333, 10.686625]\n",
            "Germany\n",
            "[8.486916666666668, 7.875333333333334, 8.426916666666665, 7.4995, 8.493583333333335, 7.30075, 8.615666666666666, 9.014666666666667, 7.1759166666666685, 7.980916666666668, 7.520499999999999, 8.289166666666668, 8.7205, 8.080166666666665, 8.371583333333334, 7.406583333333333, 8.78275, 7.595749999999999, 8.353166666666667, 7.703749999999999, 9.569666666666667, 8.471666666666666, 8.476416666666667, 8.711916666666667, 8.808333333333332, 8.452166666666669, 6.625083333333333, 7.139583333333332, 7.238499999999999, 8.9215, 8.317583333333333, 8.9005, 8.383333333333333, 8.458416666666666, 9.042416666666666, 9.1765, 8.653416666666667, 8.816416666666667, 8.006833333333335, 9.067, 7.788833333333334, 7.684083333333334, 6.9695, 8.686083333333334, 8.325833333333334, 9.18275, 8.514166666666666, 9.124166666666666, 7.324916666666668, 7.220500000000001, 8.236333333333333, 7.632999999999999, 8.645666666666665, 9.041666666666666, 8.323583333333334, 7.912999999999999, 7.856083333333334, 8.600166666666667, 8.054833333333335, 8.402833333333334, 8.970416666666667, 9.093666666666666, 8.6505, 8.804833333333333, 7.932750000000001, 7.901666666666667, 7.727250000000001, 8.3205, 9.073333333333332, 9.185666666666668, 8.123, 7.613333333333333, 8.085083333333332, 7.58925, 9.195583333333333, 9.679833333333333, 9.6895, 8.523083333333334, 9.505833333333333, 8.6335, 9.847000000000001, 9.033499999999998, 7.374416666666668, 9.048666666666666, 9.17175, 9.620750000000001, 10.020416666666666, 9.090416666666666, 9.637333333333334, 9.494250000000001, 9.053416666666665, 9.128416666666665, 9.706000000000001, 9.9975, 9.642166666666666, 9.359166666666665, 8.008999999999999, 9.819583333333334, 9.227166666666665, 9.23525]\n",
            "Ghana\n",
            "[26.967249999999996, 26.903000000000002, 26.597250000000003, 27.039749999999998, 26.59766666666667, 26.79691666666667, 26.83566666666667, 26.940916666666666, 26.851, 26.689666666666664, 26.818916666666667, 26.716250000000002, 27.17475, 26.66625, 26.719083333333334, 26.863, 27.05966666666667, 27.07591666666667, 26.5595, 26.943, 26.901250000000005, 26.79025, 26.607083333333335, 27.12533333333334, 27.089250000000003, 26.516083333333338, 27.149083333333337, 27.390250000000005, 27.011250000000004, 26.710416666666664, 27.166583333333335, 27.061916666666672, 26.866333333333326, 27.123749999999998, 26.743916666666664, 27.091999999999995, 26.692000000000004, 26.929666666666662, 26.784000000000002, 26.75475, 26.502166666666668, 26.4515, 26.43325, 26.72208333333333, 26.84575, 26.884583333333335, 26.825416666666666, 26.683083333333332, 26.663583333333335, 26.9145, 26.53408333333334, 26.607, 26.90983333333334, 26.583416666666665, 26.73175, 27.125416666666666, 27.142916666666665, 26.60983333333333, 26.85666666666667, 27.372, 26.699166666666667, 26.570250000000005, 26.380333333333336, 27.019666666666666, 26.81416666666667, 27.144666666666666, 27.079416666666663, 27.018166666666662, 26.801000000000002, 27.317666666666668, 27.17716666666667, 26.93891666666666, 26.891916666666663, 27.782749999999997, 27.244250000000005, 27.001, 27.24475, 26.969416666666664, 26.833250000000003, 27.088916666666666, 26.96608333333334, 27.212249999999997, 27.13083333333333, 27.072916666666668, 27.6635, 27.119916666666665, 27.245916666666663, 27.27875, 27.401083333333332, 27.5335, 27.415833333333335, 27.60116666666667, 27.58158333333333, 27.62766666666667, 27.367833333333333, 27.557583333333337, 27.935, 27.59975, 27.2795, 27.717500000000005]\n",
            "Greece\n",
            "[14.28275, 15.023833333333334, 15.759750000000002, 15.011333333333335, 15.011833333333334, 14.681333333333335, 14.447583333333332, 14.479416666666667, 15.108500000000001, 15.40625, 14.922916666666667, 15.0105, 15.433333333333332, 15.77075, 15.002583333333332, 14.347583333333334, 15.248916666666668, 14.902833333333332, 14.937999999999997, 14.145250000000003, 15.552666666666667, 15.305833333333332, 15.266583333333335, 15.582833333333333, 14.88725, 15.305166666666667, 14.1425, 14.608250000000004, 14.548666666666664, 15.075916666666666, 14.734833333333333, 15.066249999999998, 15.615999999999998, 15.636499999999998, 14.637500000000001, 14.381750000000002, 15.639000000000001, 15.572249999999999, 15.86425, 14.530666666666667, 14.775416666666667, 15.4425, 14.42225, 15.042583333333333, 15.370249999999999, 14.407416666666665, 15.506083333333331, 15.348333333333334, 15.454416666666667, 15.323083333333335, 14.645250000000003, 14.61616666666667, 15.65766666666667, 14.858833333333331, 15.1145, 15.03875, 15.164916666666668, 14.664000000000001, 14.70375, 14.696416666666666, 14.686416666666666, 14.728583333333333, 14.208499999999999, 15.298, 14.620000000000003, 15.156500000000001, 14.556916666666668, 14.946499999999999, 14.762416666666667, 14.610333333333331, 14.878916666666663, 15.218000000000002, 15.136499999999998, 14.906833333333333, 15.091833333333334, 14.878916666666663, 15.499333333333333, 14.412833333333333, 14.785333333333334, 15.040583333333332, 16.044666666666664, 15.102250000000003, 14.84675, 14.763250000000001, 15.506083333333336, 15.99216666666667, 15.673333333333332, 15.931583333333334, 15.622333333333335, 15.472583333333333, 15.455666666666668, 15.175333333333334, 15.21266666666667, 16.083250000000003, 16.054916666666667, 15.956166666666666, 16.371250000000003, 15.261333333333331, 16.0395, 17.1535]\n",
            "Greenland\n",
            "[-20.32675, -18.94991666666667, -18.276166666666665, -19.079833333333337, -20.097916666666666, -19.035750000000004, -19.683749999999996, -19.664250000000003, -19.101833333333335, -17.978583333333336, -18.438, -18.298333333333332, -17.852666666666664, -17.892666666666667, -16.851166666666668, -16.698666666666668, -17.01425, -17.748083333333334, -16.874333333333336, -16.684416666666667, -17.582666666666665, -17.465666666666667, -17.206833333333332, -17.464499999999997, -17.819750000000003, -16.734916666666667, -16.990750000000002, -17.107750000000003, -17.60075, -18.846333333333334, -18.619333333333334, -17.583000000000002, -17.309083333333337, -16.34583333333333, -18.91758333333333, -19.159833333333335, -18.12675, -18.963916666666673, -17.87475, -18.38475, -17.915916666666668, -18.3405, -18.463000000000005, -17.766333333333332, -17.955666666666666, -18.415666666666667, -17.464250000000003, -18.990333333333336, -17.427833333333336, -17.72575, -18.574416666666668, -17.530583333333333, -18.84241666666667, -18.5835, -18.818916666666667, -18.392083333333336, -18.738166666666668, -19.7105, -18.818, -19.27358333333333, -18.205666666666666, -19.524916666666666, -18.025333333333332, -18.150249999999996, -18.448083333333333, -18.584999999999997, -17.515416666666667, -18.341083333333334, -18.990666666666666, -20.44683333333333, -19.326, -17.56983333333333, -18.131666666666664, -18.71925, -17.8635, -19.368, -18.43791666666667, -18.371333333333336, -19.5845, -19.267166666666668, -18.641916666666663, -18.239500000000003, -17.300333333333334, -17.997833333333332, -17.139, -18.25425, -17.367916666666666, -17.596416666666666, -16.82041666666667, -16.25625, -17.301166666666663, -16.15125, -17.114333333333335, -17.074166666666667, -17.389916666666668, -17.316416666666672, -15.546333333333335, -17.174333333333333, -16.77225, -15.40975]\n",
            "Grenada\n",
            "[26.590000000000003, 26.794416666666667, 26.386916666666668, 26.074916666666667, 26.27525, 26.709416666666666, 26.346666666666664, 26.34991666666666, 26.269999999999996, 26.318916666666667, 26.693666666666672, 26.37391666666667, 26.886916666666668, 26.890749999999997, 26.794750000000004, 26.627750000000002, 26.802583333333335, 27.08441666666667, 26.889750000000006, 26.552083333333332, 26.61308333333334, 26.327916666666663, 26.631250000000005, 26.83066666666667, 26.635083333333338, 26.693166666666666, 27.240166666666664, 27.319416666666672, 27.231166666666663, 26.786083333333334, 26.87075, 26.63575, 26.701250000000005, 26.83583333333333, 26.752416666666665, 26.642416666666673, 26.460749999999994, 26.86466666666667, 27.199916666666663, 27.085333333333335, 26.82225, 26.87091666666667, 26.783833333333334, 26.87308333333333, 27.385583333333333, 27.12783333333334, 27.208916666666667, 27.157083333333333, 27.15675, 27.220916666666668, 26.891666666666666, 26.943499999999997, 27.060916666666667, 26.759333333333334, 26.74625, 27.423416666666668, 27.089583333333337, 26.665666666666667, 26.955166666666667, 27.053416666666664, 26.706333333333333, 26.66358333333333, 26.681250000000002, 27.095416666666665, 27.256249999999998, 27.191166666666664, 27.410749999999997, 27.4365, 27.0755, 27.339999999999993, 26.939999999999998, 26.742833333333333, 26.888916666666663, 27.652, 27.331249999999997, 27.000666666666664, 27.205666666666662, 27.14166666666667, 27.157083333333336, 27.34841666666666, 27.251000000000005, 27.635333333333335, 27.286250000000006, 27.452333333333332, 27.945999999999994, 27.463916666666666, 27.190916666666666, 27.507166666666667, 27.531166666666664, 27.7165, 27.474749999999997, 27.907999999999998, 27.74366666666666, 27.590999999999998, 27.363666666666663, 27.62675, 28.10891666666667, 27.66208333333333, 27.636416666666666, 27.612875000000003]\n",
            "Guadeloupe\n",
            "[26.132833333333334, 26.382750000000005, 25.948083333333333, 25.724249999999998, 25.97408333333333, 26.291749999999997, 25.980333333333334, 26.136083333333332, 26.070333333333338, 26.04825000000001, 26.260416666666668, 26.05716666666667, 26.490500000000008, 26.285083333333336, 26.390333333333334, 26.054833333333335, 26.456833333333332, 26.766916666666663, 26.483500000000006, 26.124333333333336, 26.087000000000003, 26.185583333333337, 26.19458333333333, 26.475583333333336, 26.070083333333333, 26.324166666666667, 26.659999999999993, 26.821, 26.72941666666667, 26.242, 26.325083333333335, 26.03566666666666, 26.303583333333332, 26.671583333333334, 26.47008333333334, 26.135166666666663, 25.948166666666665, 26.431583333333336, 26.641999999999996, 26.7495, 26.335499999999996, 26.51691666666667, 26.311999999999998, 26.526749999999996, 26.989499999999996, 26.773416666666666, 26.846666666666668, 26.603916666666667, 26.656750000000002, 26.794416666666667, 26.603000000000005, 26.346666666666668, 26.520166666666665, 26.258, 26.312583333333333, 26.794999999999998, 26.631416666666667, 26.290833333333335, 26.47558333333333, 26.762249999999998, 26.251833333333334, 26.237250000000003, 26.157833333333333, 26.718249999999998, 26.748, 26.57541666666667, 27.012333333333334, 26.952499999999997, 26.5945, 26.957083333333333, 26.485583333333334, 26.49383333333334, 26.595583333333334, 27.126416666666668, 26.84875, 26.585166666666666, 26.832916666666673, 26.77541666666667, 26.800833333333333, 26.842833333333335, 26.826083333333333, 27.257249999999996, 26.851916666666668, 27.19725, 27.5005, 27.014999999999997, 26.788333333333338, 27.145249999999994, 27.232916666666668, 27.386750000000006, 27.0415, 27.509083333333326, 27.360583333333334, 27.382416666666668, 26.861666666666668, 27.164666666666665, 27.655666666666672, 27.1765, 27.318250000000003, 27.156750000000002]\n",
            "Guam\n",
            "[26.68675, 26.777916666666666, 26.688, 26.262749999999997, 26.330333333333332, 26.745583333333332, 26.565916666666666, 26.472499999999997, 26.40891666666667, 26.46891666666667, 26.440583333333333, 26.474500000000003, 26.843083333333336, 26.89441666666667, 26.852249999999998, 26.515416666666667, 26.667083333333334, 26.897499999999997, 26.807083333333328, 26.822666666666663, 26.82041666666667, 26.748499999999996, 26.903166666666667, 26.93525, 26.93941666666667, 26.90608333333333, 26.858499999999996, 27.098250000000004, 27.036749999999998, 26.69575, 26.85666666666667, 26.95058333333333, 26.903333333333336, 27.17625, 26.94825, 26.934, 26.87275, 27.226, 27.051750000000002, 27.253333333333334, 27.274416666666664, 26.897166666666674, 26.90425, 27.159750000000003, 27.112166666666667, 27.329916666666666, 26.97583333333333, 26.858166666666673, 27.03233333333333, 26.787000000000003, 26.787000000000003, 26.862916666666663, 26.99225, 26.822000000000003, 26.702416666666664, 26.957916666666662, 26.992083333333337, 26.9335, 26.76291666666667, 27.2525, 27.210916666666673, 27.086583333333333, 26.968416666666666, 27.207166666666666, 27.077250000000003, 27.195333333333334, 27.302083333333332, 27.520083333333332, 27.05725, 27.5605, 27.77841666666667, 27.467833333333335, 27.320166666666665, 27.392083333333332, 27.593999999999994, 27.42708333333334, 27.273833333333332, 27.226333333333333, 27.115416666666665, 27.24275, 27.360083333333332, 27.227249999999998, 27.38333333333333, 27.41158333333333, 27.659666666666666, 27.586333333333332, 27.48166666666667, 27.595000000000002, 27.405500000000004, 27.265333333333334, 27.54641666666667, 27.465666666666667, 27.42883333333334, 27.402083333333337, 27.48391666666667, 27.387249999999998, 27.250416666666666, 27.248916666666673, 27.39158333333333, 27.658875000000002]\n",
            "Guatemala\n",
            "[22.886583333333334, 23.28916666666667, 22.77983333333334, 22.60291666666667, 23.07191666666667, 23.26008333333333, 23.00775, 23.182833333333335, 23.292333333333332, 23.196333333333328, 23.241000000000003, 23.039916666666667, 23.282333333333337, 23.133583333333334, 23.11225, 23.3035, 23.487583333333333, 23.200000000000003, 23.331833333333332, 23.418083333333332, 23.400999999999996, 23.1745, 23.389083333333335, 23.257, 22.889166666666668, 23.021, 23.073999999999998, 23.504749999999998, 23.404749999999996, 23.050083333333337, 23.235250000000004, 23.46341666666666, 23.768416666666667, 23.80566666666667, 23.597916666666666, 23.374166666666664, 22.901749999999996, 23.493, 23.527, 23.83508333333333, 23.07825, 23.18875, 23.007500000000004, 23.460583333333332, 23.68283333333334, 23.47275, 23.355833333333337, 23.439916666666665, 23.14225, 23.211333333333332, 23.449916666666667, 23.384916666666665, 23.1495, 23.1495, 23.01816666666667, 23.73725, 23.306250000000002, 23.322833333333335, 23.721666666666675, 23.636333333333337, 23.115166666666667, 23.41875, 22.982916666666668, 23.509583333333335, 23.508250000000004, 23.565250000000002, 23.678833333333333, 23.37566666666667, 23.776666666666667, 23.889, 23.28975, 23.32316666666667, 23.397000000000006, 23.681083333333333, 23.64725, 23.310083333333335, 23.599500000000003, 23.877583333333334, 23.790750000000003, 23.776333333333337, 24.021666666666672, 23.960666666666665, 23.45008333333333, 24.07683333333333, 24.306499999999996, 23.41841666666667, 23.428833333333333, 23.584416666666673, 23.833583333333333, 23.99383333333334, 23.797916666666666, 23.94825, 23.80825, 23.8185, 23.482083333333335, 23.939916666666665, 23.687583333333333, 23.82083333333333, 23.848166666666668, 24.291333333333334]\n",
            "Guernsey\n",
            "[11.19225, 10.666916666666665, 10.755583333333334, 9.997000000000002, 11.043666666666667, 10.267999999999999, 11.198583333333334, 12.027333333333333, 10.463666666666668, 10.856, 10.775166666666665, 10.638499999999999, 11.297916666666666, 10.80175, 11.369083333333336, 10.747166666666667, 11.170333333333332, 10.665666666666667, 10.86425, 11.160916666666667, 11.250749999999998, 11.004083333333334, 10.943583333333335, 11.308166666666667, 11.266583333333335, 11.012, 10.698749999999999, 10.40925, 10.596, 11.660583333333333, 11.0645, 11.673, 10.852333333333334, 11.510166666666665, 11.606249999999998, 12.126833333333336, 11.209333333333333, 10.95125, 10.951500000000001, 11.210166666666666, 10.804583333333333, 11.147583333333335, 10.292, 11.506916666666667, 11.047833333333331, 12.020749999999998, 11.313833333333333, 11.70575, 10.3605, 9.803500000000001, 10.916916666666667, 10.56775, 11.476666666666668, 11.145916666666666, 10.990166666666667, 11.1775, 11.051083333333333, 11.21825, 10.718749999999998, 11.115833333333335, 11.129, 11.415166666666666, 11.5645, 11.074166666666668, 10.935000000000002, 10.587750000000002, 10.825166666666666, 11.18125, 11.661416666666668, 11.568666666666667, 11.368916666666669, 10.698416666666668, 10.396833333333332, 10.688, 11.60225, 12.359416666666666, 12.336500000000001, 10.890583333333332, 11.448916666666664, 11.187666666666665, 12.080666666666668, 12.187083333333332, 11.016916666666667, 12.098666666666666, 11.846166666666667, 12.34525, 11.918999999999999, 11.876416666666664, 12.245083333333334, 12.2355, 11.950333333333333, 12.050083333333333, 12.18725, 12.227666666666666, 11.761583333333334, 11.73258333333333, 10.960833333333333, 12.49575, 11.644333333333336, 10.803624999999998]\n",
            "Guinea Bissau\n",
            "[26.596999999999998, 26.85591666666667, 26.5975, 26.363666666666663, 26.37875, 26.623083333333337, 26.56758333333333, 26.711583333333337, 26.47125, 26.8545, 26.546500000000005, 26.707333333333334, 27.145416666666666, 26.735249999999994, 26.593499999999995, 26.540916666666664, 26.51166666666667, 27.08833333333334, 26.74775, 26.854416666666665, 26.608750000000004, 26.60675, 26.77916666666667, 27.017083333333336, 26.805000000000003, 26.695583333333335, 26.913916666666665, 27.1065, 26.808583333333335, 26.563833333333335, 27.025666666666663, 27.188500000000005, 26.724499999999995, 26.932500000000005, 26.600833333333338, 26.86775, 26.633583333333334, 26.690499999999997, 26.704916666666673, 26.882416666666668, 26.573333333333334, 26.80316666666667, 26.568833333333334, 26.674666666666667, 26.97266666666667, 26.75175, 26.8355, 26.79958333333333, 26.840083333333336, 27.078499999999995, 26.770333333333337, 26.505666666666666, 26.926583333333337, 26.49325, 26.65433333333334, 27.4335, 27.225000000000005, 26.686500000000006, 26.98566666666667, 27.19483333333333, 26.5975, 26.568416666666668, 26.490083333333335, 27.15766666666666, 26.887416666666667, 27.211250000000003, 27.3105, 27.208583333333333, 26.956833333333332, 27.7, 27.143416666666663, 27.137583333333335, 27.014583333333334, 27.545833333333338, 27.28216666666667, 27.034166666666664, 27.3635, 27.354333333333333, 27.245500000000003, 27.4525, 27.182666666666666, 27.373333333333335, 27.493000000000006, 27.436000000000003, 27.97233333333334, 27.149916666666666, 27.288833333333333, 27.66358333333333, 27.79516666666667, 27.463583333333332, 27.633333333333336, 27.959, 27.352166666666673, 27.51825, 27.583666666666662, 27.310416666666665, 27.918916666666664, 27.491083333333336, 27.4815, 27.90675]\n",
            "Guinea\n",
            "[25.488000000000003, 25.59833333333334, 25.33366666666667, 25.19258333333333, 25.127750000000002, 25.371999999999996, 25.381250000000005, 25.375833333333333, 25.306833333333334, 25.41841666666667, 25.234416666666664, 25.372083333333336, 25.707916666666666, 25.38591666666667, 25.29733333333333, 25.399999999999995, 25.458333333333332, 25.654916666666665, 25.291250000000005, 25.479833333333332, 25.464000000000002, 25.313000000000002, 25.323666666666668, 25.681500000000003, 25.526750000000003, 25.464833333333335, 25.801, 25.898666666666667, 25.6005, 25.274583333333336, 25.71666666666667, 25.66208333333333, 25.470333333333333, 25.8055, 25.407250000000005, 25.608750000000004, 25.325583333333338, 25.470166666666668, 25.469499999999996, 25.648583333333335, 25.209166666666665, 25.33758333333334, 25.339583333333337, 25.52883333333334, 25.725833333333338, 25.65833333333333, 25.63466666666667, 25.431500000000003, 25.446666666666673, 25.774333333333335, 25.49783333333333, 25.373583333333332, 25.6155, 25.29008333333333, 25.573833333333337, 26.010583333333333, 25.81758333333333, 25.439916666666665, 25.743583333333333, 26.03675, 25.467249999999996, 25.338583333333336, 25.244333333333334, 25.79975, 25.662833333333335, 25.9315, 26.082250000000002, 25.862, 25.581666666666667, 26.18858333333333, 25.82541666666667, 25.819083333333335, 25.5275, 26.306583333333336, 25.932333333333332, 25.734999999999996, 26.01116666666667, 26.050666666666668, 25.78408333333334, 26.027833333333334, 25.755416666666665, 25.946083333333334, 26.10075, 25.985666666666663, 26.519666666666666, 25.841916666666673, 25.969166666666666, 26.288499999999996, 26.514833333333332, 26.409750000000003, 26.404166666666665, 26.50725, 26.120583333333332, 26.317333333333334, 26.287750000000003, 26.325666666666667, 26.59725, 26.343, 26.06316666666667, 26.686749999999996]\n",
            "Guyana\n",
            "[25.8455, 26.071833333333334, 25.662916666666664, 25.18925, 25.40025, 25.857666666666663, 25.626083333333327, 25.514583333333334, 25.532166666666665, 25.50425, 25.663750000000004, 25.671833333333336, 26.187833333333334, 25.838333333333335, 25.944666666666674, 25.675, 25.8305, 26.295666666666666, 26.121750000000002, 25.794583333333332, 25.678833333333333, 25.9345, 25.989916666666673, 26.13191666666667, 25.916666666666668, 25.888166666666674, 26.479833333333335, 26.41558333333333, 26.361166666666666, 25.895749999999996, 26.069583333333338, 25.99575, 25.916666666666668, 26.089916666666664, 25.92791666666666, 25.77033333333333, 26.023750000000003, 26.22575, 26.411999999999995, 26.347083333333334, 25.969749999999994, 25.98733333333334, 25.870499999999996, 26.30316666666667, 26.727166666666673, 26.248999999999995, 26.15833333333333, 26.18016666666667, 26.275750000000002, 26.280999999999995, 26.39566666666667, 26.267833333333332, 26.446749999999998, 26.013416666666668, 25.907583333333335, 26.70866666666667, 26.261166666666657, 25.628666666666664, 26.092166666666667, 26.137833333333333, 25.84091666666667, 25.876166666666666, 26.00408333333333, 26.293500000000005, 26.306166666666666, 26.402500000000003, 26.45575, 26.204499999999996, 26.353083333333334, 26.653750000000002, 25.887249999999995, 25.973666666666674, 26.291833333333333, 26.912833333333335, 26.409250000000004, 26.113666666666663, 26.565750000000005, 26.44175, 26.503583333333335, 26.31041666666667, 26.430250000000004, 26.888, 26.487583333333337, 26.736166666666662, 27.138499999999997, 26.423750000000002, 26.393583333333336, 26.576999999999998, 26.60808333333333, 27.003666666666664, 26.8715, 27.068333333333328, 26.821083333333334, 26.70875, 26.619000000000003, 27.101583333333338, 27.116083333333336, 26.683416666666663, 26.800166666666666, 26.687500000000004]\n",
            "Haiti\n",
            "[26.227166666666673, 26.467750000000006, 25.77191666666667, 25.529, 25.79075, 26.354750000000006, 26.28266666666667, 26.01341666666667, 25.988166666666668, 26.157583333333335, 26.422749999999997, 26.174833333333336, 26.65291666666667, 26.36883333333333, 26.38525, 26.244250000000005, 26.384083333333333, 26.456499999999995, 26.36725, 26.238500000000002, 26.10408333333333, 26.07675, 26.491666666666664, 26.49566666666667, 26.261750000000003, 26.28533333333333, 26.715833333333336, 26.87375, 26.730166666666673, 26.34283333333333, 26.2835, 26.151999999999997, 26.351916666666668, 26.654, 26.859083333333334, 26.34183333333333, 25.9605, 26.195999999999998, 26.539916666666667, 26.7205, 26.380666666666666, 26.009583333333335, 26.168916666666664, 26.56375000000001, 26.685000000000002, 26.840666666666667, 26.781583333333334, 26.530083333333337, 26.471333333333334, 26.513583333333333, 26.548500000000004, 26.335250000000002, 26.51325, 26.567499999999995, 26.5325, 26.791750000000004, 26.448333333333338, 26.21366666666667, 26.442999999999998, 26.58125, 26.19816666666667, 26.405, 26.322249999999997, 26.758666666666667, 26.707333333333334, 26.5265, 27.030833333333334, 26.75583333333333, 26.762666666666664, 27.05208333333334, 26.512166666666662, 26.51875, 26.663416666666677, 26.95241666666666, 26.88541666666666, 26.656666666666666, 26.942916666666665, 26.854000000000003, 26.67183333333333, 26.619583333333335, 27.105249999999998, 27.104249999999997, 26.65608333333334, 27.54583333333333, 27.395416666666673, 26.850166666666667, 26.598583333333334, 27.013750000000005, 27.24966666666666, 27.334333333333337, 27.177666666666667, 27.180583333333335, 27.22225, 27.28825, 26.927166666666665, 27.145166666666665, 27.002333333333336, 26.943583333333336, 27.045083333333338, 27.031555555555556]\n",
            "Heard Island And Mcdonald Islands\n",
            "[0, 0, 0, 0, 0, 0, 0, 0, 0, 0, 0, 0, 0, 0, 0, 0, 0, 0, 0, 0, 0, 0, 0, 0, 0, 0, 0, 0, 0, 0, 0, 0, 0, 0, 1.0299, 1.3101999999999998, 1.5833636363636365, 3.008083333333333, 2.4945000000000004, 2.2360833333333336, 2.4960833333333334, 2.6507500000000004, 2.529666666666667, 2.1620000000000004, 2.4205, 2.2039166666666663, 2.7587499999999996, 2.551083333333333, 2.066166666666667, 1.9605833333333333, 1.8358333333333334, 2.048166666666667, 2.3725, 2.0420833333333333, 2.781166666666666, 2.2260000000000004, 2.470833333333333, 2.6136666666666666, 2.3135, 2.6609999999999996, 2.60275, 2.673916666666667, 2.321416666666666, 2.468666666666667, 2.68675, 2.4604166666666667, 2.7835, 2.6320833333333336, 2.4455, 2.3915, 2.4281666666666664, 2.3259999999999996, 2.5803333333333334, 2.7329166666666667, 2.519, 2.9166666666666665, 2.755416666666667, 3.2314166666666666, 2.5665833333333334, 2.5933333333333333, 2.622166666666667, 2.8247500000000003, 2.7661666666666664, 2.977583333333333, 3.006083333333333, 2.655583333333333, 2.885, 2.8484999999999996, 2.8509166666666665, 3.250833333333333, 3.017916666666667, 2.9121666666666663, 2.8084166666666666, 2.6049166666666665, 3.08025, 2.601583333333333, 3.110583333333333, 2.7475833333333335, 3.0570833333333334, 3.1937499999999996]\n",
            "Honduras\n",
            "[24.563333333333336, 24.937249999999995, 24.37233333333334, 24.071833333333334, 24.548416666666665, 24.842666666666663, 24.617, 24.785916666666665, 24.826916666666666, 24.738583333333334, 24.821583333333333, 24.68791666666667, 24.942750000000004, 24.726583333333334, 24.683499999999995, 24.67975, 25.034499999999998, 24.92925, 24.915916666666664, 24.931583333333336, 24.974666666666668, 24.6825, 24.789666666666665, 24.736333333333334, 24.39675, 24.699666666666662, 24.718166666666672, 25.252166666666668, 24.90275, 24.782, 24.712416666666666, 24.74733333333333, 25.273999999999997, 25.46316666666667, 25.14583333333334, 24.6725, 24.371166666666667, 24.979833333333335, 24.935, 25.276416666666673, 24.795083333333327, 24.858666666666668, 24.512416666666667, 25.057166666666664, 25.376083333333337, 25.142416666666666, 24.902, 24.97208333333333, 24.708, 24.794916666666666, 24.98275, 25.040750000000003, 24.79008333333333, 24.762666666666664, 24.585499999999996, 25.186916666666665, 24.788416666666667, 24.751999999999995, 25.19866666666667, 25.11175, 24.645999999999997, 24.87066666666667, 24.67425, 25.194499999999994, 25.126666666666665, 25.18466666666667, 25.16875, 24.896333333333335, 25.177083333333332, 25.624666666666666, 24.881500000000003, 25.022166666666667, 24.9495, 25.313999999999997, 25.27116666666667, 24.916333333333338, 25.209500000000002, 25.337499999999995, 25.461583333333333, 25.291999999999998, 25.675833333333333, 25.832166666666666, 25.179333333333332, 25.83966666666667, 26.09925, 25.218833333333336, 25.153666666666666, 25.154749999999996, 25.43258333333333, 25.548750000000002, 25.463916666666666, 25.62641666666666, 25.589916666666667, 25.383416666666665, 25.107833333333335, 25.51858333333333, 25.245666666666665, 25.474249999999998, 25.260583333333326, 25.732333333333333]\n",
            "Hong Kong\n",
            "[23.081833333333332, 23.03683333333333, 22.3265, 21.914083333333334, 22.141499999999997, 22.654583333333335, 22.498500000000003, 22.640083333333333, 22.729499999999998, 22.809250000000002, 22.662499999999998, 22.25408333333333, 22.5005, 22.387250000000005, 23.00433333333333, 22.89533333333333, 22.612166666666667, 22.635333333333335, 22.397499999999997, 22.67483333333334, 22.084750000000003, 22.8105, 22.36825, 23.08991666666667, 22.91633333333333, 22.683750000000003, 23.122833333333332, 23.263749999999998, 23.089416666666665, 23.1225, 22.955333333333332, 22.549583333333334, 23.584666666666664, 22.57133333333333, 23.107, 23.273083333333332, 23.04941666666667, 22.71641666666667, 23.347499999999997, 23.150833333333335, 23.07683333333333, 22.894666666666666, 22.8025, 22.70375, 23.025083333333328, 23.214, 23.20341666666667, 23.023833333333332, 22.779166666666665, 23.134999999999994, 22.901, 23.023750000000003, 23.550083333333333, 22.653000000000002, 22.820083333333333, 22.609416666666664, 22.71291666666667, 22.654583333333335, 22.87216666666667, 23.361, 22.77125, 22.957250000000002, 22.52191666666667, 23.316416666666665, 22.936916666666665, 23.07341666666667, 23.141499999999997, 23.162750000000003, 22.970166666666668, 22.857083333333332, 22.44391666666667, 22.705166666666667, 22.912000000000003, 23.58458333333333, 22.84291666666667, 23.07625, 23.260583333333333, 23.334750000000003, 22.63225, 22.82825, 23.238750000000007, 22.548916666666667, 22.866833333333336, 23.00175, 23.73783333333333, 23.3985, 23.2015, 23.36791666666667, 23.598583333333334, 23.417, 23.247416666666666, 23.056916666666666, 23.536, 23.57166666666667, 22.901583333333335, 23.351166666666668, 23.143833333333333, 22.768166666666662, 23.217, 23.690375000000003]\n",
            "Hungary\n",
            "[9.009583333333333, 9.520999999999999, 10.476083333333333, 9.397083333333335, 10.004666666666667, 9.168166666666668, 9.965333333333334, 10.077666666666667, 8.930083333333334, 10.28225, 9.04075, 9.854, 10.488499999999998, 10.219416666666666, 9.854166666666666, 8.810666666666664, 10.524166666666668, 9.376333333333333, 9.4545, 8.631916666666667, 11.050916666666666, 9.800416666666669, 10.377749999999999, 10.418833333333334, 9.98875, 10.26925, 7.7878333333333325, 8.700416666666667, 8.912166666666666, 10.239416666666669, 9.713083333333335, 10.116083333333336, 10.483500000000001, 10.126166666666666, 10.140666666666666, 10.288833333333333, 10.680166666666667, 10.997166666666667, 10.117416666666669, 10.081583333333333, 9.110416666666667, 9.562249999999999, 8.701916666666666, 10.217083333333333, 10.266250000000001, 10.131416666666667, 10.240916666666667, 10.625166666666667, 9.327250000000001, 9.36825, 9.310500000000001, 9.089333333333334, 10.550749999999999, 10.322416666666667, 10.220583333333332, 9.548833333333333, 9.646916666666666, 9.991833333333334, 10.189749999999998, 9.753666666666666, 10.388916666666669, 10.522416666666667, 9.574083333333332, 10.298166666666667, 9.176499999999999, 10.271250000000002, 8.896916666666666, 10.058666666666667, 10.186583333333333, 10.615499999999999, 9.837166666666667, 9.092333333333334, 9.776666666666667, 9.53775, 10.224, 10.633750000000001, 10.920333333333334, 9.680166666666667, 10.996333333333332, 10.120916666666668, 11.545416666666666, 10.30275, 9.357000000000001, 9.871916666666666, 10.361833333333333, 10.655, 11.700333333333333, 10.523749999999998, 11.432083333333333, 10.597916666666668, 10.3115, 9.942583333333332, 10.629083333333336, 11.707250000000002, 11.531083333333335, 11.381083333333335, 10.347833333333334, 10.877, 11.293666666666667, 12.3015]\n",
            "Iceland\n",
            "[0.9295833333333334, 1.3195833333333333, 1.4058333333333335, 0.5820833333333332, 0.712166666666667, 0.6151666666666668, 1.3275, 0.9397500000000001, 1.4294999999999998, 1.3251666666666668, 1.4200000000000002, 1.548916666666667, 2.1206666666666667, 1.92075, 2.5070833333333327, 2.4924166666666663, 1.8782500000000002, 1.7771666666666668, 2.520666666666666, 3.1395, 2.501, 2.0348333333333337, 1.933666666666667, 2.1272499999999996, 2.3588333333333336, 2.9970833333333338, 2.02925, 2.883500000000001, 2.1903333333333332, 1.4136666666666666, 1.5847500000000005, 2.7228333333333326, 2.7665833333333336, 1.9719166666666668, 1.9395, 1.248333333333333, 1.8535000000000001, 1.184666666666667, 1.4396666666666667, 2.4113333333333333, 1.7818333333333332, 1.4442500000000003, 2.187583333333334, 1.88025, 1.7425000000000004, 2.1508333333333334, 2.5713333333333335, 2.003833333333333, 1.5171666666666666, 1.5729166666666667, 2.449666666666667, 1.4381666666666666, 1.091333333333333, 1.0142500000000003, 0.8940000000000001, 0.646833333333333, 1.0832500000000003, 1.3544166666666666, 2.5978333333333334, 1.1006666666666662, 2.370083333333333, 1.3686666666666667, 2.119166666666667, 1.5915833333333333, 1.7345833333333331, 0.2740833333333335, 1.8332499999999998, 0.6415000000000002, 1.34425, 0.8177499999999999, 2.05925, 1.410083333333333, 1.5449999999999997, 2.547, 1.2264166666666667, 1.3808333333333334, 1.7747500000000003, 2.5400833333333335, 1.7690833333333336, 1.7032499999999997, 1.5843333333333334, 1.0682500000000001, 2.3195000000000006, 2.223666666666667, 1.60775, 1.84225, 2.10325, 2.364916666666667, 2.6658333333333335, 3.3408333333333338, 2.9484166666666667, 2.2003333333333335, 2.6824999999999997, 2.5614166666666667, 2.3129166666666667, 2.464, 2.6764166666666664, 2.315416666666667, 2.463416666666667, 2.9202500000000002]\n",
            "India\n",
            "[23.8255, 24.29008333333334, 23.8255, 23.08108333333334, 23.771749999999997, 23.82516666666667, 23.955416666666668, 24.249250000000004, 23.904416666666663, 23.90925, 24.045999999999996, 23.662583333333334, 23.847333333333328, 23.773749999999996, 24.139, 23.971416666666666, 23.837, 24.24933333333333, 24.07858333333333, 23.560333333333332, 23.767416666666673, 23.76183333333334, 23.83483333333334, 23.707916666666673, 23.891916666666663, 23.99325, 23.90225, 24.67425, 24.2105, 23.90516666666667, 23.847916666666666, 23.67158333333333, 24.134416666666667, 24.2795, 24.19, 24.047250000000002, 23.659333333333333, 24.220666666666663, 24.3655, 24.561583333333335, 24.167166666666663, 23.952166666666667, 23.899666666666665, 24.026416666666666, 24.676333333333336, 24.266833333333334, 24.287166666666668, 23.815250000000002, 23.88475, 24.09575, 24.070499999999996, 24.09091666666667, 24.438583333333337, 23.992083333333337, 23.86475, 24.501166666666666, 24.074083333333334, 23.634000000000004, 24.272166666666667, 24.386583333333334, 24.175750000000004, 23.862166666666667, 24.199583333333333, 24.28891666666667, 24.00733333333333, 24.553583333333336, 24.59308333333333, 24.22841666666667, 24.21825, 23.938000000000002, 24.18508333333334, 24.48633333333333, 24.294500000000003, 24.789083333333338, 24.72775, 24.162333333333333, 24.17816666666667, 24.31175, 24.222916666666663, 24.408666666666672, 24.29641666666667, 24.429749999999995, 24.436916666666672, 24.04733333333333, 24.755416666666665, 24.659833333333335, 24.498, 24.581916666666668, 24.913, 24.649916666666666, 24.634583333333335, 24.49541666666667, 24.732083333333332, 24.649916666666666, 24.406000000000006, 25.146666666666658, 25.05083333333333, 24.41558333333333, 24.640833333333337, 25.41325]\n",
            "Indonesia\n",
            "[25.453083333333336, 25.723250000000004, 25.37, 25.267416666666673, 25.070333333333327, 25.436666666666667, 25.521833333333333, 25.38666666666667, 25.350000000000005, 25.311833333333336, 25.52866666666667, 25.34641666666667, 25.79391666666667, 25.63266666666667, 25.702249999999996, 25.481666666666666, 25.665083333333328, 25.936666666666667, 25.680583333333335, 25.636666666666667, 25.56683333333333, 25.627916666666664, 25.725083333333334, 25.78458333333333, 25.686999999999998, 25.618000000000006, 25.65625, 26.02133333333333, 26.16991666666667, 25.5665, 25.680666666666667, 25.705416666666668, 25.913749999999997, 26.123249999999995, 25.90941666666667, 25.75758333333334, 25.654250000000005, 26.08125, 26.078333333333337, 26.02891666666667, 25.816, 25.66066666666666, 25.672250000000002, 25.952333333333332, 26.169250000000005, 25.991, 26.02916666666667, 25.771666666666665, 25.78941666666667, 25.838583333333332, 25.8355, 25.701750000000004, 25.943916666666667, 25.83508333333333, 25.951083333333333, 26.113083333333336, 26.060166666666664, 25.79291666666667, 26.06191666666666, 26.221833333333336, 25.897083333333338, 25.898500000000002, 25.780833333333334, 25.902500000000003, 25.985083333333336, 26.060000000000002, 26.03025, 26.03091666666667, 25.941750000000003, 26.238333333333333, 25.77325, 25.994083333333336, 26.057166666666664, 26.368333333333336, 26.250666666666664, 26.054, 26.237833333333338, 26.075166666666664, 26.17016666666667, 26.138833333333334, 26.08425, 26.229666666666663, 26.215000000000003, 26.371916666666664, 26.75475, 26.133499999999998, 26.190250000000002, 26.32975, 26.529, 26.445500000000006, 26.43483333333333, 26.45375, 26.381750000000007, 26.29308333333334, 26.065250000000002, 26.455000000000002, 26.537000000000003, 26.202250000000003, 26.322083333333335, 26.467]\n",
            "Iran\n",
            "[17.74958333333333, 18.186083333333332, 16.990333333333332, 17.691833333333335, 16.994249999999997, 17.735166666666668, 16.474666666666668, 17.261416666666666, 17.992583333333332, 17.155999999999995, 17.702583333333333, 17.614750000000004, 17.597416666666668, 17.58416666666667, 17.188750000000002, 17.17866666666667, 17.18225, 17.136083333333335, 17.073916666666666, 17.220833333333335, 16.912750000000003, 17.592249999999996, 17.51758333333333, 17.50133333333333, 17.711916666666664, 17.647666666666666, 18.205916666666663, 18.412416666666665, 18.025666666666663, 17.262333333333334, 17.963916666666666, 17.29158333333333, 17.60466666666667, 18.31175, 17.552666666666664, 16.775500000000005, 16.90883333333333, 17.576166666666666, 17.552249999999997, 17.729833333333335, 17.665583333333334, 18.2235, 17.56758333333333, 16.86416666666667, 18.20525, 17.49308333333333, 17.89375, 17.739333333333335, 17.798, 18.258916666666668, 16.906333333333333, 17.752583333333334, 18.403166666666667, 17.28008333333333, 17.54825, 17.522916666666667, 18.452, 17.901416666666666, 16.42383333333333, 17.786583333333333, 16.98925, 17.44183333333333, 17.35291666666667, 18.28291666666667, 18.15125, 18.208666666666666, 18.328833333333336, 18.418249999999997, 17.32675, 17.95991666666667, 17.627916666666668, 18.111333333333338, 17.700666666666667, 18.39625, 18.512166666666662, 17.993083333333335, 18.426416666666668, 18.02925, 16.94975, 17.741083333333332, 18.386, 18.40791666666667, 18.206416666666666, 18.30325, 19.169916666666666, 19.15791666666667, 18.892083333333336, 19.47383333333334, 19.142416666666666, 18.915166666666668, 19.149916666666666, 18.806666666666665, 19.211916666666667, 18.74041666666667, 18.90491666666667, 19.1095, 20.09016666666667, 18.915416666666665, 18.959666666666664, 20.541000000000004]\n",
            "Iraq\n",
            "[21.32975, 22.055750000000003, 21.862083333333334, 22.044, 21.405833333333334, 22.014750000000003, 20.76991666666667, 21.275583333333334, 22.101416666666665, 21.812166666666666, 22.051500000000004, 21.575666666666667, 21.72366666666667, 21.886916666666668, 21.791500000000003, 21.95075, 22.258333333333336, 21.81516666666667, 21.55175, 21.075750000000003, 21.497583333333335, 22.45866666666667, 21.907, 22.28183333333334, 21.71541666666667, 21.78016666666667, 22.33208333333334, 22.0975, 22.117083333333337, 21.59358333333334, 22.063000000000002, 21.324833333333334, 21.724916666666672, 22.806750000000005, 21.32625, 21.055, 21.31175, 22.277666666666665, 22.300750000000004, 21.429333333333332, 22.282749999999997, 22.50075, 21.479749999999996, 21.55508333333334, 22.276333333333337, 21.290166666666668, 22.727500000000003, 21.939333333333334, 23.152250000000006, 22.331, 21.373250000000002, 22.181583333333336, 23.078166666666664, 21.077583333333337, 22.015583333333336, 22.39125, 22.602666666666668, 21.819916666666668, 21.17716666666667, 22.04008333333334, 21.653750000000002, 21.813416666666665, 21.57025, 22.21841666666667, 22.406750000000002, 23.28566666666666, 22.377583333333334, 22.419, 21.185166666666667, 21.534833333333335, 21.842, 22.203000000000003, 22.324333333333332, 22.60766666666667, 22.058583333333335, 22.338416666666664, 22.5415, 22.28033333333333, 20.68583333333333, 21.90308333333333, 22.642416666666666, 22.430999999999997, 23.01375, 21.921166666666668, 23.455416666666665, 23.493333333333336, 22.988833333333336, 23.517083333333336, 22.89558333333333, 22.95941666666667, 22.778916666666664, 22.696083333333334, 22.90433333333333, 23.015000000000004, 23.118166666666667, 22.998083333333337, 24.650333333333336, 22.593249999999998, 23.428916666666666, 24.240499999999997]\n",
            "Ireland\n",
            "[9.721916666666667, 9.0475, 9.379833333333334, 8.759583333333333, 9.574250000000001, 8.806916666666668, 9.630666666666668, 10.517000000000001, 9.049916666666666, 9.250166666666665, 9.421750000000001, 9.185083333333333, 9.8275, 9.414833333333332, 9.619416666666668, 9.475333333333333, 9.318583333333335, 9.53625, 9.757083333333332, 10.04225, 10.001083333333332, 9.670333333333334, 9.648166666666667, 9.539083333333332, 10.011750000000001, 9.87491666666667, 9.681333333333333, 9.313833333333333, 9.483416666666667, 10.056750000000001, 9.798, 10.444083333333333, 9.598, 9.50275, 10.074250000000001, 10.576583333333334, 9.461833333333333, 9.229750000000001, 9.377249999999998, 10.019583333333333, 9.438, 9.629583333333334, 9.405166666666666, 10.062083333333332, 9.699833333333334, 10.412916666666666, 9.673416666666666, 9.811083333333334, 9.064416666666666, 8.78825, 9.751, 9.068916666666667, 9.631333333333332, 9.491416666666668, 9.588833333333332, 9.332749999999999, 9.603583333333333, 10.086583333333332, 9.239583333333332, 9.816666666666666, 9.478666666666667, 10.063666666666666, 9.861583333333334, 9.612250000000001, 9.648583333333333, 8.8925, 9.545333333333332, 9.590916666666667, 9.846750000000002, 10.079500000000001, 9.784583333333334, 9.110666666666667, 8.733333333333334, 9.438666666666668, 9.865333333333336, 10.29575, 10.312666666666667, 9.825166666666668, 9.789, 9.641583333333333, 9.884833333333335, 10.518916666666666, 9.591166666666668, 10.6835, 10.4595, 10.458166666666669, 10.13075, 10.023083333333334, 10.420666666666667, 10.522416666666667, 10.439083333333334, 10.575750000000001, 10.654166666666667, 10.842666666666666, 10.15875, 10.157250000000001, 9.258166666666666, 10.345416666666667, 10.035833333333333, 9.97475]\n",
            "Isle Of Man\n",
            "[9.87575, 8.905666666666667, 9.29325, 8.704833333333333, 9.52425, 8.628833333333334, 9.628499999999999, 10.446583333333335, 8.788083333333333, 9.1065, 9.31875, 9.147916666666667, 9.744250000000001, 9.207166666666666, 9.474916666666667, 9.16225, 9.364583333333334, 9.204916666666668, 9.618333333333332, 10.042499999999999, 10.098916666666668, 9.69975, 9.456000000000001, 9.511166666666666, 10.12275, 9.82875, 9.28275, 9.155916666666666, 9.221416666666666, 9.998916666666668, 9.6595, 10.311833333333333, 9.487333333333334, 9.47875, 9.964416666666667, 10.564833333333333, 9.429916666666665, 9.213333333333333, 9.178666666666667, 10.097916666666668, 9.311416666666668, 9.42925, 9.163916666666667, 10.064250000000001, 9.463833333333332, 10.531833333333333, 9.784, 9.84125, 8.773333333333332, 8.594333333333333, 9.561833333333333, 9.006333333333334, 9.476583333333334, 9.624916666666666, 9.450583333333332, 9.256833333333335, 9.6285, 10.029916666666667, 9.348333333333333, 9.69375, 9.56525, 9.993916666666665, 9.916916666666667, 9.5535, 9.429916666666667, 8.789666666666667, 9.525666666666666, 9.291916666666669, 9.837583333333333, 9.961583333333333, 9.87175, 8.969083333333332, 8.780166666666666, 9.126750000000001, 9.894916666666667, 10.411500000000002, 10.519333333333334, 9.726999999999999, 9.905583333333333, 9.428416666666665, 9.876916666666666, 10.436583333333333, 9.332666666666666, 10.53775, 10.368666666666668, 10.522250000000001, 10.257583333333335, 9.971333333333332, 10.524166666666666, 10.574666666666667, 10.59608333333333, 10.576333333333332, 10.823666666666666, 10.809083333333334, 10.236666666666666, 10.294833333333333, 9.103249999999997, 10.708666666666666, 9.909916666666666, 9.230375]\n",
            "Israel\n",
            "[19.1405, 19.75783333333333, 19.912166666666668, 19.616249999999997, 19.430083333333336, 19.700833333333332, 19.01925, 18.977916666666673, 19.903333333333332, 19.957833333333337, 19.870249999999995, 19.741583333333335, 19.690833333333334, 20.011666666666667, 20.18483333333333, 19.682000000000002, 20.209999999999997, 19.934583333333332, 19.793916666666664, 19.403666666666666, 19.923916666666667, 20.32808333333333, 20.318083333333334, 20.382583333333333, 19.494083333333332, 20.18733333333333, 20.015083333333333, 20.186, 19.90525, 19.485666666666663, 19.7555, 19.24925, 19.978666666666665, 20.606250000000003, 19.201083333333333, 18.877083333333335, 19.70975, 20.27716666666667, 20.390666666666668, 19.45141666666667, 20.08308333333333, 20.56425, 19.778333333333332, 19.809, 20.235166666666668, 19.20525, 20.723166666666668, 19.616833333333336, 20.791083333333333, 20.604666666666663, 19.325083333333335, 19.935333333333332, 20.509083333333333, 19.080916666666667, 19.983416666666667, 20.335583333333336, 20.068666666666665, 19.649333333333335, 19.529666666666667, 19.7835, 19.693333333333335, 19.666333333333338, 19.608583333333332, 19.93566666666666, 20.192250000000005, 20.65775, 20.04075, 20.019416666666665, 19.31825, 19.200583333333334, 19.730416666666667, 20.216166666666666, 19.998166666666666, 19.951833333333333, 20.06025, 19.902, 20.129833333333334, 20.021916666666666, 19.028666666666666, 19.975416666666668, 20.500333333333334, 20.043333333333333, 20.52808333333333, 19.82316666666667, 20.966416666666664, 20.892166666666665, 20.230416666666667, 20.929750000000002, 20.728333333333335, 20.614, 20.4905, 20.437749999999998, 20.409166666666668, 20.701583333333332, 20.930083333333336, 20.831416666666666, 22.311166666666665, 20.331249999999997, 21.006083333333333, 21.222375]\n",
            "Italy\n",
            "[12.3405, 12.427583333333333, 13.01175, 12.292916666666665, 12.399833333333333, 12.169583333333334, 13.34141666666667, 13.044916666666666, 12.585916666666668, 13.003, 12.761249999999999, 12.570083333333335, 13.156500000000001, 13.439333333333332, 13.221166666666669, 12.424166666666666, 13.224166666666667, 12.718416666666668, 12.669416666666669, 12.39925, 13.323416666666667, 12.827583333333335, 12.973500000000001, 13.184916666666666, 12.69375, 12.696083333333334, 11.888416666666666, 12.045666666666667, 12.798083333333336, 13.693916666666667, 12.550083333333333, 13.35225, 13.3225, 13.600916666666665, 13.203916666666665, 13.354666666666668, 13.712583333333333, 13.344499999999998, 13.261250000000002, 13.041333333333334, 12.447916666666666, 13.030916666666668, 12.060833333333333, 13.048250000000001, 13.152000000000001, 13.08941666666667, 13.072833333333335, 13.570583333333333, 12.658000000000001, 12.60458333333333, 12.991333333333332, 12.455583333333331, 13.040583333333336, 13.137250000000002, 12.845250000000002, 12.629583333333334, 12.840583333333335, 12.788916666666667, 12.716833333333332, 12.798500000000002, 12.807583333333335, 12.937166666666668, 12.503166666666665, 13.03875, 12.373666666666667, 12.898166666666667, 12.239583333333336, 12.77675, 13.439916666666669, 13.188333333333333, 12.486333333333329, 13.058333333333332, 13.132833333333336, 13.176499999999999, 13.507666666666665, 13.329166666666666, 13.716916666666664, 12.853500000000002, 13.58175, 13.409666666666666, 14.284833333333333, 13.234083333333333, 13.006999999999998, 13.838833333333332, 13.662333333333336, 13.763, 14.1255, 13.954250000000002, 13.934, 14.296916666666668, 13.559833333333332, 13.028583333333332, 13.787333333333335, 14.073333333333336, 13.881250000000001, 14.052916666666667, 13.324916666666669, 14.173166666666665, 14.079, 14.165]\n",
            "Jamaica\n",
            "[26.02091666666667, 26.204666666666668, 25.78125, 25.477833333333336, 25.72933333333333, 26.17125, 26.055666666666664, 26.014, 26.032833333333333, 26.14033333333333, 26.323750000000004, 26.05525, 26.382916666666663, 26.269333333333332, 26.227833333333336, 26.147166666666664, 26.310750000000002, 26.34308333333333, 26.259749999999997, 25.952083333333334, 25.9045, 25.794833333333333, 26.179416666666665, 26.213750000000005, 25.99116666666666, 26.05875, 26.474750000000004, 26.646916666666666, 26.579583333333332, 26.252250000000004, 26.158833333333334, 26.066166666666664, 26.25958333333334, 26.405833333333334, 26.470833333333335, 26.037499999999998, 25.723000000000003, 26.142083333333332, 26.360833333333332, 26.516666666666676, 26.143333333333334, 26.04258333333333, 26.03466666666667, 26.24633333333333, 26.50225, 26.332416666666663, 26.463916666666666, 26.484333333333336, 26.11741666666667, 26.117833333333333, 26.405916666666666, 26.26666666666667, 26.182499999999994, 26.18641666666667, 26.194500000000005, 26.542583333333337, 26.15066666666667, 26.099083333333336, 26.406333333333333, 26.51025, 26.03375, 26.264750000000003, 26.297083333333337, 26.558000000000003, 26.39391666666667, 26.34033333333333, 26.66283333333334, 26.379583333333333, 26.660333333333337, 26.84641666666667, 26.355333333333334, 26.237833333333338, 26.320916666666665, 26.86283333333333, 26.736000000000004, 26.43841666666667, 26.740250000000003, 26.687833333333334, 26.720416666666665, 26.522999999999996, 26.911, 26.89391666666667, 26.474833333333333, 27.199166666666667, 27.235583333333334, 26.535666666666668, 26.46941666666667, 26.70308333333334, 27.00075, 27.06583333333333, 26.903833333333335, 26.834999999999997, 27.034166666666664, 27.013916666666663, 26.621499999999997, 26.860166666666668, 26.52125, 26.640583333333336, 26.88508333333333, 27.12533333333333]\n",
            "Japan\n",
            "[12.487166666666665, 12.06108333333333, 12.545333333333332, 11.412916666666666, 11.609166666666667, 11.951333333333332, 12.213500000000002, 11.57175, 12.078416666666667, 11.908499999999998, 11.642416666666664, 11.758583333333334, 11.302416666666666, 11.7355, 12.057916666666666, 11.774916666666668, 12.292750000000003, 11.489083333333333, 11.982749999999998, 11.953166666666666, 11.49875, 11.893083333333331, 11.547500000000001, 12.211166666666669, 12.081166666666668, 12.084083333333334, 11.987250000000001, 11.9185, 12.002166666666668, 11.994833333333332, 11.692166666666665, 11.138833333333332, 12.360666666666665, 11.333583333333332, 12.795916666666669, 12.102583333333333, 12.5895, 12.146666666666668, 11.939666666666666, 11.964666666666666, 12.223999999999998, 12.729, 12.019416666666666, 12.055333333333332, 12.57, 12.958166666666665, 12.599833333333335, 13.045500000000002, 12.466166666666666, 12.29325, 12.34975, 11.687916666666665, 12.134416666666667, 12.266333333333334, 12.190416666666664, 11.848999999999998, 11.929000000000002, 11.983416666666665, 12.592166666666666, 12.414749999999998, 11.7905, 12.337000000000002, 11.7475, 12.19825, 12.505333333333333, 12.842583333333332, 11.795083333333336, 11.629416666666664, 12.33633333333333, 12.121916666666666, 11.659916666666666, 12.281333333333336, 11.691416666666663, 12.543833333333334, 11.967666666666666, 12.91175, 13.590583333333333, 12.783166666666666, 12.484250000000001, 12.055166666666667, 13.229749999999997, 12.475416666666668, 12.082833333333335, 12.752416666666667, 13.244750000000002, 13.080083333333333, 12.833833333333336, 12.450000000000001, 12.837333333333333, 12.507, 13.435666666666668, 12.555916666666667, 12.757083333333334, 13.192166666666665, 12.874916666666666, 12.933833333333332, 13.215583333333333, 12.737749999999998, 12.565666666666667, 12.96475]\n",
            "Jersey\n",
            "[11.19225, 10.666916666666665, 10.755583333333334, 9.997000000000002, 11.043666666666667, 10.267999999999999, 11.198583333333334, 12.027333333333333, 10.463666666666668, 10.856, 10.775166666666665, 10.638499999999999, 11.297916666666666, 10.80175, 11.369083333333336, 10.747166666666667, 11.170333333333332, 10.665666666666667, 10.86425, 11.160916666666667, 11.250749999999998, 11.004083333333334, 10.943583333333335, 11.308166666666667, 11.266583333333335, 11.012, 10.698749999999999, 10.40925, 10.596, 11.660583333333333, 11.0645, 11.673, 10.852333333333334, 11.510166666666665, 11.606249999999998, 12.126833333333336, 11.209333333333333, 10.95125, 10.951500000000001, 11.210166666666666, 10.804583333333333, 11.147583333333335, 10.292, 11.506916666666667, 11.047833333333331, 12.020749999999998, 11.313833333333333, 11.70575, 10.3605, 9.803500000000001, 10.916916666666667, 10.56775, 11.476666666666668, 11.145916666666666, 10.990166666666667, 11.1775, 11.051083333333333, 11.21825, 10.718749999999998, 11.115833333333335, 11.129, 11.415166666666666, 11.5645, 11.074166666666668, 10.935000000000002, 10.587750000000002, 10.825166666666666, 11.18125, 11.661416666666668, 11.568666666666667, 11.368916666666669, 10.698416666666668, 10.396833333333332, 10.688, 11.60225, 12.359416666666666, 12.336500000000001, 10.890583333333332, 11.448916666666664, 11.187666666666665, 12.080666666666668, 12.187083333333332, 11.016916666666667, 12.098666666666666, 11.846166666666667, 12.34525, 11.918999999999999, 11.876416666666664, 12.245083333333334, 12.2355, 11.950333333333333, 12.050083333333333, 12.18725, 12.227666666666666, 11.761583333333334, 11.73258333333333, 10.960833333333333, 12.49575, 11.644333333333336, 10.803624999999998]\n",
            "Jordan\n",
            "[18.832000000000004, 19.480583333333332, 19.6015, 19.3745, 19.085333333333335, 19.46391666666667, 18.66858333333333, 18.751166666666666, 19.621916666666667, 19.64858333333333, 19.58075, 19.405833333333337, 19.35216666666667, 19.675833333333333, 19.863916666666668, 19.478583333333336, 19.970333333333333, 19.633499999999998, 19.447416666666665, 19.029166666666665, 19.536416666666668, 20.07766666666667, 19.961166666666664, 20.13275, 19.27425, 19.773083333333336, 19.739333333333338, 19.8275, 19.612750000000002, 19.165333333333333, 19.545666666666666, 18.997416666666666, 19.612666666666666, 20.371750000000002, 18.903666666666663, 18.582583333333332, 19.40116666666667, 20.028666666666666, 20.145, 19.16058333333333, 19.894499999999997, 20.327583333333333, 19.413833333333333, 19.48675, 19.906416666666665, 18.861083333333337, 20.470583333333334, 19.335083333333333, 20.7025, 20.344666666666665, 19.022333333333336, 19.752, 20.32075, 18.644499999999997, 19.691166666666664, 20.136416666666666, 19.844333333333335, 19.331666666666667, 19.116000000000003, 19.49775, 19.378500000000003, 19.271583333333332, 19.229833333333332, 19.711249999999996, 19.99683333333333, 20.50825, 19.845, 19.769916666666663, 18.850916666666667, 18.918, 19.35741666666667, 19.916, 19.74175, 19.896583333333336, 19.811, 19.753666666666668, 19.921583333333334, 19.791749999999997, 18.604916666666664, 19.679916666666667, 20.265583333333336, 19.847916666666666, 20.422000000000004, 19.484583333333333, 20.773583333333335, 20.621166666666667, 20.04525, 20.730833333333333, 20.322833333333335, 20.33141666666667, 20.25525, 20.13741666666667, 20.173333333333332, 20.43975, 20.572750000000003, 20.498500000000003, 22.227999999999998, 20.114499999999996, 20.820249999999998, 21.319125]\n",
            "Kazakhstan\n",
            "[5.774916666666667, 6.314166666666668, 4.795666666666667, 5.501249999999999, 4.489166666666666, 4.624083333333334, 4.082833333333333, 5.21, 5.990749999999999, 5.671250000000001, 5.191583333333334, 6.341083333333333, 5.3066666666666675, 5.049250000000001, 4.157833333333333, 3.920083333333333, 4.812499999999999, 4.392333333333335, 5.610916666666667, 4.6194999999999995, 3.8223333333333334, 4.963083333333333, 5.225166666666667, 4.622416666666667, 5.445999999999999, 5.615500000000001, 6.107749999999999, 5.4675, 4.974083333333335, 4.694416666666666, 6.0646666666666675, 4.392, 5.17275, 5.476416666666668, 6.0895, 4.578250000000001, 4.267416666666667, 5.319583333333333, 4.88525, 5.552499999999999, 3.9738333333333338, 6.056583333333336, 4.843249999999999, 5.381749999999998, 5.339083333333334, 4.494583333333333, 4.318833333333334, 6.357583333333334, 6.529583333333331, 6.677416666666667, 4.974583333333334, 6.236166666666667, 5.78025, 5.923583333333333, 5.392, 3.7237500000000003, 5.547000000000001, 6.325166666666667, 4.3566666666666665, 6.086083333333335, 5.2562500000000005, 6.527583333333335, 4.447166666666667, 6.077666666666666, 6.040166666666665, 6.119583333333334, 5.7067499999999995, 6.715250000000001, 6.257583333333334, 7.660083333333333, 4.852333333333334, 5.49775, 5.68725, 5.526083333333332, 6.377666666666667, 6.517000000000002, 6.555750000000001, 6.471, 5.809666666666668, 4.702249999999999, 5.536500000000001, 7.335333333333335, 5.100833333333333, 7.065333333333334, 6.248916666666667, 6.9755, 6.761416666666668, 6.813083333333334, 7.301583333333334, 6.131416666666669, 7.393000000000001, 6.998833333333333, 6.869833333333333, 7.155166666666666, 7.028916666666667, 6.382083333333333, 6.710000000000001, 5.69625, 6.075416666666668, 8.937249999999999]\n",
            "Kenya\n",
            "[24.29591666666667, 24.265166666666662, 23.755499999999998, 23.501833333333334, 23.77208333333333, 24.088083333333334, 23.54433333333333, 23.718083333333336, 23.558583333333335, 23.536250000000006, 23.81933333333333, 23.819, 23.926666666666666, 23.905333333333342, 23.98241666666667, 24.1035, 24.034166666666664, 24.45775, 23.98925, 24.23216666666667, 24.207833333333337, 24.150583333333334, 24.003333333333334, 23.979833333333332, 23.900166666666667, 24.15816666666667, 24.331, 24.446250000000003, 24.071500000000004, 24.130416666666665, 24.165833333333328, 24.255166666666664, 24.139916666666668, 23.96925, 24.070166666666665, 24.373749999999998, 23.94541666666667, 23.989666666666665, 24.389666666666667, 24.366, 24.10775, 24.128833333333333, 23.783500000000004, 24.047416666666667, 24.345416666666665, 24.297416666666667, 24.09575, 24.219583333333333, 24.002083333333342, 23.945083333333333, 23.764833333333332, 23.97725, 24.2165, 24.136416666666666, 23.579666666666668, 24.278666666666666, 24.230249999999998, 23.8565, 24.397166666666664, 24.483416666666667, 24.028666666666666, 24.149416666666667, 24.313333333333336, 24.330416666666668, 24.075833333333332, 24.24116666666667, 24.722416666666664, 24.320916666666665, 24.359416666666664, 24.776, 24.292083333333334, 24.169583333333335, 24.419583333333335, 25.01575, 24.66025, 24.021666666666665, 24.132416666666668, 24.371583333333334, 24.408916666666666, 24.281583333333334, 24.52491666666667, 24.475333333333328, 24.453, 24.564750000000004, 24.590999999999998, 24.57058333333333, 24.71666666666667, 24.45833333333334, 24.661749999999998, 24.858333333333334, 24.86708333333334, 25.13366666666667, 24.820083333333333, 24.788750000000004, 24.649749999999997, 25.228083333333334, 24.961249999999996, 24.96575, 24.925416666666667, 24.935250000000003]\n",
            "Kingman Reef\n",
            "[27.040500000000005, 27.048749999999995, 26.565250000000002, 26.254583333333333, 26.649416666666667, 26.874416666666665, 26.646833333333333, 26.934500000000003, 26.65341666666666, 27.114833333333333, 26.901166666666672, 27.06125, 27.18008333333334, 26.99308333333333, 27.01533333333333, 26.87325, 27.366500000000002, 27.09233333333333, 26.860083333333336, 26.540333333333336, 26.96075, 27.054666666666666, 27.0455, 27.34766666666667, 27.177416666666662, 27.051833333333335, 27.610000000000003, 27.787583333333334, 26.347416666666664, 27.23075, 27.50058333333334, 27.16758333333334, 27.474666666666664, 27.32041666666667, 27.383916666666668, 26.759416666666667, 26.676166666666663, 27.756833333333336, 27.381333333333334, 27.057666666666666, 26.864499999999992, 26.57816666666667, 26.665666666666667, 27.301249999999996, 27.387666666666664, 27.339583333333334, 27.15883333333333, 27.214833333333335, 27.080333333333332, 27.4235, 26.857083333333335, 27.030666666666672, 27.394500000000004, 27.343083333333336, 27.442916666666672, 27.54816666666667, 27.130916666666668, 26.681583333333336, 27.251166666666666, 26.848833333333335, 27.04883333333333, 26.672833333333333, 26.886166666666668, 27.761833333333332, 27.44391666666667, 27.406333333333336, 27.691666666666666, 27.407, 27.598166666666668, 27.476000000000003, 27.292250000000006, 27.245583333333332, 27.6905, 27.798249999999996, 27.409750000000003, 27.125416666666666, 27.535333333333337, 27.768666666666665, 27.64141666666667, 27.505166666666664, 27.708333333333332, 27.895583333333335, 27.819999999999997, 27.905583333333336, 27.765500000000003, 27.306750000000005, 27.453916666666668, 27.82291666666667, 28.00741666666667, 28.136416666666666, 28.03741666666667, 28.164083333333334, 28.081500000000002, 27.789916666666667, 27.495, 27.989, 27.84866666666667, 27.672833333333333, 27.679416666666665, 27.843874999999997]\n",
            "Kiribati\n",
            "[26.662916666666664, 26.69458333333333, 26.055083333333332, 25.6825, 26.31325, 26.480999999999998, 26.212583333333328, 26.554833333333335, 26.235500000000002, 26.68283333333334, 26.58933333333333, 26.643583333333336, 26.749416666666672, 26.609666666666666, 26.632666666666665, 26.450666666666663, 26.958583333333333, 26.726083333333335, 26.510499999999997, 26.163999999999998, 26.551916666666674, 26.67833333333333, 26.64041666666667, 26.92866666666667, 26.696583333333336, 26.723833333333335, 27.312749999999998, 27.43508333333334, 25.884166666666662, 26.85966666666667, 27.054250000000007, 27.003249999999998, 27.033666666666665, 26.769750000000002, 26.948333333333334, 26.45341666666667, 26.31616666666667, 27.313333333333333, 27.08175, 26.750333333333334, 26.40641666666667, 26.224249999999998, 26.21166666666667, 26.964, 27.104333333333333, 26.98183333333333, 26.734750000000002, 26.785666666666668, 26.658083333333337, 27.058833333333336, 26.427666666666667, 26.685916666666667, 27.05575, 26.90925, 26.856333333333335, 27.22133333333333, 26.750333333333334, 26.18166666666666, 26.853749999999994, 26.622166666666672, 26.608166666666666, 26.39425, 26.55225, 27.341333333333342, 26.971666666666675, 27.060999999999996, 27.257, 26.93583333333333, 27.289916666666667, 27.2045, 26.82675, 26.807666666666666, 27.17175, 27.59633333333333, 26.931083333333333, 26.684416666666667, 27.075666666666667, 27.363083333333332, 27.287333333333336, 27.138583333333333, 27.247083333333332, 27.46591666666667, 27.353499999999997, 27.496333333333336, 27.465999999999998, 26.93541666666667, 27.07925, 27.392250000000004, 27.657916666666665, 27.767083333333336, 27.683666666666667, 27.814083333333333, 27.756, 27.295416666666668, 26.961000000000002, 27.66616666666667, 27.53166666666667, 27.160666666666668, 27.3385, 27.551375]\n",
            "Kuwait\n",
            "[24.7995, 25.372, 24.679249999999996, 25.169083333333333, 24.50475, 25.20925, 24.437, 24.741749999999996, 25.269916666666663, 24.782500000000002, 25.482333333333333, 24.842, 24.927166666666665, 25.055333333333337, 25.02416666666667, 25.085333333333335, 25.267666666666667, 25.05275, 24.713499999999996, 24.450000000000003, 24.58366666666667, 25.484583333333337, 24.864166666666666, 25.08683333333333, 25.003833333333333, 24.95841666666667, 25.497, 25.244, 25.529666666666667, 24.835749999999994, 25.259249999999998, 24.77133333333333, 25.125416666666666, 26.016416666666668, 24.5085, 24.635250000000003, 24.617833333333333, 25.565916666666666, 25.49291666666667, 24.896416666666667, 25.46083333333333, 25.442333333333334, 24.725916666666663, 24.71241666666667, 25.378500000000003, 24.554833333333338, 25.696749999999998, 24.980499999999996, 26.154083333333336, 25.459833333333332, 24.548000000000002, 25.540916666666664, 26.150583333333334, 24.44633333333333, 25.32983333333334, 25.68241666666667, 25.657250000000005, 25.0655, 24.3685, 25.406416666666672, 24.997249999999998, 25.008916666666664, 24.964666666666673, 25.572000000000003, 25.472916666666666, 26.17125, 25.670833333333334, 25.692750000000004, 24.723000000000003, 24.79583333333333, 25.123333333333335, 25.35808333333333, 25.442500000000006, 26.020083333333332, 25.59633333333333, 25.300166666666666, 25.75858333333333, 25.348583333333337, 24.30033333333333, 25.361833333333333, 25.842333333333332, 25.491749999999996, 26.327916666666663, 25.315833333333334, 26.67075000000001, 26.836833333333335, 26.376083333333337, 26.654750000000003, 26.386750000000003, 26.49658333333333, 26.155416666666667, 25.987916666666667, 26.314666666666668, 26.330916666666667, 26.266583333333333, 26.453166666666664, 27.63866666666667, 26.087499999999995, 26.67558333333334, 27.273375]\n",
            "Kyrgyzstan\n",
            "[3.8185000000000007, 4.398416666666667, 3.0456666666666656, 3.7661666666666656, 2.8356666666666666, 2.724083333333334, 1.605833333333333, 2.4622499999999996, 3.862083333333334, 2.8993333333333333, 3.2159166666666668, 3.6924999999999994, 3.458583333333334, 3.4481666666666673, 2.519583333333333, 2.033166666666667, 2.332333333333333, 2.3451666666666666, 2.96875, 3.128166666666667, 1.8077499999999997, 2.2725833333333325, 2.89225, 2.3073333333333337, 3.59825, 3.831416666666667, 4.518166666666667, 4.892916666666666, 3.578416666666667, 3.101166666666666, 3.5468333333333333, 2.78575, 3.6157500000000002, 4.086333333333333, 3.431333333333333, 2.5712499999999996, 2.6250000000000004, 2.8084166666666674, 3.0817499999999995, 3.399999999999999, 2.2725833333333334, 3.8522499999999993, 3.783583333333333, 2.6498333333333335, 3.7093333333333334, 3.2821666666666665, 3.0112500000000004, 3.9339166666666667, 3.5964166666666664, 4.435416666666666, 2.702583333333333, 4.096, 3.744499999999999, 3.179916666666666, 3.5055833333333326, 2.374416666666667, 3.7745833333333336, 4.176750000000001, 2.3725833333333335, 4.082833333333333, 2.8894999999999995, 3.4741666666666666, 3.0085833333333327, 3.939999999999999, 3.8703333333333334, 3.807916666666667, 4.507833333333332, 4.140499999999999, 3.7505833333333327, 4.4415000000000004, 2.94, 3.829833333333333, 3.8058333333333323, 4.004583333333334, 4.333, 3.347583333333333, 4.492416666666667, 3.783333333333333, 3.7207500000000002, 3.1161666666666665, 3.7527500000000003, 4.050166666666667, 3.414583333333333, 4.873916666666665, 4.393166666666666, 4.600333333333333, 4.73075, 4.781000000000001, 4.7090000000000005, 4.042333333333333, 5.02925, 4.518083333333333, 4.917333333333333, 5.05325, 4.577583333333332, 4.349166666666666, 4.595750000000001, 4.201583333333334, 3.5769166666666674, 6.263125]\n",
            "Laos\n",
            "[23.894166666666667, 23.84625, 23.151749999999993, 22.91825, 23.194833333333335, 23.887833333333333, 23.674916666666665, 23.4505, 23.7175, 23.797083333333333, 23.741249999999997, 23.227666666666668, 23.66691666666667, 23.556749999999997, 23.563833333333335, 23.49825, 23.39866666666667, 24.106333333333335, 23.30258333333333, 23.505, 23.151750000000003, 24.207500000000007, 23.426666666666662, 24.105166666666673, 23.690583333333333, 23.71275, 23.771583333333336, 24.41016666666667, 24.037000000000003, 23.54133333333333, 24.08675, 23.607416666666666, 24.500333333333334, 24.047916666666666, 23.78633333333333, 23.893749999999997, 23.7715, 23.725166666666667, 23.987666666666666, 24.147083333333327, 24.027, 23.53141666666667, 23.66858333333333, 24.125249999999994, 23.954250000000002, 24.14816666666667, 24.11341666666667, 24.031333333333333, 23.608500000000003, 23.663249999999994, 23.822666666666667, 24.02841666666667, 24.53583333333334, 23.532, 23.847250000000003, 24.125500000000002, 23.988583333333334, 23.200999999999997, 23.910416666666674, 24.074250000000003, 23.564916666666665, 23.8125, 23.52325, 23.806416666666667, 23.856499999999997, 24.257, 24.28258333333333, 24.02433333333333, 23.86975, 23.858416666666667, 23.73575, 23.8195, 23.74466666666667, 24.351249999999997, 23.993, 23.818750000000005, 24.057333333333336, 24.259583333333335, 23.71183333333333, 23.770333333333337, 24.06091666666667, 23.945833333333336, 23.701500000000006, 24.11791666666667, 24.86883333333334, 23.937083333333334, 23.835166666666666, 24.155083333333337, 24.22041666666667, 24.331916666666668, 23.86375, 24.31775, 24.405500000000004, 24.21075, 23.631583333333335, 24.3655, 24.934166666666666, 23.610666666666663, 24.907666666666668, 25.385250000000003]\n",
            "Latvia\n",
            "[6.2739166666666675, 4.148166666666666, 5.44775, 4.434666666666668, 5.534916666666668, 4.61575, 6.37425, 5.734916666666667, 4.519916666666667, 4.8774999999999995, 5.145666666666668, 6.239083333333332, 5.136083333333334, 5.0594166666666665, 5.069583333333334, 4.475416666666667, 6.420166666666666, 4.551833333333334, 6.152833333333333, 4.616833333333334, 7.362749999999999, 5.763000000000001, 6.616416666666666, 6.349166666666666, 7.029250000000002, 6.253416666666666, 3.7137499999999997, 3.145, 3.210750000000001, 6.528083333333334, 6.19275, 5.396166666666667, 5.482833333333333, 4.823083333333333, 6.308750000000001, 7.181750000000001, 5.77025, 5.60625, 4.965083333333333, 5.961166666666667, 5.315750000000001, 4.961250000000001, 3.971666666666667, 6.292666666666666, 5.075583333333333, 6.3494166666666665, 5.492583333333333, 6.901833333333333, 5.10975, 4.615583333333334, 5.513250000000002, 4.7289166666666675, 5.01775, 6.067583333333334, 5.180833333333333, 4.181916666666668, 4.837416666666667, 6.0633333333333335, 6.335250000000002, 6.01775, 6.564999999999999, 7.456666666666667, 4.35025, 5.423666666666667, 4.638416666666667, 5.190000000000001, 4.7629166666666665, 5.800583333333332, 6.01125, 6.788833333333333, 6.095166666666667, 4.168500000000001, 5.403666666666666, 3.874, 6.149916666666666, 7.5995833333333325, 7.325666666666668, 6.689916666666666, 6.920083333333332, 5.639916666666668, 5.9385, 6.566333333333333, 4.967, 6.232083333333333, 5.997750000000001, 7.108916666666668, 7.497083333333333, 6.53925, 6.917583333333333, 6.2772499999999996, 6.334083333333332, 6.3745, 6.970583333333335, 7.278916666666667, 7.6810833333333335, 6.559333333333332, 5.711083333333334, 7.2452499999999995, 6.043333333333336, 7.322375000000001]\n",
            "Lebanon\n",
            "[17.06566666666667, 17.751749999999998, 18.03, 17.896166666666666, 17.42175, 17.776083333333332, 16.829666666666665, 17.0085, 17.9305, 18.019, 17.832000000000004, 17.743166666666664, 17.841749999999998, 18.084166666666665, 18.174583333333338, 17.712999999999997, 18.304500000000004, 17.949333333333335, 17.800416666666667, 17.239166666666666, 17.920833333333334, 18.38083333333333, 18.141083333333334, 18.416333333333338, 17.57208333333333, 18.167666666666666, 18.054166666666667, 18.272666666666666, 17.89075, 17.542416666666668, 17.786666666666665, 17.446250000000003, 18.02675, 18.761916666666668, 17.294083333333337, 17.01975, 17.695249999999998, 18.16625, 18.303250000000002, 17.181750000000005, 18.14833333333333, 18.70925, 17.69083333333333, 17.873250000000002, 18.248500000000003, 17.253, 18.837333333333333, 17.763250000000003, 18.86275, 18.511916666666668, 17.33416666666667, 17.900666666666666, 18.645166666666665, 17.020333333333333, 18.078583333333334, 18.273, 18.262583333333335, 17.71375, 17.343833333333333, 17.79525, 17.779416666666666, 17.690416666666668, 17.479, 17.937, 18.253833333333336, 18.60891666666667, 17.884583333333335, 18.147750000000002, 17.324749999999998, 17.316083333333335, 17.773333333333337, 18.25533333333333, 18.11191666666667, 17.912000000000003, 17.970249999999997, 18.106583333333333, 18.184583333333336, 18.114833333333333, 16.92125, 17.92625, 18.664250000000003, 18.104833333333335, 18.50016666666667, 17.731583333333337, 19.00166666666667, 18.9815, 18.377333333333333, 19.06275, 18.677083333333336, 18.554, 18.47425, 18.39275, 18.314333333333334, 18.755166666666664, 18.957166666666666, 18.85225, 20.268833333333333, 18.261666666666667, 18.989083333333333, 19.17825]\n",
            "Lesotho\n",
            "[13.932916666666669, 13.418333333333335, 13.41516666666667, 12.918166666666666, 13.256750000000002, 13.762166666666666, 13.651666666666666, 13.125083333333334, 13.89333333333333, 13.943583333333331, 13.020333333333333, 13.447833333333335, 13.807333333333332, 13.94216666666667, 13.66125, 13.821416666666664, 13.392083333333334, 13.727416666666665, 14.095249999999998, 13.927166666666666, 13.767583333333334, 13.096666666666666, 13.478583333333333, 13.926583333333333, 13.991000000000001, 13.462833333333334, 14.1305, 14.305166666666665, 13.872666666666666, 13.082166666666666, 13.970500000000001, 14.042166666666667, 14.085249999999997, 13.988666666666669, 13.808583333333331, 14.15316666666667, 14.00125, 13.42183333333333, 13.997916666666663, 13.677833333333332, 13.463833333333334, 12.982083333333335, 13.581583333333334, 13.868749999999999, 14.091583333333334, 13.746416666666667, 13.899499999999998, 14.093249999999998, 14.274416666666667, 13.829916666666668, 13.765333333333333, 13.951416666666667, 14.283500000000002, 13.755583333333332, 13.540583333333332, 14.3405, 14.286666666666667, 13.7995, 13.912416666666667, 13.848500000000001, 13.662833333333332, 13.560250000000002, 13.427999999999999, 14.278583333333332, 13.877083333333333, 14.246416666666667, 14.10908333333333, 13.501000000000003, 14.327, 14.842166666666666, 14.320833333333331, 14.63675, 14.449083333333334, 14.527333333333331, 13.98191666666667, 13.832833333333333, 14.14725, 14.353, 14.890083333333337, 14.63275, 13.90275, 14.246, 13.655666666666667, 13.953249999999999, 14.542333333333332, 14.982166666666666, 14.053916666666666, 14.333416666666666, 14.387333333333336, 14.684833333333332, 14.562916666666668, 14.576500000000001, 13.903500000000001, 14.525333333333334, 14.427750000000003, 14.257166666666665, 14.906833333333337, 14.026916666666667, 14.3865, 13.773625000000001]\n",
            "Liberia\n",
            "[25.455083333333334, 25.550666666666668, 25.296166666666664, 25.278833333333335, 25.096166666666665, 25.283666666666665, 25.41575, 25.37508333333334, 25.271083333333333, 25.090833333333332, 25.075916666666668, 25.13875, 25.65641666666667, 25.51875, 25.30416666666667, 25.505250000000004, 25.495250000000002, 25.46183333333333, 25.072833333333335, 25.45216666666667, 25.491583333333335, 25.298333333333332, 25.390249999999998, 25.675666666666668, 25.554, 25.315083333333334, 25.90983333333334, 25.90341666666666, 25.44991666666667, 25.234333333333336, 25.58575, 25.65558333333334, 25.52925, 25.6815, 25.329333333333334, 25.478666666666665, 25.31916666666667, 25.452666666666662, 25.50616666666667, 25.561166666666665, 25.22083333333333, 25.30116666666667, 25.170083333333334, 25.479583333333334, 25.56866666666666, 25.585083333333333, 25.616500000000002, 25.529166666666665, 25.439000000000004, 25.728999999999996, 25.413916666666665, 25.2985, 25.584166666666665, 25.296499999999998, 25.524916666666666, 25.725833333333338, 25.780833333333337, 25.277333333333335, 25.575583333333338, 25.960333333333335, 25.49166666666667, 25.33241666666667, 25.16091666666667, 25.724249999999998, 25.625249999999994, 25.898083333333332, 25.795, 25.770083333333336, 25.542333333333332, 25.911166666666663, 25.78258333333334, 25.615333333333336, 25.48033333333333, 26.327833333333334, 25.953999999999997, 25.839083333333335, 25.881583333333335, 25.844916666666666, 25.655916666666666, 25.832583333333332, 25.720916666666668, 25.948750000000004, 25.99625, 25.99066666666667, 26.460000000000004, 25.889666666666667, 25.859750000000002, 26.153500000000005, 26.23608333333333, 26.386916666666668, 26.283500000000004, 26.290916666666664, 26.183166666666665, 26.28983333333333, 26.297416666666663, 26.494, 26.532750000000004, 26.240666666666666, 25.995583333333332, 26.314]\n",
            "Libya\n",
            "[22.396250000000006, 22.48425, 22.528333333333332, 21.940749999999998, 22.21925, 22.355249999999998, 22.02966666666667, 22.14058333333333, 22.216333333333335, 21.981166666666667, 22.609916666666667, 22.515500000000003, 22.548166666666663, 22.723166666666668, 22.772083333333338, 21.873250000000002, 22.70608333333333, 23.083750000000006, 22.86508333333333, 22.61316666666667, 22.62441666666666, 22.35825, 22.557916666666667, 22.776500000000002, 22.07766666666667, 22.82683333333333, 22.394000000000005, 22.81358333333333, 22.783916666666666, 22.51533333333333, 22.349, 22.180416666666662, 22.827916666666663, 23.067833333333336, 22.045166666666663, 21.778583333333334, 21.881249999999998, 22.695083333333333, 22.72108333333333, 22.291583333333335, 22.057666666666666, 23.309749999999998, 22.08858333333333, 22.40341666666667, 22.79366666666667, 22.129416666666668, 23.134666666666664, 21.817916666666665, 22.628583333333328, 23.027416666666667, 22.251166666666666, 22.115416666666665, 22.51308333333333, 22.051000000000002, 22.465166666666672, 23.13475, 22.25391666666667, 22.208416666666665, 22.650916666666664, 22.145583333333335, 22.135416666666668, 22.153499999999998, 22.314999999999998, 22.516916666666663, 22.411333333333335, 22.78475, 22.36966666666667, 22.609583333333333, 22.409750000000003, 22.20216666666667, 22.50225, 22.68416666666667, 22.542333333333332, 22.804916666666667, 23.114583333333332, 22.655583333333336, 23.101000000000003, 22.61816666666667, 22.397833333333338, 23.002750000000002, 22.816083333333335, 22.949499999999997, 23.123250000000002, 23.046499999999998, 23.276333333333337, 23.693583333333336, 22.835083333333333, 23.413166666666665, 23.40941666666667, 23.369000000000003, 23.27841666666666, 23.256666666666664, 23.315083333333334, 23.325833333333332, 23.47433333333333, 23.379833333333334, 24.51591666666667, 22.988333333333333, 23.270666666666667, 24.314]\n",
            "Liechtenstein\n",
            "[4.434749999999999, 4.390416666666666, 4.9007499999999995, 3.9074166666666668, 4.751666666666667, 3.8517499999999996, 5.287083333333334, 5.475916666666667, 3.9317500000000005, 4.878666666666667, 4.111083333333334, 4.415166666666667, 5.113916666666666, 4.864833333333333, 5.193666666666667, 4.128833333333333, 5.242083333333333, 3.8814166666666665, 4.606833333333333, 3.8803333333333327, 5.586833333333334, 4.570333333333334, 4.8771666666666675, 5.20375, 4.820333333333333, 4.490333333333333, 3.4501666666666657, 3.7960833333333337, 4.280333333333334, 5.563666666666667, 4.278666666666667, 5.20425, 5.142500000000001, 5.5112499999999995, 5.488499999999999, 5.549666666666667, 5.435499999999998, 5.2925, 4.672, 5.218249999999999, 4.2655, 4.390666666666667, 3.5768333333333335, 5.11475, 4.930833333333334, 5.508583333333334, 4.9679166666666665, 5.853583333333334, 3.9412499999999997, 3.994166666666667, 4.921083333333334, 4.0769166666666665, 5.1009166666666665, 5.1770000000000005, 4.67975, 4.421583333333333, 4.409666666666666, 4.857666666666667, 4.694083333333333, 4.56675, 5.2295, 5.196666666666665, 4.946750000000001, 5.317416666666666, 4.321083333333333, 4.866583333333334, 4.189916666666666, 4.818166666666667, 5.511749999999999, 5.604500000000001, 4.433833333333333, 4.516583333333333, 4.853999999999999, 4.692083333333334, 5.642833333333332, 5.882583333333333, 5.91725, 4.932999999999999, 5.910666666666668, 5.333833333333334, 6.637583333333333, 5.334583333333335, 4.48675, 5.79325, 5.663833333333334, 5.546083333333333, 6.328749999999999, 5.588416666666667, 6.263666666666668, 6.124666666666666, 5.430416666666667, 5.012999999999999, 5.941166666666667, 6.279250000000001, 5.9422500000000005, 5.8935, 4.847833333333333, 6.563083333333334, 5.876083333333335, 6.002375]\n",
            "Lithuania\n",
            "[6.78725, 5.129916666666668, 6.193166666666667, 5.111833333333334, 6.220083333333332, 5.149249999999999, 6.769249999999999, 6.383333333333334, 4.925083333333334, 5.577583333333332, 5.400833333333334, 6.773416666666667, 6.033166666666666, 5.53925, 5.558333333333333, 4.757833333333333, 6.804166666666666, 5.168166666666665, 6.640499999999999, 4.948416666666666, 7.835833333333334, 6.201083333333333, 7.055166666666666, 6.797083333333332, 7.327916666666667, 6.910583333333334, 4.053249999999999, 3.8705, 3.953166666666666, 6.8347500000000005, 6.695666666666665, 6.050249999999999, 6.09825, 5.404916666666666, 6.960333333333334, 7.672583333333333, 6.466666666666666, 6.403249999999999, 5.533916666666666, 6.518999999999999, 5.77875, 5.721416666666667, 4.530083333333333, 6.915166666666667, 5.815416666666668, 6.896666666666667, 6.191416666666668, 7.261666666666668, 5.526166666666668, 5.286166666666667, 5.898916666666666, 5.191166666666667, 6.046083333333333, 6.8948333333333345, 5.9075000000000015, 4.704583333333333, 5.399750000000001, 6.702916666666666, 6.767916666666667, 6.573083333333333, 6.995333333333334, 8.012333333333332, 5.005583333333333, 6.147916666666666, 5.363250000000001, 5.630749999999999, 5.128333333333332, 6.396916666666666, 6.700666666666668, 7.490416666666667, 6.619833333333332, 4.854333333333332, 5.951833333333333, 4.52075, 6.640916666666666, 8.1175, 7.978416666666665, 7.091583333333333, 7.468250000000001, 6.241749999999999, 6.809416666666667, 7.0073333333333325, 5.405583333333333, 6.726749999999999, 6.6531666666666665, 7.678250000000001, 8.107666666666665, 7.120416666666666, 7.706083333333332, 6.830333333333333, 6.835333333333332, 6.920999999999999, 7.422000000000001, 7.854, 8.175333333333333, 7.0960833333333335, 6.3258333333333345, 7.634999999999999, 6.723583333333333, 7.803999999999999]\n",
            "Luxembourg\n",
            "[9.265666666666668, 8.985333333333333, 9.323583333333334, 8.245916666666668, 9.39125, 8.35525, 9.518083333333333, 10.116166666666665, 8.423333333333334, 9.187083333333334, 8.730083333333335, 9.07225, 9.650583333333334, 9.152833333333334, 9.604499999999998, 8.72091666666667, 9.80775, 8.661916666666668, 9.234333333333332, 8.894333333333334, 10.151333333333334, 9.459166666666667, 9.377083333333335, 9.689583333333333, 9.559666666666667, 9.394583333333333, 8.110833333333334, 8.558250000000001, 8.61275, 9.926166666666665, 9.22525, 10.01875, 9.2795, 9.927666666666667, 9.882583333333331, 10.12075, 9.560083333333333, 9.619250000000001, 9.230166666666666, 9.828583333333333, 8.902416666666667, 8.894916666666667, 8.142000000000001, 9.733833333333331, 9.377666666666668, 10.425583333333332, 9.632583333333333, 10.177083333333334, 8.233166666666666, 8.022, 9.362583333333335, 8.701, 9.670833333333333, 9.735333333333331, 9.081916666666666, 9.161833333333334, 9.108416666666667, 9.48875, 8.969666666666667, 9.371416666666667, 9.789083333333332, 9.777166666666668, 10.090333333333335, 9.700583333333336, 8.816, 8.852666666666666, 8.8775, 9.309166666666666, 10.099583333333333, 9.990166666666665, 9.236916666666666, 8.532, 9.026000000000002, 8.761916666666666, 10.1865, 10.594333333333333, 10.590916666666667, 9.453083333333334, 10.223833333333332, 9.65275, 10.822166666666668, 10.342666666666666, 8.652583333333332, 10.167, 9.995416666666667, 10.542333333333334, 10.79275, 10.206583333333333, 10.714, 10.700583333333332, 9.983083333333333, 10.308083333333334, 10.730333333333334, 10.761666666666668, 10.128666666666666, 10.328083333333334, 9.134666666666666, 11.032000000000002, 10.10925, 9.90025]\n",
            "Macau\n",
            "[22.86525, 22.778499999999998, 22.083583333333337, 21.64741666666667, 21.917666666666666, 22.422166666666666, 22.273833333333332, 22.4075, 22.488583333333334, 22.612333333333336, 22.448083333333333, 22.014333333333337, 22.240166666666667, 22.154416666666663, 22.807666666666666, 22.757583333333333, 22.364833333333333, 22.371916666666667, 22.122583333333335, 22.4295, 21.781333333333333, 22.596833333333333, 22.128333333333334, 22.849833333333333, 22.629833333333334, 22.488333333333333, 22.99950000000001, 23.039833333333334, 22.891083333333338, 22.947333333333333, 22.75833333333333, 22.324250000000003, 23.35525, 22.300083333333333, 22.84575, 23.075833333333335, 22.8175, 22.42358333333333, 23.099999999999998, 22.864166666666673, 22.810999999999996, 22.6755, 22.5745, 22.445000000000004, 22.786, 22.968999999999998, 22.9585, 22.805500000000006, 22.549750000000003, 22.89983333333333, 22.598166666666668, 22.781000000000002, 23.32166666666667, 22.344250000000002, 22.605666666666668, 22.34958333333333, 22.46141666666667, 22.421333333333337, 22.61041666666667, 23.152666666666665, 22.50616666666667, 22.677333333333337, 22.252250000000004, 23.09566666666667, 22.699250000000003, 22.84691666666667, 22.939083333333333, 22.976916666666668, 22.729416666666665, 22.558583333333335, 22.14991666666667, 22.425083333333333, 22.708083333333338, 23.388, 22.604, 22.828750000000003, 23.046666666666667, 23.140333333333334, 22.366333333333333, 22.574583333333333, 22.97008333333334, 22.269416666666668, 22.576416666666663, 22.767666666666667, 23.458333333333332, 23.137833333333333, 22.93716666666667, 23.09875, 23.299750000000003, 23.173750000000002, 22.9935, 22.80566666666667, 23.302083333333332, 23.336333333333332, 22.589166666666667, 23.073083333333333, 22.895083333333336, 22.490750000000002, 22.97883333333333, 23.473000000000003]\n",
            "Macedonia\n",
            "[9.745416666666666, 10.542083333333334, 11.390416666666665, 10.532666666666668, 10.6555, 10.155083333333332, 10.286916666666668, 10.293666666666669, 10.426083333333333, 11.20683333333333, 10.246666666666666, 10.552333333333335, 11.028416666666665, 11.332416666666667, 10.507916666666665, 9.694333333333335, 10.982, 10.333416666666666, 10.290833333333333, 9.633750000000001, 11.322833333333335, 10.699583333333331, 10.949833333333332, 11.043999999999999, 10.423166666666669, 10.893416666666665, 9.372333333333334, 9.835250000000002, 9.994, 10.80175, 10.169083333333335, 10.570416666666667, 11.254249999999999, 11.080666666666668, 10.430250000000001, 10.180916666666668, 11.551083333333333, 11.428333333333335, 11.412, 10.270083333333334, 10.142166666666668, 10.907166666666669, 9.801583333333332, 10.822083333333333, 11.050833333333335, 10.08425, 11.075250000000002, 11.043083333333335, 10.816666666666668, 10.73375, 10.229833333333332, 10.136166666666666, 11.183833333333332, 10.368666666666668, 10.766416666666666, 10.532, 10.687166666666668, 10.283499999999998, 10.45025, 10.057333333333334, 10.367416666666669, 10.379166666666666, 9.745916666666668, 11.130333333333333, 10.092833333333335, 10.810333333333332, 9.991583333333333, 10.33475, 10.56025, 10.266250000000001, 10.444083333333333, 10.580666666666668, 10.667583333333335, 10.754083333333332, 10.741583333333336, 10.590250000000001, 11.297750000000002, 9.984416666666668, 10.843333333333334, 10.915166666666664, 12.036583333333333, 10.571250000000001, 10.506916666666667, 10.460166666666668, 10.997583333333333, 11.406833333333333, 11.582, 11.470500000000001, 11.281083333333333, 11.207666666666666, 11.058583333333333, 10.549999999999999, 10.752583333333334, 11.90575, 11.924083333333334, 11.643833333333333, 11.741, 11.023833333333334, 11.537916666666666, 13.260124999999999]\n",
            "Madagascar\n",
            "[22.729083333333335, 22.72016666666667, 22.354083333333335, 22.180833333333336, 22.297083333333337, 22.62925, 22.297249999999995, 22.325, 22.283416666666668, 22.67658333333333, 22.378249999999998, 22.70358333333333, 23.061083333333332, 22.422750000000004, 22.683750000000003, 22.61375, 22.257666666666665, 22.930750000000003, 22.596999999999998, 22.610833333333336, 22.646749999999997, 22.49683333333333, 22.876, 22.868416666666665, 22.730666666666668, 22.780583333333336, 22.993333333333336, 23.034333333333336, 22.68466666666667, 22.36883333333333, 22.752083333333335, 22.72583333333333, 22.791749999999997, 22.740666666666666, 22.91558333333333, 22.988583333333334, 22.506666666666664, 22.672750000000004, 22.823916666666673, 22.816666666666666, 22.920749999999998, 22.698666666666668, 22.612416666666665, 22.837, 22.90575, 22.765416666666667, 22.689333333333337, 23.433666666666664, 22.825249999999997, 22.545333333333332, 22.488333333333333, 22.34341666666667, 22.91891666666667, 23.15291666666667, 22.485500000000002, 23.40041666666667, 23.126000000000005, 22.583249999999996, 22.834750000000003, 22.919916666666666, 22.56866666666666, 22.577749999999998, 22.86241666666667, 23.185666666666666, 23.171499999999998, 22.990083333333335, 23.018666666666665, 22.933916666666665, 23.001083333333337, 23.262333333333334, 22.674583333333334, 22.879833333333334, 22.786083333333334, 23.36708333333334, 23.254916666666663, 22.933083333333332, 23.124166666666667, 23.326999999999998, 23.341333333333335, 23.455833333333334, 23.44458333333333, 23.47975, 23.262916666666666, 23.452916666666667, 23.753416666666666, 23.41925, 23.320333333333334, 23.586916666666667, 23.617500000000003, 23.49525, 23.453000000000003, 23.62183333333334, 23.66116666666667, 23.64975, 23.332250000000002, 23.618666666666666, 23.846166666666665, 23.77683333333334, 23.325333333333333, 22.9595]\n",
            "Malawi\n",
            "[21.5365, 21.569166666666664, 21.224583333333335, 21.2185, 21.035500000000003, 21.430833333333336, 21.316916666666668, 21.16983333333333, 21.737416666666665, 21.619249999999997, 21.527250000000006, 21.14866666666667, 21.36466666666667, 20.956333333333333, 21.224416666666666, 21.33275, 20.992083333333333, 21.529666666666667, 21.266833333333334, 21.19883333333333, 21.35558333333334, 21.047333333333334, 20.960416666666667, 21.279416666666666, 21.461583333333333, 21.090666666666667, 21.34991666666667, 21.801833333333335, 21.636166666666668, 21.315416666666668, 21.48008333333333, 21.08158333333333, 21.21791666666667, 21.31, 21.523333333333337, 21.82908333333333, 21.011083333333335, 21.4455, 21.3635, 21.476083333333335, 21.575833333333335, 21.419083333333337, 21.03025, 21.70841666666666, 21.74208333333333, 21.69483333333333, 21.422, 21.617583333333332, 21.422583333333336, 21.11225, 21.245666666666672, 20.982916666666664, 21.691583333333337, 21.544333333333338, 21.240333333333332, 21.777666666666672, 21.631250000000005, 21.261250000000004, 21.480333333333334, 21.527749999999997, 21.060416666666665, 21.297916666666662, 21.340833333333336, 21.83758333333333, 21.593333333333334, 21.571916666666667, 21.63466666666667, 21.29175, 21.5385, 22.45958333333333, 21.62183333333333, 21.307750000000002, 21.51466666666667, 22.328333333333337, 21.973416666666665, 21.536833333333334, 22.28025, 21.889499999999998, 22.390333333333334, 21.94016666666667, 21.980166666666666, 22.301666666666673, 21.963333333333335, 22.03475, 22.377916666666668, 21.689249999999998, 21.71441666666667, 21.99875, 22.224, 22.233500000000003, 21.865916666666664, 22.81116666666667, 22.102166666666665, 22.098333333333333, 21.8225, 22.014833333333332, 22.60066666666667, 22.31325, 21.887416666666667, 21.269374999999997]\n",
            "Malaysia\n",
            "[25.875250000000005, 25.857916666666668, 25.253083333333333, 25.1955, 25.265166666666662, 25.781166666666675, 25.654166666666665, 25.517166666666665, 25.562249999999995, 25.553, 25.642416666666666, 25.43241666666667, 25.883166666666668, 25.784833333333335, 25.763, 25.76541666666667, 26.02683333333333, 26.139666666666667, 25.749749999999995, 25.760833333333334, 25.562833333333334, 25.796500000000005, 25.831833333333336, 26.037000000000006, 25.86991666666667, 25.83458333333333, 26.055916666666665, 26.539083333333338, 26.189500000000006, 25.699916666666663, 25.832000000000004, 25.905416666666667, 26.235083333333332, 26.26925, 26.028583333333334, 25.98041666666667, 25.91025, 26.189916666666665, 26.170666666666662, 26.18991666666666, 25.9915, 25.871750000000002, 25.79608333333334, 26.15825, 26.36691666666667, 26.127499999999998, 26.262416666666667, 26.044916666666666, 25.949583333333333, 26.022083333333338, 26.03625, 25.918583333333334, 26.174833333333336, 25.931833333333334, 26.084749999999996, 26.317583333333335, 26.193416666666668, 25.848500000000005, 26.32058333333333, 26.35383333333333, 25.98325, 25.98941666666666, 25.854083333333335, 26.092083333333335, 26.19283333333333, 26.256500000000003, 26.210416666666664, 26.20625, 26.180083333333332, 26.533999999999995, 25.903499999999998, 26.124499999999998, 26.18683333333333, 26.515333333333334, 26.3575, 26.10608333333333, 26.41891666666667, 26.332083333333333, 26.28658333333333, 26.215000000000003, 26.27716666666667, 26.334499999999995, 26.238916666666668, 26.55641666666666, 27.055000000000003, 26.248916666666663, 26.371416666666665, 26.500083333333333, 26.745499999999993, 26.576750000000004, 26.575999999999997, 26.649583333333336, 26.577666666666673, 26.496333333333336, 26.25408333333333, 26.642, 26.80666666666666, 26.440583333333336, 26.62275, 26.9735]\n",
            "Mali\n",
            "[28.607166666666668, 28.493916666666667, 27.952499999999997, 28.093833333333333, 27.920583333333337, 28.486166666666673, 28.309249999999995, 28.233916666666662, 28.497249999999998, 28.336250000000003, 28.752000000000006, 28.728583333333336, 28.821333333333328, 28.314000000000007, 28.253583333333335, 28.369000000000003, 28.709333333333337, 29.24066666666667, 28.892333333333337, 28.275333333333336, 27.97158333333333, 28.33758333333334, 28.239583333333332, 28.953000000000003, 28.517583333333334, 28.34025, 28.711083333333335, 29.11475, 28.804416666666672, 28.076000000000004, 28.650000000000006, 28.504083333333337, 28.375083333333333, 28.844333333333328, 28.3455, 28.739833333333337, 27.8955, 28.683333333333337, 28.136000000000006, 28.339416666666665, 28.035083333333336, 28.628916666666658, 28.365416666666665, 28.15125, 28.78633333333333, 28.662666666666667, 28.473750000000006, 28.32925, 28.40425, 28.689083333333333, 28.441666666666674, 28.189083333333333, 28.754333333333335, 28.20283333333334, 28.539916666666667, 29.155916666666673, 28.893333333333334, 28.506416666666667, 28.557666666666663, 28.80191666666667, 28.085250000000002, 28.170333333333335, 27.869000000000003, 28.81975, 28.874166666666664, 28.962416666666666, 29.141416666666668, 28.91208333333334, 28.439666666666664, 29.276666666666667, 28.857666666666663, 28.793583333333334, 28.519000000000002, 29.637833333333333, 28.780666666666665, 28.77316666666667, 29.321083333333334, 28.855833333333333, 28.56616666666667, 28.9665, 28.376250000000002, 28.903999999999996, 29.252583333333337, 29.133916666666668, 29.49308333333333, 28.792583333333337, 29.150333333333332, 29.31083333333334, 29.426500000000004, 29.429000000000002, 29.426000000000002, 29.52625, 29.03791666666667, 29.202166666666674, 28.949916666666663, 29.440916666666666, 30.12708333333333, 29.436666666666667, 28.60183333333333, 29.941999999999997]\n",
            "Malta\n",
            "[17.873, 18.557583333333334, 19.171, 18.489500000000003, 18.22808333333333, 18.366083333333336, 19.0145, 18.4635, 18.841250000000002, 18.387583333333335, 19.118083333333335, 18.6185, 18.908666666666665, 19.293000000000003, 18.935749999999995, 17.938583333333334, 18.683083333333336, 19.042083333333334, 18.824333333333332, 18.56191666666667, 18.91241666666667, 18.756583333333335, 18.671666666666667, 19.079333333333334, 18.303166666666666, 18.734416666666664, 17.933, 18.2825, 18.766416666666665, 19.225916666666667, 18.472416666666668, 18.980166666666666, 19.215666666666667, 19.628999999999998, 18.681, 18.7905, 19.21333333333333, 18.6765, 19.3355, 18.444083333333335, 18.125833333333333, 19.16991666666667, 18.215916666666665, 18.56375, 18.77716666666667, 18.39966666666667, 19.083499999999997, 18.919583333333332, 18.701833333333337, 18.614083333333333, 18.503416666666666, 18.36516666666667, 18.611083333333333, 18.61491666666667, 18.68941666666667, 18.312583333333333, 18.593999999999998, 18.210333333333335, 18.328, 18.53708333333333, 18.322166666666668, 18.454083333333333, 17.947750000000003, 18.938499999999998, 18.1975, 18.675416666666667, 17.970916666666664, 18.417083333333334, 19.08091666666667, 18.586583333333333, 18.338583333333332, 18.96783333333333, 18.780833333333337, 19.119916666666665, 19.357249999999997, 18.969416666666667, 19.56175, 18.590083333333336, 18.832083333333333, 19.05125, 19.837666666666667, 19.072750000000003, 18.962416666666666, 19.396666666666672, 19.311083333333332, 19.842, 19.609166666666663, 19.90966666666667, 19.551833333333335, 19.756583333333335, 19.171166666666668, 18.875083333333336, 19.601333333333333, 19.749916666666667, 19.81816666666667, 19.57925, 19.664416666666668, 19.313499999999998, 19.829166666666666, 19.437375000000003]\n",
            "Martinique\n",
            "[25.948083333333333, 26.177833333333336, 25.757000000000005, 25.499333333333336, 25.699250000000003, 26.070999999999998, 25.68433333333333, 25.804583333333337, 25.78916666666667, 25.796333333333337, 26.12033333333333, 25.818749999999994, 26.314166666666665, 26.13416666666667, 26.161583333333336, 25.903583333333334, 26.18133333333334, 26.622083333333332, 26.399500000000003, 26.02775, 25.915000000000006, 25.79516666666666, 25.83241666666666, 26.1905, 25.849999999999998, 26.04975, 26.515999999999995, 26.646916666666666, 26.521333333333335, 26.036583333333336, 26.13766666666667, 25.785833333333333, 26.04466666666667, 26.409666666666666, 26.2195, 25.973666666666663, 25.798000000000002, 26.20233333333333, 26.543333333333333, 26.508916666666664, 26.077250000000003, 26.33866666666667, 26.10075, 26.17975, 26.758166666666664, 26.49058333333333, 26.603083333333334, 26.349916666666672, 26.473416666666665, 26.603916666666667, 26.394166666666667, 26.21525, 26.35858333333334, 26.095000000000002, 26.133499999999998, 26.655166666666663, 26.423083333333338, 26.08933333333333, 26.326999999999998, 26.490166666666667, 26.087499999999995, 26.03708333333333, 25.951249999999998, 26.426083333333338, 26.515749999999997, 26.442666666666668, 26.75333333333333, 26.686333333333334, 26.436000000000003, 26.696749999999998, 26.250833333333333, 26.274749999999997, 26.358083333333337, 26.947750000000003, 26.6615, 26.378666666666664, 26.629833333333334, 26.544583333333335, 26.619, 26.647916666666664, 26.624499999999998, 26.974333333333334, 26.632500000000004, 26.957166666666662, 27.268, 26.81325, 26.5715, 26.90216666666667, 26.935666666666663, 27.08, 26.829666666666668, 27.31925, 27.148583333333335, 27.09441666666667, 26.664666666666665, 26.9505, 27.486833333333337, 26.98783333333333, 27.112333333333336, 26.922125]\n",
            "Mauritania\n",
            "[27.648416666666666, 27.72366666666667, 27.296416666666673, 27.109583333333333, 27.0865, 27.599, 27.386583333333334, 27.366083333333332, 27.576750000000004, 27.797083333333333, 27.783916666666666, 27.593083333333336, 28.250666666666664, 27.782416666666673, 27.362750000000002, 27.474500000000006, 27.499, 27.932750000000002, 27.651, 27.077666666666662, 27.143000000000004, 27.399166666666662, 27.430583333333335, 28.207416666666674, 27.71141666666667, 27.46933333333334, 27.716500000000007, 27.96783333333333, 27.72733333333333, 27.288083333333333, 27.697916666666668, 28.102916666666662, 27.327833333333334, 27.84116666666667, 27.479250000000004, 27.60766666666666, 27.309750000000005, 27.3685, 27.22175, 27.632416666666668, 27.109416666666664, 28.123416666666667, 27.266166666666667, 27.156833333333335, 28.01275, 27.6365, 27.6765, 27.939916666666665, 27.806416666666664, 27.75633333333333, 27.862166666666663, 27.298666666666666, 27.9855, 27.27525, 27.58, 28.13325, 28.368166666666667, 27.253416666666666, 27.196916666666667, 27.761750000000003, 27.066666666666666, 27.29925, 26.69725, 28.116583333333335, 28.00066666666667, 28.366333333333333, 28.230000000000004, 28.334333333333333, 27.582666666666668, 28.839416666666665, 27.771833333333333, 27.880916666666668, 27.500083333333333, 29.096000000000004, 27.953999999999997, 28.215999999999998, 28.536416666666664, 28.033833333333337, 27.955, 27.85841666666667, 27.910916666666665, 28.26, 28.538499999999996, 28.599999999999994, 28.969916666666666, 27.872916666666665, 28.355583333333332, 28.878416666666663, 28.65025, 28.558833333333336, 28.628250000000005, 28.752250000000004, 28.4505, 28.451916666666666, 28.395, 28.43133333333333, 29.372916666666665, 28.63291666666667, 28.026833333333332, 29.11]\n",
            "Mauritius\n",
            "[23.580499999999997, 23.59658333333334, 23.346333333333334, 22.896166666666662, 22.88083333333334, 23.618166666666667, 23.012083333333337, 23.080083333333334, 23.059416666666664, 23.36, 23.169166666666666, 23.414083333333334, 23.691000000000003, 23.171833333333336, 23.367500000000003, 23.22675, 23.287166666666668, 23.668583333333334, 23.30541666666667, 23.411083333333334, 23.192916666666665, 23.497, 23.560333333333332, 23.591250000000002, 23.448833333333337, 23.645416666666666, 23.730500000000003, 23.820083333333333, 23.507583333333333, 23.049750000000003, 23.685416666666665, 23.60983333333333, 23.713666666666672, 23.52625, 23.69125, 23.564583333333335, 23.36641666666667, 23.54291666666667, 23.549916666666665, 23.741000000000003, 23.792500000000004, 23.505250000000004, 23.371750000000002, 23.59058333333333, 23.630750000000006, 23.41175, 23.452833333333334, 24.15066666666667, 23.300416666666667, 23.146, 23.124999999999996, 23.265083333333337, 23.630250000000004, 23.7195, 23.197666666666667, 24.105166666666666, 23.751166666666663, 23.301249999999996, 23.821749999999998, 23.72775, 23.091416666666664, 23.57025, 23.841333333333335, 24.150750000000002, 23.989083333333337, 23.93658333333333, 23.86491666666667, 23.817083333333333, 23.751333333333335, 23.709500000000002, 23.578083333333336, 23.649416666666667, 23.688000000000002, 24.315083333333334, 24.13558333333334, 23.760083333333338, 23.840666666666664, 24.138, 23.809083333333334, 23.911083333333334, 24.165833333333335, 24.023416666666666, 23.891166666666663, 24.09741666666667, 24.405916666666666, 24.1075, 24.002583333333334, 24.4905, 24.395749999999996, 24.517083333333336, 24.25458333333333, 24.15591666666667, 24.31975, 24.284333333333336, 24.189000000000004, 24.584833333333332, 24.669083333333337, 24.522333333333332, 24.374, 24.312375000000003]\n",
            "Mayotte\n",
            "[26.291000000000007, 26.309083333333337, 26.035583333333335, 25.94916666666667, 25.95625, 26.358333333333338, 25.866333333333333, 25.927999999999997, 25.978750000000005, 26.22191666666667, 26.06791666666666, 26.218, 26.528249999999996, 25.954583333333332, 26.297916666666666, 26.243416666666665, 25.89066666666667, 26.453083333333336, 26.248083333333337, 26.09, 26.203166666666664, 26.15991666666667, 26.3305, 26.19416666666667, 26.31183333333333, 26.295333333333332, 26.64758333333333, 26.64333333333334, 26.352083333333336, 25.784833333333335, 26.285249999999994, 26.269333333333336, 26.361416666666667, 26.343333333333337, 26.53975, 26.455666666666673, 26.26275, 26.329916666666666, 26.60925, 26.511083333333332, 26.57633333333334, 26.27725, 26.10375, 26.396583333333336, 26.640833333333333, 26.27391666666667, 26.418666666666663, 26.91058333333334, 26.429000000000002, 26.152416666666667, 26.16875, 25.96666666666667, 26.64375, 26.600916666666667, 26.067333333333334, 26.830166666666667, 26.646, 25.985583333333338, 26.450083333333335, 26.533249999999995, 26.053333333333338, 26.27625, 26.361499999999996, 26.84766666666667, 26.562916666666663, 26.60041666666667, 26.60041666666667, 26.553, 26.815416666666664, 26.705166666666667, 26.16208333333334, 26.413666666666668, 26.61066666666667, 26.966916666666673, 26.93183333333333, 26.391083333333338, 26.775333333333336, 26.799416666666662, 26.85475, 26.883499999999998, 27.091833333333337, 26.996750000000002, 26.585750000000004, 26.994333333333334, 27.354833333333332, 26.938666666666666, 26.609333333333336, 27.02808333333334, 27.37391666666667, 27.141999999999996, 27.0085, 27.266000000000002, 27.15125, 27.256583333333335, 26.914666666666665, 27.238, 27.45141666666667, 27.188583333333337, 26.97, 27.13175]\n",
            "Mexico\n",
            "[20.211750000000002, 20.3585, 20.551750000000002, 20.441166666666664, 20.469666666666665, 20.319416666666665, 20.420333333333335, 20.84766666666667, 20.773, 20.513083333333334, 20.498333333333335, 20.599833333333333, 20.6, 20.92716666666667, 20.770083333333336, 20.589333333333332, 20.613583333333334, 20.471, 20.58391666666667, 20.912666666666667, 20.87633333333333, 20.555666666666667, 20.696250000000003, 20.914416666666664, 20.741583333333335, 20.638499999999997, 20.755166666666664, 20.762249999999995, 20.74358333333333, 20.750333333333334, 20.495833333333334, 21.120916666666666, 21.12375, 20.742, 21.05216666666667, 20.916083333333336, 21.256749999999997, 21.117583333333336, 20.887333333333334, 21.0715, 21.098499999999998, 20.633583333333334, 20.72375, 21.10475, 20.745083333333337, 20.751250000000002, 20.746583333333337, 20.723916666666668, 20.993333333333336, 20.879416666666668, 20.586333333333336, 20.7345, 20.389666666666663, 20.683333333333334, 20.31608333333333, 20.95883333333333, 20.490083333333335, 20.640333333333334, 20.974999999999998, 20.496166666666667, 20.6315, 20.449333333333332, 20.145666666666667, 20.841250000000002, 20.7555, 20.569000000000003, 21.035666666666668, 20.75375, 21.051083333333334, 20.675416666666667, 20.511499999999998, 20.603916666666667, 20.850666666666665, 20.455166666666667, 20.736083333333333, 20.96516666666667, 20.96083333333333, 20.83966666666667, 20.650333333333332, 20.938833333333335, 21.32575, 21.37066666666667, 21.132166666666667, 20.898583333333335, 21.53175, 21.1285, 21.232083333333332, 21.133, 21.225, 21.32941666666667, 20.924833333333336, 21.4135, 21.41808333333334, 21.079333333333338, 21.085250000000002, 21.54608333333334, 20.852916666666665, 21.599333333333334, 21.652416666666667, 22.219222222222225]\n",
            "Moldova\n",
            "[8.717666666666666, 9.110416666666667, 9.610833333333334, 8.676583333333333, 9.66175, 8.748416666666667, 8.599250000000003, 8.901583333333335, 8.560583333333334, 9.940083333333332, 8.528833333333331, 9.753333333333332, 9.2865, 9.251916666666666, 8.3295, 7.8226666666666675, 9.763416666666666, 8.244333333333335, 8.755166666666666, 7.183833333333332, 9.723166666666668, 8.821833333333336, 10.108166666666667, 9.824666666666667, 9.851833333333335, 9.834249999999999, 7.478000000000001, 7.771999999999999, 7.320166666666665, 9.036083333333332, 9.245666666666667, 8.518833333333333, 9.53175, 8.832666666666668, 9.063833333333333, 9.354416666666667, 9.625083333333333, 10.101416666666667, 9.500583333333333, 8.776250000000001, 8.321083333333334, 9.10525, 7.739833333333334, 9.608083333333335, 9.557250000000002, 9.011916666666666, 9.941083333333333, 9.8045, 9.465916666666669, 8.74475, 8.841666666666667, 8.429, 10.387333333333332, 9.585666666666667, 9.478166666666668, 8.200083333333334, 9.54075, 9.333166666666667, 9.384666666666666, 8.858333333333333, 9.362166666666667, 10.359583333333333, 8.193916666666665, 9.403416666666667, 8.578666666666667, 9.605916666666666, 8.12975, 9.531666666666666, 9.437666666666665, 10.054833333333333, 9.159583333333332, 7.724166666666668, 9.17075, 8.015666666666666, 8.950666666666669, 10.511166666666668, 10.875583333333333, 9.18325, 9.753333333333332, 8.870166666666666, 10.664166666666667, 9.477916666666667, 8.573333333333332, 8.690666666666667, 9.532000000000002, 10.629166666666668, 10.69, 10.000833333333334, 10.541083333333335, 9.428416666666667, 9.901833333333332, 9.842666666666666, 9.591833333333334, 11.358916666666666, 10.744416666666666, 10.731916666666669, 10.225666666666667, 9.8705, 10.587583333333335, 11.9605]\n",
            "Monaco\n",
            "[8.62525, 8.533083333333332, 8.910833333333334, 8.155833333333332, 8.706416666666666, 8.392999999999999, 9.595166666666666, 9.606333333333334, 8.730583333333334, 9.222916666666666, 8.974833333333331, 8.71825, 9.3935, 9.351416666666667, 9.5725, 8.932833333333333, 9.440333333333333, 8.7315, 8.817166666666667, 8.8075, 9.470166666666666, 9.026750000000002, 9.197416666666667, 9.550749999999999, 9.119583333333333, 8.804916666666667, 8.305916666666667, 8.173583333333333, 9.109416666666666, 10.105333333333332, 8.912333333333335, 9.709416666666668, 9.387083333333331, 9.883833333333333, 9.701416666666665, 10.112166666666665, 9.814, 9.32875, 9.368416666666667, 9.422166666666667, 8.772166666666667, 9.427833333333334, 8.120166666666666, 9.233166666666667, 9.258416666666667, 9.629333333333333, 9.05675, 10.008583333333334, 8.852083333333335, 8.476416666666667, 9.456166666666666, 8.722499999999998, 9.368666666666668, 9.525166666666665, 9.04625, 8.678916666666666, 9.033333333333333, 9.208916666666667, 8.88975, 9.235750000000001, 9.212916666666667, 9.182833333333333, 9.130166666666666, 9.066333333333334, 8.708416666666666, 9.289250000000001, 8.690083333333334, 9.2305, 9.894833333333333, 9.60375, 8.689083333333334, 9.15525, 9.515333333333333, 9.504916666666665, 9.7545, 10.095499999999998, 10.135333333333334, 9.468333333333332, 9.897916666666669, 9.551666666666668, 10.569583333333332, 9.756583333333333, 9.278583333333332, 10.368083333333333, 9.889249999999999, 9.993333333333334, 10.229499999999998, 10.211833333333333, 10.260166666666665, 10.726083333333335, 9.93825, 9.518416666666667, 10.454916666666664, 10.411, 9.97425, 10.429416666666667, 9.223666666666665, 10.723500000000001, 10.248666666666667, 10.417]\n",
            "Mongolia\n",
            "[-0.39291666666666664, -1.437833333333333, -1.5869166666666663, -1.14975, -0.9069166666666671, -1.0161666666666673, -0.7154166666666663, -0.6554999999999996, -1.1816666666666673, -1.2605, -0.85125, -0.4864166666666668, -0.3578333333333343, -0.8291666666666663, -1.021083333333333, -1.350083333333333, -1.101833333333334, -1.681916666666666, -0.05616666666666662, -1.3159999999999996, -1.3131666666666668, -1.1172500000000007, -1.8519999999999996, -1.5054166666666664, -0.68675, -0.36666666666666625, -0.4945833333333338, -0.2599166666666671, -0.4785000000000002, -0.4889999999999996, -1.353166666666666, -0.8260833333333338, -0.3101666666666665, -1.9658333333333342, -0.2998333333333337, -0.5713333333333335, -0.8249166666666657, -0.7001666666666663, -1.3803333333333336, -0.6470000000000001, -1.6718333333333346, -0.6154999999999992, -1.7387499999999996, -1.3845000000000003, -0.1323333333333331, -0.7523333333333325, -0.796583333333333, -0.3371666666666668, -0.26266666666666644, 0.4474166666666661, -0.7845000000000001, 0.12891666666666732, -0.5660000000000007, -0.9076666666666675, -0.9830000000000005, -1.5954166666666663, -1.1128333333333342, -0.6264166666666663, -0.23433333333333284, 0.14433333333333356, -0.9841666666666661, -0.04708333333333344, -0.9320833333333335, -0.34449999999999975, 0.124333333333334, 0.2745, -0.4826666666666671, -0.600583333333334, 0.4544166666666669, -0.12758333333333263, -1.4175000000000002, -0.9774166666666665, -0.21050000000000027, -0.30508333333333343, -0.16333333333333355, 0.6739166666666659, 0.6622499999999997, 0.12483333333333195, 0.2616666666666667, -0.2125833333333326, 0.6934999999999999, 0.7484999999999994, -0.082666666666666, 1.2595, 1.5969166666666668, 1.099166666666666, 0.17499999999999982, 0.7503333333333332, 1.0959166666666675, 0.04641666666666655, 1.0906666666666665, -0.1398333333333325, 0.9519166666666669, 2.075583333333334, 1.1155833333333336, 0.5644999999999998, -0.31866666666666604, -0.09200000000000023, -0.5962499999999994, 2.8077500000000004]\n",
            "Montenegro\n",
            "[9.475166666666667, 10.227333333333334, 11.110083333333334, 10.176666666666668, 10.328666666666665, 9.822666666666667, 10.39325, 10.177500000000002, 10.008833333333333, 11.043166666666666, 9.91325, 10.261333333333335, 10.873583333333334, 11.247166666666667, 10.56016666666667, 9.527416666666667, 10.959166666666667, 10.175583333333336, 10.029583333333333, 9.475083333333334, 11.236916666666666, 10.446083333333332, 10.796666666666667, 10.849166666666667, 10.15575, 10.695666666666666, 8.98775, 9.458583333333332, 9.7965, 10.908333333333333, 10.042083333333332, 10.505, 11.104750000000001, 10.921083333333335, 10.489583333333334, 10.241833333333334, 11.558666666666667, 11.411416666666668, 11.242166666666668, 10.344916666666665, 9.809, 10.631000000000002, 9.560333333333334, 10.721583333333335, 10.805, 10.081416666666666, 10.89275, 11.001583333333334, 10.497083333333332, 10.535083333333331, 10.099083333333333, 9.99375, 10.81675, 10.346166666666667, 10.461, 10.162999999999998, 10.283, 10.232916666666666, 10.3225, 10.04825, 10.297916666666667, 10.369666666666665, 9.534583333333332, 10.820416666666667, 9.849083333333335, 10.641333333333334, 9.61225, 10.20625, 10.685666666666664, 10.242083333333333, 10.168999999999999, 10.313333333333333, 10.67075, 10.5725, 10.7035, 10.554333333333332, 11.242583333333334, 10.069666666666668, 10.94225, 10.783333333333331, 11.772499999999999, 10.383583333333332, 10.323583333333332, 10.572166666666666, 10.930833333333334, 11.248666666666667, 11.561333333333335, 11.235250000000002, 11.417166666666667, 11.27825, 10.82125, 10.12575, 10.560833333333333, 11.595083333333337, 11.627666666666665, 11.462666666666665, 11.244416666666666, 11.23466666666667, 11.531833333333331, 12.870375]\n",
            "Montserrat\n",
            "[26.177916666666665, 26.432666666666666, 25.99475, 25.779, 26.0415, 26.345583333333337, 26.052750000000003, 26.217250000000003, 26.139166666666668, 26.109666666666673, 26.294416666666667, 26.115166666666664, 26.53325, 26.32183333333333, 26.44616666666667, 26.091416666666664, 26.524333333333335, 26.802000000000003, 26.50391666666667, 26.147750000000002, 26.129083333333337, 26.281333333333333, 26.28333333333333, 26.545416666666668, 26.12358333333333, 26.391166666666663, 26.694916666666668, 26.86341666666667, 26.780249999999995, 26.292250000000006, 26.370833333333334, 26.096333333333334, 26.366666666666664, 26.735416666666662, 26.531333333333336, 26.174416666666662, 25.984583333333333, 26.4875, 26.665750000000006, 26.80841666666667, 26.39883333333333, 26.560333333333336, 26.363416666666666, 26.611666666666668, 27.046000000000006, 26.842583333333337, 26.906166666666667, 26.665999999999997, 26.70141666666667, 26.84075, 26.65375, 26.378416666666663, 26.55933333333334, 26.29766666666667, 26.356083333333334, 26.829000000000004, 26.682333333333332, 26.339916666666667, 26.5115, 26.828833333333325, 26.291750000000004, 26.286333333333335, 26.208249999999996, 26.78983333333333, 26.80475, 26.60766666666667, 27.075416666666666, 27.01725, 26.633166666666668, 27.02066666666667, 26.542749999999998, 26.54716666666667, 26.65383333333334, 27.169916666666666, 26.894166666666667, 26.635666666666662, 26.882333333333335, 26.83175, 26.845249999999997, 26.890249999999998, 26.875416666666663, 27.326333333333338, 26.905666666666665, 27.25583333333333, 27.55741666666667, 27.064333333333337, 26.841083333333334, 27.204666666666668, 27.30575, 27.461666666666662, 27.093000000000004, 27.555249999999997, 27.41241666666667, 27.452916666666663, 26.909833333333328, 27.21675, 27.696583333333333, 27.2225, 27.3685, 27.213250000000002]\n",
            "Morocco\n",
            "[17.307166666666667, 17.507333333333335, 17.27775, 16.958750000000002, 17.045083333333334, 17.37291666666667, 17.813333333333333, 17.468583333333335, 17.476083333333335, 17.2975, 17.80708333333333, 17.114166666666666, 18.307, 17.830499999999997, 17.643333333333334, 17.75175, 17.91341666666667, 17.668833333333335, 17.22825, 17.564416666666666, 17.1125, 17.47075, 17.467916666666664, 18.2965, 17.724833333333333, 17.352749999999997, 17.908583333333333, 17.902916666666666, 17.917416666666664, 17.658166666666666, 17.62125, 18.527166666666666, 17.55525, 18.226166666666668, 18.174666666666663, 18.150333333333332, 17.952916666666667, 17.59391666666667, 17.892750000000003, 17.82225, 17.418583333333334, 18.7615, 16.933666666666667, 17.385083333333334, 18.009999999999998, 17.6655, 17.85625, 18.608666666666668, 18.0075, 17.779, 17.9755, 17.626833333333334, 17.951083333333333, 17.543583333333334, 17.718249999999998, 17.62183333333334, 17.9635, 16.9075, 16.594916666666666, 17.537499999999998, 17.249583333333334, 17.41241666666667, 17.03483333333333, 17.732750000000003, 17.952749999999998, 17.860333333333333, 18.056749999999997, 18.312166666666666, 17.701916666666666, 18.555083333333332, 17.714000000000002, 18.30933333333333, 17.792666666666666, 18.814666666666668, 18.212, 18.530333333333335, 18.697666666666667, 17.61725, 17.68575, 17.502666666666666, 18.460416666666664, 18.788833333333333, 18.24833333333334, 18.79925, 18.712666666666667, 18.368333333333336, 18.56508333333333, 19.233916666666666, 18.71258333333333, 18.856000000000005, 18.486, 18.580750000000002, 18.793166666666668, 18.419666666666668, 18.38216666666667, 19.010750000000005, 19.435000000000006, 18.878833333333333, 18.66875, 19.30525]\n",
            "Mozambique\n",
            "[23.651000000000007, 23.61458333333334, 23.429999999999996, 23.311083333333332, 23.16091666666667, 23.45566666666667, 23.417, 23.275583333333334, 23.84658333333334, 23.74258333333334, 23.339166666666667, 23.339666666666673, 23.566333333333333, 23.176416666666665, 23.52125, 23.556833333333334, 23.12925, 23.731166666666667, 23.482333333333333, 23.33175, 23.552833333333336, 22.98766666666667, 23.212166666666665, 23.478666666666665, 23.58616666666667, 23.212666666666667, 23.70375, 24.092583333333337, 23.816500000000005, 23.432833333333335, 23.673333333333336, 23.189750000000004, 23.477916666666662, 23.67533333333333, 23.70041666666667, 23.798333333333332, 23.407416666666666, 23.542083333333334, 23.732250000000004, 23.569750000000003, 23.74041666666666, 23.472833333333337, 23.383166666666668, 23.9725, 23.83241666666667, 23.766750000000002, 23.54325, 23.930083333333332, 23.781500000000005, 23.280916666666666, 23.436916666666665, 23.2025, 23.884833333333333, 23.782, 23.418499999999998, 24.004499999999997, 23.956250000000008, 23.550666666666668, 23.568749999999998, 23.74083333333333, 23.3455, 23.422666666666668, 23.494083333333336, 23.99716666666667, 23.7745, 23.745166666666666, 23.75191666666667, 23.42625, 23.762666666666664, 24.563833333333335, 23.85825, 23.67758333333333, 23.77683333333334, 24.488333333333333, 24.085250000000002, 23.79625, 24.200666666666667, 24.132750000000005, 24.743000000000006, 24.247500000000002, 24.042250000000006, 24.476499999999998, 24.09016666666666, 24.15225, 24.623416666666667, 24.081500000000002, 23.92025, 24.25091666666667, 24.428166666666666, 24.42325, 24.072583333333327, 24.833749999999995, 24.303416666666664, 24.22441666666667, 24.030500000000004, 24.081333333333333, 24.605749999999997, 24.30216666666667, 24.009583333333328, 23.488]\n",
            "Namibia\n",
            "[20.56416666666667, 20.37933333333333, 20.536916666666666, 20.163916666666665, 19.831833333333332, 20.324916666666667, 20.559333333333335, 20.53875, 21.034249999999997, 20.50466666666666, 20.464333333333336, 20.101333333333333, 20.80666666666667, 21.074833333333334, 20.551333333333332, 20.791666666666668, 20.392916666666668, 20.692000000000004, 20.37541666666667, 20.92383333333333, 20.300749999999997, 20.08916666666667, 20.221916666666665, 20.331666666666667, 20.219833333333334, 20.009250000000005, 20.573666666666664, 21.275666666666663, 20.65908333333333, 20.411083333333334, 20.80675, 20.70266666666667, 20.906249999999996, 20.740083333333335, 20.467583333333334, 20.836333333333332, 20.434, 20.61958333333333, 20.987166666666667, 20.37, 20.18416666666667, 20.05675, 20.22, 20.592333333333332, 20.583750000000002, 20.691666666666666, 20.735666666666667, 20.792416666666668, 20.748833333333334, 20.563083333333335, 20.496916666666664, 20.568, 20.79458333333333, 20.37391666666667, 20.421166666666668, 20.837083333333332, 21.006166666666665, 20.568166666666666, 20.84408333333333, 21.01441666666667, 19.930000000000003, 20.4755, 19.949333333333335, 20.517083333333336, 20.413, 20.88475, 20.660916666666665, 20.673999999999996, 20.857833333333332, 21.213083333333334, 21.248749999999998, 20.79416666666667, 20.996, 21.485416666666666, 21.0565, 20.721083333333336, 21.33683333333333, 20.78075, 21.336833333333335, 21.24833333333333, 20.951083333333333, 21.600250000000003, 20.828666666666667, 20.818166666666663, 21.676666666666662, 21.46591666666667, 21.017666666666667, 21.237166666666667, 21.547583333333336, 22.040833333333335, 21.643833333333333, 21.473916666666668, 20.381833333333333, 21.18058333333333, 21.021083333333333, 20.976250000000004, 21.39225, 20.350416666666668, 20.795, 21.265874999999998]\n",
            "Nepal\n",
            "[14.600416666666662, 15.174750000000001, 14.924333333333335, 14.108000000000002, 14.494833333333332, 14.581333333333331, 14.764916666666664, 15.016333333333334, 14.86616666666667, 14.882833333333338, 15.113833333333332, 14.375250000000001, 14.661666666666669, 14.655916666666664, 15.232833333333334, 14.847333333333333, 14.7845, 15.269750000000004, 15.174083333333336, 14.499, 14.777833333333334, 14.677833333333334, 14.387666666666666, 14.462833333333334, 14.7575, 14.933583333333333, 14.816833333333333, 15.6285, 15.260916666666667, 15.011249999999999, 14.654666666666666, 14.579583333333332, 15.02575, 15.416500000000001, 14.946666666666667, 14.84533333333333, 14.651250000000003, 15.288083333333335, 15.285666666666666, 15.541500000000001, 15.188, 14.838499999999998, 15.015250000000002, 14.907000000000002, 15.752166666666666, 15.3685, 15.314583333333337, 14.808583333333333, 14.750749999999998, 14.90591666666667, 15.207166666666666, 14.737000000000002, 15.390750000000002, 14.769, 14.615083333333336, 15.399499999999998, 15.086583333333335, 14.408416666666668, 15.07691666666667, 15.211583333333332, 15.229416666666667, 14.9505, 15.139916666666666, 15.13725, 14.663916666666667, 15.387749999999999, 15.299333333333331, 14.907583333333335, 14.893750000000002, 14.480916666666667, 15.277583333333332, 15.540666666666667, 14.932916666666669, 15.570500000000001, 15.552000000000001, 15.035750000000002, 15.272333333333334, 15.135000000000003, 15.075583333333334, 15.276250000000003, 15.458250000000001, 15.453333333333333, 15.459833333333334, 14.691916666666666, 15.577750000000002, 15.944583333333334, 15.279333333333335, 15.59025, 15.648666666666669, 15.47025, 15.551833333333335, 15.616166666666667, 16.056000000000004, 15.657083333333333, 15.409083333333333, 16.077, 16.114, 15.280666666666669, 15.419833333333331, 15.951250000000003]\n",
            "Netherlands (Europe)\n",
            "[9.665250000000002, 8.773333333333335, 9.181083333333333, 8.321416666666666, 9.369833333333334, 8.105416666666667, 9.489416666666665, 10.0305, 8.230333333333334, 8.768666666666666, 8.611083333333333, 9.182, 9.605333333333334, 8.975083333333332, 9.329666666666668, 8.385083333333332, 9.736083333333333, 8.783416666666666, 9.424833333333334, 9.0755, 10.243083333333333, 9.600750000000001, 9.418000000000001, 9.566, 9.798583333333333, 9.576749999999999, 7.983, 8.468583333333333, 8.271083333333332, 9.831666666666667, 9.368916666666667, 10.016166666666665, 9.173500000000002, 9.386916666666666, 9.955916666666667, 10.119499999999999, 9.475666666666665, 9.571833333333332, 8.932083333333333, 9.842083333333335, 8.933916666666667, 8.819, 8.127, 9.827916666666665, 9.354333333333333, 10.187, 9.631166666666667, 9.946, 8.140666666666666, 7.831333333333333, 9.154333333333334, 8.706083333333334, 9.432916666666667, 9.91675, 9.152, 9.123666666666667, 9.025333333333334, 9.517333333333331, 8.960500000000001, 9.45175, 9.748583333333334, 9.882666666666669, 9.787666666666667, 9.642500000000002, 8.934916666666666, 8.464583333333334, 9.054, 9.234083333333333, 9.953000000000001, 9.965666666666666, 9.300916666666668, 8.417833333333334, 8.810083333333335, 8.614416666666665, 10.155833333333334, 10.5645, 10.629916666666668, 9.353666666666669, 10.373083333333332, 9.446583333333333, 10.4645, 10.204916666666668, 8.31425, 10.018583333333334, 10.12225, 10.71825, 10.738750000000001, 10.192666666666668, 10.634416666666667, 10.310916666666666, 10.245416666666667, 10.438333333333333, 10.915750000000001, 11.014416666666667, 10.415416666666667, 10.318416666666666, 8.838416666666665, 10.70125, 10.046916666666666, 9.4525]\n",
            "Netherlands\n",
            "[10.044833333333331, 9.182249999999998, 9.566666666666666, 8.716416666666666, 9.746666666666666, 8.520916666666666, 9.869250000000001, 10.394250000000001, 8.636666666666667, 9.163833333333335, 9.016166666666665, 9.569916666666666, 9.997166666666667, 9.371833333333333, 9.721166666666667, 8.792416666666666, 10.113666666666667, 9.192583333333333, 9.8165, 9.46625, 10.614416666666665, 9.979583333333334, 9.804333333333334, 9.953333333333335, 10.169916666666667, 9.9575, 8.415083333333332, 8.892166666666666, 8.698666666666666, 10.211583333333332, 9.761583333333332, 10.389416666666667, 9.561, 9.782000000000002, 10.337583333333333, 10.490083333333335, 9.853333333333333, 9.962083333333332, 9.343083333333333, 10.231416666666666, 9.334916666666667, 9.217999999999998, 8.5425, 10.210499999999998, 9.763083333333332, 10.56525, 10.024666666666667, 10.326833333333335, 8.563999999999998, 8.263166666666667, 9.553166666666668, 9.111583333333334, 9.827833333333333, 10.293666666666667, 9.549916666666668, 9.533583333333334, 9.431500000000002, 9.901833333333332, 9.366166666666667, 9.848333333333334, 10.125749999999998, 10.260833333333334, 10.164750000000002, 10.037333333333335, 9.344416666666666, 8.885416666666668, 9.464916666666666, 9.639916666666666, 10.336250000000001, 10.357416666666667, 9.697416666666667, 8.828000000000001, 9.215083333333332, 9.042416666666666, 10.537166666666666, 10.932, 11.000333333333332, 9.75125, 10.75216666666667, 9.8475, 10.842, 10.594666666666667, 8.739333333333335, 10.409416666666667, 10.51858333333333, 11.086166666666669, 11.103499999999999, 10.579, 11.015499999999998, 10.699833333333332, 10.627500000000001, 10.823666666666666, 11.291333333333334, 11.388416666666666, 10.794583333333334, 10.707166666666666, 9.264583333333334, 11.076, 10.438166666666667, 9.8565]\n",
            "New Caledonia\n",
            "[22.562916666666666, 23.154500000000002, 22.83525, 22.40908333333333, 22.416833333333333, 22.44416666666667, 22.56216666666667, 22.69066666666667, 22.517916666666668, 22.350083333333334, 22.73608333333333, 22.277166666666663, 22.424666666666667, 22.531666666666666, 22.618750000000002, 22.634333333333334, 22.413500000000003, 22.90058333333333, 22.682333333333332, 22.63525, 22.339833333333335, 22.562916666666663, 22.71375, 22.714250000000003, 23.009083333333336, 22.60683333333333, 22.55666666666667, 22.709416666666666, 23.18583333333333, 22.783416666666668, 22.333916666666667, 22.639916666666668, 22.885750000000005, 22.985833333333336, 22.954333333333334, 22.931416666666667, 23.262583333333335, 22.578416666666666, 23.168500000000005, 22.910833333333333, 22.854166666666668, 23.00033333333333, 22.863583333333334, 22.551249999999996, 23.044999999999998, 22.677000000000003, 22.606500000000008, 22.768833333333333, 22.882416666666668, 22.62925, 23.022083333333338, 22.11825, 22.195916666666665, 22.929333333333332, 22.394499999999997, 22.736250000000002, 23.190916666666666, 22.909833333333335, 22.620500000000003, 23.715416666666666, 22.991500000000002, 23.174166666666665, 22.976583333333334, 22.667833333333334, 22.914083333333338, 22.831833333333332, 22.92475, 23.048583333333337, 22.687166666666666, 23.23625, 23.13191666666667, 23.14225, 22.93983333333333, 22.868333333333336, 23.7705, 23.16791666666667, 23.412916666666664, 22.855416666666667, 22.95016666666667, 22.781000000000002, 22.671666666666667, 23.707416666666663, 23.611499999999996, 23.183333333333337, 24.29891666666667, 23.54941666666667, 23.283083333333337, 23.49875, 23.469083333333334, 23.261750000000006, 23.36766666666667, 23.360500000000002, 23.194166666666664, 23.74325, 23.663333333333338, 23.274166666666662, 23.8685, 23.530583333333336, 23.21341666666667, 23.382375000000003]\n",
            "New Zealand\n",
            "[10.083333333333334, 10.315083333333332, 11.031, 10.737749999999997, 10.097666666666665, 9.87825, 10.024166666666666, 10.262166666666667, 10.366583333333333, 10.121416666666667, 11.0085, 9.917250000000001, 10.1195, 10.046416666666667, 11.0085, 10.270416666666666, 9.664333333333333, 9.846916666666667, 10.011166666666668, 10.437083333333332, 10.537, 10.805166666666667, 10.268166666666664, 10.016333333333334, 11.214083333333335, 10.220833333333333, 10.157250000000001, 10.126333333333333, 10.487833333333331, 10.200916666666666, 10.344666666666665, 10.059083333333332, 10.2795, 10.475499999999998, 10.748916666666664, 10.464666666666668, 10.618, 10.076333333333332, 10.40575, 10.385916666666665, 10.77375, 10.97025, 11.18475, 10.674416666666666, 10.686, 10.441833333333333, 10.554666666666666, 10.535666666666666, 11.149166666666666, 10.249833333333333, 10.394166666666667, 10.144333333333334, 10.394916666666665, 10.504416666666666, 10.511249999999999, 10.449333333333334, 11.149416666666667, 11.25175, 10.55625, 10.935583333333334, 11.06375, 10.96725, 10.14175, 10.130416666666665, 11.042749999999998, 10.848833333333333, 10.599666666666666, 11.052500000000002, 10.365333333333334, 10.295, 10.963833333333334, 11.030499999999998, 10.943249999999999, 11.03416666666667, 11.093416666666664, 11.27983333333333, 11.26933333333333, 10.53433333333333, 9.936166666666667, 10.238249999999999, 10.542250000000001, 10.821083333333334, 10.7435, 10.542, 11.632999999999997, 11.612249999999998, 11.115583333333333, 11.191083333333331, 10.997583333333333, 10.930250000000001, 10.475416666666668, 11.375416666666666, 10.703833333333334, 11.085166666666666, 11.171666666666667, 10.653583333333332, 11.335749999999999, 11.16325, 10.656916666666666, 11.0885]\n",
            "Nicaragua\n",
            "[25.87966666666667, 26.225583333333333, 25.649333333333335, 25.246499999999997, 25.686999999999998, 26.06683333333333, 25.92983333333333, 26.03216666666667, 26.0655, 25.956999999999997, 26.011583333333334, 25.89058333333333, 26.261583333333334, 25.983666666666668, 25.980166666666673, 25.960916666666666, 26.30258333333334, 26.262833333333333, 26.10616666666667, 26.040333333333333, 26.14741666666667, 25.842416666666665, 26.049666666666663, 25.96683333333333, 25.630166666666664, 25.949749999999998, 26.152083333333337, 26.604000000000003, 26.235666666666674, 26.089333333333332, 25.86633333333333, 25.91633333333333, 26.425250000000002, 26.562749999999998, 26.361833333333337, 25.78483333333334, 25.688000000000002, 26.25, 26.118250000000003, 26.362000000000005, 26.128500000000003, 26.034166666666664, 25.83633333333333, 26.46241666666667, 26.629916666666663, 26.410833333333333, 26.22708333333333, 26.178333333333338, 25.943916666666667, 26.111583333333332, 26.14975, 26.278750000000002, 26.194749999999996, 25.957916666666666, 25.77875, 26.364166666666666, 25.990916666666667, 25.902333333333335, 26.449416666666664, 26.382416666666668, 25.916333333333327, 25.998083333333337, 26.058166666666665, 26.537916666666664, 26.362749999999995, 26.348833333333342, 26.310000000000002, 26.099166666666665, 26.387749999999997, 26.84591666666667, 26.141000000000005, 26.214833333333335, 26.243999999999996, 26.946083333333334, 26.524583333333336, 26.15525, 26.55475, 26.610249999999997, 26.731250000000003, 26.611250000000002, 26.86691666666667, 26.92175, 26.40975, 27.026833333333332, 27.39625, 26.460000000000004, 26.381333333333334, 26.410000000000007, 26.66491666666667, 26.93225, 26.778583333333334, 26.838499999999996, 26.936083333333332, 26.823083333333333, 26.388500000000008, 26.781666666666666, 26.618916666666664, 26.614, 26.531916666666664, 26.871555555555556]\n",
            "Niger\n",
            "[28.08416666666666, 27.663916666666665, 27.047, 27.50975, 27.308583333333335, 27.623166666666673, 26.863583333333334, 27.24166666666667, 27.47475, 27.11766666666667, 27.74008333333333, 27.57208333333334, 27.833250000000003, 27.555666666666664, 27.783666666666665, 27.224833333333333, 27.983333333333338, 28.727416666666667, 27.915500000000005, 27.893, 27.40275, 27.514000000000006, 27.336916666666664, 27.4735, 27.531499999999998, 27.635250000000003, 27.84908333333333, 28.548333333333336, 28.267833333333332, 27.432000000000002, 27.410583333333335, 27.140500000000003, 27.464833333333335, 27.82341666666667, 27.066083333333335, 27.46675, 26.73533333333333, 27.639083333333332, 27.337833333333336, 27.33808333333334, 27.360500000000002, 27.399083333333337, 27.30991666666667, 27.40991666666667, 27.749083333333335, 27.396250000000006, 27.611499999999996, 26.54133333333334, 27.513833333333334, 27.955083333333334, 27.4075, 27.16733333333333, 27.41125, 27.296166666666668, 27.50108333333333, 28.49875, 27.444083333333328, 27.46333333333334, 27.816916666666668, 27.85591666666667, 27.111916666666662, 27.195833333333336, 27.62216666666666, 27.093833333333333, 27.686416666666663, 27.88625, 27.805166666666665, 27.554333333333332, 27.588666666666665, 27.539333333333342, 27.926999999999996, 27.660333333333337, 27.920666666666666, 28.23108333333334, 27.786749999999998, 27.166083333333336, 28.048083333333334, 27.859166666666667, 27.18508333333334, 27.75333333333333, 27.40058333333333, 27.895416666666666, 28.128, 28.131, 28.327666666666673, 28.268749999999997, 27.97583333333333, 28.118000000000006, 28.149666666666665, 28.30225, 28.371583333333337, 28.636416666666673, 28.291083333333333, 28.411916666666666, 27.901416666666666, 28.850416666666664, 29.29991666666667, 28.487416666666665, 28.07275, 29.231374999999996]\n",
            "Nigeria\n",
            "[27.163916666666665, 26.91291666666667, 26.479000000000003, 27.134500000000003, 26.57008333333334, 27.062500000000004, 26.34766666666667, 26.777666666666672, 26.887583333333335, 26.69691666666667, 26.995666666666676, 26.591916666666666, 27.09541666666667, 26.949833333333334, 26.96616666666667, 26.6305, 27.034499999999998, 27.48675, 26.867833333333333, 27.204000000000004, 26.811583333333335, 27.042833333333334, 26.97791666666667, 26.98175, 27.196250000000003, 26.728000000000005, 27.077249999999996, 27.618666666666666, 27.42491666666667, 26.828249999999997, 27.03325000000001, 26.86883333333334, 26.83158333333333, 27.14616666666667, 26.618166666666664, 27.0685, 26.671999999999997, 26.7535, 26.701333333333338, 26.716583333333336, 26.616666666666664, 26.457083333333333, 26.56833333333333, 26.645583333333335, 26.980083333333337, 26.806083333333333, 26.81741666666667, 26.368500000000008, 26.688916666666668, 27.077083333333334, 26.630666666666666, 26.667, 26.778583333333334, 26.595166666666668, 26.804000000000006, 27.21466666666667, 26.946500000000004, 26.796166666666668, 26.88575, 27.471999999999998, 26.59266666666667, 26.5085, 26.809916666666666, 26.88683333333334, 26.7825, 27.093083333333336, 27.063666666666673, 26.802916666666672, 26.869666666666664, 27.027749999999997, 27.07908333333333, 26.95925, 27.067249999999998, 27.613250000000004, 27.037833333333328, 26.376166666666666, 27.36616666666667, 27.04333333333334, 26.66366666666667, 27.103333333333335, 26.818833333333334, 27.165166666666664, 27.194666666666667, 27.144916666666663, 27.61191666666667, 27.329166666666666, 27.0335, 27.09466666666667, 27.464250000000003, 27.429, 27.5695, 27.72458333333333, 27.795083333333334, 27.690083333333334, 27.325666666666667, 27.902916666666666, 28.004250000000003, 27.622250000000008, 27.40791666666667, 28.005875]\n",
            "Niue\n",
            "[24.772333333333332, 24.579499999999996, 24.679916666666667, 24.44841666666667, 24.747583333333335, 24.847916666666674, 24.758416666666665, 24.834916666666672, 25.034750000000003, 24.269416666666668, 24.921166666666664, 24.498916666666663, 24.734583333333333, 25.555833333333336, 25.263833333333327, 24.972583333333336, 24.64166666666667, 25.096249999999998, 25.475083333333334, 25.335416666666664, 25.248499999999996, 25.564166666666665, 25.28725, 25.269000000000002, 25.72075, 25.02841666666666, 24.97525, 25.246166666666664, 25.185, 25.216916666666666, 24.820333333333334, 25.03258333333333, 25.286166666666663, 25.456583333333338, 25.087166666666665, 25.340249999999997, 25.27725, 24.888333333333332, 25.49591666666667, 25.18241666666667, 25.45233333333334, 25.463333333333335, 25.173250000000007, 25.114500000000003, 25.085916666666666, 25.28683333333333, 25.228333333333328, 25.385083333333338, 25.035333333333337, 25.008, 25.344916666666666, 24.717666666666663, 25.134749999999997, 25.15983333333334, 25.05458333333333, 25.06775, 25.46675, 25.10208333333333, 25.212999999999997, 25.894583333333333, 25.508166666666664, 25.517999999999997, 25.062666666666672, 25.25833333333333, 25.17725, 25.29925, 25.37075, 25.268250000000005, 25.16066666666667, 25.47758333333333, 25.50141666666667, 25.444166666666664, 25.287833333333335, 25.017916666666665, 25.895416666666673, 25.484666666666666, 25.658416666666664, 25.587999999999994, 25.494, 25.224833333333336, 25.302333333333337, 25.71258333333334, 25.713250000000002, 25.247583333333328, 25.804333333333336, 25.683166666666665, 25.80575, 25.807083333333328, 25.987, 25.687083333333334, 25.84058333333333, 25.699499999999997, 25.46475, 25.989749999999997, 25.61741666666667, 25.108999999999998, 26.011750000000003, 25.982416666666666, 25.80558333333333, 26.047500000000003]\n",
            "North America\n",
            "[1.7475833333333337, 2.452666666666667, 1.8055833333333335, 1.149833333333333, 1.5680000000000003, 1.9109166666666664, 1.9040833333333331, 2.560916666666666, 1.8864999999999998, 2.1439999999999997, 1.9969166666666662, 2.22775, 2.442333333333333, 2.1382499999999993, 2.7140833333333334, 2.067500000000001, 2.6091666666666673, 3.139583333333334, 2.21025, 2.0630833333333327, 2.659916666666667, 2.0704999999999996, 2.01525, 2.511333333333333, 2.956833333333334, 2.62675, 2.9164999999999996, 2.806166666666666, 2.662583333333333, 2.4659999999999997, 2.7174166666666664, 2.3084166666666666, 2.5250000000000004, 2.7107499999999995, 2.1681666666666666, 2.2549166666666673, 1.8704166666666666, 1.930666666666667, 2.801083333333333, 3.0048333333333335, 2.678166666666666, 2.16075, 1.9527500000000007, 2.4771666666666667, 2.6760833333333323, 2.183833333333333, 2.543583333333333, 2.1165833333333337, 2.4755833333333332, 2.5966666666666662, 1.9270833333333333, 2.0695, 2.0065, 2.159833333333334, 2.224833333333333, 2.475916666666667, 2.113166666666667, 2.03975, 1.3728333333333327, 2.5508333333333337, 2.007583333333333, 2.0100000000000002, 2.2654999999999994, 2.951166666666667, 2.12025, 2.1418333333333335, 2.739833333333332, 3.491916666666667, 1.7855833333333333, 2.232, 2.3081666666666663, 2.280583333333333, 2.6577500000000005, 3.2185, 2.8567499999999995, 2.192416666666667, 2.5597499999999997, 2.7889166666666667, 2.2889166666666667, 2.478666666666667, 2.7202499999999996, 2.832166666666666, 2.403166666666667, 2.7942500000000003, 3.985916666666666, 3.3453333333333326, 3.1261666666666668, 3.528333333333334, 3.1162499999999995, 3.3599999999999994, 2.7629999999999995, 3.649833333333333, 3.9393333333333334, 3.2122500000000005, 2.732583333333333, 2.9250833333333333, 4.073250000000001, 3.3328333333333338, 3.8057499999999997, 5.073888888888888]\n",
            "North Korea\n",
            "[7.369833333333333, 6.006000000000001, 6.507749999999999, 5.809583333333333, 6.274916666666669, 6.670916666666667, 7.11975, 6.64275, 6.45675, 6.291333333333333, 6.49825, 6.5794999999999995, 6.446666666666668, 6.529416666666666, 6.515250000000001, 6.630083333333334, 7.160833333333333, 6.1575, 6.955666666666666, 6.4638333333333335, 6.406666666666666, 7.210083333333333, 5.972166666666666, 6.944916666666667, 7.0183333333333335, 7.457333333333334, 6.8885, 6.689166666666665, 6.819749999999999, 7.398333333333333, 6.754249999999999, 6.007916666666667, 7.194083333333332, 5.122583333333334, 7.321750000000001, 7.137250000000001, 7.225499999999999, 7.130333333333334, 6.7435833333333335, 6.698916666666668, 6.808833333333333, 7.3325, 5.7895, 6.243083333333334, 7.199166666666667, 7.663833333333334, 7.4878333333333345, 7.701, 6.990416666666666, 6.696583333333334, 7.063250000000001, 6.5661666666666685, 6.702333333333333, 6.847166666666666, 6.991333333333333, 6.123083333333333, 6.606916666666668, 6.703083333333332, 6.962000000000002, 7.290083333333333, 6.475499999999999, 7.71075, 6.630166666666667, 7.246166666666667, 7.411583333333334, 7.617666666666666, 6.392499999999999, 6.603666666666666, 7.596249999999998, 7.3875833333333345, 6.678166666666666, 6.737749999999998, 6.581833333333333, 7.1169166666666674, 7.355499999999998, 8.203833333333334, 8.179083333333333, 7.537000000000002, 7.602333333333333, 7.274083333333333, 8.275416666666667, 7.512416666666668, 7.266083333333332, 7.870333333333334, 8.751333333333331, 8.280666666666665, 7.525000000000001, 7.727083333333333, 7.925750000000001, 8.054333333333332, 8.443999999999999, 7.308500000000001, 7.940333333333334, 8.511166666666666, 8.299916666666666, 7.789749999999999, 7.361916666666666, 7.373666666666666, 7.1139166666666656, 8.4915]\n",
            "Northern Mariana Islands\n",
            "[26.68675, 26.777916666666666, 26.688, 26.262749999999997, 26.330333333333332, 26.745583333333332, 26.565916666666666, 26.472499999999997, 26.40891666666667, 26.46891666666667, 26.440583333333333, 26.474500000000003, 26.843083333333336, 26.89441666666667, 26.852249999999998, 26.515416666666667, 26.667083333333334, 26.897499999999997, 26.807083333333328, 26.822666666666663, 26.82041666666667, 26.748499999999996, 26.903166666666667, 26.93525, 26.93941666666667, 26.90608333333333, 26.858499999999996, 27.098250000000004, 27.036749999999998, 26.69575, 26.85666666666667, 26.95058333333333, 26.903333333333336, 27.17625, 26.94825, 26.934, 26.87275, 27.226, 27.051750000000002, 27.253333333333334, 27.274416666666664, 26.897166666666674, 26.90425, 27.159750000000003, 27.112166666666667, 27.329916666666666, 26.97583333333333, 26.858166666666673, 27.03233333333333, 26.787000000000003, 26.787000000000003, 26.862916666666663, 26.99225, 26.822000000000003, 26.702416666666664, 26.957916666666662, 26.992083333333337, 26.9335, 26.76291666666667, 27.2525, 27.210916666666673, 27.086583333333333, 26.968416666666666, 27.207166666666666, 27.077250000000003, 27.195333333333334, 27.302083333333332, 27.520083333333332, 27.05725, 27.5605, 27.77841666666667, 27.467833333333335, 27.320166666666665, 27.392083333333332, 27.593999999999994, 27.42708333333334, 27.273833333333332, 27.226333333333333, 27.115416666666665, 27.24275, 27.360083333333332, 27.227249999999998, 27.38333333333333, 27.41158333333333, 27.659666666666666, 27.586333333333332, 27.48166666666667, 27.595000000000002, 27.405500000000004, 27.265333333333334, 27.54641666666667, 27.465666666666667, 27.42883333333334, 27.402083333333337, 27.48391666666667, 27.387249999999998, 27.250416666666666, 27.248916666666673, 27.39158333333333, 27.658875000000002]\n",
            "Norway\n",
            "[0.6665833333333334, -1.3608333333333331, -0.058833333333332995, -0.9443333333333327, 0.22750000000000017, -0.5350000000000005, 1.1931666666666667, 0.3275000000000005, 0.0005833333333333801, -0.2574999999999999, 0.46875, 0.3980833333333333, -0.02541666666666657, -0.2064166666666666, -0.08100000000000011, 0.04316666666666713, 1.587916666666666, 0.15191666666666678, 0.8249166666666664, 1.0699166666666664, 1.9220833333333338, 0.6468333333333337, 0.8275833333333334, 1.2679166666666664, 2.08825, 0.7229999999999994, -0.41374999999999984, -0.7344999999999997, -0.6725000000000002, 0.9686666666666666, 0.85875, 0.7416666666666663, 0.85075, 0.12233333333333325, 0.6003333333333337, 1.2173333333333334, 0.9837499999999998, 0.12450000000000006, -0.3679166666666667, 1.628833333333333, 0.8238333333333326, -0.46699999999999964, -0.07308333333333339, 0.7845833333333334, -0.10483333333333326, 1.3735833333333336, 0.5800000000000004, 1.0905833333333337, -0.4542499999999999, -0.18341666666666626, 0.6056666666666669, -0.3381666666666671, -1.0486666666666666, 0.4153333333333338, -0.6878333333333329, -0.14200000000000043, -0.24441666666666598, 0.19383333333333352, 1.3808333333333331, 0.42274999999999946, 1.6321666666666665, 1.0117499999999997, 0.27483333333333365, -0.006749999999999885, -0.45358333333333306, -0.4742499999999996, -0.1468333333333336, -0.6071666666666665, 0.4977500000000001, 0.6679999999999993, 1.2836666666666663, -0.5793333333333335, -0.042416666666666845, -0.4872499999999998, 0.38899999999999973, 1.4923333333333335, 2.0665, 1.1335000000000002, 1.2961666666666665, 0.4189999999999999, 0.4645000000000002, 0.5059999999999998, 0.25566666666666665, 1.0437500000000004, 0.4654166666666671, 1.2797499999999997, 1.7969166666666663, 0.7025000000000002, 1.37075, 1.2833333333333334, 1.5249166666666667, 1.807333333333334, 2.2566666666666664, 1.7515833333333326, 1.6424999999999994, 1.3854999999999997, -0.21549999999999989, 2.1189166666666672, 1.141666666666666, 1.735375]\n",
            "Oceania\n",
            "[21.93641666666667, 21.93608333333333, 21.377166666666668, 20.694333333333333, 21.177666666666667, 21.59325, 21.172166666666673, 21.490750000000002, 21.286583333333333, 21.332000000000004, 21.105916666666666, 20.944416666666665, 21.53533333333333, 21.237583333333333, 21.82975, 20.960916666666666, 21.434500000000003, 21.084, 21.299833333333336, 21.24825, 21.364999999999995, 21.264666666666667, 21.5325, 21.363916666666668, 21.897666666666666, 21.176333333333332, 21.496916666666664, 21.19875, 21.765833333333337, 21.168333333333333, 21.365333333333336, 21.42741666666667, 21.093166666666665, 21.453500000000002, 21.334166666666665, 20.898999999999997, 21.2035, 21.386750000000003, 21.349666666666668, 21.32083333333333, 21.41291666666667, 21.422, 20.93091666666667, 21.71975, 21.823916666666666, 21.894666666666662, 21.090666666666667, 21.7615, 21.651083333333336, 21.522333333333336, 21.493416666666665, 21.84866666666667, 21.220333333333333, 21.4575, 21.31683333333333, 21.67783333333333, 21.639583333333338, 21.52025, 21.806416666666667, 22.215333333333334, 21.140583333333332, 21.55275, 21.0585, 21.696250000000003, 21.479833333333332, 22.05825, 22.355500000000003, 21.995083333333337, 21.722333333333328, 22.06441666666667, 21.399250000000006, 21.877666666666666, 21.926333333333332, 21.91416666666667, 22.43825, 21.73058333333333, 22.180583333333335, 22.262999999999995, 21.747583333333335, 21.95266666666667, 21.846, 21.80758333333333, 22.143416666666667, 21.90291666666667, 22.501833333333334, 21.927083333333332, 21.591916666666663, 21.676666666666666, 22.277500000000003, 22.253916666666665, 22.092, 22.680166666666665, 22.06941666666667, 22.293666666666667, 22.05275, 22.45625, 21.956999999999997, 21.6395, 21.855916666666662, 21.990750000000006]\n",
            "Oman\n",
            "[26.730249999999998, 27.072249999999997, 26.270083333333332, 26.35408333333333, 26.357166666666668, 26.490499999999997, 26.78, 26.5475, 26.862416666666665, 26.582083333333333, 27.11525, 26.616, 27.06683333333333, 26.61075, 26.709000000000003, 27.04058333333333, 26.712500000000006, 26.957333333333334, 26.73466666666667, 26.56741666666667, 26.71141666666667, 26.735666666666663, 26.616583333333335, 26.395083333333336, 26.467000000000002, 26.41775, 26.866333333333333, 27.167416666666668, 26.863583333333334, 26.801250000000007, 27.0205, 26.794416666666667, 26.89441666666666, 26.917166666666663, 27.028666666666666, 26.84091666666667, 26.30383333333334, 27.093333333333334, 26.929750000000002, 27.14633333333333, 27.170416666666668, 26.678583333333332, 26.7735, 26.70233333333334, 27.176166666666663, 26.772333333333332, 26.942833333333336, 27.06316666666667, 26.925833333333333, 26.920333333333335, 26.522583333333333, 26.852166666666673, 26.94366666666667, 26.81533333333333, 26.728166666666667, 27.385999999999996, 27.2325, 26.803916666666666, 26.881, 26.76458333333333, 26.89316666666667, 26.596333333333334, 26.945000000000004, 27.66525, 27.283500000000004, 27.079666666666668, 27.41291666666667, 27.261750000000003, 26.776500000000002, 26.59466666666667, 26.547250000000005, 26.809833333333334, 26.846666666666668, 27.2805, 27.276833333333332, 26.674666666666667, 27.4445, 27.010833333333338, 26.738916666666668, 27.368583333333333, 27.75608333333334, 27.323500000000006, 27.173583333333337, 27.346500000000002, 28.186750000000004, 28.11283333333333, 27.922416666666674, 28.083333333333332, 27.99416666666666, 28.269000000000005, 28.12516666666666, 28.07375, 28.044833333333333, 28.363, 27.75191666666667, 28.342500000000005, 28.45866666666667, 28.150666666666666, 28.211583333333326, 28.194375]\n",
            "Pakistan\n",
            "[20.535916666666665, 21.1465, 20.316083333333335, 20.0375, 20.206583333333334, 20.335166666666666, 20.172083333333333, 20.99741666666667, 20.682333333333332, 20.078916666666668, 20.38158333333333, 20.340750000000003, 20.279083333333332, 20.19216666666667, 20.572416666666665, 20.423583333333333, 20.174916666666668, 20.506, 20.615333333333332, 20.34091666666667, 20.37125, 20.006083333333333, 20.554666666666666, 20.28725, 20.61791666666667, 20.556250000000002, 20.902583333333336, 21.710833333333337, 20.900333333333332, 20.627916666666668, 20.376083333333334, 20.32191666666667, 21.22925, 21.382500000000004, 20.809500000000003, 20.536, 19.694416666666665, 20.748583333333332, 20.915166666666668, 21.39108333333333, 20.72391666666667, 20.681083333333333, 20.57633333333333, 19.904416666666666, 21.3135, 20.919166666666666, 20.731333333333335, 20.376833333333334, 20.439166666666665, 21.251083333333334, 20.141833333333334, 20.495166666666666, 20.564583333333335, 20.348583333333334, 20.341833333333334, 21.034166666666668, 21.18933333333333, 20.96625, 20.10016666666667, 20.739583333333332, 20.435166666666667, 20.114583333333332, 20.374916666666664, 21.189333333333334, 20.743250000000003, 20.763083333333338, 21.41125, 21.205333333333332, 20.50941666666667, 20.57283333333333, 20.875083333333333, 21.28275, 20.640583333333336, 21.43683333333333, 21.812249999999995, 20.650000000000002, 21.376416666666668, 20.901333333333334, 20.7085, 21.44483333333333, 21.163083333333336, 21.07391666666667, 20.93383333333333, 20.73875, 21.66275, 21.863, 21.822500000000005, 21.93041666666667, 22.025499999999997, 21.43208333333334, 22.143083333333326, 21.27241666666667, 21.636916666666668, 21.690916666666666, 21.53516666666667, 21.911416666666664, 22.08791666666667, 21.768249999999995, 21.198, 22.320875]\n",
            "Palau\n",
            "[27.143250000000005, 27.135166666666667, 26.97733333333333, 26.790000000000003, 26.498333333333335, 26.963333333333335, 27.017833333333332, 26.848499999999998, 27.03691666666667, 26.791749999999997, 26.728250000000003, 26.94125, 27.24866666666667, 27.29716666666667, 27.303833333333333, 26.91175, 27.08883333333333, 27.223000000000003, 27.019833333333338, 27.106833333333327, 27.09083333333334, 27.03883333333334, 27.062416666666675, 27.131916666666665, 27.031000000000006, 27.08283333333333, 27.021833333333333, 27.149249999999995, 27.205166666666667, 27.001249999999995, 27.315749999999998, 27.15225, 27.2995, 27.6225, 27.498833333333334, 27.225916666666667, 27.04991666666667, 27.501500000000004, 27.438249999999996, 27.585250000000002, 27.36491666666667, 27.208083333333338, 27.09116666666667, 27.401416666666663, 27.51708333333333, 27.30616666666667, 27.457666666666665, 27.17175, 27.245, 27.42916666666667, 27.171666666666667, 27.300833333333333, 27.414333333333335, 27.356916666666667, 27.504, 27.496583333333334, 27.634583333333328, 27.365500000000008, 27.462333333333333, 27.66891666666667, 27.48166666666667, 27.314500000000006, 27.45025, 27.563333333333333, 27.419083333333333, 27.47525, 27.45283333333333, 27.557333333333332, 27.541416666666663, 27.708666666666662, 27.638583333333333, 27.45266666666667, 27.769083333333338, 27.741249999999997, 27.706916666666668, 27.6095, 27.67691666666667, 27.59958333333334, 27.539083333333334, 27.484583333333333, 27.6165, 27.634083333333333, 27.701583333333335, 27.798083333333334, 28.00641666666667, 27.66633333333333, 27.690749999999998, 27.758583333333334, 27.801833333333335, 27.629583333333333, 27.88891666666667, 27.71875, 27.81441666666667, 27.842749999999995, 27.625749999999996, 27.716916666666666, 27.767750000000003, 27.553416666666667, 27.72125, 27.820375000000006]\n",
            "Palestina\n",
            "[22.75408333333333, 23.36, 23.261, 22.938916666666668, 22.890583333333336, 22.95841666666667, 22.749666666666666, 22.814666666666668, 23.050250000000005, 22.997333333333334, 23.177916666666665, 22.922666666666668, 22.898666666666667, 23.200000000000003, 23.26425, 23.089333333333332, 23.087083333333336, 23.255333333333336, 23.156833333333335, 22.90766666666667, 23.000749999999996, 23.314750000000004, 23.39458333333333, 23.411083333333337, 23.160166666666665, 23.2115, 23.113000000000003, 23.326416666666663, 23.356333333333335, 23.06725, 22.93675, 23.00708333333333, 23.287000000000003, 23.837666666666664, 23.17691666666667, 22.94825, 23.316, 23.337166666666672, 23.511083333333335, 23.103083333333334, 23.28675, 23.428916666666666, 23.29525, 23.097833333333337, 23.50883333333333, 23.14425, 23.520083333333332, 23.353583333333333, 23.621583333333334, 23.44183333333333, 23.267250000000004, 22.899250000000006, 23.217166666666667, 22.965833333333336, 23.114583333333332, 23.4225, 23.466083333333334, 23.193500000000004, 22.97683333333333, 23.662666666666663, 23.387583333333335, 23.440500000000004, 23.3205, 23.3265, 23.488833333333332, 23.5725, 23.40183333333333, 23.460083333333333, 23.03033333333333, 23.216583333333332, 23.391333333333332, 23.721083333333336, 23.336583333333333, 23.355916666666662, 23.829583333333336, 23.51608333333333, 23.663666666666668, 23.43908333333334, 23.066083333333328, 23.218, 23.473166666666668, 23.74716666666667, 23.918333333333333, 23.549000000000007, 24.27116666666667, 24.077166666666667, 23.859999999999996, 24.18499999999999, 23.971166666666665, 23.78916666666667, 23.740083333333335, 23.75466666666667, 23.620583333333332, 24.082083333333333, 24.160833333333333, 23.89283333333333, 24.786, 23.87725, 23.90025, 24.092125000000003]\n",
            "Palmyra Atoll\n",
            "[27.072833333333335, 27.07491666666667, 26.598583333333334, 26.285083333333336, 26.6775, 26.907833333333333, 26.68433333333333, 26.963166666666666, 26.68708333333333, 27.144500000000004, 26.932750000000002, 27.092833333333335, 27.212166666666672, 27.02066666666667, 27.046833333333336, 26.900500000000005, 27.394166666666663, 27.119999999999994, 26.89175, 26.581583333333327, 26.992166666666666, 27.083416666666665, 27.074749999999998, 27.375, 27.203083333333336, 27.084166666666672, 27.634833333333333, 27.813583333333337, 26.403833333333328, 27.2495, 27.53141666666666, 27.190833333333334, 27.501166666666666, 27.362, 27.41691666666667, 26.799250000000004, 26.69916666666667, 27.782500000000002, 27.406333333333336, 27.096833333333333, 26.901999999999997, 26.61491666666667, 26.70583333333333, 27.329333333333327, 27.416833333333333, 27.3655, 27.191916666666668, 27.243916666666667, 27.114499999999996, 27.455833333333334, 26.884416666666667, 27.06091666666667, 27.4245, 27.36741666666666, 27.476833333333335, 27.57766666666667, 27.158083333333337, 26.71575, 27.28458333333333, 26.877250000000004, 27.07241666666667, 26.68958333333333, 26.911749999999998, 27.79275, 27.473750000000006, 27.435416666666665, 27.7205, 27.438083333333335, 27.626166666666666, 27.495666666666665, 27.321749999999998, 27.275916666666664, 27.723416666666665, 27.822499999999994, 27.432333333333332, 27.148749999999996, 27.574499999999997, 27.801750000000002, 27.66541666666667, 27.534499999999998, 27.742166666666666, 27.924750000000003, 27.84008333333333, 27.93508333333334, 27.80666666666667, 27.345249999999997, 27.485749999999996, 27.85766666666667, 28.038916666666665, 28.16591666666667, 28.065166666666666, 28.1955, 28.10891666666667, 27.830333333333332, 27.537750000000003, 28.021666666666665, 27.879499999999997, 27.70575, 27.71908333333333, 27.879875000000006]\n",
            "Panama\n",
            "[26.314000000000004, 26.551666666666662, 26.064916666666672, 25.38291666666667, 25.748416666666667, 26.21941666666667, 26.288916666666662, 26.18575, 26.286666666666665, 26.158, 26.137083333333333, 26.145083333333332, 26.541416666666667, 26.210333333333335, 26.27691666666667, 26.325166666666664, 26.547416666666667, 26.591333333333335, 26.30441666666667, 26.109000000000005, 26.23125, 26.046666666666667, 26.395333333333337, 26.3115, 25.9695, 26.367333333333335, 26.9355, 27.12908333333333, 26.399416666666667, 26.134249999999994, 26.255916666666664, 26.311916666666672, 26.53141666666667, 26.480500000000006, 26.63566666666667, 26.098583333333337, 25.975333333333335, 26.487750000000002, 26.496583333333334, 26.638666666666666, 26.313000000000002, 26.143833333333333, 26.055333333333333, 26.81458333333333, 27.029, 26.645833333333332, 26.494666666666664, 26.481583333333337, 26.401250000000005, 26.447249999999993, 26.544083333333333, 26.49966666666667, 26.576083333333333, 26.232333333333333, 26.310000000000002, 26.72016666666666, 26.415166666666664, 26.02025, 26.701916666666666, 26.56891666666667, 26.21066666666667, 26.139499999999998, 26.486250000000002, 26.71675, 26.4725, 26.652, 26.65925, 26.655833333333334, 26.779083333333336, 27.250666666666664, 26.320999999999998, 26.416166666666665, 26.698166666666665, 27.222583333333336, 26.62816666666667, 26.526416666666666, 26.92533333333333, 27.068083333333337, 27.108500000000003, 26.936999999999998, 27.006000000000004, 26.95808333333333, 26.668333333333333, 27.41291666666667, 27.547416666666667, 26.425250000000002, 26.711833333333335, 26.665833333333328, 27.206999999999997, 27.248416666666667, 27.105916666666662, 27.084999999999997, 27.13175, 27.059416666666667, 26.800666666666668, 27.269750000000002, 27.029166666666665, 26.70925, 27.0825, 27.217500000000005]\n",
            "Papua New Guinea\n",
            "[24.080583333333337, 24.5555, 24.563916666666668, 24.443749999999998, 23.73033333333333, 23.842333333333332, 24.414666666666665, 24.192999999999998, 24.23325, 23.78625, 24.459666666666664, 24.088666666666665, 24.767333333333337, 24.34425, 24.340500000000002, 24.084416666666666, 24.18883333333333, 24.287000000000006, 24.4825, 24.523083333333332, 24.62591666666667, 24.416916666666665, 24.330416666666668, 24.518250000000005, 24.2625, 24.101666666666663, 24.349750000000004, 24.16025, 24.974500000000003, 24.325833333333335, 24.351416666666662, 24.397999999999996, 24.14983333333333, 24.795749999999998, 24.670083333333334, 24.74166666666667, 24.59358333333333, 24.426416666666665, 24.664583333333336, 24.387249999999998, 24.445083333333333, 24.43616666666667, 24.55216666666667, 24.448583333333335, 24.737333333333336, 24.51433333333333, 24.46083333333333, 24.23333333333333, 24.54975, 24.471666666666664, 24.599833333333333, 24.034333333333333, 24.481166666666667, 24.33433333333333, 24.4845, 24.69775, 24.768749999999997, 24.563750000000002, 24.285500000000003, 24.798916666666667, 24.586083333333335, 24.637666666666664, 24.364166666666666, 24.46825000000001, 24.742499999999996, 24.705083333333338, 24.745166666666666, 24.870333333333335, 24.517583333333334, 24.97016666666666, 24.743499999999997, 24.722083333333334, 24.874916666666664, 24.950916666666668, 25.166750000000004, 24.892, 24.93675, 24.72616666666666, 24.831083333333336, 24.673750000000002, 24.69483333333333, 24.984000000000005, 25.042333333333332, 24.767500000000002, 25.419749999999997, 24.91983333333333, 24.942000000000004, 25.054666666666662, 25.096333333333334, 25.066833333333335, 24.908916666666666, 25.03375, 24.739, 24.882666666666665, 24.775916666666664, 24.78316666666667, 25.342, 24.829833333333337, 24.84358333333334, 25.069125000000003]\n",
            "Paraguay\n",
            "[23.737333333333336, 23.753583333333335, 23.052166666666665, 22.643416666666667, 22.987000000000005, 23.525666666666666, 22.808750000000003, 22.934750000000005, 22.927333333333333, 22.97841666666667, 22.747583333333335, 23.513, 24.08541666666667, 23.41991666666667, 23.3415, 23.286666666666665, 23.834416666666666, 22.771750000000008, 23.46666666666667, 23.40941666666666, 23.27241666666667, 23.463250000000006, 23.78766666666667, 23.51, 23.27425, 23.422416666666663, 23.472583333333333, 23.07375, 22.68491666666667, 22.929249999999996, 24.14725, 23.850166666666667, 23.199583333333333, 23.020333333333337, 23.748583333333332, 23.329916666666662, 23.433999999999997, 23.428833333333333, 23.254250000000003, 23.838083333333334, 23.446083333333334, 23.24575, 22.415833333333335, 23.051583333333337, 23.25825, 23.534999999999997, 23.072833333333335, 24.013416666666668, 22.896083333333333, 24.331000000000003, 23.098000000000003, 23.477666666666668, 23.542083333333338, 23.923083333333334, 23.507333333333335, 23.689333333333334, 23.750583333333335, 22.979333333333333, 23.78225, 23.5885, 23.212166666666672, 23.408666666666665, 22.964333333333332, 24.15025, 24.081500000000002, 23.407833333333333, 23.600249999999992, 23.6915, 23.810250000000007, 23.19966666666667, 23.673000000000002, 24.013916666666663, 24.11475, 23.52241666666667, 23.543916666666664, 23.372333333333334, 23.599416666666666, 24.11566666666667, 23.090749999999996, 23.73425, 24.470916666666668, 23.96375, 23.414833333333334, 24.407416666666666, 23.41725, 23.69758333333333, 23.626083333333337, 24.28825, 24.759, 24.263833333333334, 23.8045, 23.820083333333333, 24.376583333333333, 23.726666666666663, 23.81833333333333, 24.188583333333337, 23.615416666666672, 23.991500000000002, 24.46575, 22.817749999999997]\n",
            "Peru\n",
            "[19.868333333333336, 20.069333333333336, 19.1755, 19.16208333333333, 19.61133333333333, 20.048250000000007, 19.673416666666668, 19.392083333333336, 19.653833333333335, 19.654500000000002, 19.591500000000003, 19.66825, 20.1715, 19.808166666666665, 19.971333333333334, 19.4925, 19.85975, 19.918833333333335, 19.879416666666668, 19.584083333333332, 19.553250000000002, 19.724666666666664, 20.007833333333334, 20.07166666666667, 19.703, 20.35258333333333, 20.37241666666667, 20.599916666666665, 20.068750000000005, 20.010750000000005, 20.048833333333338, 20.093083333333336, 20.023166666666665, 20.017583333333334, 20.06, 19.85141666666667, 19.584, 20.0065, 20.02316666666667, 20.261, 19.800416666666667, 19.696916666666667, 19.511166666666664, 20.264833333333335, 20.374083333333335, 20.144750000000002, 19.969250000000002, 20.0875, 19.954250000000002, 20.148833333333336, 19.953166666666664, 20.264916666666668, 20.24058333333333, 19.964, 19.95266666666667, 20.588833333333334, 20.141333333333332, 19.80325, 20.532, 20.1495, 19.729333333333336, 19.78025, 19.877916666666668, 20.180750000000003, 20.083, 20.23316666666667, 20.332583333333336, 20.04341666666667, 20.27058333333333, 21.088916666666666, 20.1245, 20.03175, 20.1345, 20.867250000000002, 20.250083333333333, 20.017166666666665, 20.233083333333333, 20.50425, 20.836583333333333, 20.5025, 20.530583333333336, 20.686, 20.115000000000002, 20.93658333333333, 21.181833333333334, 20.06775, 20.231916666666667, 20.225750000000005, 20.536, 20.485583333333334, 20.443083333333337, 20.45058333333333, 20.541000000000004, 20.191666666666666, 20.226416666666665, 20.52308333333333, 20.584500000000002, 20.284083333333335, 20.460000000000004, 19.97625]\n",
            "Philippines\n",
            "[26.437, 26.707333333333334, 26.099, 26.014249999999993, 25.749166666666667, 26.35541666666667, 26.2745, 26.218500000000002, 26.348083333333335, 26.092416666666665, 26.232166666666668, 26.148416666666666, 26.28216666666667, 26.39675, 26.423666666666666, 26.074083333333334, 26.427333333333333, 26.61241666666666, 26.20641666666666, 26.36191666666667, 26.044416666666663, 26.30558333333333, 26.35325, 26.511000000000006, 26.302833333333336, 26.37116666666667, 26.419416666666667, 26.787583333333334, 26.596166666666672, 26.26958333333333, 26.425583333333336, 26.331333333333333, 26.755666666666666, 26.88775, 26.60575, 26.55316666666667, 26.53216666666667, 26.737, 26.77033333333333, 26.84908333333333, 26.79991666666667, 26.561166666666665, 26.537333333333336, 26.843999999999998, 26.914333333333335, 26.828083333333336, 26.844499999999996, 26.6955, 26.626166666666666, 26.485333333333333, 26.719083333333334, 26.560666666666666, 26.963583333333332, 26.57375, 26.71375, 27.018083333333326, 27.001333333333335, 26.399749999999997, 26.772083333333338, 26.988583333333334, 26.631833333333333, 26.726, 26.571, 26.8245, 26.664333333333335, 26.832250000000002, 26.771, 26.830083333333338, 26.751583333333333, 27.10341666666667, 26.669083333333337, 26.902833333333337, 26.79125, 27.301916666666667, 27.19008333333333, 26.73216666666667, 26.932333333333332, 26.793416666666673, 26.901500000000002, 26.846333333333337, 26.831333333333337, 26.82641666666667, 26.88791666666667, 26.97633333333334, 27.779416666666666, 26.925749999999997, 27.009749999999997, 27.104250000000004, 27.083166666666667, 27.014833333333332, 27.08983333333333, 27.144333333333332, 27.178083333333333, 27.162000000000003, 26.87575, 27.008749999999996, 27.3565, 26.78591666666667, 27.14891666666667, 27.416750000000004]\n",
            "Poland\n",
            "[7.913083333333333, 7.130999999999999, 7.962416666666666, 6.930166666666668, 7.967999999999999, 6.637583333333332, 7.984333333333333, 8.109666666666667, 6.389916666666665, 7.337666666666668, 6.708833333333334, 7.980666666666667, 8.030916666666666, 7.298750000000001, 7.347416666666667, 6.263416666666667, 8.190666666666667, 6.925249999999999, 7.855833333333333, 6.476583333333333, 9.158333333333333, 7.6641666666666675, 8.184166666666664, 8.243416666666668, 8.372333333333332, 8.388166666666667, 5.535250000000001, 5.899249999999999, 6.212416666666667, 8.119083333333334, 7.921666666666667, 7.855916666666666, 7.726500000000001, 7.212833333333332, 8.28975, 8.606333333333334, 8.127083333333333, 8.356833333333332, 7.051916666666667, 8.094500000000002, 7.024416666666667, 7.397833333333334, 6.055583333333334, 8.280333333333333, 7.523083333333333, 8.275083333333335, 7.877166666666667, 8.537333333333333, 6.986750000000001, 6.735083333333335, 7.253416666666666, 6.441916666666667, 8.163666666666668, 8.541500000000001, 7.925916666666667, 6.655833333333334, 6.8215833333333356, 7.865166666666667, 7.77525, 7.9135, 8.497916666666667, 8.88275, 7.143083333333334, 8.135333333333334, 7.119250000000001, 7.202833333333334, 6.690416666666667, 7.844166666666665, 8.4135, 8.914083333333336, 7.905333333333332, 6.792166666666668, 7.459083333333333, 6.574749999999999, 8.280416666666666, 9.423416666666666, 9.231666666666667, 7.944666666666666, 8.8135, 7.831083333333333, 8.921, 8.262250000000002, 6.7685, 7.980666666666668, 8.315166666666666, 9.034999999999998, 9.622166666666667, 8.333833333333333, 9.171166666666666, 8.385083333333334, 8.3905, 8.4185, 8.799916666666665, 9.418083333333334, 9.469166666666666, 8.652916666666666, 7.621416666666666, 8.951666666666666, 8.53775, 9.257875]\n",
            "Portugal\n",
            "[14.4285, 14.658083333333332, 14.437333333333333, 13.949333333333334, 14.592416666666665, 14.602833333333335, 14.899333333333331, 15.0145, 14.453666666666665, 14.4625, 14.616083333333334, 14.090000000000002, 15.425333333333333, 14.62975, 14.755333333333335, 15.299833333333334, 14.85225, 14.614416666666664, 14.269916666666669, 14.711083333333335, 14.438333333333338, 14.449916666666667, 14.435166666666666, 14.908166666666668, 15.05375, 14.553333333333335, 14.862416666666666, 14.537666666666667, 14.76441666666667, 15.181000000000003, 14.8085, 15.597166666666666, 14.509083333333331, 15.236250000000004, 15.761416666666664, 15.758666666666663, 15.066083333333331, 14.469416666666667, 14.772, 15.274583333333332, 14.595749999999997, 15.725583333333333, 13.852916666666665, 14.721666666666666, 14.904416666666668, 15.044166666666667, 14.822000000000003, 15.700166666666666, 14.931, 14.624583333333334, 15.119499999999997, 14.717666666666668, 14.995249999999999, 14.69966666666667, 14.927916666666667, 14.413000000000002, 14.75925, 14.277000000000001, 13.878, 14.614583333333334, 14.383249999999999, 14.477416666666665, 14.590833333333336, 14.587666666666669, 14.826666666666666, 14.752083333333333, 14.841416666666667, 15.4955, 15.071916666666667, 15.070000000000002, 14.60425, 15.154416666666664, 14.729999999999999, 15.60558333333333, 15.099416666666665, 16.062083333333334, 15.742750000000001, 15.232833333333332, 15.111333333333334, 14.520166666666666, 15.312833333333336, 16.34741666666667, 15.296333333333335, 16.267583333333334, 15.645000000000001, 15.279083333333332, 15.392999999999999, 15.40775, 15.463166666666666, 15.81583333333333, 15.463833333333335, 15.536916666666665, 16.002583333333334, 15.241083333333334, 15.269999999999998, 15.983499999999998, 15.68425, 16.066416666666665, 15.392166666666666, 15.88925]\n",
            "Puerto Rico\n",
            "[25.295833333333334, 25.65716666666667, 25.13241666666666, 24.83475, 25.02391666666667, 25.397000000000002, 25.395166666666665, 25.06725, 24.792999999999996, 25.056166666666666, 25.437916666666666, 25.15966666666667, 25.66208333333333, 25.515666666666664, 25.546750000000003, 25.251333333333335, 25.46925, 25.78708333333333, 25.61791666666667, 25.313333333333336, 25.231416666666664, 25.085666666666665, 25.39616666666667, 25.532, 25.106000000000005, 25.278583333333334, 25.75491666666667, 25.914666666666665, 25.98566666666667, 25.47458333333334, 25.455666666666662, 25.22175, 25.381416666666667, 25.735, 25.78333333333333, 25.288083333333333, 25.108333333333334, 25.595083333333335, 25.776916666666665, 25.785750000000004, 25.464583333333337, 25.46591666666667, 25.370916666666663, 25.784833333333335, 26.090416666666666, 25.91508333333333, 26.065416666666664, 25.687083333333337, 25.657083333333333, 25.937250000000002, 25.792916666666667, 25.376833333333337, 25.626333333333324, 25.354249999999997, 25.419, 25.995333333333335, 25.697499999999994, 25.361916666666662, 25.5705, 25.716416666666664, 25.27958333333334, 25.34691666666667, 25.285166666666665, 25.778000000000002, 25.83975, 25.738249999999997, 26.199749999999998, 26.14433333333334, 25.749666666666666, 26.194083333333335, 25.64425000000001, 25.587083333333336, 25.69458333333333, 26.293333333333333, 25.961416666666665, 25.61741666666666, 25.939750000000004, 25.879666666666665, 25.899166666666662, 26.01483333333334, 26.13008333333333, 26.256583333333328, 25.858499999999996, 26.316000000000003, 26.633083333333335, 26.05258333333333, 25.786500000000004, 26.27025, 26.482, 26.510666666666665, 26.099500000000003, 26.429666666666666, 26.452249999999996, 26.617833333333337, 26.098333333333333, 26.337999999999997, 26.63825, 26.220833333333328, 26.469583333333336, 26.28322222222222]\n",
            "Qatar\n",
            "[26.673416666666668, 26.978583333333333, 26.23733333333333, 26.433666666666667, 26.19791666666667, 26.675, 26.577333333333332, 26.44608333333333, 26.934749999999998, 26.52416666666667, 27.229416666666665, 26.466416666666664, 26.77158333333334, 26.613333333333333, 26.65691666666667, 26.782666666666668, 26.700916666666668, 26.73516666666667, 26.41925, 26.17758333333333, 26.405416666666667, 26.888166666666667, 26.489166666666666, 26.45266666666667, 26.6795, 26.529416666666673, 26.928416666666667, 26.9425, 27.083833333333335, 26.62233333333333, 27.04466666666667, 26.679833333333335, 27.252083333333335, 27.448333333333338, 26.614083333333337, 26.396000000000004, 26.292999999999996, 27.114000000000004, 26.952249999999996, 27.02925, 27.22758333333333, 26.889416666666666, 26.610833333333336, 26.527916666666666, 27.12233333333333, 26.274749999999997, 27.045916666666667, 26.69791666666666, 27.16066666666666, 26.897500000000004, 26.258833333333328, 27.06816666666667, 27.210583333333332, 26.559749999999998, 26.698333333333338, 27.49025, 27.28725, 26.642749999999996, 26.35466666666667, 26.933916666666665, 26.8715, 26.657000000000007, 26.61916666666667, 27.519833333333327, 27.08866666666667, 27.527833333333334, 27.43658333333333, 27.375, 26.270999999999997, 26.404, 26.770583333333335, 26.974083333333336, 27.20416666666667, 27.37975, 27.37625, 26.753249999999998, 27.320333333333338, 26.719750000000005, 26.14741666666667, 27.049750000000003, 27.529583333333335, 27.103083333333334, 27.608083333333337, 27.157916666666665, 28.42483333333333, 28.567000000000004, 27.993, 28.30566666666667, 28.1855, 28.32508333333333, 28.140416666666667, 28.013083333333338, 28.071416666666668, 28.170416666666664, 27.865333333333336, 28.1225, 28.889583333333334, 28.1615, 28.484499999999997, 28.57375]\n",
            "Reunion\n",
            "[23.29975, 23.37366666666667, 23.069333333333336, 22.660833333333333, 22.711166666666667, 23.31475, 22.8005, 22.879, 22.77775, 23.144583333333333, 22.926333333333332, 23.260083333333338, 23.511416666666666, 22.975416666666664, 23.159750000000003, 23.00475, 23.045666666666666, 23.441333333333333, 23.058833333333336, 23.1695, 23.027500000000003, 23.229000000000003, 23.344916666666666, 23.38933333333333, 23.209833333333332, 23.41825, 23.5055, 23.624249999999993, 23.24508333333333, 22.8625, 23.439083333333333, 23.36225, 23.483666666666668, 23.276083333333332, 23.478416666666664, 23.354333333333333, 23.06941666666667, 23.203666666666667, 23.439333333333334, 23.392916666666665, 23.564666666666668, 23.207666666666668, 23.1905, 23.274666666666672, 23.366416666666666, 23.127583333333334, 23.200249999999997, 23.978916666666674, 23.085166666666666, 22.96475, 22.918500000000005, 22.927833333333336, 23.41025, 23.5575, 23.0415, 23.876333333333335, 23.508750000000003, 23.08216666666667, 23.586166666666667, 23.54591666666667, 22.95266666666667, 23.320999999999998, 23.6035, 23.91508333333333, 23.759583333333335, 23.69383333333333, 23.677999999999997, 23.548916666666667, 23.472583333333336, 23.58583333333333, 23.320833333333336, 23.46683333333333, 23.4085, 24.026749999999996, 23.847333333333335, 23.5765, 23.54225, 23.922333333333338, 23.749000000000006, 23.769166666666663, 23.994916666666665, 23.856583333333333, 23.732833333333332, 23.860916666666668, 24.225916666666667, 23.891333333333336, 23.881416666666667, 24.273416666666666, 24.145333333333337, 24.197, 24.08541666666667, 23.909833333333335, 24.049083333333332, 24.026666666666667, 23.930750000000003, 24.268999999999995, 24.37391666666667, 24.3805, 24.177999999999997, 24.269125000000003]\n",
            "Romania\n",
            "[8.097916666666668, 8.856166666666667, 9.621166666666667, 8.69975, 9.418916666666666, 8.512583333333334, 8.528583333333332, 8.797583333333332, 8.268083333333333, 9.741750000000001, 8.324500000000002, 9.236916666666668, 9.412083333333335, 9.378250000000003, 8.473333333333331, 7.8245, 9.566166666666666, 8.403999999999998, 8.395999999999999, 7.248916666666666, 9.71325, 8.748666666666667, 9.777416666666667, 9.651833333333332, 9.24, 9.421666666666667, 7.094499999999999, 7.794083333333333, 7.636666666666667, 8.964500000000001, 8.770916666666666, 8.662333333333333, 9.520916666666666, 8.989749999999999, 8.957916666666668, 8.988166666666666, 9.758999999999999, 10.047666666666666, 9.536499999999998, 8.81675, 8.199333333333334, 8.869083333333334, 7.739083333333333, 9.32325, 9.527583333333334, 8.757000000000001, 9.603250000000001, 9.588750000000001, 9.015666666666666, 8.713166666666666, 8.539333333333335, 8.3635, 9.925083333333331, 9.286666666666667, 9.416583333333334, 8.43975, 9.108166666666666, 9.097416666666666, 9.288, 8.684166666666666, 9.130916666666666, 9.679083333333333, 8.195583333333333, 9.324499999999999, 8.360499999999998, 9.396666666666665, 8.076916666666666, 9.002, 9.054416666666667, 9.514416666666666, 9.080333333333332, 7.914416666666665, 8.936416666666668, 8.656, 9.078333333333333, 9.67875, 10.226, 8.728166666666665, 9.562583333333334, 8.862916666666669, 10.609, 9.13875, 8.649416666666665, 8.523666666666667, 9.178416666666669, 10.091000000000001, 10.472249999999999, 9.638583333333335, 10.392666666666665, 9.340166666666667, 9.558166666666667, 9.123166666666664, 9.469, 10.868333333333332, 10.460999999999999, 10.470666666666668, 9.851666666666665, 9.569, 10.301083333333331, 11.6455]\n",
            "Russia\n",
            "[-5.374166666666667, -6.3629999999999995, -6.190000000000001, -5.528416666666668, -5.747916666666666, -6.186000000000003, -5.155, -4.90425, -5.697833333333333, -5.521166666666667, -5.2754166666666675, -5.128916666666666, -5.3745, -5.6569166666666675, -5.77225, -6.400083333333335, -5.53075, -5.7627500000000005, -4.758249999999999, -6.252166666666668, -4.643, -5.214333333333333, -5.030083333333333, -5.1489166666666675, -4.552666666666664, -4.716833333333333, -5.628416666666667, -6.476666666666667, -5.604666666666667, -4.1145000000000005, -4.434, -5.3944166666666655, -5.855000000000001, -5.368083333333334, -4.337583333333333, -4.9277500000000005, -5.608916666666669, -5.0559166666666675, -6.175250000000001, -4.779416666666666, -5.317333333333335, -5.626666666666665, -5.81375, -5.358250000000001, -6.154083333333333, -4.838916666666666, -5.935999999999999, -4.960333333333334, -4.416250000000001, -5.008166666666667, -5.785833333333333, -5.907416666666665, -6.309583333333333, -4.36325, -5.5895833333333345, -6.766083333333334, -5.5225833333333325, -4.971166666666668, -5.702000000000001, -4.833583333333334, -5.671749999999999, -4.1410833333333334, -5.927, -5.513000000000001, -5.255916666666667, -5.904333333333333, -5.420750000000001, -4.166166666666667, -5.097583333333333, -3.951833333333333, -5.294249999999999, -5.521166666666666, -4.8922500000000015, -6.274, -4.330416666666666, -4.073250000000001, -4.022916666666667, -4.236999999999999, -4.903250000000001, -4.62175, -4.898416666666667, -3.1301666666666663, -4.810333333333333, -4.2965, -5.281083333333334, -4.829750000000001, -4.545666666666667, -4.490666666666667, -4.122916666666666, -3.8328333333333338, -4.493583333333333, -3.4980833333333337, -4.762999999999999, -2.9750833333333353, -3.305416666666666, -4.608500000000002, -4.5205833333333345, -3.401583333333333, -3.90175, -2.2631250000000014]\n",
            "Rwanda\n",
            "[19.072166666666664, 19.1555, 18.843166666666665, 18.642333333333333, 18.852666666666668, 19.043083333333332, 18.931500000000003, 19.29475, 18.686083333333332, 18.71741666666667, 19.255083333333335, 19.029166666666665, 19.069583333333334, 19.425, 19.414083333333334, 19.16483333333333, 19.114000000000004, 19.511166666666668, 19.18675, 19.13233333333333, 19.22875, 19.375583333333335, 19.31533333333333, 19.111833333333333, 19.223083333333335, 19.191666666666666, 19.414, 19.824083333333334, 19.288666666666668, 19.321833333333334, 19.367500000000003, 19.2085, 19.35641666666667, 19.15041666666667, 19.25375, 19.64825, 19.259833333333336, 19.062416666666667, 19.4425, 19.304333333333332, 19.211833333333335, 19.10375, 18.878000000000004, 19.301000000000002, 19.53175, 19.33641666666667, 19.243333333333336, 19.23, 19.015249999999998, 18.964666666666666, 19.142166666666665, 19.263583333333337, 19.26816666666667, 19.103250000000003, 19.0575, 19.465750000000003, 19.224666666666668, 18.911333333333335, 19.45175, 19.53983333333333, 19.14291666666667, 19.148666666666667, 19.281499999999998, 19.59325, 19.5185, 19.56525, 19.771083333333333, 19.582333333333334, 19.547083333333333, 19.968833333333333, 19.498166666666666, 19.46183333333333, 19.632749999999998, 20.166249999999998, 19.78475, 19.187416666666667, 19.545833333333334, 19.38075, 19.691999999999997, 19.693500000000004, 19.712416666666666, 19.9635, 19.477416666666667, 19.95575, 19.951833333333337, 19.50883333333333, 19.753083333333333, 19.66125, 19.94725, 20.094333333333335, 20.08491666666667, 20.432583333333337, 20.162833333333335, 19.76325, 19.730499999999996, 20.022666666666666, 20.267083333333336, 19.77375, 19.95941666666667, 20.103874999999995]\n",
            "Saint Barthélemy\n",
            "[26.379666666666665, 26.62233333333333, 26.19458333333333, 26.04366666666667, 26.308166666666665, 26.570249999999998, 26.415000000000003, 26.432416666666672, 26.287916666666675, 26.345833333333335, 26.494, 26.318249999999995, 26.770583333333335, 26.53475, 26.697750000000003, 26.38658333333333, 26.738416666666666, 26.970833333333335, 26.738583333333334, 26.436166666666665, 26.394500000000004, 26.489083333333337, 26.59266666666667, 26.761083333333332, 26.36858333333333, 26.620666666666665, 26.828666666666663, 27.090000000000003, 26.99966666666667, 26.541833333333333, 26.58175, 26.40008333333334, 26.653166666666667, 26.911, 26.847333333333335, 26.413083333333333, 26.26641666666667, 26.695250000000005, 26.86691666666667, 27.03725, 26.66066666666667, 26.72500000000001, 26.626833333333337, 26.88716666666667, 27.254499999999997, 27.09025, 27.14016666666667, 26.935833333333335, 26.846916666666672, 27.049333333333333, 26.88241666666666, 26.557, 26.691666666666663, 26.483999999999998, 26.608583333333332, 27.049250000000004, 26.91616666666667, 26.553416666666664, 26.670749999999998, 27.01233333333333, 26.491833333333336, 26.48975, 26.4545, 27.048333333333332, 27.04058333333333, 26.80633333333334, 27.25208333333333, 27.18325, 26.831166666666665, 27.26366666666667, 26.85933333333334, 26.842000000000002, 26.884416666666667, 27.379583333333333, 27.13791666666667, 26.84658333333333, 27.09875, 27.097333333333335, 27.050333333333338, 27.163416666666667, 27.16925, 27.550333333333338, 27.056833333333334, 27.393583333333336, 27.740833333333338, 27.344583333333336, 27.05275, 27.4085, 27.53825, 27.67741666666667, 27.334000000000003, 27.732333333333333, 27.636250000000004, 27.68508333333334, 27.140416666666667, 27.46858333333333, 27.855999999999998, 27.528333333333332, 27.639250000000004, 27.363]\n",
            "Saint Kitts And Nevis\n",
            "[25.638166666666667, 25.949083333333334, 25.489749999999997, 25.245833333333334, 25.517916666666665, 25.819, 25.637500000000003, 25.644750000000005, 25.52875, 25.552916666666665, 25.761083333333332, 25.542333333333335, 26.046499999999998, 25.82908333333334, 25.9235, 25.609666666666666, 25.94491666666667, 26.23175, 25.959583333333338, 25.615666666666666, 25.607249999999997, 25.675583333333336, 25.771333333333335, 25.9935, 25.536166666666663, 25.816000000000003, 26.150333333333332, 26.374416666666672, 26.285666666666668, 25.75808333333333, 25.83683333333333, 25.581916666666668, 25.820166666666665, 26.139499999999998, 26.040333333333336, 25.640416666666667, 25.4755, 25.951333333333334, 26.150166666666667, 26.259916666666665, 25.85441666666667, 25.98733333333333, 25.82558333333333, 26.11175, 26.533333333333335, 26.324916666666667, 26.41291666666667, 26.149333333333335, 26.146333333333335, 26.323249999999998, 26.16033333333334, 25.841166666666666, 26.00991666666667, 25.764999999999997, 25.843916666666672, 26.312083333333334, 26.157416666666666, 25.8025, 25.970916666666668, 26.269500000000004, 25.72866666666667, 25.770000000000007, 25.65816666666667, 26.256583333333335, 26.270749999999996, 26.076083333333333, 26.551583333333337, 26.485249999999997, 26.0735, 26.48966666666667, 26.044583333333332, 26.038999999999998, 26.120833333333334, 26.669, 26.352999999999998, 26.088916666666673, 26.348916666666664, 26.29391666666667, 26.315583333333336, 26.397833333333335, 26.40341666666667, 26.793333333333333, 26.325333333333337, 26.675083333333333, 26.99633333333333, 26.521333333333335, 26.2735, 26.66525, 26.779916666666665, 26.91508333333333, 26.52733333333333, 26.99491666666667, 26.874416666666665, 26.96466666666666, 26.392250000000004, 26.716583333333336, 27.164083333333334, 26.67125, 26.855166666666666, 26.665750000000003]\n",
            "Saint Lucia\n",
            "[26.492, 26.743583333333337, 26.30666666666667, 25.99983333333333, 26.189666666666668, 26.615666666666666, 26.234916666666663, 26.26958333333334, 26.24733333333333, 26.2885, 26.644333333333332, 26.296083333333332, 26.852833333333336, 26.73633333333333, 26.686916666666665, 26.519166666666667, 26.68516666666667, 27.049166666666665, 26.838499999999996, 26.487166666666667, 26.501333333333335, 26.272000000000002, 26.482, 26.741500000000002, 26.434166666666666, 26.584416666666666, 27.089499999999997, 27.25391666666667, 27.096000000000004, 26.63108333333334, 26.745000000000005, 26.478333333333335, 26.580583333333333, 26.806833333333334, 26.70341666666667, 26.51666666666667, 26.327333333333332, 26.756583333333335, 27.11916666666667, 27.021, 26.690500000000004, 26.790916666666664, 26.666000000000007, 26.738583333333334, 27.286666666666672, 27.011750000000006, 27.15383333333334, 26.9735, 27.027333333333335, 27.14958333333334, 26.871083333333335, 26.81266666666667, 26.925333333333338, 26.66425, 26.686750000000004, 27.280249999999995, 26.974333333333334, 26.610666666666663, 26.892749999999996, 26.99558333333334, 26.634, 26.591499999999996, 26.48766666666667, 26.96741666666667, 27.07816666666667, 27.046166666666668, 27.32133333333333, 27.30258333333333, 26.971500000000002, 27.187166666666666, 26.832583333333332, 26.724333333333334, 26.841083333333334, 27.546166666666664, 27.183083333333332, 26.916, 27.142749999999996, 27.087166666666665, 27.103000000000005, 27.247416666666666, 27.140249999999998, 27.49275, 27.17508333333333, 27.44208333333333, 27.812, 27.328583333333338, 27.07841666666667, 27.42125, 27.462833333333336, 27.60766666666667, 27.377916666666675, 27.858666666666668, 27.692166666666665, 27.583250000000003, 27.20866666666667, 27.495, 28.005916666666664, 27.540166666666668, 27.57891666666667, 27.465500000000002]\n",
            "Saint Martin\n",
            "[26.379666666666665, 26.62233333333333, 26.19458333333333, 26.04366666666667, 26.308166666666665, 26.570249999999998, 26.415000000000003, 26.432416666666672, 26.287916666666675, 26.345833333333335, 26.494, 26.318249999999995, 26.770583333333335, 26.53475, 26.697750000000003, 26.38658333333333, 26.738416666666666, 26.970833333333335, 26.738583333333334, 26.436166666666665, 26.394500000000004, 26.489083333333337, 26.59266666666667, 26.761083333333332, 26.36858333333333, 26.620666666666665, 26.828666666666663, 27.090000000000003, 26.99966666666667, 26.541833333333333, 26.58175, 26.40008333333334, 26.653166666666667, 26.911, 26.847333333333335, 26.413083333333333, 26.26641666666667, 26.695250000000005, 26.86691666666667, 27.03725, 26.66066666666667, 26.72500000000001, 26.626833333333337, 26.88716666666667, 27.254499999999997, 27.09025, 27.14016666666667, 26.935833333333335, 26.846916666666672, 27.049333333333333, 26.88241666666666, 26.557, 26.691666666666663, 26.483999999999998, 26.608583333333332, 27.049250000000004, 26.91616666666667, 26.553416666666664, 26.670749999999998, 27.01233333333333, 26.491833333333336, 26.48975, 26.4545, 27.048333333333332, 27.04058333333333, 26.80633333333334, 27.25208333333333, 27.18325, 26.831166666666665, 27.26366666666667, 26.85933333333334, 26.842000000000002, 26.884416666666667, 27.379583333333333, 27.13791666666667, 26.84658333333333, 27.09875, 27.097333333333335, 27.050333333333338, 27.163416666666667, 27.16925, 27.550333333333338, 27.056833333333334, 27.393583333333336, 27.740833333333338, 27.344583333333336, 27.05275, 27.4085, 27.53825, 27.67741666666667, 27.334000000000003, 27.732333333333333, 27.636250000000004, 27.68508333333334, 27.140416666666667, 27.46858333333333, 27.855999999999998, 27.528333333333332, 27.639250000000004, 27.363]\n",
            "Saint Pierre And Miquelon\n",
            "[3.4043333333333337, 4.755416666666666, 4.4645, 4.808666666666666, 3.7889166666666667, 4.239166666666667, 4.220583333333333, 3.7680000000000002, 3.520666666666667, 3.418416666666667, 4.698583333333333, 4.1730833333333335, 3.672916666666667, 4.456416666666667, 4.231083333333334, 3.969, 4.80825, 5.433083333333332, 4.7545, 4.30675, 4.032583333333333, 4.0915, 5.087666666666667, 5.4111666666666665, 4.598333333333334, 3.6470833333333332, 4.736833333333332, 3.822416666666667, 5.230166666666666, 4.195750000000001, 4.701583333333335, 4.733, 4.788583333333333, 4.489583333333333, 3.8489166666666663, 4.830416666666666, 4.293333333333334, 6.23, 5.8477500000000004, 5.611083333333334, 5.175, 4.802666666666667, 4.817833333333334, 4.295083333333333, 5.5263333333333335, 4.108666666666667, 5.457, 4.846666666666668, 4.5634999999999994, 4.616500000000001, 4.203333333333334, 4.329750000000001, 5.380416666666665, 5.097416666666667, 4.714333333333333, 5.719, 5.2173333333333325, 5.1280833333333335, 3.31575, 4.647333333333333, 3.7007499999999998, 3.910416666666667, 4.7405833333333325, 4.88325, 4.33575, 5.488416666666667, 4.36475, 6.035333333333334, 4.084333333333334, 5.609249999999999, 5.0680000000000005, 3.7868333333333335, 4.122, 4.833416666666666, 5.028583333333334, 4.412833333333333, 4.4013333333333335, 3.9143333333333334, 3.673083333333334, 4.0075, 4.3347500000000005, 4.535666666666667, 5.3509166666666665, 4.190083333333334, 5.639, 6.736916666666667, 5.865000000000001, 5.684166666666667, 4.645333333333334, 5.200333333333334, 5.313666666666666, 5.753666666666667, 6.538166666666666, 4.985, 5.558416666666667, 5.479833333333333, 6.568583333333333, 5.5815833333333345, 6.70025, 6.924444444444444]\n",
            "Saint Vincent And The Grenadines\n",
            "[26.633750000000003, 26.87116666666667, 26.44208333333334, 26.13566666666667, 26.33425, 26.7585, 26.389, 26.40875, 26.38033333333334, 26.39425, 26.739083333333337, 26.422666666666668, 26.99466666666667, 26.927916666666665, 26.83158333333333, 26.65608333333334, 26.842666666666663, 27.17716666666667, 26.957916666666673, 26.608500000000003, 26.65358333333333, 26.376166666666666, 26.635833333333334, 26.88558333333333, 26.592833333333342, 26.735, 27.24916666666667, 27.389333333333337, 27.265166666666662, 26.810249999999996, 26.909333333333336, 26.612583333333333, 26.71325, 26.923999999999996, 26.835500000000007, 26.67025, 26.458083333333335, 26.892750000000003, 27.25733333333333, 27.16208333333334, 26.832666666666665, 26.942083333333333, 26.815083333333334, 26.911166666666674, 27.44716666666667, 27.157916666666665, 27.309583333333336, 27.126999999999995, 27.171666666666667, 27.28225, 26.997749999999996, 26.956833333333325, 27.084166666666672, 26.802083333333332, 26.815833333333334, 27.42725, 27.130916666666668, 26.72666666666667, 27.030833333333334, 27.136166666666668, 26.759, 26.747083333333336, 26.668000000000003, 27.1345, 27.22933333333334, 27.214916666666667, 27.454666666666668, 27.457666666666668, 27.094083333333334, 27.35766666666667, 26.986583333333332, 26.832583333333336, 26.96558333333333, 27.706999999999997, 27.328833333333332, 27.04108333333333, 27.283333333333335, 27.22008333333333, 27.24325, 27.387833333333337, 27.281000000000002, 27.636916666666668, 27.303083333333337, 27.56741666666667, 27.965166666666672, 27.477499999999996, 27.217916666666667, 27.56608333333334, 27.601583333333338, 27.744, 27.49858333333334, 27.981916666666667, 27.8205, 27.716500000000007, 27.3815, 27.642750000000003, 28.132083333333338, 27.66458333333333, 27.73658333333334, 27.636375]\n",
            "Samoa\n",
            "[26.06266666666666, 25.768, 26.013583333333333, 25.59358333333333, 25.94441666666667, 26.156000000000002, 26.060666666666666, 25.95341666666667, 26.035416666666666, 25.6705, 26.068250000000003, 25.844166666666666, 26.205916666666667, 26.6165, 26.3895, 26.325999999999997, 26.251333333333335, 26.13441666666667, 26.521583333333336, 26.414, 26.481083333333334, 26.68616666666667, 26.587416666666666, 26.65125, 26.567333333333334, 26.22225, 26.436166666666665, 26.69483333333333, 26.394416666666668, 26.328, 26.297750000000004, 26.365, 26.54233333333333, 26.739333333333335, 26.417333333333335, 26.56866666666667, 26.27458333333333, 26.434583333333332, 26.768833333333333, 26.67058333333333, 26.561999999999998, 26.385416666666668, 26.22616666666667, 26.478916666666674, 26.62166666666667, 26.54166666666666, 26.522499999999997, 26.373083333333337, 26.348333333333333, 26.572083333333328, 26.3505, 26.109166666666667, 26.493583333333333, 26.123666666666665, 26.239333333333335, 26.635166666666667, 26.491000000000003, 26.13616666666667, 26.508166666666664, 26.81441666666667, 26.334416666666666, 26.515, 26.478333333333335, 26.506749999999997, 26.388500000000004, 26.623666666666665, 26.721249999999998, 26.49791666666667, 26.641083333333338, 26.656500000000005, 26.594166666666666, 26.678749999999997, 26.669, 26.589249999999996, 26.8105, 26.477333333333334, 26.858583333333332, 26.849083333333336, 26.75916666666667, 26.522916666666664, 26.748916666666663, 27.037333333333333, 26.84583333333333, 26.706916666666668, 27.121916666666664, 26.780333333333328, 26.838333333333328, 26.953833333333336, 27.236666666666665, 27.022666666666662, 27.05775, 27.12433333333333, 26.834999999999997, 27.149249999999995, 26.671166666666664, 26.728333333333328, 27.161666666666665, 26.71558333333333, 26.926666666666666, 27.176500000000004]\n",
            "San Marino\n",
            "[13.322666666666668, 13.521333333333333, 14.216999999999999, 13.360750000000003, 13.48016666666667, 13.202333333333334, 14.467916666666666, 14.129083333333332, 13.472083333333336, 14.253250000000001, 13.638499999999999, 13.71875, 14.288583333333335, 14.561000000000002, 14.30958333333333, 13.472666666666669, 14.473250000000002, 13.762333333333336, 13.659916666666668, 13.289833333333334, 14.550333333333334, 13.903166666666666, 14.202666666666667, 14.240583333333335, 13.769833333333333, 13.850083333333336, 12.75125, 12.995083333333335, 13.767166666666666, 14.792166666666668, 13.584500000000004, 14.453833333333336, 14.521833333333335, 14.537333333333331, 14.2875, 14.361166666666668, 14.924333333333335, 14.67675, 14.234500000000002, 14.043, 13.40175, 13.777583333333334, 13.056666666666667, 14.131749999999998, 14.333999999999998, 14.189749999999998, 14.115499999999999, 14.730083333333333, 13.539499999999999, 13.608083333333333, 13.914416666666668, 13.501583333333336, 14.269916666666665, 14.268333333333333, 13.913583333333337, 13.70875, 13.922000000000002, 13.859416666666668, 13.881583333333333, 13.795583333333333, 14.047416666666665, 14.285583333333333, 13.528416666666667, 14.25816666666667, 13.356833333333332, 14.096666666666666, 13.302999999999999, 13.843166666666667, 14.498916666666666, 14.315916666666666, 13.599083333333335, 14.10716666666667, 14.12341666666667, 14.133166666666668, 14.664416666666668, 14.268166666666666, 14.791333333333332, 13.895249999999997, 14.723999999999998, 14.582166666666668, 15.485583333333333, 14.331083333333332, 14.076166666666664, 14.783000000000001, 14.913583333333333, 14.889000000000003, 15.442583333333333, 15.14125, 15.138083333333336, 15.357083333333334, 14.626833333333336, 13.948666666666668, 14.790000000000001, 15.370833333333332, 15.207666666666668, 15.350999999999999, 14.415083333333335, 15.45491666666667, 15.327916666666667, 15.115624999999998]\n",
            "Sao Tome And Principe\n",
            "[25.77116666666667, 25.867500000000003, 25.912666666666663, 25.812749999999998, 25.422666666666668, 25.845583333333337, 26.01166666666666, 25.905583333333336, 25.71275, 25.575999999999997, 26.048166666666663, 25.550333333333327, 26.009583333333335, 26.15116666666667, 25.824416666666675, 25.751833333333337, 25.819416666666665, 25.855833333333333, 25.56833333333334, 26.06441666666667, 26.21933333333334, 26.066333333333333, 25.958833333333335, 26.380583333333334, 26.179416666666665, 25.781666666666666, 25.948499999999996, 26.36975, 26.17083333333333, 25.719583333333336, 26.323416666666663, 26.364666666666665, 26.028333333333336, 26.29816666666667, 25.957666666666668, 26.38175, 25.919833333333333, 26.04666666666667, 26.041916666666665, 25.9505, 25.536, 25.703333333333333, 25.506833333333333, 25.973916666666664, 25.78925, 25.878833333333333, 26.00475, 25.740166666666667, 25.815583333333336, 26.143833333333337, 25.708583333333333, 25.82733333333334, 26.171083333333332, 25.85683333333333, 25.86883333333333, 26.039583333333336, 26.078500000000002, 25.753249999999998, 25.93133333333333, 26.304166666666664, 25.773083333333332, 25.715916666666672, 25.561666666666664, 26.117500000000003, 25.95991666666667, 26.300583333333332, 26.175333333333338, 25.859166666666667, 25.719250000000002, 25.917833333333334, 26.242250000000002, 25.97425, 25.877000000000006, 26.378500000000003, 26.32575, 25.969416666666664, 26.136583333333338, 26.096166666666672, 25.789916666666667, 26.101250000000004, 26.142833333333332, 26.43841666666667, 26.06975000000001, 26.140166666666662, 26.832583333333332, 26.283416666666668, 26.188999999999993, 26.05633333333333, 26.395749999999996, 26.567333333333334, 26.484583333333333, 26.409583333333334, 26.700166666666664, 26.70941666666667, 26.595000000000002, 26.956000000000003, 26.766500000000004, 26.484166666666667, 26.393083333333337, 26.532500000000002]\n",
            "Saudi Arabia\n",
            "[25.23125, 25.719083333333334, 25.200999999999997, 25.251083333333337, 25.01233333333333, 25.611, 25.15975, 25.069000000000003, 25.596333333333334, 25.394750000000002, 25.886416666666662, 25.328999999999997, 25.499750000000002, 25.588000000000005, 25.7235, 25.707916666666662, 25.67091666666667, 25.678916666666666, 25.317166666666665, 25.054916666666667, 25.345833333333335, 25.821583333333333, 25.55933333333333, 25.443249999999995, 25.293166666666668, 25.459, 25.799500000000005, 25.76875, 25.836166666666667, 25.295916666666667, 25.801, 25.503000000000004, 25.650166666666667, 26.12125, 25.198000000000004, 25.0955, 25.359166666666667, 26.03591666666667, 25.926583333333337, 25.739416666666667, 26.0115, 25.647000000000002, 25.408083333333334, 25.29641666666667, 25.962833333333332, 24.953000000000003, 26.074083333333334, 25.533416666666668, 26.231916666666667, 25.9515, 25.274500000000003, 25.762583333333335, 26.198999999999995, 25.172916666666666, 25.426333333333332, 26.199249999999996, 25.97791666666667, 25.225583333333336, 25.26991666666667, 25.778166666666667, 25.537333333333333, 25.274999999999995, 25.334333333333333, 26.094583333333333, 26.04341666666667, 26.414583333333336, 26.117333333333335, 26.070333333333334, 25.007166666666667, 25.149333333333335, 25.159583333333334, 25.445333333333327, 25.64775, 26.31616666666667, 26.141833333333334, 25.479, 26.018750000000008, 25.77625, 24.77125, 25.741, 26.297583333333336, 25.989166666666666, 26.432999999999996, 25.86766666666667, 26.853749999999994, 26.940583333333333, 26.642916666666675, 26.76966666666667, 26.627333333333336, 26.816666666666666, 26.519000000000002, 26.495500000000003, 26.558583333333335, 26.682583333333337, 26.477750000000004, 26.827750000000005, 27.530083333333334, 26.63525000000001, 26.988916666666665, 27.74075]\n",
            "Senegal\n",
            "[27.896250000000006, 28.091916666666663, 27.73816666666667, 27.373999999999995, 27.580916666666667, 27.96891666666666, 27.732333333333333, 27.900750000000002, 27.842666666666663, 28.156333333333333, 27.889750000000003, 27.99291666666667, 28.447999999999997, 28.010583333333333, 27.72108333333333, 27.773666666666667, 27.641833333333334, 28.22191666666666, 27.84975, 27.84441666666667, 27.657416666666666, 27.757166666666667, 27.966333333333335, 28.226750000000006, 28.10141666666667, 27.901416666666666, 28.04483333333333, 28.248333333333335, 27.956916666666668, 27.77291666666667, 28.249583333333337, 28.47641666666667, 27.958583333333333, 28.11525, 27.68975, 28.074250000000003, 27.817083333333333, 27.828833333333332, 27.630833333333328, 27.86175, 27.75466666666667, 27.985, 27.695666666666668, 27.790833333333335, 28.27683333333333, 27.935, 28.014166666666668, 28.028666666666666, 28.163, 28.248499999999996, 28.043333333333337, 27.591166666666666, 28.18508333333334, 27.585583333333332, 27.802750000000003, 28.70933333333333, 28.572166666666664, 27.832416666666663, 28.205583333333333, 28.4645, 27.5635, 27.711833333333335, 27.662833333333335, 28.543666666666667, 28.154333333333337, 28.636416666666662, 28.546666666666663, 28.497916666666665, 27.96641666666667, 29.0545, 28.330250000000003, 28.27308333333333, 28.020666666666667, 28.875500000000002, 28.37658333333334, 28.275833333333328, 28.508, 28.490333333333336, 28.459833333333336, 28.646500000000003, 28.241083333333332, 28.556916666666666, 28.775666666666663, 28.82133333333333, 29.254250000000003, 28.12733333333333, 28.52608333333333, 28.936333333333334, 28.97816666666667, 28.704166666666666, 28.85208333333334, 28.955083333333334, 28.630750000000003, 28.816833333333335, 28.79608333333334, 28.473749999999995, 29.302333333333337, 28.77491666666667, 28.63558333333333, 29.3015]\n",
            "Serbia\n",
            "[9.132583333333333, 9.981166666666665, 10.911583333333333, 9.93425, 10.273583333333335, 9.584666666666667, 10.0385, 10.068333333333333, 9.612, 10.90675, 9.489583333333332, 10.137583333333334, 10.66975, 10.901416666666668, 10.18475, 9.107333333333333, 10.823416666666667, 9.84625, 9.63725, 8.9825, 11.063249999999998, 10.14875, 10.715166666666663, 10.715333333333334, 10.034166666666666, 10.536583333333333, 8.5015, 9.199083333333334, 9.3915, 10.564666666666666, 9.817499999999999, 10.202333333333334, 10.873083333333334, 10.580333333333334, 10.270833333333334, 10.0985, 11.216416666666667, 11.270999999999999, 10.98625, 10.084750000000001, 9.41125, 10.234416666666666, 9.0815, 10.485999999999999, 10.701833333333335, 9.9205, 10.634833333333335, 10.804166666666667, 9.990833333333333, 9.998750000000001, 9.692666666666666, 9.712166666666665, 10.824750000000002, 10.316166666666668, 10.440583333333334, 9.765333333333333, 10.0585, 10.123583333333334, 10.319083333333333, 9.758416666666667, 10.270333333333333, 10.440166666666666, 9.385916666666668, 10.627583333333334, 9.541916666666667, 10.486166666666668, 9.355583333333334, 10.114666666666666, 10.314, 10.431083333333333, 9.981249999999998, 9.664416666666666, 10.14875, 10.204916666666668, 10.476166666666666, 10.607416666666667, 11.196083333333332, 9.747083333333334, 10.975583333333335, 10.414416666666666, 11.682250000000003, 10.276166666666667, 9.824916666666665, 9.984, 10.568333333333333, 10.917250000000003, 11.791000000000002, 10.913166666666669, 11.413416666666668, 10.795500000000002, 10.6165, 9.922583333333334, 10.574166666666665, 11.745916666666664, 11.666333333333334, 11.41216666666667, 10.9925, 10.823, 11.451749999999999, 12.843625]\n",
            "Seychelles\n",
            "[26.855666666666664, 26.657166666666665, 26.47275, 26.33975, 26.275499999999997, 26.829333333333334, 26.36766666666667, 26.467083333333335, 26.446250000000003, 26.28316666666667, 26.492583333333332, 26.344833333333337, 26.714750000000006, 26.530833333333334, 26.71325, 26.5855, 26.6805, 26.85575, 26.6805, 26.662833333333328, 26.432, 26.723916666666668, 26.904416666666666, 26.872500000000002, 26.655166666666663, 26.619249999999997, 26.91458333333333, 27.022583333333333, 26.832583333333332, 26.519916666666663, 26.80866666666667, 26.727416666666667, 26.908833333333337, 27.00775, 26.698750000000004, 26.74933333333333, 26.50916666666667, 26.877583333333337, 26.86158333333334, 26.913750000000004, 26.790499999999998, 26.61616666666667, 26.536416666666668, 26.737250000000003, 27.104666666666663, 26.865833333333338, 26.730666666666668, 26.964666666666673, 26.956583333333338, 26.770666666666667, 26.734833333333338, 26.5825, 26.948000000000004, 26.915166666666668, 26.655333333333328, 27.08758333333333, 27.074500000000004, 26.520166666666668, 26.87975, 27.171250000000004, 26.535, 26.60341666666667, 26.66983333333333, 26.965166666666672, 27.120833333333337, 26.97275, 27.03725, 26.978083333333334, 27.194666666666667, 27.32166666666667, 26.623999999999995, 26.741583333333338, 27.077166666666667, 27.422833333333333, 27.26325, 26.944500000000005, 27.220083333333335, 27.329666666666665, 26.95316666666667, 26.964583333333337, 27.301833333333335, 27.297749999999997, 26.911749999999998, 27.367916666666662, 27.654416666666666, 27.13683333333334, 27.17925, 27.467833333333335, 27.53108333333334, 27.68541666666667, 27.25775, 27.468416666666666, 27.470166666666668, 27.71258333333334, 27.376833333333334, 27.741249999999997, 27.744833333333332, 27.731666666666666, 27.772583333333333, 27.451625000000007]\n",
            "Sierra Leone\n",
            "[26.068250000000003, 26.198333333333338, 25.940749999999994, 25.877416666666672, 25.696416666666664, 25.836333333333332, 25.924833333333336, 25.89925, 25.862416666666665, 25.83833333333334, 25.505416666666665, 25.64691666666667, 26.2225, 26.09891666666667, 26.020250000000004, 26.123, 26.081, 26.17383333333333, 25.7925, 26.009000000000004, 25.985166666666668, 25.885166666666667, 26.107500000000005, 26.304749999999995, 26.086083333333335, 26.12991666666667, 26.485333333333333, 26.462249999999997, 26.223333333333333, 25.925083333333333, 26.176833333333335, 26.289416666666664, 26.154916666666665, 26.30825, 25.949333333333332, 26.10541666666667, 25.940583333333336, 26.056416666666667, 26.176583333333337, 26.255749999999995, 25.813, 25.89125, 25.80316666666666, 26.11791666666667, 26.200916666666668, 26.165750000000003, 26.269499999999997, 26.108083333333337, 26.04008333333334, 26.35441666666667, 26.034250000000004, 25.896083333333333, 26.171000000000003, 25.976, 26.16616666666667, 26.43766666666667, 26.404583333333335, 25.93416666666666, 26.28933333333333, 26.656250000000004, 26.149999999999995, 26.041583333333335, 25.845249999999997, 26.37833333333333, 26.268166666666662, 26.554166666666664, 26.494, 26.357833333333335, 26.254416666666668, 26.653416666666672, 26.402916666666666, 26.28925, 26.075750000000003, 26.883499999999998, 26.544916666666666, 26.362333333333336, 26.551416666666668, 26.621583333333334, 26.397166666666667, 26.608833333333337, 26.35825, 26.57816666666667, 26.7045, 26.66950000000001, 27.07575, 26.521500000000003, 26.54683333333333, 26.82675, 26.99266666666667, 26.99241666666667, 26.978916666666667, 27.02858333333333, 26.71775, 26.83741666666667, 26.978749999999994, 26.985000000000003, 27.177166666666675, 26.92625, 26.676416666666668, 26.948]\n",
            "Singapore\n",
            "[26.64891666666667, 26.677333333333337, 26.287333333333333, 25.919333333333338, 25.89916666666667, 26.552333333333333, 26.436999999999994, 26.233916666666662, 26.284833333333328, 26.262583333333325, 26.377916666666668, 26.21525, 26.60341666666667, 26.44875, 26.58141666666667, 26.455916666666667, 26.723083333333335, 26.87766666666667, 26.52575, 26.36766666666667, 26.245583333333332, 26.547666666666668, 26.60258333333334, 26.727000000000004, 26.64283333333333, 26.577416666666668, 26.862666666666666, 27.278750000000006, 26.916583333333335, 26.492, 26.663083333333333, 26.636, 26.832666666666668, 26.93275, 26.796000000000003, 26.73958333333333, 26.560166666666664, 26.84, 26.88716666666667, 26.92775, 26.64791666666666, 26.638, 26.472750000000005, 26.787166666666668, 27.079833333333337, 26.882416666666668, 26.92941666666667, 26.727000000000004, 26.56083333333334, 26.771166666666662, 26.664666666666673, 26.63291666666667, 26.887833333333333, 26.681749999999997, 26.74566666666667, 27.062416666666667, 26.854583333333338, 26.605500000000003, 26.942000000000004, 26.959750000000003, 26.672583333333336, 26.638, 26.558750000000007, 26.822000000000003, 26.90458333333334, 26.959750000000003, 26.956416666666666, 26.980999999999998, 26.8365, 27.304916666666667, 26.483500000000003, 26.820083333333333, 26.847833333333337, 27.181583333333336, 27.06725, 26.792333333333332, 27.13, 26.994083333333336, 26.99741666666667, 26.928833333333333, 27.08775, 27.0725, 27.04333333333334, 27.38891666666667, 27.77591666666667, 27.016750000000005, 27.096500000000002, 27.189333333333334, 27.40608333333334, 27.311833333333336, 27.328666666666663, 27.493583333333333, 27.32841666666667, 27.129999999999995, 27.067666666666664, 27.473333333333333, 27.6035, 27.282166666666665, 27.303583333333336, 27.602874999999997]\n",
            "Sint Maarten\n",
            "[26.379666666666665, 26.62233333333333, 26.19458333333333, 26.04366666666667, 26.308166666666665, 26.570249999999998, 26.415000000000003, 26.432416666666672, 26.287916666666675, 26.345833333333335, 26.494, 26.318249999999995, 26.770583333333335, 26.53475, 26.697750000000003, 26.38658333333333, 26.738416666666666, 26.970833333333335, 26.738583333333334, 26.436166666666665, 26.394500000000004, 26.489083333333337, 26.59266666666667, 26.761083333333332, 26.36858333333333, 26.620666666666665, 26.828666666666663, 27.090000000000003, 26.99966666666667, 26.541833333333333, 26.58175, 26.40008333333334, 26.653166666666667, 26.911, 26.847333333333335, 26.413083333333333, 26.26641666666667, 26.695250000000005, 26.86691666666667, 27.03725, 26.66066666666667, 26.72500000000001, 26.626833333333337, 26.88716666666667, 27.254499999999997, 27.09025, 27.14016666666667, 26.935833333333335, 26.846916666666672, 27.049333333333333, 26.88241666666666, 26.557, 26.691666666666663, 26.483999999999998, 26.608583333333332, 27.049250000000004, 26.91616666666667, 26.553416666666664, 26.670749999999998, 27.01233333333333, 26.491833333333336, 26.48975, 26.4545, 27.048333333333332, 27.04058333333333, 26.80633333333334, 27.25208333333333, 27.18325, 26.831166666666665, 27.26366666666667, 26.85933333333334, 26.842000000000002, 26.884416666666667, 27.379583333333333, 27.13791666666667, 26.84658333333333, 27.09875, 27.097333333333335, 27.050333333333338, 27.163416666666667, 27.16925, 27.550333333333338, 27.056833333333334, 27.393583333333336, 27.740833333333338, 27.344583333333336, 27.05275, 27.4085, 27.53825, 27.67741666666667, 27.334000000000003, 27.732333333333333, 27.636250000000004, 27.68508333333334, 27.140416666666667, 27.46858333333333, 27.855999999999998, 27.528333333333332, 27.639250000000004, 27.363]\n",
            "Slovakia\n",
            "[7.21525, 7.323166666666666, 8.222166666666666, 7.1404999999999985, 8.000416666666666, 6.874416666666668, 7.84275, 7.990499999999998, 6.578833333333333, 7.835, 6.788333333333333, 7.780916666666667, 8.264416666666666, 7.74975, 7.617249999999999, 6.4910000000000005, 8.24575, 7.093166666666669, 7.537333333333332, 6.413083333333333, 9.040416666666665, 7.602249999999999, 8.125083333333334, 8.21275, 7.996833333333332, 8.190916666666666, 5.576083333333333, 6.346916666666668, 6.652833333333333, 8.032166666666667, 7.624583333333334, 7.9353333333333325, 8.115166666666667, 7.744666666666667, 8.035166666666667, 8.253916666666667, 8.382249999999999, 8.8405, 7.518333333333334, 8.032, 7.042833333333333, 7.284833333333335, 6.450000000000002, 8.158, 7.95825, 8.063333333333334, 8.039916666666665, 8.479583333333334, 7.12, 7.170583333333333, 7.27475, 6.690750000000001, 8.383583333333334, 8.268833333333333, 7.958333333333332, 7.3347500000000005, 7.333666666666667, 7.809250000000001, 8.017333333333335, 7.668333333333333, 8.298916666666665, 8.519166666666665, 7.421666666666667, 8.133416666666665, 7.040833333333333, 7.939166666666666, 6.674499999999999, 7.821083333333333, 8.214833333333333, 8.586333333333334, 7.683, 6.881916666666666, 7.674833333333333, 7.153083333333334, 8.083749999999998, 8.72625, 8.71675, 7.639166666666667, 8.727166666666665, 7.982166666666667, 9.297583333333334, 8.153, 7.126166666666666, 7.773083333333335, 8.333583333333333, 8.675583333333332, 9.482, 8.30775, 9.136416666666667, 8.487083333333333, 8.145583333333333, 7.936916666666666, 8.528333333333334, 9.478916666666665, 9.397416666666667, 9.001666666666667, 8.073, 8.846, 8.873166666666666, 9.685624999999998]\n",
            "Slovenia\n",
            "[8.984333333333334, 9.383, 10.289166666666667, 9.187083333333334, 9.60475, 9.020166666666666, 10.273166666666667, 10.123166666666666, 9.139416666666666, 10.073166666666667, 9.26375, 9.59225, 10.266, 10.209000000000001, 10.06125, 9.039416666666666, 10.389250000000002, 9.340416666666664, 9.479916666666666, 8.8365, 10.681416666666665, 9.631666666666666, 10.170583333333335, 10.014333333333333, 9.691, 9.843833333333334, 8.197916666666668, 8.725, 9.246083333333333, 10.351833333333333, 9.432583333333332, 10.2005, 10.398416666666668, 10.190583333333333, 10.15525, 10.28575, 10.637916666666666, 10.677916666666667, 9.925333333333336, 9.976416666666667, 9.107750000000001, 9.461999999999998, 8.7005, 9.998999999999997, 10.188416666666667, 10.119250000000001, 10.045583333333335, 10.515583333333334, 8.927833333333332, 9.277166666666666, 9.514166666666666, 9.154333333333332, 10.258083333333333, 10.13175, 9.781166666666667, 9.419916666666667, 9.541333333333332, 9.679333333333332, 9.692333333333332, 9.55525, 10.140666666666666, 10.36608333333333, 9.530833333333334, 10.263333333333334, 9.057833333333335, 9.969416666666667, 9.046416666666667, 9.853583333333333, 10.291583333333334, 10.344333333333333, 9.482666666666669, 9.464916666666667, 9.677750000000001, 9.726833333333333, 10.416333333333332, 10.528, 10.726333333333331, 9.758000000000001, 10.925333333333334, 10.35, 11.502, 10.289583333333335, 9.444999999999999, 10.382916666666667, 10.597333333333331, 10.686916666666667, 11.590583333333335, 10.894666666666666, 11.33725, 11.009666666666666, 10.24125, 9.795083333333334, 10.723416666666667, 11.462583333333333, 11.247916666666669, 11.237416666666666, 10.194, 11.208083333333333, 11.278250000000005, 11.74475]\n",
            "Solomon Islands\n",
            "[26.433999999999997, 26.97366666666667, 26.71591666666667, 26.321749999999998, 26.286999999999992, 26.511166666666668, 26.54166666666667, 26.466916666666666, 26.513916666666663, 26.321416666666668, 26.599, 26.19908333333333, 26.274749999999997, 26.423750000000002, 26.558500000000006, 26.328833333333336, 26.355166666666673, 26.383166666666668, 26.432666666666666, 26.33583333333333, 26.317833333333336, 26.524583333333336, 26.505166666666668, 26.616833333333336, 26.717499999999998, 26.54875, 26.441583333333337, 26.434749999999998, 26.79358333333333, 26.525250000000003, 26.4855, 26.61441666666667, 26.441583333333337, 27.146166666666662, 26.579333333333338, 26.533333333333335, 26.655, 26.5625, 26.740166666666664, 26.468500000000002, 26.727583333333328, 26.53283333333333, 26.794416666666667, 26.574833333333334, 26.877, 26.682333333333332, 26.66166666666666, 26.672583333333336, 26.717000000000002, 26.560750000000002, 26.73041666666667, 26.284499999999998, 26.538750000000004, 26.532416666666666, 26.54433333333333, 26.86191666666667, 26.730499999999996, 26.497000000000003, 26.457916666666662, 27.038416666666667, 26.803666666666672, 26.747416666666666, 26.632416666666668, 26.857416666666666, 26.92441666666667, 26.954916666666673, 26.94116666666667, 27.066916666666668, 26.74025, 26.987250000000003, 26.896416666666667, 27.013499999999997, 27.02433333333333, 26.955416666666668, 27.27958333333333, 26.991916666666665, 27.264916666666675, 26.993416666666672, 27.00191666666667, 26.780999999999995, 26.79308333333334, 27.2005, 27.124916666666667, 26.95041666666667, 27.374333333333336, 26.994249999999997, 27.264750000000003, 27.448333333333338, 27.37541666666667, 27.379750000000005, 27.178583333333336, 27.38333333333334, 27.207416666666663, 27.321416666666675, 27.183916666666665, 27.387833333333337, 27.586250000000003, 27.23575, 27.179999999999996, 27.210250000000002]\n",
            "Somalia\n",
            "[26.78125, 27.023166666666672, 26.53441666666667, 26.61366666666667, 26.446166666666667, 26.88683333333334, 26.65066666666667, 26.536, 26.437333333333328, 26.31158333333333, 26.66291666666667, 26.494083333333332, 26.950166666666664, 26.43075, 26.63758333333334, 27.018916666666666, 26.91091666666667, 27.110916666666668, 26.671499999999998, 26.883999999999997, 26.630166666666668, 26.733166666666662, 26.806250000000002, 26.4785, 26.445333333333334, 26.741083333333332, 27.141250000000003, 27.26416666666667, 27.053250000000002, 26.929583333333337, 27.010250000000003, 27.086916666666667, 26.867250000000002, 26.897833333333335, 26.897833333333338, 26.982583333333334, 26.569916666666668, 26.926583333333337, 27.043833333333335, 27.1105, 26.843583333333342, 26.681, 26.568, 26.72458333333333, 27.22991666666667, 27.10925, 26.79625, 27.046416666666662, 26.828999999999997, 26.535416666666663, 26.78091666666667, 26.499666666666666, 26.806166666666666, 26.94116666666667, 26.607666666666663, 27.124999999999996, 26.956333333333333, 26.855583333333332, 27.343833333333333, 27.234250000000007, 26.769583333333333, 26.332916666666666, 26.621416666666672, 27.1915, 27.325333333333333, 27.20566666666667, 27.4335, 27.05791666666666, 27.103083333333334, 27.428, 26.815166666666666, 26.800249999999995, 27.034999999999997, 27.4325, 27.483, 26.857999999999993, 27.142666666666667, 27.256083333333333, 27.25825, 26.909750000000003, 27.265000000000004, 27.16325, 27.126000000000005, 27.222333333333335, 27.549916666666665, 27.4995, 27.710250000000002, 27.477833333333333, 27.516000000000002, 27.787166666666668, 27.683666666666667, 27.83241666666667, 27.653166666666667, 27.87275, 27.451333333333334, 27.945083333333333, 27.821, 27.92441666666667, 27.9385, 27.975625]\n",
            "South Africa\n",
            "[17.3855, 17.031916666666667, 17.049083333333332, 16.556416666666667, 16.893833333333337, 17.332166666666666, 17.304166666666667, 16.776583333333335, 17.37425, 17.414749999999998, 16.698666666666668, 17.023333333333333, 17.329333333333334, 17.693749999999998, 17.266666666666666, 17.38925, 17.040583333333334, 17.389666666666667, 17.617666666666665, 17.527083333333334, 17.519833333333334, 16.760166666666667, 17.07466666666667, 17.445083333333333, 17.385, 17.032583333333335, 17.598583333333334, 17.73175, 17.530749999999998, 16.8795, 17.45941666666667, 17.597583333333336, 17.51033333333333, 17.577583333333333, 17.273500000000002, 17.666999999999998, 17.45116666666667, 17.002333333333336, 17.5175, 17.312416666666667, 17.066583333333334, 16.601833333333335, 17.09325, 17.426333333333332, 17.422833333333333, 17.332166666666666, 17.571583333333333, 17.545166666666667, 17.73866666666667, 17.505833333333335, 17.262, 17.399916666666666, 17.80666666666667, 17.30783333333333, 17.04358333333333, 17.772333333333332, 17.720250000000004, 17.285749999999997, 17.621166666666667, 17.584416666666666, 17.175416666666667, 17.1505, 16.963833333333334, 17.66, 17.409750000000003, 17.789833333333334, 17.60983333333333, 17.11575, 17.752083333333335, 18.203583333333334, 17.96816666666667, 18.056083333333333, 17.955000000000002, 18.103583333333336, 17.628833333333333, 17.406166666666667, 17.72833333333333, 17.752000000000006, 18.25616666666667, 18.20275, 17.61475, 17.87075, 17.258666666666667, 17.61525, 18.095333333333333, 18.5455, 17.585583333333332, 17.867916666666666, 17.949416666666668, 18.261666666666667, 18.082833333333337, 18.21791666666667, 17.5975, 17.986250000000002, 17.956083333333332, 17.886, 18.302666666666667, 17.552416666666666, 17.84691666666667, 17.325375]\n",
            "South America\n",
            "[21.895083333333336, 22.095000000000002, 21.49466666666667, 21.11225, 21.41, 21.91183333333333, 21.564333333333337, 21.374250000000004, 21.539166666666663, 21.4195, 21.493916666666667, 21.66225, 22.114500000000003, 21.78441666666667, 21.849, 21.727083333333336, 21.925916666666666, 21.789333333333328, 21.99666666666667, 21.68166666666667, 21.654916666666665, 21.880416666666665, 22.04525, 22.050583333333336, 21.810333333333332, 21.962333333333333, 22.162499999999998, 22.202166666666667, 21.910666666666668, 21.77525, 22.103083333333334, 22.019666666666666, 21.967250000000003, 21.85183333333333, 21.956916666666668, 21.76516666666667, 21.734916666666667, 21.934749999999998, 22.00316666666667, 22.13325, 21.89625, 21.697750000000003, 21.46291666666667, 21.938416666666665, 22.303083333333337, 22.057916666666667, 21.921750000000003, 22.182750000000002, 21.956833333333332, 22.20425, 21.820583333333335, 22.09691666666667, 22.118000000000006, 22.092499999999998, 21.91325, 22.405999999999995, 22.244166666666672, 21.688916666666668, 22.160083333333333, 22.13383333333333, 21.71025, 21.831833333333332, 21.768583333333336, 22.294666666666668, 22.140249999999998, 22.106583333333333, 22.280249999999995, 22.1365, 22.319666666666663, 22.46041666666667, 22.03525, 22.153833333333335, 22.258749999999996, 22.625, 22.21475, 22.10441666666667, 22.323083333333333, 22.381249999999998, 22.28975, 22.380166666666668, 22.556083333333333, 22.5645, 22.32183333333333, 22.695416666666663, 22.857000000000003, 22.241500000000002, 22.164666666666665, 22.504333333333335, 22.683666666666667, 22.649833333333333, 22.574583333333333, 22.67141666666667, 22.61175, 22.435, 22.45291666666667, 22.652583333333336, 22.677333333333337, 22.473000000000003, 22.722583333333333, 22.205374999999997]\n",
            "South Georgia And The South Sandwich Isla\n",
            "[1.4654166666666668, 0.9921666666666665, 0.7854166666666669, 1.6895, 1.4678333333333338, 1.2670833333333331, 0.6077500000000001, 0.7688333333333333, 1.4629166666666666, 0.7331666666666666, 0.6155, 0.8602500000000001, 0.5055000000000001, 0.36341666666666644, 0.46483333333333327, 1.05275, 0.44483333333333314, 1.4244166666666669, 1.369666666666667, 1.5488333333333335, 1.3485000000000003, 0.5670000000000001, 1.7094166666666666, 1.5916666666666666, 1.2586666666666666, 0.5771666666666665, 1.9739166666666668, 1.1080833333333333, 1.0520000000000003, 2.07875, 1.2634166666666669, 0.3220000000000001, 1.0296666666666665, 1.6232500000000005, 0.9605, 1.3258333333333334, 0.6483333333333334, 1.2695833333333335, 1.2382499999999999, 1.5139166666666666, 1.325, 1.8352499999999996, 1.9160000000000001, 1.7905000000000004, 1.3023333333333333, 0.6454166666666667, 1.6387500000000002, 1.1821666666666664, 1.8490833333333334, 1.3371666666666666, 0.8332499999999999, 1.6951666666666663, 1.0448333333333333, 1.4190833333333333, 1.8782500000000002, 1.611, 1.5159166666666668, 1.4579166666666667, 0.9297500000000003, 1.4410833333333333, 1.4743333333333337, 1.4805833333333334, 1.5334166666666669, 1.643, 1.7745833333333334, 1.5869999999999997, 1.1380833333333333, 1.8921666666666666, 1.9765, 1.7759166666666664, 1.5270833333333336, 1.9047499999999997, 1.8687499999999997, 1.1954166666666668, 1.4955833333333335, 2.4755833333333332, 2.1653333333333333, 1.54125, 1.7599999999999998, 2.258833333333333, 1.356583333333333, 1.6331666666666669, 2.0825, 1.6834166666666668, 2.3995, 2.6010833333333334, 2.028583333333333, 2.496333333333333, 1.6692499999999997, 1.9478333333333333, 2.3595833333333336, 2.030416666666667, 2.3226666666666667, 1.4516666666666669, 2.0684166666666672, 2.26125, 2.5810833333333334, 2.5091666666666668, 1.9021666666666668, 2.228625]\n",
            "South Korea\n",
            "[12.571916666666665, 11.759583333333333, 11.90375, 10.802833333333334, 11.240916666666669, 11.763833333333332, 12.074, 11.533583333333333, 11.925999999999997, 11.432916666666664, 11.572333333333333, 11.442833333333333, 11.322416666666667, 11.697916666666666, 11.735916666666668, 11.942083333333336, 12.281500000000001, 11.492333333333335, 11.9425, 11.69325, 11.388083333333334, 12.254166666666668, 11.016916666666665, 12.300166666666668, 11.908333333333333, 12.371916666666666, 11.7795, 11.9035, 11.965499999999999, 12.094083333333336, 11.788833333333331, 11.247083333333334, 12.189583333333333, 10.6495, 12.395166666666666, 12.057833333333333, 12.339666666666666, 12.228416666666666, 11.979333333333331, 12.156583333333332, 12.255250000000002, 12.391583333333335, 11.127833333333333, 11.399166666666666, 12.258750000000001, 12.840333333333334, 12.7395, 12.879, 12.083833333333336, 11.488999999999999, 12.588166666666668, 11.752833333333333, 12.02425, 12.04625, 11.956416666666668, 11.448083333333331, 11.711249999999998, 11.92041666666667, 12.133833333333333, 12.432416666666667, 11.388333333333334, 12.615000000000002, 11.72016666666667, 12.361333333333334, 12.807833333333335, 12.67575, 11.263583333333331, 11.47425, 12.469833333333334, 12.363999999999999, 11.802583333333333, 12.177166666666666, 11.601916666666666, 12.359250000000001, 12.226250000000002, 12.951833333333331, 13.229500000000002, 12.407916666666665, 12.60375, 11.971916666666665, 13.480416666666668, 12.32725, 12.165, 12.818833333333332, 13.64925, 13.033416666666666, 12.575333333333333, 12.842583333333337, 12.817166666666667, 12.646583333333334, 13.365083333333333, 12.356666666666667, 12.903333333333334, 13.292916666666665, 13.027916666666664, 12.949333333333334, 12.63975, 12.3635, 12.391666666666666, 13.7605]\n",
            "Spain\n",
            "[13.344916666666668, 13.489166666666668, 13.34641666666667, 12.801416666666666, 13.215666666666666, 13.167250000000001, 13.887916666666667, 13.84666666666667, 13.367083333333333, 13.449416666666666, 13.71291666666667, 12.930416666666668, 14.246416666666669, 13.788333333333334, 13.977666666666666, 13.929416666666668, 13.900666666666666, 13.678666666666667, 13.168750000000001, 13.650666666666666, 13.513416666666664, 13.455250000000001, 13.412666666666665, 14.124166666666667, 13.854583333333332, 13.409666666666666, 13.665416666666667, 13.257916666666667, 13.767083333333334, 14.20808333333333, 13.504083333333334, 14.528416666666667, 13.40683333333333, 14.417083333333336, 14.487250000000001, 14.510083333333334, 14.239249999999998, 13.347083333333332, 13.794666666666666, 13.89325, 13.429666666666668, 14.537500000000001, 12.670499999999999, 13.536666666666664, 14.019083333333334, 13.981500000000002, 13.781500000000001, 14.636083333333332, 13.812583333333334, 13.395250000000003, 14.064749999999998, 13.654916666666667, 13.969916666666665, 13.697916666666666, 13.938833333333333, 13.211333333333334, 13.72, 13.091583333333334, 12.810666666666664, 13.420166666666665, 13.324166666666665, 13.374250000000002, 13.434999999999997, 13.548499999999999, 13.716666666666667, 13.831666666666665, 13.604249999999999, 14.273249999999999, 14.204999999999998, 14.1945, 13.365749999999998, 14.131833333333333, 13.87625, 14.460916666666664, 14.161333333333333, 15.045916666666665, 14.762083333333335, 14.007166666666665, 13.955249999999998, 13.500666666666667, 14.650999999999998, 15.072166666666666, 14.151250000000003, 15.105916666666666, 14.552000000000001, 14.3665, 14.46875, 14.616083333333334, 14.647916666666667, 14.996916666666666, 14.396416666666669, 14.303583333333334, 15.105916666666666, 14.241333333333335, 14.229500000000002, 14.968083333333333, 14.246000000000002, 15.321083333333334, 14.58, 14.858875000000001]\n",
            "Sri Lanka\n",
            "[27.2895, 27.431083333333333, 26.907999999999998, 26.622083333333336, 26.817999999999998, 27.147166666666667, 26.935166666666664, 27.008916666666668, 26.86766666666667, 26.8355, 26.980499999999996, 26.855333333333334, 27.250750000000007, 26.967750000000006, 27.135833333333338, 26.85783333333333, 26.892083333333336, 27.222166666666666, 26.818999999999992, 26.688833333333335, 26.83491666666667, 27.00983333333333, 27.08566666666667, 27.184333333333328, 27.105000000000004, 26.97675, 27.259500000000003, 27.488249999999997, 27.265999999999995, 26.78033333333333, 27.024666666666672, 27.05691666666667, 27.165499999999998, 27.101416666666665, 27.28458333333334, 27.009666666666664, 26.974166666666665, 27.01533333333333, 27.271083333333333, 27.250333333333334, 27.03816666666667, 26.888416666666668, 26.869083333333332, 27.126000000000005, 27.443499999999997, 27.315750000000005, 27.038500000000003, 27.01483333333333, 27.088916666666666, 27.107000000000003, 27.24, 27.088916666666673, 27.420749999999998, 27.06266666666666, 27.135833333333334, 27.414666666666665, 27.21291666666667, 26.842583333333334, 27.16258333333333, 27.455750000000005, 26.894500000000004, 26.970666666666663, 27.151, 27.23925, 27.325, 27.561333333333337, 27.65483333333333, 27.335083333333333, 27.40675, 27.826999999999998, 27.082166666666666, 27.350166666666667, 27.415500000000005, 27.83966666666667, 27.613416666666666, 27.29125, 27.528750000000002, 27.56, 27.269833333333334, 27.367416666666667, 27.36525, 27.587500000000002, 27.39958333333333, 27.657666666666668, 28.153250000000003, 27.36125, 27.469750000000005, 27.663083333333333, 27.79591666666667, 27.797416666666667, 27.60633333333333, 27.723833333333335, 27.572, 27.5565, 27.44116666666667, 27.74541666666667, 27.883499999999998, 27.66916666666667, 27.949833333333334, 28.175124999999998]\n",
            "Sudan\n",
            "[27.477083333333336, 27.364916666666673, 26.62908333333333, 26.265166666666662, 26.745, 27.487833333333338, 26.3, 26.825166666666664, 26.596249999999998, 26.705166666666667, 27.25091666666667, 27.028000000000002, 27.010833333333334, 27.356250000000003, 27.59425, 26.929666666666673, 26.959500000000006, 27.50975, 27.070333333333334, 27.466333333333335, 27.046166666666664, 27.13591666666667, 27.385666666666665, 27.178, 27.093500000000002, 27.340666666666667, 27.420833333333334, 27.64033333333333, 27.612333333333336, 26.879, 27.240666666666666, 26.883166666666664, 26.989749999999997, 27.261416666666666, 26.75808333333333, 26.758416666666673, 26.820166666666665, 26.874416666666665, 27.48533333333333, 27.034666666666663, 27.113583333333338, 27.086, 26.945916666666665, 27.143333333333334, 27.570083333333333, 26.884, 27.481583333333337, 26.545749999999998, 27.2805, 27.51066666666667, 26.671333333333337, 27.055333333333333, 27.382499999999997, 26.627166666666668, 26.868499999999994, 27.700333333333333, 27.077833333333334, 26.762166666666673, 27.300749999999997, 27.60308333333333, 26.838333333333335, 27.023, 27.44633333333334, 26.862583333333333, 27.15891666666667, 27.69, 27.676333333333336, 27.313750000000002, 27.114, 27.036583333333336, 27.566833333333335, 27.414083333333338, 27.24325, 27.706666666666667, 27.392083333333332, 26.73183333333333, 27.64408333333333, 27.515249999999998, 26.879666666666665, 27.680249999999997, 27.25733333333333, 27.498833333333337, 27.75066666666667, 27.694, 27.802999999999997, 27.719499999999996, 27.45658333333333, 27.72583333333333, 27.905416666666664, 27.85375, 27.893333333333334, 28.03283333333334, 27.729416666666665, 27.647500000000004, 27.841499999999996, 28.347916666666666, 28.647666666666666, 27.80758333333333, 27.868499999999997, 28.572000000000003]\n",
            "Suriname\n",
            "[26.20008333333333, 26.39925, 25.980333333333334, 25.43016666666667, 25.548583333333337, 26.095083333333335, 25.816000000000003, 25.6955, 25.801416666666668, 25.789416666666664, 25.810500000000005, 25.89791666666667, 26.388833333333334, 26.085500000000007, 26.234333333333336, 25.898500000000002, 26.093500000000002, 26.547083333333337, 26.442999999999998, 26.05725, 25.873333333333335, 26.199166666666667, 26.240333333333336, 26.41266666666667, 26.20833333333334, 26.10775, 26.681083333333333, 26.659333333333333, 26.532, 26.054833333333338, 26.291083333333336, 26.19066666666667, 26.21941666666667, 26.320000000000004, 26.163749999999997, 25.99891666666667, 26.283833333333337, 26.486249999999995, 26.58633333333334, 26.576249999999998, 26.208583333333333, 26.272000000000006, 26.131083333333333, 26.551916666666667, 26.954583333333332, 26.502166666666664, 26.40258333333333, 26.423416666666668, 26.511166666666668, 26.474833333333333, 26.51433333333333, 26.485083333333325, 26.640833333333333, 26.28458333333333, 26.196833333333334, 26.991916666666665, 26.52241666666667, 25.953500000000002, 26.311000000000003, 26.390083333333333, 26.051166666666663, 26.041750000000008, 26.229, 26.433666666666667, 26.512500000000003, 26.695916666666673, 26.763333333333332, 26.488000000000003, 26.547166666666666, 26.771416666666667, 26.104250000000004, 26.1995, 26.490833333333338, 27.166833333333333, 26.624499999999998, 26.358666666666668, 26.677083333333332, 26.676416666666668, 26.80558333333333, 26.589583333333334, 26.566083333333335, 27.045333333333332, 26.821583333333333, 27.04716666666667, 27.400166666666667, 26.722499999999997, 26.58608333333333, 26.804083333333335, 26.903916666666664, 27.19558333333333, 27.150333333333336, 27.48391666666667, 27.045666666666673, 26.90858333333333, 26.919500000000003, 27.233083333333337, 27.412583333333334, 27.060499999999994, 27.18941666666666, 26.95725]\n",
            "Svalbard And Jan Mayen\n",
            "[-8.282916666666667, -8.324666666666667, -8.370833333333334, -9.387416666666665, -7.99675, -7.3868333333333345, -6.493083333333334, -7.8118333333333325, -6.231000000000001, -6.271833333333333, -6.2633333333333345, -6.9126666666666665, -7.812333333333332, -7.796833333333333, -7.5335, -7.549166666666667, -5.869416666666666, -5.885333333333334, -7.1617500000000005, -5.920916666666668, -5.74725, -6.70075, -6.7605, -5.397500000000001, -4.729666666666666, -6.575500000000001, -7.083333333333333, -8.05025, -7.0633333333333335, -7.46975, -6.171416666666666, -6.830583333333333, -6.925416666666666, -6.6795, -8.786750000000001, -7.092749999999999, -5.688083333333334, -8.073083333333335, -7.424833333333333, -5.884250000000001, -5.022083333333333, -7.501, -5.823250000000001, -5.647666666666667, -6.979166666666668, -6.526166666666665, -6.699083333333333, -7.211666666666666, -8.3495, -9.506833333333333, -7.531083333333332, -7.6377500000000005, -8.804833333333333, -8.070666666666666, -9.682666666666668, -8.002666666666668, -8.088, -8.208916666666667, -5.1851666666666665, -7.9180833333333345, -5.280833333333333, -8.131416666666667, -5.904416666666667, -7.539750000000001, -8.49725, -8.324, -7.9941666666666675, -8.071166666666665, -8.119749999999998, -7.758500000000001, -4.4134166666666665, -6.59425, -7.64191666666667, -7.975916666666666, -9.049249999999999, -7.929333333333333, -5.438166666666667, -6.615583333333333, -6.832666666666667, -7.658916666666666, -7.412583333333333, -7.585583333333332, -6.543000000000002, -7.575333333333332, -7.588416666666667, -5.72775, -5.745666666666668, -6.300833333333333, -6.343666666666667, -7.814333333333333, -6.368833333333332, -5.1705, -4.246416666666668, -5.010416666666666, -5.96075, -5.496250000000001, -6.031583333333333, -5.326250000000001, -3.781, -5.382]\n",
            "Swaziland\n",
            "[19.047833333333333, 18.608999999999998, 18.71666666666667, 18.138499999999997, 18.37725, 18.635250000000003, 18.851249999999997, 18.47933333333333, 18.98008333333333, 19.161916666666666, 18.136083333333335, 18.746916666666667, 18.91091666666667, 18.82525, 18.887999999999995, 18.795333333333332, 18.530916666666666, 18.94225, 18.988916666666665, 18.83216666666667, 18.9635, 18.18991666666667, 18.356916666666667, 18.778750000000002, 18.925583333333332, 18.349416666666666, 19.09191666666667, 19.72466666666667, 19.09575, 18.607166666666668, 19.089583333333334, 18.78625, 19.10366666666667, 19.09425, 18.995416666666667, 18.932750000000002, 19.02725, 18.628583333333335, 19.13875, 18.665000000000003, 18.71141666666667, 18.297166666666666, 18.794749999999997, 19.26458333333333, 19.255166666666664, 18.818333333333335, 18.767333333333337, 19.159666666666666, 19.408916666666666, 18.810416666666665, 18.812833333333334, 18.797083333333337, 19.171333333333333, 18.82066666666667, 18.7285, 19.421166666666664, 19.514499999999998, 18.814, 18.779666666666667, 18.91616666666667, 18.953666666666663, 18.691583333333337, 18.750333333333334, 19.448, 19.11825, 19.29491666666667, 18.997333333333334, 18.60408333333333, 19.327916666666667, 19.83683333333333, 19.02816666666667, 19.581, 19.43825, 19.618, 19.397000000000002, 19.227166666666665, 19.2115, 19.412416666666665, 20.26983333333333, 19.725, 18.97041666666667, 19.539333333333335, 19.111, 19.1525, 19.865416666666672, 19.788833333333336, 19.0235, 19.545999999999996, 19.59616666666667, 19.997166666666665, 19.469916666666666, 19.975749999999998, 19.26683333333333, 19.615000000000002, 19.420666666666673, 19.293000000000003, 19.75633333333333, 19.358999999999998, 19.57175, 18.95825]\n",
            "Sweden\n",
            "[3.3995833333333336, 0.624, 2.282916666666666, 1.5333333333333332, 2.6438333333333333, 1.657, 3.57025, 2.8586666666666667, 1.7316666666666667, 1.7377499999999995, 2.5169166666666674, 2.815666666666667, 2.103166666666666, 2.0898333333333334, 2.0446666666666666, 2.3520833333333333, 3.9788333333333337, 1.9854166666666666, 3.3873333333333338, 3.0164166666666663, 4.5255833333333335, 3.033, 3.1589166666666664, 3.5845000000000007, 4.513916666666667, 3.148, 1.283916666666667, 1.0706666666666662, 0.9480833333333333, 3.812333333333333, 3.2587499999999996, 3.016083333333333, 3.059583333333333, 2.16125, 3.3244166666666666, 4.023333333333333, 3.0690000000000004, 2.580666666666666, 1.779416666666667, 3.985583333333334, 2.7537499999999997, 1.5837500000000004, 1.373833333333333, 2.872416666666666, 1.9441666666666666, 3.8645, 2.674416666666666, 3.7702500000000003, 1.8508333333333338, 2.35075, 3.027916666666666, 1.8694999999999997, 1.1894999999999996, 2.9332499999999997, 1.9126666666666663, 1.9702499999999994, 1.8489166666666668, 2.5818333333333334, 3.4901666666666666, 3.0214166666666658, 3.833416666666667, 4.0616666666666665, 2.1134166666666676, 2.32425, 1.7265000000000006, 1.8861666666666663, 1.8754166666666674, 1.731083333333333, 3.0220000000000002, 3.26525, 3.292083333333333, 0.7685000000000003, 2.2069166666666664, 1.3564166666666664, 3.102500000000001, 4.409083333333333, 4.497916666666666, 3.4589999999999996, 3.8722499999999997, 2.945, 2.8799166666666665, 3.0660000000000007, 2.39175, 3.730583333333333, 2.8729166666666663, 3.5439166666666666, 4.421000000000001, 3.1396666666666655, 3.7953333333333332, 3.733, 3.6477500000000003, 4.000166666666667, 4.354166666666667, 4.080583333333333, 4.217999999999999, 3.5024166666666656, 1.6585000000000008, 4.51875, 2.9728333333333343, 4.199750000000001]\n",
            "Switzerland\n",
            "[6.7395, 6.633500000000001, 7.021166666666667, 6.1697500000000005, 6.954999999999999, 6.350583333333333, 7.575583333333333, 7.849833333333333, 6.433166666666666, 7.267416666666668, 6.657083333333335, 6.784416666666668, 7.456666666666666, 7.2435833333333335, 7.549083333333333, 6.653833333333335, 7.502666666666666, 6.395416666666667, 6.840583333333334, 6.501416666666667, 7.794333333333334, 6.947666666666667, 7.189083333333333, 7.3901666666666666, 7.144333333333333, 6.779333333333334, 5.984333333333332, 6.171749999999999, 6.802499999999999, 7.9195833333333345, 6.7363333333333335, 7.666250000000001, 7.356000000000001, 7.931750000000002, 7.766166666666666, 7.9958333333333345, 7.730916666666668, 7.400333333333335, 7.1410833333333334, 7.551583333333334, 6.662916666666665, 6.962333333333333, 5.968583333333334, 7.360583333333335, 7.329583333333332, 7.919499999999999, 7.213250000000001, 8.158, 6.487416666666668, 6.317083333333334, 7.392, 6.465583333333334, 7.438666666666667, 7.483416666666667, 7.061916666666668, 6.777583333333332, 6.820666666666667, 7.264166666666668, 6.903416666666668, 6.961416666666666, 7.470083333333334, 7.447250000000001, 7.361500000000002, 7.376750000000001, 6.602666666666669, 7.087416666666667, 6.538416666666667, 7.128916666666666, 7.798583333333334, 7.794833333333334, 6.82275, 6.881583333333335, 7.152083333333333, 7.137083333333334, 7.924583333333332, 8.135916666666668, 8.255583333333334, 7.405000000000001, 8.059666666666667, 7.617333333333335, 8.821083333333332, 7.751916666666666, 6.974583333333334, 8.212416666666668, 7.957999999999999, 7.902833333333334, 8.562666666666667, 7.979749999999999, 8.484833333333334, 8.669749999999999, 7.8460833333333335, 7.573916666666668, 8.337750000000002, 8.552750000000001, 8.109666666666667, 8.300666666666666, 7.2265000000000015, 8.847333333333333, 8.159249999999998, 8.1775]\n",
            "Syria\n",
            "[17.375333333333334, 18.092, 18.392083333333332, 18.276749999999996, 17.776666666666667, 18.191166666666668, 16.9045, 17.283, 18.301666666666666, 18.287333333333333, 18.133416666666665, 17.93058333333333, 18.133833333333335, 18.30216666666667, 18.211000000000002, 18.128916666666665, 18.720583333333334, 18.139833333333332, 17.986583333333336, 17.363249999999997, 18.00525, 18.696250000000003, 18.277833333333334, 18.737, 17.945249999999998, 18.285333333333334, 18.37525, 18.38725, 18.17175, 17.805833333333336, 18.162083333333335, 17.638333333333335, 18.152666666666665, 19.113666666666663, 17.587166666666665, 17.2775, 17.76958333333333, 18.395333333333333, 18.633, 17.50133333333333, 18.5435, 19.172416666666667, 17.75616666666667, 18.092333333333332, 18.452833333333334, 17.537166666666668, 19.075083333333335, 18.138333333333332, 19.397583333333333, 18.66075, 17.623500000000003, 18.188666666666666, 19.226000000000003, 17.195999999999998, 18.283749999999998, 18.504499999999997, 18.789083333333334, 18.084416666666666, 17.36983333333333, 18.066333333333333, 18.100583333333333, 18.04075, 17.668166666666668, 18.398083333333332, 18.679916666666667, 19.139833333333332, 18.285, 18.566583333333334, 17.483083333333337, 17.707333333333334, 18.150499999999997, 18.543166666666668, 18.606583333333337, 18.294666666666664, 18.082000000000004, 18.60125, 18.543166666666668, 18.479499999999998, 17.028583333333334, 18.045666666666666, 19.05183333333333, 18.482249999999997, 18.90341666666667, 17.933666666666667, 19.415333333333333, 19.281, 18.773333333333337, 19.39625, 18.856583333333333, 18.839333333333336, 18.77325, 18.74191666666667, 18.744, 19.0415, 19.161166666666663, 19.070083333333333, 20.709333333333337, 18.607, 19.357583333333334, 20.021124999999998]\n",
            "Taiwan\n",
            "[22.00616666666666, 22.328500000000002, 21.83491666666667, 20.96125, 21.28533333333333, 21.7565, 21.726250000000004, 21.659833333333335, 21.892666666666667, 21.64225, 21.70325, 21.326083333333333, 21.600416666666664, 21.452916666666667, 21.8805, 21.775666666666666, 22.116416666666666, 22.150583333333334, 21.615499999999997, 21.96875, 21.571166666666667, 22.034000000000002, 21.76133333333334, 22.36075, 22.24416666666666, 21.679666666666666, 21.81925, 22.566416666666665, 22.375833333333333, 21.91475, 22.038333333333338, 21.68766666666667, 22.594833333333337, 21.78333333333333, 22.329583333333332, 22.36491666666667, 22.03775, 22.156666666666666, 22.579916666666666, 22.439916666666665, 22.61458333333333, 22.017833333333332, 22.15883333333333, 22.0955, 22.22875, 22.545, 22.49766666666667, 22.4695, 22.000833333333333, 22.03333333333333, 22.398666666666667, 22.247416666666663, 22.718500000000002, 21.998166666666663, 21.724999999999998, 22.091166666666666, 22.159833333333335, 21.947583333333338, 22.0895, 22.485083333333332, 22.21808333333333, 22.371, 21.93058333333333, 22.528000000000002, 22.261416666666666, 22.357499999999998, 22.484333333333336, 22.197666666666667, 22.192249999999998, 22.477166666666665, 21.960583333333332, 22.100666666666665, 21.91058333333333, 22.50566666666666, 22.32133333333333, 22.184250000000002, 22.47275, 22.612916666666667, 22.12483333333333, 22.48933333333333, 22.82508333333333, 22.17025, 22.347916666666666, 22.48866666666667, 23.44558333333333, 22.6925, 22.7045, 22.796166666666664, 23.136, 22.885666666666665, 22.638, 22.529083333333332, 23.12091666666667, 23.05416666666667, 22.714416666666665, 22.885166666666667, 22.745333333333335, 22.27175, 22.558333333333337, 23.015]\n",
            "Tajikistan\n",
            "[4.488250000000001, 5.27525, 3.6839999999999997, 4.5160833333333334, 3.7055000000000007, 3.6344999999999996, 2.6340833333333333, 3.585083333333334, 4.5135, 3.4958333333333336, 3.8104166666666672, 4.233666666666667, 4.0352500000000004, 3.9690833333333337, 3.3816666666666673, 3.117583333333334, 3.17675, 3.4410833333333337, 3.7182499999999994, 3.8387500000000006, 2.8588333333333336, 3.0881666666666674, 4.083666666666667, 3.4311666666666665, 4.19025, 4.369583333333334, 4.9990000000000006, 5.437583333333333, 4.485, 3.81775, 4.4943333333333335, 3.5606666666666666, 4.641833333333334, 5.159583333333335, 4.117666666666666, 3.273666666666667, 3.2042500000000005, 3.8480000000000003, 4.266333333333333, 4.31175, 3.4565000000000006, 4.736583333333335, 4.6415, 3.044916666666666, 4.6339999999999995, 4.22075, 3.9755000000000003, 4.581583333333334, 4.179416666666666, 5.053166666666667, 3.3668333333333336, 4.235333333333333, 4.511333333333334, 3.884, 4.148083333333333, 3.3562499999999997, 4.872999999999999, 5.147166666666668, 3.0141666666666667, 4.600416666666667, 3.670083333333333, 3.8556666666666675, 3.7933333333333334, 4.6665, 4.381749999999999, 4.606083333333333, 5.140999999999999, 5.003333333333334, 4.131083333333333, 4.91975, 4.02675, 5.025833333333334, 4.550250000000001, 4.624666666666666, 5.31625, 4.03625, 5.199333333333333, 4.489333333333334, 4.4305, 4.142666666666666, 4.72025, 4.808666666666667, 4.275333333333332, 5.452416666666667, 5.116416666666667, 5.425, 5.3925833333333335, 5.718166666666666, 5.29125, 4.890166666666668, 5.8380833333333335, 5.184500000000001, 5.531333333333333, 5.441166666666667, 5.174666666666666, 5.096916666666668, 5.5640833333333335, 5.351583333333334, 4.337583333333333, 6.562625]\n",
            "Tanzania\n",
            "[22.39991666666667, 22.388583333333333, 21.96558333333333, 21.825333333333333, 21.89616666666667, 22.211916666666667, 22.00758333333334, 22.095333333333333, 22.06833333333333, 21.99116666666667, 22.280749999999998, 22.086583333333333, 22.338333333333335, 22.077833333333334, 22.257833333333327, 22.20575, 21.97375, 22.6035, 22.233583333333332, 22.250083333333333, 22.264666666666667, 22.232083333333332, 22.11616666666667, 22.07258333333333, 22.29025, 22.288249999999994, 22.39108333333333, 22.74291666666667, 22.238333333333333, 22.228083333333334, 22.31475, 22.1805, 22.38966666666667, 22.102416666666667, 22.34675, 22.72383333333333, 22.073666666666664, 22.22866666666667, 22.427666666666667, 22.52058333333333, 22.386833333333332, 22.255250000000004, 21.946916666666663, 22.281833333333328, 22.644166666666663, 22.544749999999997, 22.317666666666668, 22.521333333333335, 22.216583333333332, 22.03183333333334, 22.075583333333338, 22.116500000000002, 22.46875, 22.352500000000003, 21.966333333333335, 22.684583333333336, 22.37108333333333, 21.967416666666665, 22.404083333333332, 22.443416666666668, 22.136750000000003, 22.278250000000003, 22.43191666666667, 22.587333333333333, 22.360916666666668, 22.401916666666665, 22.652916666666666, 22.47825, 22.563583333333337, 23.116333333333333, 22.410666666666668, 22.369500000000006, 22.577749999999998, 23.093999999999998, 22.922083333333333, 22.308000000000003, 22.71433333333334, 22.691166666666664, 22.802999999999997, 22.689999999999998, 22.862416666666665, 23.006416666666667, 22.756666666666664, 22.94875, 23.058166666666665, 22.64816666666667, 22.791583333333335, 22.747500000000002, 23.00175, 23.28108333333333, 23.04625, 23.72341666666667, 23.045416666666668, 22.9255, 22.70641666666667, 23.150000000000002, 23.26766666666667, 23.069416666666665, 23.06866666666666, 22.772750000000002]\n",
            "Thailand\n",
            "[26.128583333333335, 26.149750000000008, 25.608749999999997, 25.512750000000008, 25.60675, 26.303249999999995, 26.053, 25.783500000000004, 26.02725, 25.930916666666665, 26.020416666666666, 25.7015, 26.237916666666667, 25.93675, 25.978833333333338, 25.846750000000004, 25.941416666666665, 26.508666666666667, 25.931916666666666, 26.034833333333335, 25.713916666666666, 26.486916666666662, 25.986333333333334, 26.410833333333333, 25.993416666666672, 25.975583333333333, 26.26366666666667, 26.899500000000003, 26.383583333333334, 25.924666666666667, 26.443250000000006, 26.183250000000005, 26.43558333333333, 26.524500000000003, 26.11741666666667, 26.249583333333337, 26.086916666666667, 26.257499999999997, 26.31725, 26.40641666666667, 26.385250000000003, 25.86816666666667, 25.93466666666667, 26.51075, 26.4875, 26.603083333333334, 26.59108333333333, 26.292333333333332, 26.136083333333332, 26.129, 26.24358333333333, 26.33808333333333, 26.816249999999997, 26.09775, 26.356083333333334, 26.57375, 26.40233333333333, 25.670083333333334, 26.39566666666667, 26.43958333333333, 26.008416666666665, 26.156499999999998, 25.955916666666667, 26.369, 26.498666666666665, 26.828833333333336, 26.805666666666667, 26.212499999999995, 26.186999999999998, 26.464999999999993, 26.130333333333336, 26.265500000000003, 26.148666666666667, 26.65116666666667, 26.39975, 26.320916666666665, 26.590666666666667, 26.653333333333332, 26.29116666666667, 26.297083333333337, 26.476999999999993, 26.529916666666676, 26.185499999999994, 26.635166666666667, 27.379666666666665, 26.22225, 26.302166666666665, 26.679833333333335, 26.786083333333334, 26.649, 26.5, 26.83316666666667, 26.744833333333332, 26.636916666666668, 26.221999999999998, 26.648083333333336, 27.389666666666667, 26.25166666666667, 27.288999999999998, 27.864874999999998]\n",
            "Timor Leste\n",
            "[25.266000000000002, 25.999499999999998, 25.764083333333335, 25.631, 25.226083333333335, 25.38891666666667, 25.85308333333333, 25.622833333333332, 25.35466666666667, 25.3195, 25.96166666666667, 25.29325, 25.703833333333336, 25.99058333333333, 26.04133333333333, 25.66025, 25.785083333333333, 25.92175, 25.476166666666668, 25.676, 25.933333333333337, 25.737750000000002, 26.155249999999995, 25.97491666666667, 26.141666666666666, 25.643333333333334, 25.28266666666666, 25.808666666666664, 26.876500000000004, 25.84708333333333, 25.706333333333333, 25.792833333333334, 25.7585, 26.162000000000003, 25.86075, 25.461833333333335, 25.426666666666666, 26.057000000000002, 26.320499999999996, 26.362916666666674, 26.26, 25.990916666666664, 26.02925, 26.054250000000007, 26.60241666666667, 26.251416666666668, 25.986166666666666, 25.878833333333333, 26.074583333333326, 25.581916666666668, 26.125666666666664, 25.72208333333333, 26.041083333333336, 25.849249999999998, 26.267333333333337, 26.249583333333334, 26.465083333333336, 26.218583333333328, 26.147833333333335, 26.91016666666667, 26.366333333333333, 26.299083333333332, 26.000083333333333, 25.880750000000003, 26.606916666666667, 26.325166666666664, 26.300083333333333, 26.46708333333333, 25.711666666666673, 26.526833333333332, 26.25066666666667, 26.46466666666667, 26.480666666666668, 26.622250000000005, 26.814000000000004, 26.464583333333337, 26.461333333333332, 26.21058333333333, 26.648833333333332, 26.30991666666667, 25.976583333333334, 26.44258333333333, 26.480500000000003, 26.162833333333335, 26.97075, 26.104999999999993, 26.087, 26.393416666666663, 26.61758333333333, 26.605333333333338, 26.468999999999994, 26.860166666666668, 26.202749999999998, 26.47791666666667, 26.306916666666666, 26.642583333333338, 26.79225, 26.020333333333337, 26.206083333333336, 26.3125]\n",
            "Togo\n",
            "[27.183750000000003, 27.077333333333332, 26.751166666666666, 27.300916666666666, 26.778833333333335, 26.990916666666674, 26.938333333333333, 27.117333333333335, 27.037916666666664, 26.96741666666667, 27.114, 26.86725, 27.352166666666662, 26.93216666666667, 26.909999999999997, 26.81466666666667, 27.26991666666667, 27.298999999999996, 26.835250000000002, 27.161749999999998, 27.080000000000002, 27.033833333333334, 26.923583333333337, 27.322083333333328, 27.268000000000004, 26.692416666666663, 27.287666666666667, 27.642000000000007, 27.305333333333333, 26.89283333333333, 27.335000000000008, 27.342416666666665, 27.088000000000005, 27.341750000000005, 26.898750000000003, 27.314499999999995, 26.941083333333335, 27.197249999999997, 27.00566666666667, 26.90258333333333, 26.59566666666667, 26.556249999999995, 26.595916666666668, 26.816083333333335, 27.0215, 26.999, 26.9455, 26.783416666666668, 26.770833333333332, 27.032750000000004, 26.722083333333334, 26.796833333333336, 27.036083333333334, 26.703666666666663, 26.84841666666667, 27.234583333333333, 27.264166666666668, 26.770833333333332, 27.05633333333333, 27.561083333333332, 26.860583333333334, 26.71475, 26.570666666666668, 27.194666666666663, 26.948916666666673, 27.278333333333336, 27.265583333333336, 27.228166666666667, 26.98716666666667, 27.471999999999998, 27.294416666666667, 27.172916666666666, 27.032333333333337, 27.91683333333333, 27.35341666666667, 27.0725, 27.516833333333327, 27.056833333333334, 26.975499999999997, 27.23675, 27.081666666666667, 27.311333333333337, 27.30583333333333, 27.225416666666664, 27.80558333333333, 27.280333333333335, 27.44241666666667, 27.410500000000003, 27.497250000000005, 27.666750000000004, 27.53491666666667, 27.76666666666667, 27.7685, 27.863833333333332, 27.46491666666667, 27.710333333333335, 28.059416666666667, 27.772000000000006, 27.419916666666666, 27.718000000000004]\n",
            "Tonga\n",
            "[22.76008333333333, 22.898416666666666, 23.057750000000002, 22.780666666666672, 22.81758333333333, 22.756500000000003, 22.78, 23.027499999999993, 22.979916666666668, 22.4055, 23.035833333333333, 22.703083333333336, 22.833083333333335, 23.765, 23.38791666666667, 23.20375, 22.685583333333337, 23.19383333333333, 23.555333333333337, 23.43533333333333, 23.298000000000002, 23.66808333333334, 23.374, 23.5565, 23.83375, 22.85533333333333, 22.904666666666667, 23.308083333333332, 23.29591666666667, 23.40908333333333, 23.067166666666665, 23.190666666666672, 23.464, 23.55458333333333, 23.33516666666667, 23.455583333333333, 23.478416666666664, 22.876749999999998, 23.737250000000003, 23.388833333333338, 23.5355, 23.656916666666664, 23.53025, 23.099833333333333, 23.110833333333332, 23.423416666666668, 23.29258333333333, 23.5175, 23.200833333333335, 23.112750000000002, 23.463333333333335, 22.714083333333335, 22.983500000000003, 23.333000000000002, 23.41191666666667, 22.95633333333333, 23.675749999999997, 23.855, 23.170083333333334, 24.079916666666666, 24.006583333333335, 23.98116666666667, 23.376083333333337, 23.199249999999996, 23.20075, 23.496166666666664, 23.514, 23.69225, 23.289833333333334, 23.509166666666662, 23.76725, 23.643416666666667, 23.18316666666667, 23.231083333333334, 24.242583333333332, 23.75366666666667, 23.639750000000003, 23.58791666666667, 23.576166666666666, 23.192333333333337, 23.22775, 23.890083333333333, 23.993666666666666, 23.386416666666666, 24.13383333333333, 23.869500000000002, 24.028666666666666, 23.995083333333337, 23.89316666666667, 23.9195, 23.89158333333333, 23.792083333333327, 23.816, 24.178583333333332, 23.848583333333334, 23.136916666666664, 24.11441666666667, 24.236666666666668, 23.84166666666667, 24.285875]\n",
            "Trinidad And Tobago\n",
            "[25.96858333333334, 26.101249999999997, 25.69125, 25.376583333333333, 25.676000000000002, 26.085000000000004, 25.800250000000005, 25.75883333333333, 25.647666666666666, 25.61433333333333, 26.06466666666667, 25.769416666666668, 26.186333333333334, 26.29225, 26.171000000000003, 25.904, 26.131166666666672, 26.463916666666663, 26.259666666666664, 25.900166666666667, 25.926416666666665, 25.897833333333335, 26.05683333333333, 26.231333333333335, 26.070583333333335, 26.00375, 26.669750000000004, 26.705916666666667, 26.65116666666667, 26.203500000000002, 26.243749999999995, 25.990166666666667, 26.07975, 26.178583333333336, 26.13875, 26.09991666666667, 25.967916666666667, 26.259833333333333, 26.5545, 26.404083333333332, 26.080250000000003, 26.21783333333333, 26.132166666666663, 26.353083333333334, 26.87933333333333, 26.578666666666674, 26.556416666666667, 26.58758333333333, 26.521749999999997, 26.587833333333336, 26.25191666666667, 26.322583333333338, 26.512, 26.124250000000004, 26.084083333333336, 26.83375, 26.459666666666667, 25.965500000000002, 26.278333333333336, 26.43433333333333, 26.077499999999997, 26.063750000000002, 26.108916666666673, 26.567333333333334, 26.645416666666666, 26.678, 26.678833333333333, 26.788999999999998, 26.469000000000005, 26.811666666666667, 26.256249999999994, 26.08741666666667, 26.25541666666666, 27.051999999999996, 26.732499999999998, 26.32875, 26.661500000000004, 26.529, 26.49866666666667, 26.737083333333334, 26.6075, 27.007916666666674, 26.57341666666667, 26.681250000000002, 27.32641666666666, 26.86766666666667, 26.62708333333333, 26.948500000000006, 26.854249999999997, 27.126083333333337, 26.80091666666667, 27.20325, 27.069833333333335, 26.897999999999996, 26.826666666666664, 27.04025, 27.546333333333333, 27.01766666666667, 27.02775, 27.086624999999998]\n",
            "Tunisia\n",
            "[19.798999999999996, 19.83575, 19.999666666666666, 19.562916666666666, 19.416499999999996, 19.67966666666667, 20.24608333333334, 19.918000000000003, 20.13408333333334, 19.314583333333335, 20.532416666666666, 19.820833333333333, 20.4175, 20.643666666666665, 20.25375, 19.285749999999997, 20.439916666666665, 20.86225, 20.496666666666666, 20.150166666666667, 19.909750000000003, 19.844916666666666, 19.942583333333335, 20.57991666666667, 19.428666666666665, 20.041666666666668, 19.736500000000003, 19.884916666666665, 20.425500000000003, 20.499416666666665, 19.877083333333335, 20.504, 20.722416666666664, 20.96783333333333, 20.141166666666667, 20.146000000000004, 20.121750000000002, 20.232916666666664, 20.712416666666666, 19.928749999999997, 19.589166666666667, 20.986083333333337, 19.474416666666666, 19.650250000000003, 20.299583333333334, 20.028583333333334, 20.64091666666667, 20.38291666666667, 20.020249999999997, 20.225833333333334, 20.096083333333336, 19.972833333333334, 20.222833333333334, 19.946166666666667, 20.251, 19.99625, 20.104916666666664, 19.738416666666666, 19.751749999999998, 19.972166666666666, 19.674000000000003, 19.744416666666663, 19.327583333333337, 20.630333333333336, 19.776, 20.1765, 19.496083333333335, 20.267, 20.50733333333333, 20.277166666666666, 19.832833333333337, 20.486416666666667, 20.276083333333332, 20.803416666666667, 20.929250000000003, 20.746416666666665, 20.929, 19.924750000000003, 20.03316666666667, 20.567666666666668, 21.266000000000005, 20.683166666666665, 20.5275, 21.084000000000003, 20.761333333333337, 21.65691666666667, 21.140500000000003, 21.70125, 21.32841666666667, 21.47758333333334, 20.945083333333333, 20.84575, 21.31, 21.154666666666667, 21.20458333333333, 21.0925, 21.609750000000002, 20.994916666666665, 21.479166666666668, 21.887125]\n",
            "Turkey\n",
            "[11.19191666666667, 11.993250000000002, 12.39175, 12.064750000000002, 11.832666666666668, 11.990499999999999, 10.626500000000002, 10.896333333333336, 12.0815, 12.261416666666669, 11.834333333333333, 11.852500000000001, 12.049583333333336, 12.20391666666667, 11.535333333333336, 11.490166666666667, 12.419499999999998, 11.724499999999999, 11.576083333333335, 10.838583333333332, 11.776083333333334, 12.25575, 12.04475, 12.730833333333335, 11.851583333333336, 12.208833333333333, 12.007916666666667, 11.730833333333335, 11.554083333333336, 11.493333333333332, 11.965166666666667, 11.28291666666667, 12.034666666666668, 12.679916666666669, 11.300333333333333, 10.961, 11.466666666666669, 12.062916666666666, 12.527416666666667, 11.088000000000003, 12.036333333333333, 12.968333333333335, 11.135583333333335, 12.157166666666669, 12.268166666666668, 11.18433333333333, 12.580916666666667, 12.083833333333333, 13.118166666666667, 12.28433333333333, 11.269999999999998, 11.671416666666666, 13.413083333333333, 11.024666666666668, 11.93016666666667, 11.968916666666667, 12.554583333333335, 11.94525, 11.201666666666666, 11.519416666666666, 11.621499999999997, 11.70225, 11.058916666666669, 11.951916666666667, 12.14025, 12.871083333333337, 11.984916666666669, 12.5755, 11.498583333333334, 11.640749999999999, 12.058, 12.08625, 12.260916666666668, 11.613833333333334, 11.62191666666667, 12.1755, 12.032499999999999, 11.751083333333334, 10.516666666666666, 11.277416666666667, 12.744833333333338, 12.188833333333335, 12.405916666666668, 11.568000000000003, 12.883166666666668, 13.087250000000003, 12.201916666666667, 13.283249999999997, 12.339, 12.331333333333333, 12.310166666666667, 12.432916666666666, 12.450083333333334, 12.815333333333333, 12.657833333333334, 12.814833333333334, 14.281666666666668, 11.914500000000002, 12.854416666666667, 14.026625]\n",
            "Turkmenistan\n",
            "[15.486749999999999, 16.11583333333333, 14.05225, 15.339166666666669, 14.068416666666666, 14.83525, 13.112583333333335, 14.489083333333335, 15.491750000000001, 14.41675, 14.4825, 15.412166666666664, 14.755, 14.709999999999999, 13.696666666666667, 13.248916666666666, 13.869833333333334, 13.596916666666665, 14.254916666666666, 14.500583333333333, 13.489500000000001, 14.465583333333335, 14.898583333333335, 14.51025, 15.33, 15.331833333333334, 15.878250000000001, 16.183166666666665, 15.176583333333335, 14.047083333333333, 15.637416666666667, 14.283500000000002, 14.953499999999998, 15.714333333333334, 15.199583333333331, 13.604750000000001, 13.653749999999997, 14.484833333333334, 14.682166666666667, 15.068000000000003, 14.211833333333333, 16.074416666666668, 14.600416666666666, 14.305833333333334, 15.439666666666668, 14.104833333333332, 14.835666666666668, 15.841416666666667, 15.141916666666665, 15.902833333333332, 14.157500000000004, 15.31866666666667, 15.859833333333334, 14.948416666666665, 15.13241666666667, 13.504166666666668, 15.567, 15.894, 13.420333333333332, 15.337750000000002, 14.093583333333333, 15.44025, 14.205833333333336, 15.260999999999997, 15.023583333333333, 15.679083333333333, 15.387916666666667, 15.982416666666667, 14.534833333333333, 16.315166666666666, 14.418166666666664, 15.532166666666669, 15.517416666666664, 15.43875, 15.954833333333333, 15.663499999999999, 15.926416666666663, 15.521083333333332, 15.036833333333334, 14.735416666666671, 15.356416666666666, 16.52091666666667, 15.327, 16.334999999999997, 16.162583333333334, 16.3785, 16.398166666666665, 16.57383333333333, 16.379583333333336, 15.642416666666668, 16.663833333333333, 16.57916666666667, 16.51, 16.302083333333336, 15.858083333333331, 16.355416666666667, 17.043833333333335, 15.786166666666666, 15.855833333333335, 18.613500000000002]\n",
            "Turks And Caicas Islands\n",
            "[26.505583333333334, 26.658833333333334, 26.138916666666663, 26.01516666666667, 26.229916666666668, 26.673916666666667, 26.58125, 26.40041666666667, 26.16283333333334, 26.418999999999997, 26.840333333333334, 26.62008333333333, 26.99083333333333, 26.74116666666667, 26.74, 26.66658333333333, 26.768500000000003, 26.828833333333336, 26.82116666666667, 26.68583333333333, 26.4855, 26.442249999999998, 26.788583333333335, 26.92591666666667, 26.759666666666664, 26.782083333333333, 26.87066666666666, 27.143749999999997, 27.058333333333337, 26.711916666666667, 26.657416666666673, 26.541666666666668, 26.84375, 27.140833333333333, 27.355749999999997, 26.802083333333332, 26.359750000000005, 26.357833333333332, 26.775166666666667, 27.12375, 26.840166666666665, 26.22375, 26.476416666666665, 26.935166666666664, 26.960000000000008, 27.228416666666664, 27.083916666666667, 26.93733333333334, 26.771583333333336, 26.956416666666666, 27.037333333333336, 26.65358333333333, 26.89083333333333, 26.98566666666667, 26.847083333333334, 27.045916666666667, 26.742083333333337, 26.61525, 26.848416666666665, 26.920083333333327, 26.57116666666667, 26.818, 26.745000000000005, 27.13508333333333, 27.16141666666667, 26.897750000000002, 27.41525, 26.988916666666665, 27.37291666666667, 27.319999999999997, 26.88358333333333, 26.990583333333333, 27.105000000000004, 27.343166666666672, 26.99383333333334, 26.957333333333338, 27.33683333333333, 27.294416666666667, 27.077250000000003, 27.055249999999997, 27.504416666666668, 27.389, 26.934166666666666, 27.868000000000006, 27.743750000000006, 27.23158333333333, 26.95691666666667, 27.246083333333335, 27.70141666666667, 27.81533333333333, 27.53091666666667, 27.49716666666667, 27.44558333333333, 27.597499999999997, 27.428000000000008, 27.439333333333337, 27.29633333333334, 27.435000000000002, 27.41258333333333, 27.440555555555555]\n",
            "Uganda\n",
            "[23.00158333333334, 23.02616666666667, 22.7195, 22.3325, 22.8195, 22.870500000000003, 22.674166666666668, 22.75258333333333, 22.342416666666665, 22.45058333333333, 22.905666666666665, 22.881333333333334, 22.65725, 23.29716666666667, 23.173416666666668, 22.996916666666664, 23.134583333333335, 23.360083333333336, 22.861833333333333, 22.967416666666665, 23.070333333333327, 23.23925, 23.079583333333332, 23.024749999999997, 22.964416666666665, 23.053916666666666, 23.226916666666668, 23.475000000000005, 23.15325, 23.12941666666667, 23.09675, 23.07875, 23.08941666666667, 22.90533333333333, 22.9785, 23.33883333333333, 22.967916666666667, 22.889166666666668, 23.090833333333332, 23.242083333333337, 22.959333333333333, 22.863916666666668, 22.61916666666667, 23.102999999999998, 23.35741666666667, 23.147000000000002, 23.04733333333333, 23.049166666666668, 22.872666666666664, 22.87875, 22.8095, 23.029750000000003, 23.107833333333332, 22.926833333333335, 22.757499999999997, 23.205333333333332, 23.049583333333334, 22.882749999999998, 23.337083333333336, 23.30241666666667, 22.984250000000003, 23.049750000000003, 23.162166666666664, 23.280083333333334, 23.1965, 23.290333333333333, 23.633416666666665, 23.368916666666664, 23.306250000000002, 23.592083333333335, 23.39408333333333, 23.201750000000004, 23.453249999999997, 23.968, 23.51375, 22.96108333333333, 23.267083333333332, 23.176000000000002, 23.295416666666668, 23.390916666666673, 23.41558333333333, 23.571583333333333, 23.3005, 23.813666666666666, 23.744249999999997, 23.28408333333333, 23.560916666666667, 23.405833333333334, 23.830499999999997, 23.843833333333333, 23.811916666666665, 24.029833333333332, 23.770083333333332, 23.4905, 23.49625, 24.04716666666667, 23.92233333333333, 23.72675, 23.805666666666667, 24.024624999999997]\n",
            "Ukraine\n",
            "[7.764666666666666, 7.742, 7.904166666666666, 7.130666666666666, 8.214916666666667, 7.222333333333332, 7.377916666666667, 7.655333333333332, 7.351166666666667, 8.393916666666668, 7.1155, 8.492666666666667, 7.820833333333334, 7.588250000000001, 6.796916666666667, 6.463333333333332, 8.3335, 6.921499999999999, 7.762499999999998, 5.990166666666667, 8.601916666666666, 7.717, 8.78, 8.6335, 8.854916666666666, 8.668750000000001, 6.458749999999999, 6.318083333333334, 5.811166666666668, 7.788916666666665, 8.24, 6.816583333333334, 8.191833333333333, 7.657916666666666, 8.025, 8.239083333333332, 8.020666666666665, 8.413583333333333, 8.089916666666666, 7.519666666666666, 7.252583333333334, 8.108666666666666, 6.301916666666666, 8.655999999999999, 8.081416666666666, 7.740416666666668, 8.558, 8.61725, 8.348249999999998, 7.409583333333334, 7.4647499999999996, 7.10325, 9.345666666666668, 8.327916666666665, 8.091416666666666, 6.782333333333333, 8.154166666666667, 8.22125, 8.386833333333334, 7.728333333333333, 8.300416666666667, 9.365166666666665, 6.6684166666666655, 7.978749999999999, 7.242166666666666, 8.242166666666668, 6.900083333333332, 8.764666666666667, 8.1415, 8.964666666666668, 7.9736666666666665, 6.563500000000001, 8.010666666666667, 6.1825, 7.781333333333333, 9.52375, 9.400833333333333, 8.300166666666668, 8.37975, 7.458416666666667, 8.80725, 8.709083333333334, 7.552583333333332, 7.604583333333333, 8.455583333333335, 9.50725, 9.316333333333334, 8.938666666666666, 9.377166666666666, 8.219666666666667, 8.850499999999998, 8.917333333333334, 8.454666666666666, 10.055416666666668, 9.55975, 9.4285, 9.453, 8.790833333333333, 9.290666666666665, 10.913499999999999]\n",
            "United Arab Emirates\n",
            "[27.635666666666665, 27.97125, 27.083250000000003, 27.18008333333334, 27.17075, 27.380749999999995, 27.458249999999992, 27.27325, 27.86141666666667, 27.47866666666667, 28.124916666666675, 27.393083333333337, 27.788749999999997, 27.48341666666667, 27.531000000000006, 27.797083333333333, 27.53708333333333, 27.706500000000002, 27.423166666666663, 27.216000000000005, 27.378333333333334, 27.619833333333336, 27.402666666666672, 27.295583333333337, 27.42941666666667, 27.2945, 27.687499999999996, 28.001083333333327, 27.91025, 27.597666666666665, 27.98275, 27.61066666666667, 27.791416666666667, 27.955166666666667, 27.79466666666667, 27.497416666666666, 27.1305, 27.89366666666667, 27.8225, 27.998166666666673, 28.04625, 27.669833333333333, 27.612583333333333, 27.439916666666672, 28.019000000000005, 27.437916666666666, 27.785666666666668, 27.76008333333333, 27.92025, 27.75166666666667, 27.144499999999997, 27.785583333333335, 27.89691666666667, 27.640833333333337, 27.466416666666664, 28.266250000000003, 28.25866666666667, 27.622750000000007, 27.42266666666666, 27.674583333333334, 27.695500000000006, 27.606250000000003, 27.571166666666667, 28.56891666666667, 28.069833333333335, 28.100166666666667, 28.301083333333334, 28.13491666666667, 27.327416666666675, 27.369749999999996, 27.399833333333333, 27.72375, 27.867333333333335, 28.094333333333335, 28.140249999999998, 27.585250000000002, 28.26008333333333, 27.697083333333335, 27.28408333333333, 28.070416666666674, 28.39741666666667, 27.986333333333334, 28.319250000000007, 28.12066666666667, 29.29258333333333, 29.298416666666668, 28.877750000000002, 29.009583333333328, 29.058000000000003, 29.228333333333335, 29.104, 28.992916666666673, 28.984083333333334, 29.15608333333333, 28.685000000000006, 29.127666666666673, 29.671333333333333, 29.205416666666668, 29.42583333333333, 29.370625000000004]\n",
            "United Kingdom (Europe)\n",
            "[9.169, 8.247000000000002, 8.554333333333334, 7.984749999999999, 8.797666666666666, 7.8715, 8.9245, 9.6885, 8.091666666666667, 8.369833333333334, 8.60975, 8.505833333333332, 9.047416666666667, 8.47125, 8.787166666666666, 8.437166666666666, 8.763166666666665, 8.435083333333335, 8.857, 9.305166666666667, 9.363416666666666, 8.992666666666667, 8.752416666666667, 8.841833333333332, 9.39925, 9.067166666666667, 8.496333333333334, 8.397999999999998, 8.45575, 9.368583333333333, 8.91925, 9.655500000000002, 8.850166666666667, 8.847666666666667, 9.294249999999998, 9.814333333333334, 8.811416666666666, 8.589166666666667, 8.501666666666665, 9.387416666666669, 8.611666666666666, 8.712416666666666, 8.365916666666667, 9.356583333333331, 8.767916666666668, 9.77075, 9.070666666666666, 9.198333333333332, 8.072916666666666, 7.897999999999999, 8.85625, 8.264333333333335, 8.732083333333334, 8.993083333333333, 8.686166666666667, 8.610916666666666, 8.814250000000001, 9.243583333333333, 8.657583333333333, 8.9555, 8.916583333333335, 9.259333333333332, 9.288666666666668, 8.7895, 8.672, 8.134, 8.798416666666666, 8.610833333333334, 9.1575, 9.235916666666666, 9.0865, 8.252499999999998, 8.104416666666667, 8.445333333333334, 9.138083333333332, 9.736166666666668, 9.857833333333334, 8.997499999999999, 9.19266666666667, 8.769499999999999, 9.330666666666668, 9.626666666666665, 8.6585, 9.85525, 9.585333333333335, 9.830083333333334, 9.5655, 9.288666666666668, 9.905833333333334, 9.9445, 9.892666666666669, 9.847333333333331, 10.128833333333334, 10.021166666666666, 9.505, 9.630583333333336, 8.479833333333334, 10.085166666666664, 9.185166666666666, 9.10825]\n",
            "United Kingdom\n",
            "[8.97575, 8.100499999999998, 8.391833333333333, 7.90825, 8.631333333333334, 7.762166666666666, 8.739499999999998, 9.44375, 7.975416666666667, 8.193166666666665, 8.439750000000002, 8.337583333333333, 8.839916666666669, 8.303333333333335, 8.596416666666666, 8.284166666666666, 8.5615, 8.288499999999997, 8.6895, 9.115583333333333, 9.165, 8.779250000000003, 8.60025, 8.670583333333333, 9.184583333333332, 8.848333333333331, 8.386249999999999, 8.276583333333333, 8.3165, 9.219083333333332, 8.762416666666667, 9.438999999999998, 8.686166666666667, 8.69175, 9.08, 9.581916666666666, 8.619166666666667, 8.439, 8.371250000000002, 9.206083333333334, 8.456583333333334, 8.569583333333332, 8.266083333333334, 9.177833333333334, 8.606416666666668, 9.511833333333334, 8.91975, 9.001666666666667, 7.994, 7.790749999999999, 8.679166666666665, 8.1545, 8.559916666666668, 8.833166666666667, 8.565916666666666, 8.467916666666666, 8.66975, 9.0505, 8.492500000000001, 8.7935, 8.760166666666667, 9.077916666666667, 9.090333333333334, 8.649500000000002, 8.548416666666666, 8.052750000000001, 8.643166666666666, 8.487083333333333, 9.014583333333333, 9.091666666666667, 8.90725, 8.173250000000001, 8.002749999999999, 8.33025, 8.973083333333333, 9.5875, 9.674583333333333, 8.828333333333333, 9.025, 8.66975, 9.15075, 9.419583333333332, 8.551166666666667, 9.64425, 9.462750000000002, 9.663333333333334, 9.379666666666667, 9.140083333333335, 9.679666666666668, 9.742083333333335, 9.737333333333332, 9.655249999999999, 9.943416666666666, 9.7975, 9.348249999999998, 9.453333333333333, 8.394333333333334, 9.907916666666667, 9.037416666666667, 8.997500000000002]\n",
            "United States\n",
            "[8.876499999999998, 8.648249999999999, 8.180083333333334, 7.669499999999999, 8.50125, 8.537999999999998, 8.184499999999998, 9.595666666666668, 8.768166666666668, 8.760333333333334, 8.052333333333332, 9.016416666666666, 9.14025, 8.719333333333333, 8.876, 8.4395, 8.737666666666666, 9.560750000000002, 8.5395, 9.030583333333334, 9.826583333333334, 8.742500000000001, 8.92225, 8.730749999999999, 9.471833333333334, 9.3075, 9.097166666666668, 9.266083333333333, 8.919333333333332, 9.0035, 8.898166666666667, 8.671249999999999, 9.179583333333332, 8.836083333333333, 8.481666666666667, 8.888083333333332, 8.656416666666667, 8.416583333333334, 8.979416666666667, 9.530416666666666, 9.410583333333333, 8.517166666666666, 8.699916666666665, 9.126333333333333, 8.97016666666667, 8.825333333333333, 8.69225, 8.642, 8.9565, 9.079999999999998, 8.491666666666667, 8.647666666666668, 8.483, 8.902000000000001, 8.553249999999998, 8.770833333333332, 8.673, 8.442499999999999, 8.428083333333335, 8.934666666666667, 8.815916666666666, 8.431, 8.65125, 9.269833333333334, 8.751416666666666, 8.571583333333331, 9.135499999999999, 9.7215, 8.539499999999999, 8.912333333333333, 8.811166666666667, 8.587000000000002, 9.559500000000002, 9.628166666666665, 9.275333333333334, 8.873083333333334, 9.521583333333334, 9.493666666666666, 9.056333333333333, 8.86725, 9.270333333333335, 9.331000000000001, 8.754333333333333, 9.172916666666667, 10.141166666666667, 9.567, 9.649750000000001, 9.785583333333333, 9.816166666666666, 9.75508333333333, 9.6675, 9.892666666666669, 9.9745, 9.837499999999999, 8.951416666666669, 9.137083333333335, 9.505583333333334, 9.549916666666665, 10.261083333333334, 11.297111111111112]\n",
            "Uruguay\n",
            "[17.452666666666666, 17.133083333333335, 16.808083333333332, 16.891166666666667, 16.974166666666672, 17.53775, 17.264416666666666, 16.820333333333334, 16.952333333333332, 16.917583333333333, 16.081749999999996, 17.273333333333333, 17.87875, 17.514666666666663, 17.175250000000002, 17.277166666666666, 17.384833333333336, 16.59625, 17.68941666666667, 17.342916666666667, 17.080833333333334, 17.167416666666664, 17.29733333333333, 16.899999999999995, 17.026833333333332, 17.304583333333337, 17.369, 16.824416666666664, 17.100499999999997, 17.77983333333333, 17.887833333333333, 17.794249999999998, 17.13716666666667, 17.088833333333334, 17.168249999999997, 17.28925, 17.41325, 17.33925, 17.53066666666667, 17.5795, 17.239666666666665, 16.708, 16.393083333333337, 17.37625, 17.626583333333333, 17.137083333333337, 17.549083333333332, 17.79158333333333, 17.01125, 17.5035, 16.531333333333336, 17.615083333333335, 16.903666666666663, 17.698416666666667, 17.609666666666666, 17.617583333333332, 17.5755, 17.11691666666667, 17.508583333333334, 17.277, 17.276749999999996, 17.568583333333333, 16.900333333333332, 17.999583333333334, 17.47875, 17.380583333333334, 18.056416666666667, 17.848333333333333, 18.016416666666668, 17.404666666666667, 17.226666666666663, 18.00808333333333, 18.113583333333334, 17.658666666666665, 17.113500000000002, 18.1005, 17.70358333333333, 17.973916666666664, 17.528833333333335, 17.646416666666664, 18.131916666666665, 17.664749999999998, 17.874166666666667, 18.365500000000004, 17.5215, 17.607750000000003, 17.756750000000004, 18.57425, 17.993916666666667, 17.60466666666667, 18.060833333333335, 18.194416666666665, 18.24041666666667, 17.516166666666667, 18.2805, 17.87133333333333, 17.92008333333333, 17.824583333333337, 18.508999999999997, 16.754375]\n",
            "Uzbekistan\n",
            "[13.032750000000002, 13.802833333333332, 11.685416666666667, 12.96283333333333, 11.577916666666667, 12.102333333333334, 10.62641666666667, 11.851583333333336, 13.082999999999998, 12.0105, 12.057749999999999, 13.019166666666669, 12.365833333333335, 12.153749999999997, 11.16675, 10.736249999999998, 11.490916666666665, 11.229999999999999, 11.897749999999997, 11.916500000000001, 10.802583333333333, 11.834416666666668, 12.427500000000002, 11.879, 12.698666666666668, 12.829333333333336, 13.414833333333334, 13.673750000000004, 12.626333333333333, 11.579333333333336, 13.248249999999999, 11.648666666666665, 12.590583333333335, 13.155583333333333, 12.822249999999999, 11.123833333333332, 11.026166666666668, 11.909083333333333, 12.312416666666664, 12.57133333333333, 11.41358333333333, 13.513750000000002, 12.247750000000002, 11.721083333333334, 12.8705, 11.688416666666669, 12.057, 13.459916666666667, 12.790083333333333, 13.640083333333331, 11.745, 12.952166666666669, 13.284916666666666, 12.638416666666666, 12.604333333333331, 11.158916666666665, 12.980416666666665, 13.428833333333335, 10.935333333333334, 12.908166666666666, 11.789833333333332, 13.097833333333334, 11.785333333333334, 12.869083333333334, 12.63366666666667, 13.341833333333332, 13.026750000000002, 13.524416666666669, 12.378999999999998, 14.087000000000002, 11.914666666666667, 13.020583333333336, 13.126166666666665, 12.846333333333334, 13.595583333333332, 12.9655, 13.463083333333335, 13.031083333333335, 12.863333333333337, 11.956000000000001, 12.63916666666667, 13.971333333333334, 12.45225, 13.847249999999997, 13.245, 13.908500000000002, 13.938833333333335, 13.998, 13.87191666666667, 13.157666666666666, 14.442000000000002, 14.043999999999999, 13.786250000000003, 13.928333333333333, 13.309, 13.700333333333335, 14.325916666666666, 13.141083333333333, 13.144166666666669, 16.18825]\n",
            "Venezuela\n",
            "[24.92533333333333, 25.245249999999995, 24.671499999999998, 24.25775, 24.42833333333333, 24.954916666666666, 24.674916666666665, 24.568083333333334, 24.67775, 24.596999999999998, 24.90233333333333, 24.8205, 25.39158333333333, 24.87925, 25.026083333333336, 24.842666666666663, 24.853833333333338, 25.375583333333328, 25.09483333333333, 24.811000000000003, 24.905833333333334, 24.91608333333333, 25.03108333333333, 25.191583333333327, 24.7835, 24.897750000000002, 25.626166666666666, 25.764333333333337, 25.604833333333332, 25.05516666666667, 25.204666666666668, 24.996749999999995, 24.926916666666667, 25.2115, 25.180750000000003, 24.963666666666665, 24.793499999999998, 25.358666666666664, 25.560666666666666, 25.38133333333333, 25.048916666666667, 24.919916666666666, 24.853333333333335, 25.3065, 25.9175, 25.395833333333332, 25.40116666666667, 25.387250000000005, 25.425333333333338, 25.417083333333338, 25.364416666666667, 25.291083333333336, 25.542, 25.058916666666672, 25.08441666666666, 25.684749999999998, 25.34166666666667, 24.72441666666667, 25.237, 25.482333333333333, 25.003250000000005, 25.03725, 25.023250000000004, 25.595583333333337, 25.499, 25.60941666666667, 25.573083333333333, 25.450666666666663, 25.38716666666667, 25.783583333333336, 25.28475, 25.049833333333336, 25.265749999999997, 25.97725, 25.547750000000008, 25.086249999999996, 25.59475, 25.506500000000003, 25.593333333333334, 25.468, 25.506500000000003, 25.921583333333334, 25.598499999999998, 25.75266666666667, 26.158999999999992, 25.344833333333337, 25.388500000000004, 25.771333333333335, 25.772166666666664, 26.008333333333336, 25.817833333333336, 26.019416666666668, 25.84991666666667, 25.85408333333333, 25.64825, 26.08491666666667, 26.15025, 25.677333333333333, 25.68858333333333, 25.912875]\n",
            "Vietnam\n",
            "[23.98925, 23.93166666666667, 23.155333333333335, 22.96591666666667, 23.25391666666667, 23.909666666666666, 23.6855, 23.501833333333334, 23.732999999999993, 23.80991666666667, 23.754500000000004, 23.300166666666666, 23.72841666666667, 23.622416666666666, 23.55575, 23.541083333333333, 23.572500000000005, 24.102083333333336, 23.37008333333333, 23.645583333333335, 23.283833333333334, 24.122249999999998, 23.675500000000003, 24.144166666666663, 23.862916666666667, 23.78975, 23.91025, 24.466583333333332, 24.077333333333332, 23.635166666666663, 23.937250000000002, 23.669583333333332, 24.63625, 24.050166666666666, 23.963666666666665, 24.04433333333333, 23.94483333333333, 23.863666666666663, 24.186833333333336, 24.2045, 24.029, 23.679583333333337, 23.664333333333335, 24.04891666666667, 24.075666666666667, 24.13225, 24.144083333333338, 24.092666666666663, 23.702333333333332, 23.75758333333334, 23.953666666666663, 24.099166666666665, 24.521333333333335, 23.638833333333334, 23.90341666666667, 24.200666666666667, 23.917249999999996, 23.406000000000002, 24.025833333333335, 24.34125, 23.763250000000003, 23.98766666666667, 23.625833333333333, 23.814833333333336, 23.901750000000003, 24.170749999999998, 24.17216666666667, 24.17883333333333, 24.00066666666667, 23.945083333333333, 23.75566666666667, 23.887250000000005, 23.928833333333333, 24.600916666666674, 24.127499999999998, 23.886916666666668, 24.274083333333333, 24.2765, 23.851249999999997, 23.935666666666663, 24.15941666666667, 23.919, 23.749666666666666, 24.22266666666667, 24.899833333333333, 24.066416666666665, 23.981916666666667, 24.18491666666667, 24.39375, 24.49775, 24.05691666666667, 24.298, 24.523083333333336, 24.302166666666665, 23.783999999999995, 24.46558333333333, 24.833333333333332, 23.692583333333335, 24.704333333333334, 25.232125000000003]\n",
            "Virgin Islands\n",
            "[26.103749999999994, 26.392916666666668, 25.9275, 25.76858333333333, 26.04675, 26.304916666666667, 26.26233333333333, 26.093416666666666, 25.901083333333343, 26.043333333333337, 26.232, 26.071416666666668, 26.578083333333336, 26.27508333333334, 26.422833333333333, 26.14641666666667, 26.41475, 26.67375, 26.448833333333337, 26.131249999999998, 26.10675, 26.130750000000003, 26.313833333333335, 26.44416666666666, 26.006583333333335, 26.285500000000003, 26.557249999999993, 26.859166666666667, 26.76725, 26.24833333333333, 26.27825, 26.13291666666667, 26.32783333333333, 26.594000000000005, 26.615333333333336, 26.17016666666667, 25.99733333333333, 26.43258333333333, 26.60908333333333, 26.72491666666666, 26.316666666666666, 26.384, 26.28141666666667, 26.626583333333333, 26.96875, 26.8595, 26.917083333333334, 26.67483333333333, 26.583166666666667, 26.80241666666667, 26.679750000000002, 26.303333333333338, 26.439833333333336, 26.230000000000004, 26.323333333333334, 26.77525, 26.606583333333337, 26.292166666666663, 26.40125, 26.733583333333332, 26.171666666666663, 26.247500000000002, 26.15183333333333, 26.730833333333326, 26.717583333333327, 26.549333333333337, 26.990000000000006, 26.90325, 26.553833333333333, 26.958166666666667, 26.599333333333334, 26.593833333333333, 26.6095, 27.14358333333333, 26.828499999999995, 26.560416666666665, 26.821666666666662, 26.777583333333336, 26.776416666666666, 26.930499999999995, 27.040750000000003, 27.228916666666667, 26.743583333333337, 27.114666666666665, 27.45233333333334, 26.998250000000002, 26.73058333333334, 27.133166666666668, 27.297833333333333, 27.376583333333333, 27.029250000000005, 27.424666666666667, 27.37483333333334, 27.47, 26.924000000000003, 27.2385, 27.593666666666664, 27.159250000000004, 27.360166666666668, 27.31233333333333]\n",
            "Western Sahara\n",
            "[22.39325, 22.611333333333334, 22.215500000000002, 22.044749999999997, 21.963333333333335, 22.386833333333332, 22.185166666666664, 22.11508333333333, 22.33583333333333, 22.54941666666667, 22.514499999999998, 22.126833333333334, 23.23908333333333, 22.85733333333333, 22.298333333333332, 22.3275, 22.247416666666666, 22.334333333333333, 22.218333333333334, 21.897750000000002, 21.829916666666673, 22.071083333333338, 22.265500000000003, 23.108416666666667, 22.577250000000003, 22.307333333333332, 22.586166666666667, 22.527083333333334, 22.323333333333334, 22.18641666666667, 22.333916666666667, 22.985250000000004, 21.81375, 22.589916666666667, 22.552583333333335, 22.54375, 22.47583333333333, 21.95883333333333, 22.330166666666667, 22.46558333333333, 21.901666666666667, 23.1705, 21.892833333333332, 21.94366666666667, 22.7325, 22.108166666666662, 22.423833333333334, 23.084, 22.717166666666667, 22.479249999999997, 22.786666666666665, 22.252750000000002, 22.773750000000003, 22.347083333333334, 22.27933333333333, 22.746916666666664, 22.9815, 21.850416666666664, 21.38925, 22.4915, 21.96558333333333, 22.164416666666668, 21.597833333333337, 22.585916666666666, 22.856583333333333, 23.047250000000002, 22.92566666666666, 23.021666666666665, 22.367916666666662, 23.38083333333333, 22.412999999999997, 22.855916666666662, 22.418083333333332, 23.73075, 22.81183333333333, 23.25375, 23.401916666666665, 22.640333333333334, 22.734499999999997, 22.301916666666667, 22.9445, 23.371083333333335, 23.262249999999998, 23.64333333333333, 23.690166666666666, 22.836250000000003, 23.020083333333332, 23.704916666666666, 23.45783333333333, 23.408916666666666, 23.420666666666666, 23.50766666666667, 23.441833333333335, 23.145416666666666, 23.323083333333333, 23.381083333333333, 24.114250000000002, 23.401250000000005, 23.303416666666664, 23.74425]\n",
            "Yemen\n",
            "[26.056250000000006, 26.42625, 25.566000000000003, 25.791750000000004, 25.54975, 26.07675, 26.100583333333333, 25.702416666666664, 25.850000000000005, 25.833249999999996, 26.319000000000006, 26.026, 26.49791666666667, 26.107916666666668, 26.190750000000005, 26.3005, 26.107, 26.258666666666674, 25.897666666666666, 25.91358333333334, 25.90491666666667, 26.122416666666666, 26.10133333333334, 25.681749999999997, 25.706083333333336, 25.922749999999997, 26.3545, 26.65008333333333, 26.556250000000002, 26.183750000000003, 26.49508333333334, 26.452499999999997, 26.248500000000003, 26.37441666666666, 26.334666666666664, 26.128249999999998, 25.81566666666667, 26.38808333333333, 26.081666666666674, 26.399833333333333, 26.35008333333333, 25.956583333333338, 25.95716666666667, 25.95341666666667, 26.47066666666667, 26.129583333333333, 26.319083333333335, 26.331166666666665, 26.197333333333336, 26.268666666666665, 26.09908333333333, 25.96766666666666, 26.483833333333333, 26.26825, 26.104833333333335, 26.6905, 26.375916666666665, 26.028333333333336, 26.486499999999996, 26.278833333333335, 26.097333333333328, 25.695166666666665, 25.949, 26.81041666666667, 26.695750000000004, 26.584999999999997, 26.85558333333333, 26.542333333333332, 26.08275, 26.244500000000006, 25.85108333333334, 25.882583333333333, 26.054666666666666, 26.612083333333334, 26.78391666666666, 25.894500000000004, 26.640666666666664, 26.594416666666664, 26.266500000000004, 26.402000000000005, 26.994250000000005, 26.577666666666673, 26.546166666666664, 26.94, 27.36866666666666, 27.353583333333333, 27.43616666666667, 27.06891666666667, 27.12516666666667, 27.35775, 27.334083333333336, 27.294666666666668, 27.175, 27.310750000000002, 26.807500000000005, 27.34241666666667, 27.302750000000003, 27.288250000000005, 27.445000000000004, 28.12975]\n",
            "Zambia\n",
            "[21.547083333333333, 21.427333333333326, 21.153, 21.065583333333333, 20.657, 21.047833333333333, 21.309166666666666, 21.206083333333336, 21.707583333333332, 21.383666666666667, 21.345416666666665, 20.83725, 21.181833333333334, 21.06775, 21.325499999999998, 21.2985, 21.036416666666664, 21.526500000000002, 21.13475, 21.031166666666664, 21.230666666666664, 21.091583333333336, 20.861083333333333, 20.870583333333332, 21.31741666666667, 20.834083333333332, 21.19483333333333, 21.590833333333332, 21.551416666666668, 21.317583333333335, 21.423916666666667, 21.084749999999996, 21.326166666666666, 21.382250000000003, 21.24641666666667, 21.684583333333336, 20.847666666666665, 21.294166666666666, 21.522750000000002, 21.26275, 21.299, 21.217833333333335, 20.918166666666668, 21.658083333333337, 21.535166666666665, 21.70325, 21.40008333333333, 21.541166666666665, 21.26666666666667, 21.014583333333334, 21.129500000000004, 21.042666666666666, 21.667, 21.249166666666667, 21.247333333333334, 21.54341666666667, 21.631333333333334, 21.190333333333335, 21.401083333333336, 21.479166666666668, 20.784250000000004, 21.109416666666664, 20.826249999999998, 21.561500000000006, 21.16208333333333, 21.379166666666666, 21.337666666666667, 21.247833333333332, 21.59958333333333, 22.346083333333336, 21.673833333333334, 21.331833333333332, 21.294083333333337, 22.30858333333333, 21.88508333333333, 21.644000000000002, 22.219333333333335, 21.62891666666667, 22.414666666666665, 21.711583333333333, 21.84658333333333, 22.45141666666667, 22.018083333333337, 21.949750000000005, 22.300666666666668, 21.451750000000004, 21.55875, 21.80241666666667, 22.29241666666667, 22.156750000000002, 21.768083333333333, 22.8135, 21.78425, 21.8385, 21.535833333333333, 21.670250000000006, 22.2675, 21.77158333333333, 21.69775, 21.195999999999998]\n",
            "Zimbabwe\n",
            "[21.477166666666665, 21.129750000000005, 21.10025, 20.854333333333333, 20.413, 20.665499999999998, 21.13508333333333, 20.767916666666665, 21.632333333333335, 21.250833333333336, 20.943916666666667, 20.732833333333335, 21.074499999999997, 20.81125, 21.339083333333335, 21.187916666666666, 20.71075, 21.403750000000002, 20.925499999999996, 20.818833333333334, 21.218083333333336, 20.580333333333336, 20.696, 20.88716666666667, 21.24116666666667, 20.415833333333335, 21.168000000000003, 21.60808333333333, 21.60875, 21.104333333333333, 21.324416666666668, 20.699666666666662, 21.236583333333332, 21.582000000000004, 21.1105, 21.535083333333336, 21.25841666666667, 21.102333333333334, 21.325499999999998, 20.757416666666668, 21.175583333333336, 20.913500000000003, 20.894250000000003, 21.821250000000006, 21.2745, 21.470000000000002, 21.178583333333336, 21.408500000000004, 21.43258333333333, 20.7565, 21.080583333333333, 20.992333333333335, 21.4145, 21.145333333333333, 21.363166666666668, 21.345333333333333, 21.79875, 21.16025, 21.031583333333334, 21.46041666666667, 20.558250000000005, 20.833499999999997, 20.691000000000003, 21.405, 20.924666666666667, 21.255666666666666, 21.128833333333336, 20.804166666666667, 21.574916666666667, 22.367166666666673, 21.714583333333334, 21.198083333333333, 21.2005, 22.3235, 21.483, 21.432249999999996, 22.13025, 21.789666666666665, 22.840333333333334, 21.852249999999998, 21.60875, 22.496333333333336, 21.55316666666667, 21.566666666666666, 22.142166666666668, 21.486333333333334, 21.149, 21.69366666666667, 22.08108333333334, 21.891250000000003, 21.330916666666667, 22.50991666666667, 21.618750000000006, 21.604250000000004, 21.545583333333337, 21.37725, 21.986250000000002, 21.602416666666667, 21.521333333333335, 20.710750000000004]\n"
          ]
        }
      ],
      "source": [
        "for i in country_dict1.keys():\n",
        "  print(i)\n",
        "  print(country_dict1[i])"
      ]
    },
    {
      "cell_type": "code",
      "execution_count": 9,
      "metadata": {
        "colab": {
          "base_uri": "https://localhost:8080/",
          "height": 522
        },
        "id": "cn4Tw6zIcioK",
        "outputId": "2915e7e9-223a-44f9-c574-94bde869c446"
      },
      "outputs": [
        {
          "data": {
            "text/html": [
              "<div>\n",
              "<style scoped>\n",
              "    .dataframe tbody tr th:only-of-type {\n",
              "        vertical-align: middle;\n",
              "    }\n",
              "\n",
              "    .dataframe tbody tr th {\n",
              "        vertical-align: top;\n",
              "    }\n",
              "\n",
              "    .dataframe thead th {\n",
              "        text-align: right;\n",
              "    }\n",
              "</style>\n",
              "<table border=\"1\" class=\"dataframe\">\n",
              "  <thead>\n",
              "    <tr style=\"text-align: right;\">\n",
              "      <th></th>\n",
              "      <th>Åland</th>\n",
              "      <th>Afghanistan</th>\n",
              "      <th>Africa</th>\n",
              "      <th>Albania</th>\n",
              "      <th>Algeria</th>\n",
              "      <th>American Samoa</th>\n",
              "      <th>Andorra</th>\n",
              "      <th>Angola</th>\n",
              "      <th>Anguilla</th>\n",
              "      <th>Antigua And Barbuda</th>\n",
              "      <th>...</th>\n",
              "      <th>United States</th>\n",
              "      <th>Uruguay</th>\n",
              "      <th>Uzbekistan</th>\n",
              "      <th>Venezuela</th>\n",
              "      <th>Vietnam</th>\n",
              "      <th>Virgin Islands</th>\n",
              "      <th>Western Sahara</th>\n",
              "      <th>Yemen</th>\n",
              "      <th>Zambia</th>\n",
              "      <th>Zimbabwe</th>\n",
              "    </tr>\n",
              "  </thead>\n",
              "  <tbody>\n",
              "    <tr>\n",
              "      <th>0</th>\n",
              "      <td>6.556167</td>\n",
              "      <td>14.296833</td>\n",
              "      <td>24.256667</td>\n",
              "      <td>12.015833</td>\n",
              "      <td>23.043167</td>\n",
              "      <td>26.368167</td>\n",
              "      <td>10.826500</td>\n",
              "      <td>21.732417</td>\n",
              "      <td>26.379667</td>\n",
              "      <td>26.226583</td>\n",
              "      <td>...</td>\n",
              "      <td>8.876500</td>\n",
              "      <td>17.452667</td>\n",
              "      <td>13.032750</td>\n",
              "      <td>24.925333</td>\n",
              "      <td>23.989250</td>\n",
              "      <td>26.103750</td>\n",
              "      <td>22.393250</td>\n",
              "      <td>26.056250</td>\n",
              "      <td>21.547083</td>\n",
              "      <td>21.477167</td>\n",
              "    </tr>\n",
              "    <tr>\n",
              "      <th>1</th>\n",
              "      <td>3.575167</td>\n",
              "      <td>14.914583</td>\n",
              "      <td>24.174250</td>\n",
              "      <td>12.690417</td>\n",
              "      <td>22.821167</td>\n",
              "      <td>26.041833</td>\n",
              "      <td>10.902750</td>\n",
              "      <td>21.744583</td>\n",
              "      <td>26.622333</td>\n",
              "      <td>26.478417</td>\n",
              "      <td>...</td>\n",
              "      <td>8.648250</td>\n",
              "      <td>17.133083</td>\n",
              "      <td>13.802833</td>\n",
              "      <td>25.245250</td>\n",
              "      <td>23.931667</td>\n",
              "      <td>26.392917</td>\n",
              "      <td>22.611333</td>\n",
              "      <td>26.426250</td>\n",
              "      <td>21.427333</td>\n",
              "      <td>21.129750</td>\n",
              "    </tr>\n",
              "    <tr>\n",
              "      <th>2</th>\n",
              "      <td>5.013833</td>\n",
              "      <td>13.343000</td>\n",
              "      <td>23.849583</td>\n",
              "      <td>13.550167</td>\n",
              "      <td>22.643000</td>\n",
              "      <td>26.264167</td>\n",
              "      <td>11.028583</td>\n",
              "      <td>21.978750</td>\n",
              "      <td>26.194583</td>\n",
              "      <td>26.043000</td>\n",
              "      <td>...</td>\n",
              "      <td>8.180083</td>\n",
              "      <td>16.808083</td>\n",
              "      <td>11.685417</td>\n",
              "      <td>24.671500</td>\n",
              "      <td>23.155333</td>\n",
              "      <td>25.927500</td>\n",
              "      <td>22.215500</td>\n",
              "      <td>25.566000</td>\n",
              "      <td>21.153000</td>\n",
              "      <td>21.100250</td>\n",
              "    </tr>\n",
              "    <tr>\n",
              "      <th>3</th>\n",
              "      <td>4.588083</td>\n",
              "      <td>13.916500</td>\n",
              "      <td>23.695500</td>\n",
              "      <td>12.684167</td>\n",
              "      <td>22.461167</td>\n",
              "      <td>25.853500</td>\n",
              "      <td>10.297333</td>\n",
              "      <td>21.675417</td>\n",
              "      <td>26.043667</td>\n",
              "      <td>25.842583</td>\n",
              "      <td>...</td>\n",
              "      <td>7.669500</td>\n",
              "      <td>16.891167</td>\n",
              "      <td>12.962833</td>\n",
              "      <td>24.257750</td>\n",
              "      <td>22.965917</td>\n",
              "      <td>25.768583</td>\n",
              "      <td>22.044750</td>\n",
              "      <td>25.791750</td>\n",
              "      <td>21.065583</td>\n",
              "      <td>20.854333</td>\n",
              "    </tr>\n",
              "    <tr>\n",
              "      <th>4</th>\n",
              "      <td>5.406917</td>\n",
              "      <td>13.483250</td>\n",
              "      <td>23.665417</td>\n",
              "      <td>12.731250</td>\n",
              "      <td>22.411250</td>\n",
              "      <td>26.213333</td>\n",
              "      <td>10.729500</td>\n",
              "      <td>20.944833</td>\n",
              "      <td>26.308167</td>\n",
              "      <td>26.105667</td>\n",
              "      <td>...</td>\n",
              "      <td>8.501250</td>\n",
              "      <td>16.974167</td>\n",
              "      <td>11.577917</td>\n",
              "      <td>24.428333</td>\n",
              "      <td>23.253917</td>\n",
              "      <td>26.046750</td>\n",
              "      <td>21.963333</td>\n",
              "      <td>25.549750</td>\n",
              "      <td>20.657000</td>\n",
              "      <td>20.413000</td>\n",
              "    </tr>\n",
              "    <tr>\n",
              "      <th>...</th>\n",
              "      <td>...</td>\n",
              "      <td>...</td>\n",
              "      <td>...</td>\n",
              "      <td>...</td>\n",
              "      <td>...</td>\n",
              "      <td>...</td>\n",
              "      <td>...</td>\n",
              "      <td>...</td>\n",
              "      <td>...</td>\n",
              "      <td>...</td>\n",
              "      <td>...</td>\n",
              "      <td>...</td>\n",
              "      <td>...</td>\n",
              "      <td>...</td>\n",
              "      <td>...</td>\n",
              "      <td>...</td>\n",
              "      <td>...</td>\n",
              "      <td>...</td>\n",
              "      <td>...</td>\n",
              "      <td>...</td>\n",
              "      <td>...</td>\n",
              "    </tr>\n",
              "    <tr>\n",
              "      <th>95</th>\n",
              "      <td>6.489083</td>\n",
              "      <td>15.257750</td>\n",
              "      <td>25.026500</td>\n",
              "      <td>13.844250</td>\n",
              "      <td>24.154333</td>\n",
              "      <td>27.034250</td>\n",
              "      <td>12.566667</td>\n",
              "      <td>22.316500</td>\n",
              "      <td>27.468583</td>\n",
              "      <td>27.277333</td>\n",
              "      <td>...</td>\n",
              "      <td>9.137083</td>\n",
              "      <td>17.871333</td>\n",
              "      <td>13.700333</td>\n",
              "      <td>26.084917</td>\n",
              "      <td>24.465583</td>\n",
              "      <td>27.238500</td>\n",
              "      <td>23.381083</td>\n",
              "      <td>27.342417</td>\n",
              "      <td>21.670250</td>\n",
              "      <td>21.377250</td>\n",
              "    </tr>\n",
              "    <tr>\n",
              "      <th>96</th>\n",
              "      <td>4.861917</td>\n",
              "      <td>15.828667</td>\n",
              "      <td>25.472500</td>\n",
              "      <td>13.775417</td>\n",
              "      <td>25.215667</td>\n",
              "      <td>27.453417</td>\n",
              "      <td>11.480833</td>\n",
              "      <td>22.681500</td>\n",
              "      <td>27.856000</td>\n",
              "      <td>27.735417</td>\n",
              "      <td>...</td>\n",
              "      <td>9.505583</td>\n",
              "      <td>17.920083</td>\n",
              "      <td>14.325917</td>\n",
              "      <td>26.150250</td>\n",
              "      <td>24.833333</td>\n",
              "      <td>27.593667</td>\n",
              "      <td>24.114250</td>\n",
              "      <td>27.302750</td>\n",
              "      <td>22.267500</td>\n",
              "      <td>21.986250</td>\n",
              "    </tr>\n",
              "    <tr>\n",
              "      <th>97</th>\n",
              "      <td>7.170750</td>\n",
              "      <td>15.518000</td>\n",
              "      <td>24.786500</td>\n",
              "      <td>13.443250</td>\n",
              "      <td>24.144167</td>\n",
              "      <td>27.009500</td>\n",
              "      <td>12.994417</td>\n",
              "      <td>22.029667</td>\n",
              "      <td>27.528333</td>\n",
              "      <td>27.296167</td>\n",
              "      <td>...</td>\n",
              "      <td>9.549917</td>\n",
              "      <td>17.824583</td>\n",
              "      <td>13.141083</td>\n",
              "      <td>25.677333</td>\n",
              "      <td>23.692583</td>\n",
              "      <td>27.159250</td>\n",
              "      <td>23.401250</td>\n",
              "      <td>27.288250</td>\n",
              "      <td>21.771583</td>\n",
              "      <td>21.602417</td>\n",
              "    </tr>\n",
              "    <tr>\n",
              "      <th>98</th>\n",
              "      <td>6.063917</td>\n",
              "      <td>14.481583</td>\n",
              "      <td>24.725917</td>\n",
              "      <td>13.768250</td>\n",
              "      <td>23.954833</td>\n",
              "      <td>27.201417</td>\n",
              "      <td>12.339917</td>\n",
              "      <td>22.123333</td>\n",
              "      <td>27.639250</td>\n",
              "      <td>27.433500</td>\n",
              "      <td>...</td>\n",
              "      <td>10.261083</td>\n",
              "      <td>18.509000</td>\n",
              "      <td>13.144167</td>\n",
              "      <td>25.688583</td>\n",
              "      <td>24.704333</td>\n",
              "      <td>27.360167</td>\n",
              "      <td>23.303417</td>\n",
              "      <td>27.445000</td>\n",
              "      <td>21.697750</td>\n",
              "      <td>21.521333</td>\n",
              "    </tr>\n",
              "    <tr>\n",
              "      <th>99</th>\n",
              "      <td>6.229750</td>\n",
              "      <td>16.533625</td>\n",
              "      <td>25.208750</td>\n",
              "      <td>14.993875</td>\n",
              "      <td>25.121500</td>\n",
              "      <td>27.517250</td>\n",
              "      <td>12.307875</td>\n",
              "      <td>22.507875</td>\n",
              "      <td>27.363000</td>\n",
              "      <td>27.249625</td>\n",
              "      <td>...</td>\n",
              "      <td>11.297111</td>\n",
              "      <td>16.754375</td>\n",
              "      <td>16.188250</td>\n",
              "      <td>25.912875</td>\n",
              "      <td>25.232125</td>\n",
              "      <td>27.312333</td>\n",
              "      <td>23.744250</td>\n",
              "      <td>28.129750</td>\n",
              "      <td>21.196000</td>\n",
              "      <td>20.710750</td>\n",
              "    </tr>\n",
              "  </tbody>\n",
              "</table>\n",
              "<p>100 rows × 242 columns</p>\n",
              "</div>"
            ],
            "text/plain": [
              "       Åland  Afghanistan     Africa    Albania    Algeria  American Samoa  \\\n",
              "0   6.556167    14.296833  24.256667  12.015833  23.043167       26.368167   \n",
              "1   3.575167    14.914583  24.174250  12.690417  22.821167       26.041833   \n",
              "2   5.013833    13.343000  23.849583  13.550167  22.643000       26.264167   \n",
              "3   4.588083    13.916500  23.695500  12.684167  22.461167       25.853500   \n",
              "4   5.406917    13.483250  23.665417  12.731250  22.411250       26.213333   \n",
              "..       ...          ...        ...        ...        ...             ...   \n",
              "95  6.489083    15.257750  25.026500  13.844250  24.154333       27.034250   \n",
              "96  4.861917    15.828667  25.472500  13.775417  25.215667       27.453417   \n",
              "97  7.170750    15.518000  24.786500  13.443250  24.144167       27.009500   \n",
              "98  6.063917    14.481583  24.725917  13.768250  23.954833       27.201417   \n",
              "99  6.229750    16.533625  25.208750  14.993875  25.121500       27.517250   \n",
              "\n",
              "      Andorra     Angola   Anguilla  Antigua And Barbuda  ...  United States  \\\n",
              "0   10.826500  21.732417  26.379667            26.226583  ...       8.876500   \n",
              "1   10.902750  21.744583  26.622333            26.478417  ...       8.648250   \n",
              "2   11.028583  21.978750  26.194583            26.043000  ...       8.180083   \n",
              "3   10.297333  21.675417  26.043667            25.842583  ...       7.669500   \n",
              "4   10.729500  20.944833  26.308167            26.105667  ...       8.501250   \n",
              "..        ...        ...        ...                  ...  ...            ...   \n",
              "95  12.566667  22.316500  27.468583            27.277333  ...       9.137083   \n",
              "96  11.480833  22.681500  27.856000            27.735417  ...       9.505583   \n",
              "97  12.994417  22.029667  27.528333            27.296167  ...       9.549917   \n",
              "98  12.339917  22.123333  27.639250            27.433500  ...      10.261083   \n",
              "99  12.307875  22.507875  27.363000            27.249625  ...      11.297111   \n",
              "\n",
              "      Uruguay  Uzbekistan  Venezuela    Vietnam  Virgin Islands  \\\n",
              "0   17.452667   13.032750  24.925333  23.989250       26.103750   \n",
              "1   17.133083   13.802833  25.245250  23.931667       26.392917   \n",
              "2   16.808083   11.685417  24.671500  23.155333       25.927500   \n",
              "3   16.891167   12.962833  24.257750  22.965917       25.768583   \n",
              "4   16.974167   11.577917  24.428333  23.253917       26.046750   \n",
              "..        ...         ...        ...        ...             ...   \n",
              "95  17.871333   13.700333  26.084917  24.465583       27.238500   \n",
              "96  17.920083   14.325917  26.150250  24.833333       27.593667   \n",
              "97  17.824583   13.141083  25.677333  23.692583       27.159250   \n",
              "98  18.509000   13.144167  25.688583  24.704333       27.360167   \n",
              "99  16.754375   16.188250  25.912875  25.232125       27.312333   \n",
              "\n",
              "    Western Sahara      Yemen     Zambia   Zimbabwe  \n",
              "0        22.393250  26.056250  21.547083  21.477167  \n",
              "1        22.611333  26.426250  21.427333  21.129750  \n",
              "2        22.215500  25.566000  21.153000  21.100250  \n",
              "3        22.044750  25.791750  21.065583  20.854333  \n",
              "4        21.963333  25.549750  20.657000  20.413000  \n",
              "..             ...        ...        ...        ...  \n",
              "95       23.381083  27.342417  21.670250  21.377250  \n",
              "96       24.114250  27.302750  22.267500  21.986250  \n",
              "97       23.401250  27.288250  21.771583  21.602417  \n",
              "98       23.303417  27.445000  21.697750  21.521333  \n",
              "99       23.744250  28.129750  21.196000  20.710750  \n",
              "\n",
              "[100 rows x 242 columns]"
            ]
          },
          "execution_count": 9,
          "metadata": {},
          "output_type": "execute_result"
        }
      ],
      "source": [
        "df1 = pd.DataFrame(country_dict1)\n",
        "df1\n",
        "      "
      ]
    },
    {
      "cell_type": "code",
      "execution_count": 10,
      "metadata": {
        "colab": {
          "base_uri": "https://localhost:8080/"
        },
        "id": "9VM7vJ_aVcOd",
        "outputId": "c602ab6b-fd6d-4db3-e1fa-3b9e1d0bfa31"
      },
      "outputs": [
        {
          "data": {
            "text/plain": [
              "Index(['Åland', 'Afghanistan', 'Africa', 'Albania', 'Algeria',\n",
              "       'American Samoa', 'Andorra', 'Angola', 'Anguilla',\n",
              "       'Antigua And Barbuda',\n",
              "       ...\n",
              "       'United States', 'Uruguay', 'Uzbekistan', 'Venezuela', 'Vietnam',\n",
              "       'Virgin Islands', 'Western Sahara', 'Yemen', 'Zambia', 'Zimbabwe'],\n",
              "      dtype='object', length=242)"
            ]
          },
          "execution_count": 10,
          "metadata": {},
          "output_type": "execute_result"
        }
      ],
      "source": [
        "X =[ df1[i] for i in df1.columns]\n",
        "Y =df1.columns\n",
        "Y"
      ]
    },
    {
      "cell_type": "code",
      "execution_count": 11,
      "metadata": {
        "id": "61DuDEKcWlxo"
      },
      "outputs": [
        {
          "name": "stderr",
          "output_type": "stream",
          "text": [
            "C:\\Users\\vijay\\AppData\\Local\\Packages\\PythonSoftwareFoundation.Python.3.9_qbz5n2kfra8p0\\LocalCache\\local-packages\\Python39\\site-packages\\tslearn\\bases\\bases.py:15: UserWarning: h5py not installed, hdf5 features will not be supported.\n",
            "Install h5py to use hdf5 features: http://docs.h5py.org/\n",
            "  warn(h5py_msg)\n"
          ]
        }
      ],
      "source": [
        "# !pip install tslearn\n",
        "from tslearn.clustering import TimeSeriesKMeans"
      ]
    },
    {
      "cell_type": "code",
      "execution_count": 12,
      "metadata": {
        "id": "gd62nEa_Wiw1"
      },
      "outputs": [],
      "source": [
        "km = TimeSeriesKMeans(n_clusters=round(len(df1.columns)**0.5), metric=\"dtw\")\n",
        "\n",
        "labels = km.fit_predict(X)"
      ]
    },
    {
      "cell_type": "code",
      "execution_count": 13,
      "metadata": {
        "id": "48YCtM1oXoJ5"
      },
      "outputs": [],
      "source": [
        "final = {\"Countries\": df1.columns,\n",
        "         \"cluster\" : labels}\n",
        "final=pd.DataFrame(final)"
      ]
    },
    {
      "cell_type": "code",
      "execution_count": 14,
      "metadata": {
        "colab": {
          "base_uri": "https://localhost:8080/",
          "height": 542
        },
        "id": "DvHsAP9ob_OR",
        "outputId": "02a461bf-d463-4b5a-9f59-f1f5682983cb"
      },
      "outputs": [
        {
          "data": {
            "application/vnd.plotly.v1+json": {
              "config": {
                "plotlyServerURL": "https://plot.ly"
              },
              "data": [
                {
                  "coloraxis": "coloraxis",
                  "geo": "geo",
                  "hovertemplate": "Countries=%{location}<br>cluster=%{z}<extra></extra>",
                  "locationmode": "country names",
                  "locations": [
                    "Åland",
                    "Afghanistan",
                    "Africa",
                    "Albania",
                    "Algeria",
                    "American Samoa",
                    "Andorra",
                    "Angola",
                    "Anguilla",
                    "Antigua And Barbuda",
                    "Argentina",
                    "Armenia",
                    "Aruba",
                    "Asia",
                    "Australia",
                    "Austria",
                    "Azerbaijan",
                    "Bahamas",
                    "Bahrain",
                    "Baker Island",
                    "Bangladesh",
                    "Barbados",
                    "Belarus",
                    "Belgium",
                    "Belize",
                    "Benin",
                    "Bhutan",
                    "Bolivia",
                    "Bonaire, Saint Eustatius And Saba",
                    "Bosnia And Herzegovina",
                    "Botswana",
                    "Brazil",
                    "British Virgin Islands",
                    "Bulgaria",
                    "Burkina Faso",
                    "Burma",
                    "Burundi",
                    "Côte D'Ivoire",
                    "Cambodia",
                    "Cameroon",
                    "Canada",
                    "Cape Verde",
                    "Cayman Islands",
                    "Central African Republic",
                    "Chad",
                    "Chile",
                    "China",
                    "Christmas Island",
                    "Colombia",
                    "Comoros",
                    "Congo (Democratic Republic Of The)",
                    "Congo",
                    "Costa Rica",
                    "Croatia",
                    "Cuba",
                    "Curaçao",
                    "Cyprus",
                    "Czech Republic",
                    "Denmark (Europe)",
                    "Denmark",
                    "Djibouti",
                    "Dominica",
                    "Dominican Republic",
                    "Ecuador",
                    "Egypt",
                    "El Salvador",
                    "Equatorial Guinea",
                    "Eritrea",
                    "Estonia",
                    "Ethiopia",
                    "Europe",
                    "Falkland Islands (Islas Malvinas)",
                    "Faroe Islands",
                    "Federated States Of Micronesia",
                    "Fiji",
                    "Finland",
                    "France (Europe)",
                    "France",
                    "French Guiana",
                    "French Polynesia",
                    "French Southern And Antarctic Lands",
                    "Gabon",
                    "Gambia",
                    "Gaza Strip",
                    "Georgia",
                    "Germany",
                    "Ghana",
                    "Greece",
                    "Greenland",
                    "Grenada",
                    "Guadeloupe",
                    "Guam",
                    "Guatemala",
                    "Guernsey",
                    "Guinea Bissau",
                    "Guinea",
                    "Guyana",
                    "Haiti",
                    "Heard Island And Mcdonald Islands",
                    "Honduras",
                    "Hong Kong",
                    "Hungary",
                    "Iceland",
                    "India",
                    "Indonesia",
                    "Iran",
                    "Iraq",
                    "Ireland",
                    "Isle Of Man",
                    "Israel",
                    "Italy",
                    "Jamaica",
                    "Japan",
                    "Jersey",
                    "Jordan",
                    "Kazakhstan",
                    "Kenya",
                    "Kingman Reef",
                    "Kiribati",
                    "Kuwait",
                    "Kyrgyzstan",
                    "Laos",
                    "Latvia",
                    "Lebanon",
                    "Lesotho",
                    "Liberia",
                    "Libya",
                    "Liechtenstein",
                    "Lithuania",
                    "Luxembourg",
                    "Macau",
                    "Macedonia",
                    "Madagascar",
                    "Malawi",
                    "Malaysia",
                    "Mali",
                    "Malta",
                    "Martinique",
                    "Mauritania",
                    "Mauritius",
                    "Mayotte",
                    "Mexico",
                    "Moldova",
                    "Monaco",
                    "Mongolia",
                    "Montenegro",
                    "Montserrat",
                    "Morocco",
                    "Mozambique",
                    "Namibia",
                    "Nepal",
                    "Netherlands (Europe)",
                    "Netherlands",
                    "New Caledonia",
                    "New Zealand",
                    "Nicaragua",
                    "Niger",
                    "Nigeria",
                    "Niue",
                    "North America",
                    "North Korea",
                    "Northern Mariana Islands",
                    "Norway",
                    "Oceania",
                    "Oman",
                    "Pakistan",
                    "Palau",
                    "Palestina",
                    "Palmyra Atoll",
                    "Panama",
                    "Papua New Guinea",
                    "Paraguay",
                    "Peru",
                    "Philippines",
                    "Poland",
                    "Portugal",
                    "Puerto Rico",
                    "Qatar",
                    "Reunion",
                    "Romania",
                    "Russia",
                    "Rwanda",
                    "Saint Barthélemy",
                    "Saint Kitts And Nevis",
                    "Saint Lucia",
                    "Saint Martin",
                    "Saint Pierre And Miquelon",
                    "Saint Vincent And The Grenadines",
                    "Samoa",
                    "San Marino",
                    "Sao Tome And Principe",
                    "Saudi Arabia",
                    "Senegal",
                    "Serbia",
                    "Seychelles",
                    "Sierra Leone",
                    "Singapore",
                    "Sint Maarten",
                    "Slovakia",
                    "Slovenia",
                    "Solomon Islands",
                    "Somalia",
                    "South Africa",
                    "South America",
                    "South Georgia And The South Sandwich Isla",
                    "South Korea",
                    "Spain",
                    "Sri Lanka",
                    "Sudan",
                    "Suriname",
                    "Svalbard And Jan Mayen",
                    "Swaziland",
                    "Sweden",
                    "Switzerland",
                    "Syria",
                    "Taiwan",
                    "Tajikistan",
                    "Tanzania",
                    "Thailand",
                    "Timor Leste",
                    "Togo",
                    "Tonga",
                    "Trinidad And Tobago",
                    "Tunisia",
                    "Turkey",
                    "Turkmenistan",
                    "Turks And Caicas Islands",
                    "Uganda",
                    "Ukraine",
                    "United Arab Emirates",
                    "United Kingdom (Europe)",
                    "United Kingdom",
                    "United States",
                    "Uruguay",
                    "Uzbekistan",
                    "Venezuela",
                    "Vietnam",
                    "Virgin Islands",
                    "Western Sahara",
                    "Yemen",
                    "Zambia",
                    "Zimbabwe"
                  ],
                  "name": "",
                  "type": "choropleth",
                  "z": [
                    1,
                    12,
                    8,
                    2,
                    8,
                    15,
                    2,
                    4,
                    15,
                    15,
                    12,
                    6,
                    9,
                    14,
                    4,
                    1,
                    2,
                    0,
                    15,
                    0,
                    0,
                    15,
                    1,
                    6,
                    0,
                    9,
                    2,
                    4,
                    9,
                    13,
                    4,
                    0,
                    15,
                    13,
                    9,
                    8,
                    4,
                    15,
                    15,
                    0,
                    3,
                    8,
                    15,
                    0,
                    9,
                    6,
                    14,
                    15,
                    0,
                    0,
                    8,
                    0,
                    0,
                    2,
                    0,
                    9,
                    10,
                    14,
                    14,
                    5,
                    9,
                    15,
                    0,
                    4,
                    8,
                    0,
                    0,
                    15,
                    1,
                    8,
                    14,
                    1,
                    14,
                    15,
                    0,
                    11,
                    13,
                    2,
                    0,
                    15,
                    7,
                    8,
                    9,
                    4,
                    14,
                    14,
                    9,
                    12,
                    5,
                    15,
                    15,
                    15,
                    8,
                    13,
                    15,
                    0,
                    15,
                    15,
                    11,
                    0,
                    8,
                    13,
                    11,
                    8,
                    0,
                    10,
                    4,
                    6,
                    6,
                    4,
                    2,
                    15,
                    2,
                    13,
                    4,
                    1,
                    8,
                    9,
                    15,
                    0,
                    11,
                    8,
                    1,
                    10,
                    12,
                    0,
                    8,
                    1,
                    1,
                    6,
                    8,
                    13,
                    8,
                    4,
                    15,
                    9,
                    10,
                    15,
                    9,
                    8,
                    15,
                    4,
                    6,
                    6,
                    11,
                    13,
                    15,
                    10,
                    8,
                    4,
                    12,
                    6,
                    6,
                    8,
                    13,
                    15,
                    9,
                    9,
                    0,
                    11,
                    14,
                    15,
                    11,
                    4,
                    9,
                    4,
                    9,
                    8,
                    9,
                    15,
                    8,
                    8,
                    4,
                    15,
                    14,
                    12,
                    0,
                    9,
                    8,
                    6,
                    3,
                    4,
                    15,
                    15,
                    15,
                    15,
                    1,
                    15,
                    15,
                    12,
                    15,
                    0,
                    9,
                    13,
                    15,
                    15,
                    15,
                    15,
                    14,
                    13,
                    15,
                    15,
                    10,
                    4,
                    11,
                    2,
                    12,
                    9,
                    9,
                    15,
                    3,
                    10,
                    11,
                    14,
                    10,
                    4,
                    1,
                    8,
                    15,
                    0,
                    9,
                    8,
                    15,
                    4,
                    2,
                    12,
                    15,
                    8,
                    14,
                    9,
                    6,
                    6,
                    6,
                    10,
                    2,
                    0,
                    8,
                    15,
                    8,
                    15,
                    4,
                    4
                  ]
                }
              ],
              "layout": {
                "coloraxis": {
                  "colorbar": {
                    "title": {
                      "text": "cluster"
                    }
                  },
                  "colorscale": [
                    [
                      0,
                      "rgb(255,255,204)"
                    ],
                    [
                      0.125,
                      "rgb(255,237,160)"
                    ],
                    [
                      0.25,
                      "rgb(254,217,118)"
                    ],
                    [
                      0.375,
                      "rgb(254,178,76)"
                    ],
                    [
                      0.5,
                      "rgb(253,141,60)"
                    ],
                    [
                      0.625,
                      "rgb(252,78,42)"
                    ],
                    [
                      0.75,
                      "rgb(227,26,28)"
                    ],
                    [
                      0.875,
                      "rgb(189,0,38)"
                    ],
                    [
                      1,
                      "rgb(128,0,38)"
                    ]
                  ]
                },
                "geo": {
                  "center": {},
                  "domain": {
                    "x": [
                      0,
                      1
                    ],
                    "y": [
                      0,
                      1
                    ]
                  },
                  "scope": "world"
                },
                "legend": {
                  "tracegroupgap": 0
                },
                "margin": {
                  "t": 60
                },
                "template": {
                  "data": {
                    "bar": [
                      {
                        "error_x": {
                          "color": "#2a3f5f"
                        },
                        "error_y": {
                          "color": "#2a3f5f"
                        },
                        "marker": {
                          "line": {
                            "color": "#E5ECF6",
                            "width": 0.5
                          },
                          "pattern": {
                            "fillmode": "overlay",
                            "size": 10,
                            "solidity": 0.2
                          }
                        },
                        "type": "bar"
                      }
                    ],
                    "barpolar": [
                      {
                        "marker": {
                          "line": {
                            "color": "#E5ECF6",
                            "width": 0.5
                          },
                          "pattern": {
                            "fillmode": "overlay",
                            "size": 10,
                            "solidity": 0.2
                          }
                        },
                        "type": "barpolar"
                      }
                    ],
                    "carpet": [
                      {
                        "aaxis": {
                          "endlinecolor": "#2a3f5f",
                          "gridcolor": "white",
                          "linecolor": "white",
                          "minorgridcolor": "white",
                          "startlinecolor": "#2a3f5f"
                        },
                        "baxis": {
                          "endlinecolor": "#2a3f5f",
                          "gridcolor": "white",
                          "linecolor": "white",
                          "minorgridcolor": "white",
                          "startlinecolor": "#2a3f5f"
                        },
                        "type": "carpet"
                      }
                    ],
                    "choropleth": [
                      {
                        "colorbar": {
                          "outlinewidth": 0,
                          "ticks": ""
                        },
                        "type": "choropleth"
                      }
                    ],
                    "contour": [
                      {
                        "colorbar": {
                          "outlinewidth": 0,
                          "ticks": ""
                        },
                        "colorscale": [
                          [
                            0,
                            "#0d0887"
                          ],
                          [
                            0.1111111111111111,
                            "#46039f"
                          ],
                          [
                            0.2222222222222222,
                            "#7201a8"
                          ],
                          [
                            0.3333333333333333,
                            "#9c179e"
                          ],
                          [
                            0.4444444444444444,
                            "#bd3786"
                          ],
                          [
                            0.5555555555555556,
                            "#d8576b"
                          ],
                          [
                            0.6666666666666666,
                            "#ed7953"
                          ],
                          [
                            0.7777777777777778,
                            "#fb9f3a"
                          ],
                          [
                            0.8888888888888888,
                            "#fdca26"
                          ],
                          [
                            1,
                            "#f0f921"
                          ]
                        ],
                        "type": "contour"
                      }
                    ],
                    "contourcarpet": [
                      {
                        "colorbar": {
                          "outlinewidth": 0,
                          "ticks": ""
                        },
                        "type": "contourcarpet"
                      }
                    ],
                    "heatmap": [
                      {
                        "colorbar": {
                          "outlinewidth": 0,
                          "ticks": ""
                        },
                        "colorscale": [
                          [
                            0,
                            "#0d0887"
                          ],
                          [
                            0.1111111111111111,
                            "#46039f"
                          ],
                          [
                            0.2222222222222222,
                            "#7201a8"
                          ],
                          [
                            0.3333333333333333,
                            "#9c179e"
                          ],
                          [
                            0.4444444444444444,
                            "#bd3786"
                          ],
                          [
                            0.5555555555555556,
                            "#d8576b"
                          ],
                          [
                            0.6666666666666666,
                            "#ed7953"
                          ],
                          [
                            0.7777777777777778,
                            "#fb9f3a"
                          ],
                          [
                            0.8888888888888888,
                            "#fdca26"
                          ],
                          [
                            1,
                            "#f0f921"
                          ]
                        ],
                        "type": "heatmap"
                      }
                    ],
                    "heatmapgl": [
                      {
                        "colorbar": {
                          "outlinewidth": 0,
                          "ticks": ""
                        },
                        "colorscale": [
                          [
                            0,
                            "#0d0887"
                          ],
                          [
                            0.1111111111111111,
                            "#46039f"
                          ],
                          [
                            0.2222222222222222,
                            "#7201a8"
                          ],
                          [
                            0.3333333333333333,
                            "#9c179e"
                          ],
                          [
                            0.4444444444444444,
                            "#bd3786"
                          ],
                          [
                            0.5555555555555556,
                            "#d8576b"
                          ],
                          [
                            0.6666666666666666,
                            "#ed7953"
                          ],
                          [
                            0.7777777777777778,
                            "#fb9f3a"
                          ],
                          [
                            0.8888888888888888,
                            "#fdca26"
                          ],
                          [
                            1,
                            "#f0f921"
                          ]
                        ],
                        "type": "heatmapgl"
                      }
                    ],
                    "histogram": [
                      {
                        "marker": {
                          "pattern": {
                            "fillmode": "overlay",
                            "size": 10,
                            "solidity": 0.2
                          }
                        },
                        "type": "histogram"
                      }
                    ],
                    "histogram2d": [
                      {
                        "colorbar": {
                          "outlinewidth": 0,
                          "ticks": ""
                        },
                        "colorscale": [
                          [
                            0,
                            "#0d0887"
                          ],
                          [
                            0.1111111111111111,
                            "#46039f"
                          ],
                          [
                            0.2222222222222222,
                            "#7201a8"
                          ],
                          [
                            0.3333333333333333,
                            "#9c179e"
                          ],
                          [
                            0.4444444444444444,
                            "#bd3786"
                          ],
                          [
                            0.5555555555555556,
                            "#d8576b"
                          ],
                          [
                            0.6666666666666666,
                            "#ed7953"
                          ],
                          [
                            0.7777777777777778,
                            "#fb9f3a"
                          ],
                          [
                            0.8888888888888888,
                            "#fdca26"
                          ],
                          [
                            1,
                            "#f0f921"
                          ]
                        ],
                        "type": "histogram2d"
                      }
                    ],
                    "histogram2dcontour": [
                      {
                        "colorbar": {
                          "outlinewidth": 0,
                          "ticks": ""
                        },
                        "colorscale": [
                          [
                            0,
                            "#0d0887"
                          ],
                          [
                            0.1111111111111111,
                            "#46039f"
                          ],
                          [
                            0.2222222222222222,
                            "#7201a8"
                          ],
                          [
                            0.3333333333333333,
                            "#9c179e"
                          ],
                          [
                            0.4444444444444444,
                            "#bd3786"
                          ],
                          [
                            0.5555555555555556,
                            "#d8576b"
                          ],
                          [
                            0.6666666666666666,
                            "#ed7953"
                          ],
                          [
                            0.7777777777777778,
                            "#fb9f3a"
                          ],
                          [
                            0.8888888888888888,
                            "#fdca26"
                          ],
                          [
                            1,
                            "#f0f921"
                          ]
                        ],
                        "type": "histogram2dcontour"
                      }
                    ],
                    "mesh3d": [
                      {
                        "colorbar": {
                          "outlinewidth": 0,
                          "ticks": ""
                        },
                        "type": "mesh3d"
                      }
                    ],
                    "parcoords": [
                      {
                        "line": {
                          "colorbar": {
                            "outlinewidth": 0,
                            "ticks": ""
                          }
                        },
                        "type": "parcoords"
                      }
                    ],
                    "pie": [
                      {
                        "automargin": true,
                        "type": "pie"
                      }
                    ],
                    "scatter": [
                      {
                        "fillpattern": {
                          "fillmode": "overlay",
                          "size": 10,
                          "solidity": 0.2
                        },
                        "type": "scatter"
                      }
                    ],
                    "scatter3d": [
                      {
                        "line": {
                          "colorbar": {
                            "outlinewidth": 0,
                            "ticks": ""
                          }
                        },
                        "marker": {
                          "colorbar": {
                            "outlinewidth": 0,
                            "ticks": ""
                          }
                        },
                        "type": "scatter3d"
                      }
                    ],
                    "scattercarpet": [
                      {
                        "marker": {
                          "colorbar": {
                            "outlinewidth": 0,
                            "ticks": ""
                          }
                        },
                        "type": "scattercarpet"
                      }
                    ],
                    "scattergeo": [
                      {
                        "marker": {
                          "colorbar": {
                            "outlinewidth": 0,
                            "ticks": ""
                          }
                        },
                        "type": "scattergeo"
                      }
                    ],
                    "scattergl": [
                      {
                        "marker": {
                          "colorbar": {
                            "outlinewidth": 0,
                            "ticks": ""
                          }
                        },
                        "type": "scattergl"
                      }
                    ],
                    "scattermapbox": [
                      {
                        "marker": {
                          "colorbar": {
                            "outlinewidth": 0,
                            "ticks": ""
                          }
                        },
                        "type": "scattermapbox"
                      }
                    ],
                    "scatterpolar": [
                      {
                        "marker": {
                          "colorbar": {
                            "outlinewidth": 0,
                            "ticks": ""
                          }
                        },
                        "type": "scatterpolar"
                      }
                    ],
                    "scatterpolargl": [
                      {
                        "marker": {
                          "colorbar": {
                            "outlinewidth": 0,
                            "ticks": ""
                          }
                        },
                        "type": "scatterpolargl"
                      }
                    ],
                    "scatterternary": [
                      {
                        "marker": {
                          "colorbar": {
                            "outlinewidth": 0,
                            "ticks": ""
                          }
                        },
                        "type": "scatterternary"
                      }
                    ],
                    "surface": [
                      {
                        "colorbar": {
                          "outlinewidth": 0,
                          "ticks": ""
                        },
                        "colorscale": [
                          [
                            0,
                            "#0d0887"
                          ],
                          [
                            0.1111111111111111,
                            "#46039f"
                          ],
                          [
                            0.2222222222222222,
                            "#7201a8"
                          ],
                          [
                            0.3333333333333333,
                            "#9c179e"
                          ],
                          [
                            0.4444444444444444,
                            "#bd3786"
                          ],
                          [
                            0.5555555555555556,
                            "#d8576b"
                          ],
                          [
                            0.6666666666666666,
                            "#ed7953"
                          ],
                          [
                            0.7777777777777778,
                            "#fb9f3a"
                          ],
                          [
                            0.8888888888888888,
                            "#fdca26"
                          ],
                          [
                            1,
                            "#f0f921"
                          ]
                        ],
                        "type": "surface"
                      }
                    ],
                    "table": [
                      {
                        "cells": {
                          "fill": {
                            "color": "#EBF0F8"
                          },
                          "line": {
                            "color": "white"
                          }
                        },
                        "header": {
                          "fill": {
                            "color": "#C8D4E3"
                          },
                          "line": {
                            "color": "white"
                          }
                        },
                        "type": "table"
                      }
                    ]
                  },
                  "layout": {
                    "annotationdefaults": {
                      "arrowcolor": "#2a3f5f",
                      "arrowhead": 0,
                      "arrowwidth": 1
                    },
                    "autotypenumbers": "strict",
                    "coloraxis": {
                      "colorbar": {
                        "outlinewidth": 0,
                        "ticks": ""
                      }
                    },
                    "colorscale": {
                      "diverging": [
                        [
                          0,
                          "#8e0152"
                        ],
                        [
                          0.1,
                          "#c51b7d"
                        ],
                        [
                          0.2,
                          "#de77ae"
                        ],
                        [
                          0.3,
                          "#f1b6da"
                        ],
                        [
                          0.4,
                          "#fde0ef"
                        ],
                        [
                          0.5,
                          "#f7f7f7"
                        ],
                        [
                          0.6,
                          "#e6f5d0"
                        ],
                        [
                          0.7,
                          "#b8e186"
                        ],
                        [
                          0.8,
                          "#7fbc41"
                        ],
                        [
                          0.9,
                          "#4d9221"
                        ],
                        [
                          1,
                          "#276419"
                        ]
                      ],
                      "sequential": [
                        [
                          0,
                          "#0d0887"
                        ],
                        [
                          0.1111111111111111,
                          "#46039f"
                        ],
                        [
                          0.2222222222222222,
                          "#7201a8"
                        ],
                        [
                          0.3333333333333333,
                          "#9c179e"
                        ],
                        [
                          0.4444444444444444,
                          "#bd3786"
                        ],
                        [
                          0.5555555555555556,
                          "#d8576b"
                        ],
                        [
                          0.6666666666666666,
                          "#ed7953"
                        ],
                        [
                          0.7777777777777778,
                          "#fb9f3a"
                        ],
                        [
                          0.8888888888888888,
                          "#fdca26"
                        ],
                        [
                          1,
                          "#f0f921"
                        ]
                      ],
                      "sequentialminus": [
                        [
                          0,
                          "#0d0887"
                        ],
                        [
                          0.1111111111111111,
                          "#46039f"
                        ],
                        [
                          0.2222222222222222,
                          "#7201a8"
                        ],
                        [
                          0.3333333333333333,
                          "#9c179e"
                        ],
                        [
                          0.4444444444444444,
                          "#bd3786"
                        ],
                        [
                          0.5555555555555556,
                          "#d8576b"
                        ],
                        [
                          0.6666666666666666,
                          "#ed7953"
                        ],
                        [
                          0.7777777777777778,
                          "#fb9f3a"
                        ],
                        [
                          0.8888888888888888,
                          "#fdca26"
                        ],
                        [
                          1,
                          "#f0f921"
                        ]
                      ]
                    },
                    "colorway": [
                      "#636efa",
                      "#EF553B",
                      "#00cc96",
                      "#ab63fa",
                      "#FFA15A",
                      "#19d3f3",
                      "#FF6692",
                      "#B6E880",
                      "#FF97FF",
                      "#FECB52"
                    ],
                    "font": {
                      "color": "#2a3f5f"
                    },
                    "geo": {
                      "bgcolor": "white",
                      "lakecolor": "white",
                      "landcolor": "#E5ECF6",
                      "showlakes": true,
                      "showland": true,
                      "subunitcolor": "white"
                    },
                    "hoverlabel": {
                      "align": "left"
                    },
                    "hovermode": "closest",
                    "mapbox": {
                      "style": "light"
                    },
                    "paper_bgcolor": "white",
                    "plot_bgcolor": "#E5ECF6",
                    "polar": {
                      "angularaxis": {
                        "gridcolor": "white",
                        "linecolor": "white",
                        "ticks": ""
                      },
                      "bgcolor": "#E5ECF6",
                      "radialaxis": {
                        "gridcolor": "white",
                        "linecolor": "white",
                        "ticks": ""
                      }
                    },
                    "scene": {
                      "xaxis": {
                        "backgroundcolor": "#E5ECF6",
                        "gridcolor": "white",
                        "gridwidth": 2,
                        "linecolor": "white",
                        "showbackground": true,
                        "ticks": "",
                        "zerolinecolor": "white"
                      },
                      "yaxis": {
                        "backgroundcolor": "#E5ECF6",
                        "gridcolor": "white",
                        "gridwidth": 2,
                        "linecolor": "white",
                        "showbackground": true,
                        "ticks": "",
                        "zerolinecolor": "white"
                      },
                      "zaxis": {
                        "backgroundcolor": "#E5ECF6",
                        "gridcolor": "white",
                        "gridwidth": 2,
                        "linecolor": "white",
                        "showbackground": true,
                        "ticks": "",
                        "zerolinecolor": "white"
                      }
                    },
                    "shapedefaults": {
                      "line": {
                        "color": "#2a3f5f"
                      }
                    },
                    "ternary": {
                      "aaxis": {
                        "gridcolor": "white",
                        "linecolor": "white",
                        "ticks": ""
                      },
                      "baxis": {
                        "gridcolor": "white",
                        "linecolor": "white",
                        "ticks": ""
                      },
                      "bgcolor": "#E5ECF6",
                      "caxis": {
                        "gridcolor": "white",
                        "linecolor": "white",
                        "ticks": ""
                      }
                    },
                    "title": {
                      "x": 0.05
                    },
                    "xaxis": {
                      "automargin": true,
                      "gridcolor": "white",
                      "linecolor": "white",
                      "ticks": "",
                      "title": {
                        "standoff": 15
                      },
                      "zerolinecolor": "white",
                      "zerolinewidth": 2
                    },
                    "yaxis": {
                      "automargin": true,
                      "gridcolor": "white",
                      "linecolor": "white",
                      "ticks": "",
                      "title": {
                        "standoff": 15
                      },
                      "zerolinecolor": "white",
                      "zerolinewidth": 2
                    }
                  }
                }
              }
            }
          },
          "metadata": {},
          "output_type": "display_data"
        }
      ],
      "source": [
        " fig = px.choropleth(\n",
        "        data_frame=final,\n",
        "        locationmode='country names',\n",
        "        locations='Countries',\n",
        "        scope=\"world\",\n",
        "        color='cluster',\n",
        "        color_continuous_scale=px.colors.sequential.YlOrRd)\n",
        " fig.show()"
      ]
    }
  ],
  "metadata": {
    "colab": {
      "name": "3c.ipynb",
      "provenance": []
    },
    "kernelspec": {
      "display_name": "Python 3",
      "name": "python3"
    },
    "language_info": {
      "codemirror_mode": {
        "name": "ipython",
        "version": 3
      },
      "file_extension": ".py",
      "mimetype": "text/x-python",
      "name": "python",
      "nbconvert_exporter": "python",
      "pygments_lexer": "ipython3",
      "version": "3.9.12"
    }
  },
  "nbformat": 4,
  "nbformat_minor": 0
}
